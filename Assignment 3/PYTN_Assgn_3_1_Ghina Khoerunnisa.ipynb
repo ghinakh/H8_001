{
 "cells": [
  {
   "cell_type": "markdown",
   "id": "c12caab5",
   "metadata": {},
   "source": [
    "### Import Library"
   ]
  },
  {
   "cell_type": "code",
   "execution_count": 1,
   "id": "79ed96c5",
   "metadata": {},
   "outputs": [],
   "source": [
    "import pandas as pd\n",
    "import numpy as np\n",
    "import matplotlib.pyplot as plt\n",
    "import seaborn as sns\n",
    "%matplotlib inline\n",
    "\n",
    "pd.set_option('display.max_columns', None)\n",
    "plt.rcParams['figure.figsize'] = (15, 12)\n",
    "import warnings\n",
    "warnings.simplefilter(action='ignore', category=FutureWarning)"
   ]
  },
  {
   "cell_type": "code",
   "execution_count": 2,
   "id": "8c46e73f",
   "metadata": {},
   "outputs": [],
   "source": [
    "from sklearn.preprocessing import LabelEncoder\n",
    "from sklearn.linear_model import LogisticRegression\n",
    "from sklearn.neighbors import KNeighborsClassifier\n",
    "from sklearn.tree import DecisionTreeClassifier\n",
    "from sklearn.ensemble import RandomForestClassifier\n",
    "from sklearn.svm import SVC\n",
    "from sklearn.naive_bayes import GaussianNB\n",
    "from sklearn.metrics import classification_report, confusion_matrix\n",
    "from sklearn.model_selection import train_test_split, GridSearchCV\n",
    "from sklearn.preprocessing import StandardScaler\n",
    "from sklearn.metrics import f1_score, make_scorer"
   ]
  },
  {
   "cell_type": "markdown",
   "id": "92cdf9e9",
   "metadata": {},
   "source": [
    "### Load Data"
   ]
  },
  {
   "cell_type": "code",
   "execution_count": 3,
   "id": "a5d79508",
   "metadata": {},
   "outputs": [],
   "source": [
    "bank_adt = pd.read_csv('dataset/bank-additional.csv', sep=';', na_values=['unknown'])\n",
    "bank_adt_full = pd.read_csv('dataset/bank-additional-full.csv', sep=';',  na_values=['unknown'])"
   ]
  },
  {
   "cell_type": "code",
   "execution_count": 4,
   "id": "27dace04",
   "metadata": {},
   "outputs": [],
   "source": [
    "df_bank = pd.concat([bank_adt, bank_adt_full]) # concat 2 dataframe (bank_adt dan bank_adt_full)"
   ]
  },
  {
   "cell_type": "markdown",
   "id": "b29cae1d",
   "metadata": {},
   "source": [
    "**bank client data:**\n",
    "- age (numeric)\n",
    "- job : type of job (categorical: 'admin.','blue-collar','entrepreneur','housemaid','management','retired','self-employed','services','student','technician','unemployed','unknown')\n",
    "- marital : marital status (categorical: 'divorced','married','single','unknown'; note: 'divorced' means divorced or widowed)\n",
    "- education (categorical: 'basic.4y','basic.6y','basic.9y','high.school','illiterate','professional.course','university.degree','unknown')\n",
    "- default: has credit in default? (categorical: 'no', 'yes', 'unknown')\n",
    "- housing: has housing loan? (categorical: 'no', 'yes', 'unknown')\n",
    "- loan: has personal loan? (categorical: 'no', 'yes', 'unknown')\n",
    "\n",
    "**related with the last contact of the current campaign:**\n",
    "\n",
    "- contact: contact communication type (categorical: 'cellular', 'telephone')\n",
    "- month: last contact month of year (categorical: 'jan', 'feb', 'mar', ..., 'nov', 'dec')\n",
    "- day_of_week: last contact day of the week (categorical: 'mon', 'tue', 'wed', 'thu', 'fri')\n",
    "- duration: last contact duration, in seconds (numeric). Important note: this attribute highly affects the output target (e.g., if duration=0 then y='no'). Yet, the duration is not known before a call is performed. Also, after the end of the call y is obviously known. Thus, this input should only be included for benchmark purposes and should be discarded if the intention is to have a realistic predictive model.\n",
    "\n",
    "**other attributes:**\n",
    "\n",
    "- campaign: number of contacts performed during this campaign and for this client (numeric, includes last contact)\n",
    "- pdays: number of days that passed by after the client was last contacted from a previous campaign (numeric; 999 means client was not previously contacted)\n",
    "- previous: number of contacts performed before this campaign and for this client (numeric)\n",
    "- poutcome: outcome of the previous marketing campaign (categorical: 'failure', 'nonexistent', 'success')\n",
    "\n",
    "**social and economic context attributes**\n",
    "\n",
    "- emp.var.rate: employment variation rate - quarterly indicator (numeric)\n",
    "- cons.price.idx: consumer price index - monthly indicator (numeric)\n",
    "- cons.conf.idx: consumer confidence index - monthly indicator (numeric)\n",
    "- euribor3m: euribor 3 month rate - daily indicator (numeric)\n",
    "- nr.employed: number of employees - quarterly indicator (numeric)\n",
    "\n",
    "**Output variable (desired target):**\n",
    "- y - has the client subscribed a term deposit? (binary: 'yes', 'no')\n",
    "\n",
    "Missing Attribute Values: There are several missing values in some categorical attributes, all coded with the \"unknown\" label. These missing values can be treated as a possible class label or using deletion or imputation techniques. \n"
   ]
  },
  {
   "cell_type": "code",
   "execution_count": 5,
   "id": "4037371c",
   "metadata": {},
   "outputs": [
    {
     "data": {
      "text/plain": [
       "(45307, 21)"
      ]
     },
     "execution_count": 5,
     "metadata": {},
     "output_type": "execute_result"
    }
   ],
   "source": [
    "df_bank.shape # Lihat dimension dataframe"
   ]
  },
  {
   "cell_type": "code",
   "execution_count": 6,
   "id": "55521949",
   "metadata": {},
   "outputs": [
    {
     "data": {
      "text/html": [
       "<div>\n",
       "<style scoped>\n",
       "    .dataframe tbody tr th:only-of-type {\n",
       "        vertical-align: middle;\n",
       "    }\n",
       "\n",
       "    .dataframe tbody tr th {\n",
       "        vertical-align: top;\n",
       "    }\n",
       "\n",
       "    .dataframe thead th {\n",
       "        text-align: right;\n",
       "    }\n",
       "</style>\n",
       "<table border=\"1\" class=\"dataframe\">\n",
       "  <thead>\n",
       "    <tr style=\"text-align: right;\">\n",
       "      <th></th>\n",
       "      <th>age</th>\n",
       "      <th>job</th>\n",
       "      <th>marital</th>\n",
       "      <th>education</th>\n",
       "      <th>default</th>\n",
       "      <th>housing</th>\n",
       "      <th>loan</th>\n",
       "      <th>contact</th>\n",
       "      <th>month</th>\n",
       "      <th>day_of_week</th>\n",
       "      <th>duration</th>\n",
       "      <th>campaign</th>\n",
       "      <th>pdays</th>\n",
       "      <th>previous</th>\n",
       "      <th>poutcome</th>\n",
       "      <th>emp.var.rate</th>\n",
       "      <th>cons.price.idx</th>\n",
       "      <th>cons.conf.idx</th>\n",
       "      <th>euribor3m</th>\n",
       "      <th>nr.employed</th>\n",
       "      <th>y</th>\n",
       "    </tr>\n",
       "  </thead>\n",
       "  <tbody>\n",
       "    <tr>\n",
       "      <th>0</th>\n",
       "      <td>30</td>\n",
       "      <td>blue-collar</td>\n",
       "      <td>married</td>\n",
       "      <td>basic.9y</td>\n",
       "      <td>no</td>\n",
       "      <td>yes</td>\n",
       "      <td>no</td>\n",
       "      <td>cellular</td>\n",
       "      <td>may</td>\n",
       "      <td>fri</td>\n",
       "      <td>487</td>\n",
       "      <td>2</td>\n",
       "      <td>999</td>\n",
       "      <td>0</td>\n",
       "      <td>nonexistent</td>\n",
       "      <td>-1.8</td>\n",
       "      <td>92.893</td>\n",
       "      <td>-46.2</td>\n",
       "      <td>1.313</td>\n",
       "      <td>5099.1</td>\n",
       "      <td>no</td>\n",
       "    </tr>\n",
       "    <tr>\n",
       "      <th>1</th>\n",
       "      <td>39</td>\n",
       "      <td>services</td>\n",
       "      <td>single</td>\n",
       "      <td>high.school</td>\n",
       "      <td>no</td>\n",
       "      <td>no</td>\n",
       "      <td>no</td>\n",
       "      <td>telephone</td>\n",
       "      <td>may</td>\n",
       "      <td>fri</td>\n",
       "      <td>346</td>\n",
       "      <td>4</td>\n",
       "      <td>999</td>\n",
       "      <td>0</td>\n",
       "      <td>nonexistent</td>\n",
       "      <td>1.1</td>\n",
       "      <td>93.994</td>\n",
       "      <td>-36.4</td>\n",
       "      <td>4.855</td>\n",
       "      <td>5191.0</td>\n",
       "      <td>no</td>\n",
       "    </tr>\n",
       "    <tr>\n",
       "      <th>2</th>\n",
       "      <td>25</td>\n",
       "      <td>services</td>\n",
       "      <td>married</td>\n",
       "      <td>high.school</td>\n",
       "      <td>no</td>\n",
       "      <td>yes</td>\n",
       "      <td>no</td>\n",
       "      <td>telephone</td>\n",
       "      <td>jun</td>\n",
       "      <td>wed</td>\n",
       "      <td>227</td>\n",
       "      <td>1</td>\n",
       "      <td>999</td>\n",
       "      <td>0</td>\n",
       "      <td>nonexistent</td>\n",
       "      <td>1.4</td>\n",
       "      <td>94.465</td>\n",
       "      <td>-41.8</td>\n",
       "      <td>4.962</td>\n",
       "      <td>5228.1</td>\n",
       "      <td>no</td>\n",
       "    </tr>\n",
       "    <tr>\n",
       "      <th>3</th>\n",
       "      <td>38</td>\n",
       "      <td>services</td>\n",
       "      <td>married</td>\n",
       "      <td>basic.9y</td>\n",
       "      <td>no</td>\n",
       "      <td>NaN</td>\n",
       "      <td>NaN</td>\n",
       "      <td>telephone</td>\n",
       "      <td>jun</td>\n",
       "      <td>fri</td>\n",
       "      <td>17</td>\n",
       "      <td>3</td>\n",
       "      <td>999</td>\n",
       "      <td>0</td>\n",
       "      <td>nonexistent</td>\n",
       "      <td>1.4</td>\n",
       "      <td>94.465</td>\n",
       "      <td>-41.8</td>\n",
       "      <td>4.959</td>\n",
       "      <td>5228.1</td>\n",
       "      <td>no</td>\n",
       "    </tr>\n",
       "    <tr>\n",
       "      <th>4</th>\n",
       "      <td>47</td>\n",
       "      <td>admin.</td>\n",
       "      <td>married</td>\n",
       "      <td>university.degree</td>\n",
       "      <td>no</td>\n",
       "      <td>yes</td>\n",
       "      <td>no</td>\n",
       "      <td>cellular</td>\n",
       "      <td>nov</td>\n",
       "      <td>mon</td>\n",
       "      <td>58</td>\n",
       "      <td>1</td>\n",
       "      <td>999</td>\n",
       "      <td>0</td>\n",
       "      <td>nonexistent</td>\n",
       "      <td>-0.1</td>\n",
       "      <td>93.200</td>\n",
       "      <td>-42.0</td>\n",
       "      <td>4.191</td>\n",
       "      <td>5195.8</td>\n",
       "      <td>no</td>\n",
       "    </tr>\n",
       "  </tbody>\n",
       "</table>\n",
       "</div>"
      ],
      "text/plain": [
       "   age          job  marital          education default housing loan  \\\n",
       "0   30  blue-collar  married           basic.9y      no     yes   no   \n",
       "1   39     services   single        high.school      no      no   no   \n",
       "2   25     services  married        high.school      no     yes   no   \n",
       "3   38     services  married           basic.9y      no     NaN  NaN   \n",
       "4   47       admin.  married  university.degree      no     yes   no   \n",
       "\n",
       "     contact month day_of_week  duration  campaign  pdays  previous  \\\n",
       "0   cellular   may         fri       487         2    999         0   \n",
       "1  telephone   may         fri       346         4    999         0   \n",
       "2  telephone   jun         wed       227         1    999         0   \n",
       "3  telephone   jun         fri        17         3    999         0   \n",
       "4   cellular   nov         mon        58         1    999         0   \n",
       "\n",
       "      poutcome  emp.var.rate  cons.price.idx  cons.conf.idx  euribor3m  \\\n",
       "0  nonexistent          -1.8          92.893          -46.2      1.313   \n",
       "1  nonexistent           1.1          93.994          -36.4      4.855   \n",
       "2  nonexistent           1.4          94.465          -41.8      4.962   \n",
       "3  nonexistent           1.4          94.465          -41.8      4.959   \n",
       "4  nonexistent          -0.1          93.200          -42.0      4.191   \n",
       "\n",
       "   nr.employed   y  \n",
       "0       5099.1  no  \n",
       "1       5191.0  no  \n",
       "2       5228.1  no  \n",
       "3       5228.1  no  \n",
       "4       5195.8  no  "
      ]
     },
     "execution_count": 6,
     "metadata": {},
     "output_type": "execute_result"
    }
   ],
   "source": [
    "df_bank.head() # Lima data pertama dataframe"
   ]
  },
  {
   "cell_type": "code",
   "execution_count": 7,
   "id": "7874195b",
   "metadata": {},
   "outputs": [
    {
     "name": "stdout",
     "output_type": "stream",
     "text": [
      "<class 'pandas.core.frame.DataFrame'>\n",
      "Int64Index: 45307 entries, 0 to 41187\n",
      "Data columns (total 21 columns):\n",
      " #   Column          Non-Null Count  Dtype  \n",
      "---  ------          --------------  -----  \n",
      " 0   age             45307 non-null  int64  \n",
      " 1   job             44938 non-null  object \n",
      " 2   marital         45216 non-null  object \n",
      " 3   education       43409 non-null  object \n",
      " 4   default         35907 non-null  object \n",
      " 5   housing         44212 non-null  object \n",
      " 6   loan            44212 non-null  object \n",
      " 7   contact         45307 non-null  object \n",
      " 8   month           45307 non-null  object \n",
      " 9   day_of_week     45307 non-null  object \n",
      " 10  duration        45307 non-null  int64  \n",
      " 11  campaign        45307 non-null  int64  \n",
      " 12  pdays           45307 non-null  int64  \n",
      " 13  previous        45307 non-null  int64  \n",
      " 14  poutcome        45307 non-null  object \n",
      " 15  emp.var.rate    45307 non-null  float64\n",
      " 16  cons.price.idx  45307 non-null  float64\n",
      " 17  cons.conf.idx   45307 non-null  float64\n",
      " 18  euribor3m       45307 non-null  float64\n",
      " 19  nr.employed     45307 non-null  float64\n",
      " 20  y               45307 non-null  object \n",
      "dtypes: float64(5), int64(5), object(11)\n",
      "memory usage: 7.6+ MB\n"
     ]
    }
   ],
   "source": [
    "df_bank.info() # Cek data type dari setiap kolom di dataframe"
   ]
  },
  {
   "cell_type": "code",
   "execution_count": 8,
   "id": "fa7f523b",
   "metadata": {},
   "outputs": [],
   "source": [
    "categorical = df_bank.select_dtypes(include=['object']).columns.tolist() # kolom-kolom yang bertipe object \n",
    "numerical = df_bank.select_dtypes(exclude=['object']).columns.tolist() # kolom-kolom yang bertipe int, float "
   ]
  },
  {
   "cell_type": "code",
   "execution_count": 9,
   "id": "4ca9bc9a",
   "metadata": {},
   "outputs": [
    {
     "name": "stdout",
     "output_type": "stream",
     "text": [
      "job :\n",
      "admin.           11434\n",
      "blue-collar      10138\n",
      "technician        7434\n",
      "services          4362\n",
      "management        3248\n",
      "retired           1886\n",
      "entrepreneur      1604\n",
      "self-employed     1580\n",
      "housemaid         1170\n",
      "unemployed        1125\n",
      "student            957\n",
      "Name: job, dtype: int64\n",
      "\n",
      "marital :\n",
      "married     27437\n",
      "single      12721\n",
      "divorced     5058\n",
      "Name: marital, dtype: int64\n",
      "\n",
      "education :\n",
      "university.degree      13432\n",
      "high.school            10436\n",
      "basic.9y                6619\n",
      "professional.course     5778\n",
      "basic.4y                4605\n",
      "basic.6y                2520\n",
      "illiterate                19\n",
      "Name: education, dtype: int64\n",
      "\n",
      "default :\n",
      "no     35903\n",
      "yes        4\n",
      "Name: default, dtype: int64\n",
      "\n",
      "housing :\n",
      "yes    23751\n",
      "no     20461\n",
      "Name: housing, dtype: int64\n",
      "\n",
      "loan :\n",
      "no     37299\n",
      "yes     6913\n",
      "Name: loan, dtype: int64\n",
      "\n",
      "contact :\n",
      "cellular     28796\n",
      "telephone    16511\n",
      "Name: contact, dtype: int64\n",
      "\n",
      "month :\n",
      "may    15147\n",
      "jul     7885\n",
      "aug     6814\n",
      "jun     5848\n",
      "nov     4547\n",
      "apr     2847\n",
      "oct      787\n",
      "sep      634\n",
      "mar      594\n",
      "dec      204\n",
      "Name: month, dtype: int64\n",
      "\n",
      "day_of_week :\n",
      "thu    9483\n",
      "mon    9369\n",
      "tue    8931\n",
      "wed    8929\n",
      "fri    8595\n",
      "Name: day_of_week, dtype: int64\n",
      "\n",
      "poutcome :\n",
      "nonexistent    39086\n",
      "failure         4706\n",
      "success         1515\n",
      "Name: poutcome, dtype: int64\n",
      "\n",
      "y :\n",
      "no     40216\n",
      "yes     5091\n",
      "Name: y, dtype: int64\n",
      "\n"
     ]
    }
   ],
   "source": [
    "# Values counts untuk setiap kolom di list categorical -> kolom-kolom yang bertipe object \n",
    "for cat in categorical:\n",
    "    print(cat, ':')\n",
    "    print(df_bank[cat].value_counts())\n",
    "    print('')"
   ]
  },
  {
   "cell_type": "markdown",
   "id": "d8f3d21b",
   "metadata": {},
   "source": [
    "### Data Cleaning"
   ]
  },
  {
   "cell_type": "code",
   "execution_count": 10,
   "id": "a08e3557",
   "metadata": {},
   "outputs": [
    {
     "data": {
      "text/plain": [
       "age                  0\n",
       "job                369\n",
       "marital             91\n",
       "education         1898\n",
       "default           9400\n",
       "housing           1095\n",
       "loan              1095\n",
       "contact              0\n",
       "month                0\n",
       "day_of_week          0\n",
       "duration             0\n",
       "campaign             0\n",
       "pdays                0\n",
       "previous             0\n",
       "poutcome             0\n",
       "emp.var.rate         0\n",
       "cons.price.idx       0\n",
       "cons.conf.idx        0\n",
       "euribor3m            0\n",
       "nr.employed          0\n",
       "y                    0\n",
       "dtype: int64"
      ]
     },
     "execution_count": 10,
     "metadata": {},
     "output_type": "execute_result"
    }
   ],
   "source": [
    "df_bank.isnull().sum() # cek null/missing values"
   ]
  },
  {
   "cell_type": "code",
   "execution_count": 11,
   "id": "bc98de13",
   "metadata": {},
   "outputs": [],
   "source": [
    "# delete missing value\n",
    "df_bank.dropna(subset=['default', 'education', 'housing', 'loan', 'job', 'marital'], inplace=True)"
   ]
  },
  {
   "cell_type": "code",
   "execution_count": 12,
   "id": "7ecf8443",
   "metadata": {},
   "outputs": [
    {
     "data": {
      "text/plain": [
       "3100"
      ]
     },
     "execution_count": 12,
     "metadata": {},
     "output_type": "execute_result"
    }
   ],
   "source": [
    "df_bank.duplicated().sum() # cek duplikat"
   ]
  },
  {
   "cell_type": "code",
   "execution_count": 13,
   "id": "020c0c00",
   "metadata": {},
   "outputs": [
    {
     "data": {
      "text/plain": [
       "0"
      ]
     },
     "execution_count": 13,
     "metadata": {},
     "output_type": "execute_result"
    }
   ],
   "source": [
    "df_bank.drop_duplicates(inplace=True) # delete duplikat\n",
    "df_bank.duplicated().sum()"
   ]
  },
  {
   "cell_type": "markdown",
   "id": "7dc93948",
   "metadata": {},
   "source": [
    "### Eksplorasi Data"
   ]
  },
  {
   "cell_type": "code",
   "execution_count": 14,
   "id": "6f58537b",
   "metadata": {},
   "outputs": [],
   "source": [
    "df_bank_copy = df_bank.copy() # copy original dataframe ke dataframe baru untuk melakukan eksplorasi data"
   ]
  },
  {
   "cell_type": "code",
   "execution_count": 15,
   "id": "68c1609c",
   "metadata": {},
   "outputs": [
    {
     "data": {
      "text/html": [
       "<div>\n",
       "<style scoped>\n",
       "    .dataframe tbody tr th:only-of-type {\n",
       "        vertical-align: middle;\n",
       "    }\n",
       "\n",
       "    .dataframe tbody tr th {\n",
       "        vertical-align: top;\n",
       "    }\n",
       "\n",
       "    .dataframe thead th {\n",
       "        text-align: right;\n",
       "    }\n",
       "</style>\n",
       "<table border=\"1\" class=\"dataframe\">\n",
       "  <thead>\n",
       "    <tr style=\"text-align: right;\">\n",
       "      <th></th>\n",
       "      <th>age</th>\n",
       "      <th>job</th>\n",
       "      <th>marital</th>\n",
       "      <th>education</th>\n",
       "      <th>default</th>\n",
       "      <th>housing</th>\n",
       "      <th>loan</th>\n",
       "      <th>contact</th>\n",
       "      <th>month</th>\n",
       "      <th>day_of_week</th>\n",
       "      <th>duration</th>\n",
       "      <th>campaign</th>\n",
       "      <th>pdays</th>\n",
       "      <th>previous</th>\n",
       "      <th>poutcome</th>\n",
       "      <th>emp.var.rate</th>\n",
       "      <th>cons.price.idx</th>\n",
       "      <th>cons.conf.idx</th>\n",
       "      <th>euribor3m</th>\n",
       "      <th>nr.employed</th>\n",
       "      <th>y</th>\n",
       "    </tr>\n",
       "  </thead>\n",
       "  <tbody>\n",
       "    <tr>\n",
       "      <th>0</th>\n",
       "      <td>30</td>\n",
       "      <td>blue-collar</td>\n",
       "      <td>married</td>\n",
       "      <td>basic.9y</td>\n",
       "      <td>no</td>\n",
       "      <td>yes</td>\n",
       "      <td>no</td>\n",
       "      <td>cellular</td>\n",
       "      <td>may</td>\n",
       "      <td>fri</td>\n",
       "      <td>487</td>\n",
       "      <td>2</td>\n",
       "      <td>999</td>\n",
       "      <td>0</td>\n",
       "      <td>nonexistent</td>\n",
       "      <td>-1.8</td>\n",
       "      <td>92.893</td>\n",
       "      <td>-46.2</td>\n",
       "      <td>1.313</td>\n",
       "      <td>5099.1</td>\n",
       "      <td>no</td>\n",
       "    </tr>\n",
       "    <tr>\n",
       "      <th>1</th>\n",
       "      <td>39</td>\n",
       "      <td>services</td>\n",
       "      <td>single</td>\n",
       "      <td>high.school</td>\n",
       "      <td>no</td>\n",
       "      <td>no</td>\n",
       "      <td>no</td>\n",
       "      <td>telephone</td>\n",
       "      <td>may</td>\n",
       "      <td>fri</td>\n",
       "      <td>346</td>\n",
       "      <td>4</td>\n",
       "      <td>999</td>\n",
       "      <td>0</td>\n",
       "      <td>nonexistent</td>\n",
       "      <td>1.1</td>\n",
       "      <td>93.994</td>\n",
       "      <td>-36.4</td>\n",
       "      <td>4.855</td>\n",
       "      <td>5191.0</td>\n",
       "      <td>no</td>\n",
       "    </tr>\n",
       "    <tr>\n",
       "      <th>2</th>\n",
       "      <td>25</td>\n",
       "      <td>services</td>\n",
       "      <td>married</td>\n",
       "      <td>high.school</td>\n",
       "      <td>no</td>\n",
       "      <td>yes</td>\n",
       "      <td>no</td>\n",
       "      <td>telephone</td>\n",
       "      <td>jun</td>\n",
       "      <td>wed</td>\n",
       "      <td>227</td>\n",
       "      <td>1</td>\n",
       "      <td>999</td>\n",
       "      <td>0</td>\n",
       "      <td>nonexistent</td>\n",
       "      <td>1.4</td>\n",
       "      <td>94.465</td>\n",
       "      <td>-41.8</td>\n",
       "      <td>4.962</td>\n",
       "      <td>5228.1</td>\n",
       "      <td>no</td>\n",
       "    </tr>\n",
       "    <tr>\n",
       "      <th>4</th>\n",
       "      <td>47</td>\n",
       "      <td>admin.</td>\n",
       "      <td>married</td>\n",
       "      <td>university.degree</td>\n",
       "      <td>no</td>\n",
       "      <td>yes</td>\n",
       "      <td>no</td>\n",
       "      <td>cellular</td>\n",
       "      <td>nov</td>\n",
       "      <td>mon</td>\n",
       "      <td>58</td>\n",
       "      <td>1</td>\n",
       "      <td>999</td>\n",
       "      <td>0</td>\n",
       "      <td>nonexistent</td>\n",
       "      <td>-0.1</td>\n",
       "      <td>93.200</td>\n",
       "      <td>-42.0</td>\n",
       "      <td>4.191</td>\n",
       "      <td>5195.8</td>\n",
       "      <td>no</td>\n",
       "    </tr>\n",
       "    <tr>\n",
       "      <th>5</th>\n",
       "      <td>32</td>\n",
       "      <td>services</td>\n",
       "      <td>single</td>\n",
       "      <td>university.degree</td>\n",
       "      <td>no</td>\n",
       "      <td>no</td>\n",
       "      <td>no</td>\n",
       "      <td>cellular</td>\n",
       "      <td>sep</td>\n",
       "      <td>thu</td>\n",
       "      <td>128</td>\n",
       "      <td>3</td>\n",
       "      <td>999</td>\n",
       "      <td>2</td>\n",
       "      <td>failure</td>\n",
       "      <td>-1.1</td>\n",
       "      <td>94.199</td>\n",
       "      <td>-37.5</td>\n",
       "      <td>0.884</td>\n",
       "      <td>4963.6</td>\n",
       "      <td>no</td>\n",
       "    </tr>\n",
       "    <tr>\n",
       "      <th>...</th>\n",
       "      <td>...</td>\n",
       "      <td>...</td>\n",
       "      <td>...</td>\n",
       "      <td>...</td>\n",
       "      <td>...</td>\n",
       "      <td>...</td>\n",
       "      <td>...</td>\n",
       "      <td>...</td>\n",
       "      <td>...</td>\n",
       "      <td>...</td>\n",
       "      <td>...</td>\n",
       "      <td>...</td>\n",
       "      <td>...</td>\n",
       "      <td>...</td>\n",
       "      <td>...</td>\n",
       "      <td>...</td>\n",
       "      <td>...</td>\n",
       "      <td>...</td>\n",
       "      <td>...</td>\n",
       "      <td>...</td>\n",
       "      <td>...</td>\n",
       "    </tr>\n",
       "    <tr>\n",
       "      <th>41182</th>\n",
       "      <td>29</td>\n",
       "      <td>unemployed</td>\n",
       "      <td>single</td>\n",
       "      <td>basic.4y</td>\n",
       "      <td>no</td>\n",
       "      <td>yes</td>\n",
       "      <td>no</td>\n",
       "      <td>cellular</td>\n",
       "      <td>nov</td>\n",
       "      <td>fri</td>\n",
       "      <td>112</td>\n",
       "      <td>1</td>\n",
       "      <td>9</td>\n",
       "      <td>1</td>\n",
       "      <td>success</td>\n",
       "      <td>-1.1</td>\n",
       "      <td>94.767</td>\n",
       "      <td>-50.8</td>\n",
       "      <td>1.028</td>\n",
       "      <td>4963.6</td>\n",
       "      <td>no</td>\n",
       "    </tr>\n",
       "    <tr>\n",
       "      <th>41183</th>\n",
       "      <td>73</td>\n",
       "      <td>retired</td>\n",
       "      <td>married</td>\n",
       "      <td>professional.course</td>\n",
       "      <td>no</td>\n",
       "      <td>yes</td>\n",
       "      <td>no</td>\n",
       "      <td>cellular</td>\n",
       "      <td>nov</td>\n",
       "      <td>fri</td>\n",
       "      <td>334</td>\n",
       "      <td>1</td>\n",
       "      <td>999</td>\n",
       "      <td>0</td>\n",
       "      <td>nonexistent</td>\n",
       "      <td>-1.1</td>\n",
       "      <td>94.767</td>\n",
       "      <td>-50.8</td>\n",
       "      <td>1.028</td>\n",
       "      <td>4963.6</td>\n",
       "      <td>yes</td>\n",
       "    </tr>\n",
       "    <tr>\n",
       "      <th>41185</th>\n",
       "      <td>56</td>\n",
       "      <td>retired</td>\n",
       "      <td>married</td>\n",
       "      <td>university.degree</td>\n",
       "      <td>no</td>\n",
       "      <td>yes</td>\n",
       "      <td>no</td>\n",
       "      <td>cellular</td>\n",
       "      <td>nov</td>\n",
       "      <td>fri</td>\n",
       "      <td>189</td>\n",
       "      <td>2</td>\n",
       "      <td>999</td>\n",
       "      <td>0</td>\n",
       "      <td>nonexistent</td>\n",
       "      <td>-1.1</td>\n",
       "      <td>94.767</td>\n",
       "      <td>-50.8</td>\n",
       "      <td>1.028</td>\n",
       "      <td>4963.6</td>\n",
       "      <td>no</td>\n",
       "    </tr>\n",
       "    <tr>\n",
       "      <th>41186</th>\n",
       "      <td>44</td>\n",
       "      <td>technician</td>\n",
       "      <td>married</td>\n",
       "      <td>professional.course</td>\n",
       "      <td>no</td>\n",
       "      <td>no</td>\n",
       "      <td>no</td>\n",
       "      <td>cellular</td>\n",
       "      <td>nov</td>\n",
       "      <td>fri</td>\n",
       "      <td>442</td>\n",
       "      <td>1</td>\n",
       "      <td>999</td>\n",
       "      <td>0</td>\n",
       "      <td>nonexistent</td>\n",
       "      <td>-1.1</td>\n",
       "      <td>94.767</td>\n",
       "      <td>-50.8</td>\n",
       "      <td>1.028</td>\n",
       "      <td>4963.6</td>\n",
       "      <td>yes</td>\n",
       "    </tr>\n",
       "    <tr>\n",
       "      <th>41187</th>\n",
       "      <td>74</td>\n",
       "      <td>retired</td>\n",
       "      <td>married</td>\n",
       "      <td>professional.course</td>\n",
       "      <td>no</td>\n",
       "      <td>yes</td>\n",
       "      <td>no</td>\n",
       "      <td>cellular</td>\n",
       "      <td>nov</td>\n",
       "      <td>fri</td>\n",
       "      <td>239</td>\n",
       "      <td>3</td>\n",
       "      <td>999</td>\n",
       "      <td>1</td>\n",
       "      <td>failure</td>\n",
       "      <td>-1.1</td>\n",
       "      <td>94.767</td>\n",
       "      <td>-50.8</td>\n",
       "      <td>1.028</td>\n",
       "      <td>4963.6</td>\n",
       "      <td>no</td>\n",
       "    </tr>\n",
       "  </tbody>\n",
       "</table>\n",
       "<p>30478 rows × 21 columns</p>\n",
       "</div>"
      ],
      "text/plain": [
       "       age          job  marital            education default housing loan  \\\n",
       "0       30  blue-collar  married             basic.9y      no     yes   no   \n",
       "1       39     services   single          high.school      no      no   no   \n",
       "2       25     services  married          high.school      no     yes   no   \n",
       "4       47       admin.  married    university.degree      no     yes   no   \n",
       "5       32     services   single    university.degree      no      no   no   \n",
       "...    ...          ...      ...                  ...     ...     ...  ...   \n",
       "41182   29   unemployed   single             basic.4y      no     yes   no   \n",
       "41183   73      retired  married  professional.course      no     yes   no   \n",
       "41185   56      retired  married    university.degree      no     yes   no   \n",
       "41186   44   technician  married  professional.course      no      no   no   \n",
       "41187   74      retired  married  professional.course      no     yes   no   \n",
       "\n",
       "         contact month day_of_week  duration  campaign  pdays  previous  \\\n",
       "0       cellular   may         fri       487         2    999         0   \n",
       "1      telephone   may         fri       346         4    999         0   \n",
       "2      telephone   jun         wed       227         1    999         0   \n",
       "4       cellular   nov         mon        58         1    999         0   \n",
       "5       cellular   sep         thu       128         3    999         2   \n",
       "...          ...   ...         ...       ...       ...    ...       ...   \n",
       "41182   cellular   nov         fri       112         1      9         1   \n",
       "41183   cellular   nov         fri       334         1    999         0   \n",
       "41185   cellular   nov         fri       189         2    999         0   \n",
       "41186   cellular   nov         fri       442         1    999         0   \n",
       "41187   cellular   nov         fri       239         3    999         1   \n",
       "\n",
       "          poutcome  emp.var.rate  cons.price.idx  cons.conf.idx  euribor3m  \\\n",
       "0      nonexistent          -1.8          92.893          -46.2      1.313   \n",
       "1      nonexistent           1.1          93.994          -36.4      4.855   \n",
       "2      nonexistent           1.4          94.465          -41.8      4.962   \n",
       "4      nonexistent          -0.1          93.200          -42.0      4.191   \n",
       "5          failure          -1.1          94.199          -37.5      0.884   \n",
       "...            ...           ...             ...            ...        ...   \n",
       "41182      success          -1.1          94.767          -50.8      1.028   \n",
       "41183  nonexistent          -1.1          94.767          -50.8      1.028   \n",
       "41185  nonexistent          -1.1          94.767          -50.8      1.028   \n",
       "41186  nonexistent          -1.1          94.767          -50.8      1.028   \n",
       "41187      failure          -1.1          94.767          -50.8      1.028   \n",
       "\n",
       "       nr.employed    y  \n",
       "0           5099.1   no  \n",
       "1           5191.0   no  \n",
       "2           5228.1   no  \n",
       "4           5195.8   no  \n",
       "5           4963.6   no  \n",
       "...            ...  ...  \n",
       "41182       4963.6   no  \n",
       "41183       4963.6  yes  \n",
       "41185       4963.6   no  \n",
       "41186       4963.6  yes  \n",
       "41187       4963.6   no  \n",
       "\n",
       "[30478 rows x 21 columns]"
      ]
     },
     "execution_count": 15,
     "metadata": {},
     "output_type": "execute_result"
    }
   ],
   "source": [
    "df_bank_copy # dataframe hasil copy"
   ]
  },
  {
   "cell_type": "code",
   "execution_count": 16,
   "id": "aaa14d7c",
   "metadata": {},
   "outputs": [
    {
     "data": {
      "image/png": "[encoded data removed]",
      "text/plain": [
       "<Figure size 576x288 with 1 Axes>"
      ]
     },
     "metadata": {
      "needs_background": "light"
     },
     "output_type": "display_data"
    }
   ],
   "source": [
    "# membuat grafik batang yang menunjukkan perbandingan NO dan YES dari kolom target\n",
    "plt.figure(figsize=(8,4))\n",
    "sns.countplot(x='y', data=df_bank_copy)\n",
    "plt.title('Perbandingan Customer Subscribed dan Tidak Subscribed', y=1.05)\n",
    "plt.xlabel('y')\n",
    "plt.show()"
   ]
  },
  {
   "cell_type": "markdown",
   "id": "11df78c1",
   "metadata": {},
   "source": [
    "**Dari plot di atas dapat diketahui bahwa dataset yang dimiliki ini imbalance dimana mayoritas datanya adalah customer yang tidak subscribed**"
   ]
  },
  {
   "cell_type": "code",
   "execution_count": 17,
   "id": "1e768357",
   "metadata": {},
   "outputs": [
    {
     "data": {
      "image/png": "[encoded data removed]",
      "text/plain": [
       "<Figure size 576x288 with 1 Axes>"
      ]
     },
     "metadata": {
      "needs_background": "light"
     },
     "output_type": "display_data"
    }
   ],
   "source": [
    "# membuat grafik batang yang menunjukkan perbandingan value kolom target berdasarkan statusnya (marital)\n",
    "plt.figure(figsize=(8,4))\n",
    "sns.countplot(x=df_bank_copy['marital'], hue=df_bank_copy['y'])\n",
    "plt.title('Perbandingan Customer Subscribed dan Tidak Subscribed Berdasarkan Status Hubungan', y=1.05)\n",
    "plt.xlabel('y')\n",
    "plt.show()"
   ]
  },
  {
   "cell_type": "markdown",
   "id": "45676f08",
   "metadata": {},
   "source": [
    "**Berdasarkan plot di atas ternyata mayoritas client yang subscribed term deposit memiliki status married**"
   ]
  },
  {
   "cell_type": "code",
   "execution_count": 18,
   "id": "0cac8d7e",
   "metadata": {},
   "outputs": [
    {
     "data": {
      "image/png": "[encoded data removed]",
      "text/plain": [
       "<Figure size 1008x360 with 1 Axes>"
      ]
     },
     "metadata": {
      "needs_background": "light"
     },
     "output_type": "display_data"
    }
   ],
   "source": [
    "# membuat grafik batang yang menunjukkan perbandingan value kolom target berdasarkan edukasinya\n",
    "plt.figure(figsize=(14,5))\n",
    "sns.countplot(x=df_bank_copy['education'], hue=df_bank_copy['y'])\n",
    "plt.title('Perbandingan Customer Subscribed dan Tidak Subscribed Berdasarkan Education', y=1.05)\n",
    "plt.xlabel('y')\n",
    "plt.show()"
   ]
  },
  {
   "cell_type": "code",
   "execution_count": 19,
   "id": "3a9ec085",
   "metadata": {},
   "outputs": [
    {
     "data": {
      "text/plain": [
       "0.39942975635044065"
      ]
     },
     "execution_count": 19,
     "metadata": {},
     "output_type": "execute_result"
    }
   ],
   "source": [
    "# menghitung banyaknya value YES pada kolom target\n",
    "total_yes = len(df_bank_copy[df_bank_copy['y'] == 'yes'])\n",
    "\n",
    "# menghitung banyaknya value YES pada kolom target dan edukasinya  university degree\n",
    "edu_univ_yes = len(df_bank_copy[(df_bank_copy['y'] == 'yes') & (df_bank_copy['education'] == 'university.degree')])\n",
    "\n",
    "# menghitung persentase customer yang edukasi university degree dan subscribed term deposit\n",
    "percent_univ_yes = edu_univ_yes/total_yes\n",
    "percent_univ_yes"
   ]
  },
  {
   "cell_type": "markdown",
   "id": "65718886",
   "metadata": {},
   "source": [
    "**Customer yang edukasinya university degree merupakan customer yang subscribed term deposit terbanyak yaitu sebesar 39% dari total keseluruhan customer yang subscribed**"
   ]
  },
  {
   "cell_type": "code",
   "execution_count": 20,
   "id": "76c70a83",
   "metadata": {},
   "outputs": [
    {
     "data": {
      "text/plain": [
       "<Figure size 1440x720 with 0 Axes>"
      ]
     },
     "metadata": {},
     "output_type": "display_data"
    },
    {
     "data": {
      "image/png": "[encoded data removed]",
      "text/plain": [
       "<Figure size 1080x864 with 10 Axes>"
      ]
     },
     "metadata": {
      "needs_background": "light"
     },
     "output_type": "display_data"
    }
   ],
   "source": [
    "# Membuat grafik box untuk melihat distribusi dari setiap kolom numerical list\n",
    "plt.figure(figsize=(20,10))\n",
    "fig, axes = plt.subplots(ncols=2, nrows=5)\n",
    "fig.tight_layout()\n",
    "for i, ax in zip(numerical, axes.flat):\n",
    "    sns.boxplot(x=df_bank_copy[i],ax=ax)\n",
    "plt.show()"
   ]
  },
  {
   "cell_type": "markdown",
   "id": "3ec3c4e9",
   "metadata": {},
   "source": [
    "**Berdasarkan plot didapat bahwa fitur age, campaign, duration, pdays, previous, dan cons.conf.idx memiliki data outlier dan semuanya skew**"
   ]
  },
  {
   "cell_type": "code",
   "execution_count": 21,
   "id": "ce87c85e",
   "metadata": {},
   "outputs": [
    {
     "data": {
      "image/png": "[encoded data removed]",
      "text/plain": [
       "<Figure size 1152x864 with 2 Axes>"
      ]
     },
     "metadata": {
      "needs_background": "light"
     },
     "output_type": "display_data"
    }
   ],
   "source": [
    "df_corr = df_bank_copy.corr()\n",
    "mask = np.triu(np.ones_like(df_corr, dtype=bool))\n",
    "cmap = sns.diverging_palette(250, 15, s=75, l=40,\n",
    "                             n=9, center=\"light\", as_cmap=True)\n",
    "plt.figure(figsize=(16, 12))\n",
    "sns.heatmap(df_corr, mask=mask, center=0, annot=True,\n",
    "             fmt='.2f', square=True, cmap=cmap)\n",
    "plt.show()"
   ]
  },
  {
   "cell_type": "markdown",
   "id": "3b3c3bcb",
   "metadata": {},
   "source": [
    "**Dari heatmap di atas dapat dilihat bahwa terdapat beberapa fitur yang berkorelasi dengan fitur lainnya yang berarti tidak independen maka kita dapat mendrop salah satu fitur dari dua fitur yang berkorelasi tersebut. Di kasus ini kita akan mendrop 'euribor3m', 'nr.employed', 'cons.price.idx'**"
   ]
  },
  {
   "cell_type": "markdown",
   "id": "7c1dae66",
   "metadata": {},
   "source": [
    "### Data Preprocessing"
   ]
  },
  {
   "cell_type": "code",
   "execution_count": 22,
   "id": "2edca404",
   "metadata": {},
   "outputs": [],
   "source": [
    "# mendefinisikan labelencoder\n",
    "le = LabelEncoder()\n",
    "\n",
    "# mendefinisikan list yang berisi kolom yang akan diganti menjadi label\n",
    "le_cols = ['job', 'default', 'housing', 'loan', 'contact', 'poutcome', 'y']\n",
    "for col in le_cols:\n",
    "    df_bank[col] = le.fit_transform(df_bank[col]) # mengganti categorical object dengan labelencoder agar menjadi numerik"
   ]
  },
  {
   "cell_type": "code",
   "execution_count": 23,
   "id": "03f4cb45",
   "metadata": {},
   "outputs": [],
   "source": [
    "# mengganti categorical object edukasi di dataframe sesuai dengan dict edu\n",
    "edu = {'illiterate': 0, 'basic.4y':1, 'basic.6y':1, 'basic.9y':1, 'high.school':2, 'professional.course':3, 'university.degree':4}\n",
    "df_bank['education'] = df_bank['education'].map(edu)"
   ]
  },
  {
   "cell_type": "code",
   "execution_count": 24,
   "id": "d9955915",
   "metadata": {},
   "outputs": [],
   "source": [
    "# mengganti categorical object marital di dataframe sesuai dengan dict marital\n",
    "marital = {'single': 0, 'married':1, 'divorced':2}\n",
    "df_bank['marital'] = df_bank['marital'].map(marital)"
   ]
  },
  {
   "cell_type": "code",
   "execution_count": 25,
   "id": "fb891381",
   "metadata": {},
   "outputs": [],
   "source": [
    "# mengganti categorical object month di dataframe sesuai dengan dict month\n",
    "month = {'jan': 0, 'feb': 1, 'mar': 2, 'apr': 3, 'may': 4, 'jun':5, 'jul':6, 'aug':7, 'sep':8, 'oct':9, 'nov':10, 'dec':11}\n",
    "df_bank['month'] = df_bank['month'].map(month)"
   ]
  },
  {
   "cell_type": "code",
   "execution_count": 26,
   "id": "9c208106",
   "metadata": {},
   "outputs": [],
   "source": [
    "# mengganti categorical object day_of_week di dataframe sesuai dengan dict dayofweek\n",
    "dayofweek = {'mon': 0, 'tue': 1, 'wed': 2, 'thu':3, 'fri':4}\n",
    "df_bank['day_of_week'] = df_bank['day_of_week'].map(dayofweek)"
   ]
  },
  {
   "cell_type": "code",
   "execution_count": 27,
   "id": "72d1184e",
   "metadata": {},
   "outputs": [],
   "source": [
    "# delete fitur yang berkorelasi tinggi dengan fitur lainnya\n",
    "df_bank.drop(['euribor3m', 'nr.employed', 'cons.price.idx'], axis=1, inplace=True)"
   ]
  },
  {
   "cell_type": "code",
   "execution_count": 28,
   "id": "35d2c6a1",
   "metadata": {},
   "outputs": [
    {
     "data": {
      "text/plain": [
       "(30478, 18)"
      ]
     },
     "execution_count": 28,
     "metadata": {},
     "output_type": "execute_result"
    }
   ],
   "source": [
    "# dimensi dataframe\n",
    "df_bank.shape"
   ]
  },
  {
   "cell_type": "code",
   "execution_count": 29,
   "id": "fe0ee0c8",
   "metadata": {},
   "outputs": [],
   "source": [
    "X = df_bank.iloc[:,:-1] # memisahkan kolom selain y (fitur-fitur) ke X \n",
    "y = df_bank['y'] # memisalhkan kolom y (target) ke y"
   ]
  },
  {
   "cell_type": "code",
   "execution_count": 30,
   "id": "4d71f78f",
   "metadata": {},
   "outputs": [],
   "source": [
    "# split data\n",
    "X_train, X_test, y_train, y_test = train_test_split(X, y, test_size = 0.3, random_state= 1)"
   ]
  },
  {
   "cell_type": "code",
   "execution_count": 31,
   "id": "581102f5",
   "metadata": {},
   "outputs": [
    {
     "data": {
      "text/plain": [
       "((21334, 17), (9144, 17))"
      ]
     },
     "execution_count": 31,
     "metadata": {},
     "output_type": "execute_result"
    }
   ],
   "source": [
    "# dimension dari X_train dan X_test\n",
    "X_train.shape, X_test.shape"
   ]
  },
  {
   "cell_type": "code",
   "execution_count": 32,
   "id": "fdd259e2",
   "metadata": {},
   "outputs": [
    {
     "data": {
      "text/plain": [
       "Counter({0: 18595, 1: 2739})"
      ]
     },
     "execution_count": 32,
     "metadata": {},
     "output_type": "execute_result"
    }
   ],
   "source": [
    "# menghitung banyaknya value 0 dan 1 pada y_train\n",
    "from collections import Counter\n",
    "Counter(y_train)"
   ]
  },
  {
   "cell_type": "code",
   "execution_count": 33,
   "id": "a66853fc",
   "metadata": {},
   "outputs": [],
   "source": [
    "# melakukan undersampling karena datasetnya imbalanced dengan menggunakan randomundersampling\n",
    "from imblearn.under_sampling import RandomUnderSampler\n",
    "undersampler = RandomUnderSampler()\n",
    "under_X_train, under_y_train = undersampler.fit_resample(X_train, y_train)"
   ]
  },
  {
   "cell_type": "code",
   "execution_count": 34,
   "id": "1c8280c5",
   "metadata": {},
   "outputs": [
    {
     "data": {
      "text/plain": [
       "Counter({0: 2739, 1: 2739})"
      ]
     },
     "execution_count": 34,
     "metadata": {},
     "output_type": "execute_result"
    }
   ],
   "source": [
    "# menghitung banyaknya value 0 dan 1 pada under_y_train (under sampling)\n",
    "Counter(under_y_train)"
   ]
  },
  {
   "cell_type": "code",
   "execution_count": 35,
   "id": "7f314279",
   "metadata": {},
   "outputs": [],
   "source": [
    "# melakukan oversampling karena datasetnya imbalanced dengan menggunakan SMOTE\n",
    "from imblearn.over_sampling import SMOTE\n",
    "sm = SMOTE(random_state = 2)\n",
    "over_X_train, over_y_train = sm.fit_resample(X_train,y_train)"
   ]
  },
  {
   "cell_type": "code",
   "execution_count": 36,
   "id": "6d03673e",
   "metadata": {},
   "outputs": [
    {
     "data": {
      "text/plain": [
       "Counter({0: 18595, 1: 18595})"
      ]
     },
     "execution_count": 36,
     "metadata": {},
     "output_type": "execute_result"
    }
   ],
   "source": [
    "# menghitung banyaknya value 0 dan 1 pada over_y_train (over sampling)\n",
    "Counter(over_y_train)"
   ]
  },
  {
   "cell_type": "code",
   "execution_count": 37,
   "id": "fcc7daeb",
   "metadata": {},
   "outputs": [],
   "source": [
    "# mendefinisikan scaling yang digunakan\n",
    "scaler = StandardScaler()"
   ]
  },
  {
   "cell_type": "code",
   "execution_count": 38,
   "id": "8a1ba149",
   "metadata": {},
   "outputs": [],
   "source": [
    "X_train_un = scaler.fit_transform(X_train) # scaling X_train\n",
    "under_X_train = scaler.fit_transform(under_X_train) # scaling under_X_train\n",
    "over_X_train = scaler.fit_transform(over_X_train) # scaling over_X_train"
   ]
  },
  {
   "cell_type": "code",
   "execution_count": 39,
   "id": "564adf84",
   "metadata": {},
   "outputs": [],
   "source": [
    "X_test = scaler.transform(X_test) # scaling X_test"
   ]
  },
  {
   "cell_type": "markdown",
   "id": "4ca9157d",
   "metadata": {},
   "source": [
    "### Modeling"
   ]
  },
  {
   "cell_type": "markdown",
   "id": "34fdba7f",
   "metadata": {},
   "source": [
    "Modeling pada dataset yang imbalanced"
   ]
  },
  {
   "cell_type": "markdown",
   "id": "3ade3825",
   "metadata": {},
   "source": [
    "#### Logistic Regression"
   ]
  },
  {
   "cell_type": "code",
   "execution_count": 40,
   "id": "cc80fe7a",
   "metadata": {},
   "outputs": [
    {
     "data": {
      "text/plain": [
       "LogisticRegression(class_weight='balanced')"
      ]
     },
     "execution_count": 40,
     "metadata": {},
     "output_type": "execute_result"
    }
   ],
   "source": [
    "# membuat LogisticRegression dengan class_weightnya balanced\n",
    "model_lr = LogisticRegression(class_weight='balanced')\n",
    "# train model dengan data train\n",
    "model_lr.fit(X_train_un, y_train)"
   ]
  },
  {
   "cell_type": "code",
   "execution_count": 41,
   "id": "430f6ad8",
   "metadata": {},
   "outputs": [],
   "source": [
    "# predict X_test\n",
    "y_pred_lr = model_lr.predict(X_test)"
   ]
  },
  {
   "cell_type": "code",
   "execution_count": 42,
   "id": "121eca8a",
   "metadata": {},
   "outputs": [
    {
     "data": {
      "text/plain": [
       "array([[7589,  436],\n",
       "       [ 515,  604]], dtype=int64)"
      ]
     },
     "execution_count": 42,
     "metadata": {},
     "output_type": "execute_result"
    }
   ],
   "source": [
    "# confusion matrix yang menunjukkan nilai TN, FP, FN, TP dari y_test (actual) dengan hasil prediksi (predict)\n",
    "confusion_matrix(y_test, y_pred_lr)"
   ]
  },
  {
   "cell_type": "code",
   "execution_count": 43,
   "id": "fccb2621",
   "metadata": {},
   "outputs": [
    {
     "name": "stdout",
     "output_type": "stream",
     "text": [
      "              precision    recall  f1-score   support\n",
      "\n",
      "           0       0.94      0.95      0.94      8025\n",
      "           1       0.58      0.54      0.56      1119\n",
      "\n",
      "    accuracy                           0.90      9144\n",
      "   macro avg       0.76      0.74      0.75      9144\n",
      "weighted avg       0.89      0.90      0.89      9144\n",
      "\n"
     ]
    }
   ],
   "source": [
    "# classification report yang menunjukkan skor precision, recall, f1_score, dan akurasi\n",
    "print(classification_report(y_test, y_pred_lr))"
   ]
  },
  {
   "cell_type": "markdown",
   "id": "813346db",
   "metadata": {},
   "source": [
    "#### KNN"
   ]
  },
  {
   "cell_type": "code",
   "execution_count": 44,
   "id": "a6d9b053",
   "metadata": {},
   "outputs": [
    {
     "data": {
      "text/plain": [
       "KNeighborsClassifier(n_neighbors=11)"
      ]
     },
     "execution_count": 44,
     "metadata": {},
     "output_type": "execute_result"
    }
   ],
   "source": [
    "# membuat KNeighborsClassifier dengan n_neighbors 11\n",
    "knn_model = KNeighborsClassifier(n_neighbors=11)\n",
    "# train model dengan data train\n",
    "knn_model.fit(X_train_un, y_train)"
   ]
  },
  {
   "cell_type": "code",
   "execution_count": 45,
   "id": "75d63916",
   "metadata": {},
   "outputs": [],
   "source": [
    "# predict X_test\n",
    "y_pred_knn = knn_model.predict(X_test)"
   ]
  },
  {
   "cell_type": "code",
   "execution_count": 46,
   "id": "2458cdcf",
   "metadata": {},
   "outputs": [
    {
     "data": {
      "text/plain": [
       "array([[7884,  141],\n",
       "       [ 837,  282]], dtype=int64)"
      ]
     },
     "execution_count": 46,
     "metadata": {},
     "output_type": "execute_result"
    }
   ],
   "source": [
    "# confusion matrix yang menunjukkan nilai TN, FP, FN, TP dari y_test (actual) dengan hasil prediksi (predict)\n",
    "confusion_matrix(y_test, y_pred_knn)"
   ]
  },
  {
   "cell_type": "code",
   "execution_count": 47,
   "id": "cf31c45e",
   "metadata": {},
   "outputs": [
    {
     "name": "stdout",
     "output_type": "stream",
     "text": [
      "              precision    recall  f1-score   support\n",
      "\n",
      "           0       0.90      0.98      0.94      8025\n",
      "           1       0.67      0.25      0.37      1119\n",
      "\n",
      "    accuracy                           0.89      9144\n",
      "   macro avg       0.79      0.62      0.65      9144\n",
      "weighted avg       0.87      0.89      0.87      9144\n",
      "\n"
     ]
    }
   ],
   "source": [
    "# classification report yang menunjukkan skor precision, recall, f1_score, dan akurasi\n",
    "print(classification_report(y_test, y_pred_knn))"
   ]
  },
  {
   "cell_type": "markdown",
   "id": "374589a1",
   "metadata": {},
   "source": [
    "#### Decision Tree Classifier"
   ]
  },
  {
   "cell_type": "code",
   "execution_count": 48,
   "id": "c2745211",
   "metadata": {},
   "outputs": [
    {
     "data": {
      "text/plain": [
       "DecisionTreeClassifier(max_depth=10, max_features='auto')"
      ]
     },
     "execution_count": 48,
     "metadata": {},
     "output_type": "execute_result"
    }
   ],
   "source": [
    "# membuat DecisionTreeClassifier dengan max_depth 10 dan max_features auto\n",
    "dtc_model = DecisionTreeClassifier(max_depth=10, max_features='auto')\n",
    "# train model dengan data train\n",
    "dtc_model.fit(X_train_un, y_train)"
   ]
  },
  {
   "cell_type": "code",
   "execution_count": 49,
   "id": "0a3fa56f",
   "metadata": {},
   "outputs": [],
   "source": [
    "# predict X_test\n",
    "y_pred_dtc = dtc_model.predict(X_test)"
   ]
  },
  {
   "cell_type": "code",
   "execution_count": 50,
   "id": "69ce3497",
   "metadata": {},
   "outputs": [
    {
     "data": {
      "text/plain": [
       "array([[7866,  159],\n",
       "       [ 810,  309]], dtype=int64)"
      ]
     },
     "execution_count": 50,
     "metadata": {},
     "output_type": "execute_result"
    }
   ],
   "source": [
    "# confusion matrix yang menunjukkan nilai TN, FP, FN, TP dari y_test (actual) dengan hasil prediksi (predict)\n",
    "confusion_matrix(y_test, y_pred_dtc)"
   ]
  },
  {
   "cell_type": "code",
   "execution_count": 51,
   "id": "c13e7294",
   "metadata": {},
   "outputs": [
    {
     "name": "stdout",
     "output_type": "stream",
     "text": [
      "              precision    recall  f1-score   support\n",
      "\n",
      "           0       0.91      0.98      0.94      8025\n",
      "           1       0.66      0.28      0.39      1119\n",
      "\n",
      "    accuracy                           0.89      9144\n",
      "   macro avg       0.78      0.63      0.67      9144\n",
      "weighted avg       0.88      0.89      0.87      9144\n",
      "\n"
     ]
    }
   ],
   "source": [
    "# classification report yang menunjukkan skor precision, recall, f1_score, dan akurasi\n",
    "print(classification_report(y_test, y_pred_dtc))"
   ]
  },
  {
   "cell_type": "markdown",
   "id": "5e9bfcad",
   "metadata": {},
   "source": [
    "#### Random Forest Classifier"
   ]
  },
  {
   "cell_type": "code",
   "execution_count": 52,
   "id": "a4822a2e",
   "metadata": {},
   "outputs": [
    {
     "data": {
      "text/plain": [
       "RandomForestClassifier()"
      ]
     },
     "execution_count": 52,
     "metadata": {},
     "output_type": "execute_result"
    }
   ],
   "source": [
    "# membuat RandomForestClassifier dengan max_features auto\n",
    "rfc_model = RandomForestClassifier(max_features='auto')\n",
    "# train model dengan data train\n",
    "rfc_model.fit(X_train_un, y_train)"
   ]
  },
  {
   "cell_type": "code",
   "execution_count": 53,
   "id": "7f0c84f8",
   "metadata": {},
   "outputs": [
    {
     "data": {
      "text/plain": [
       "array([[7885,  140],\n",
       "       [ 792,  327]], dtype=int64)"
      ]
     },
     "execution_count": 53,
     "metadata": {},
     "output_type": "execute_result"
    }
   ],
   "source": [
    "# predict X_test\n",
    "y_pred_rfc = rfc_model.predict(X_test)\n",
    "# confusion matrix yang menunjukkan nilai TN, FP, FN, TP dari y_test (actual) dengan hasil prediksi (predict)\n",
    "confusion_matrix(y_test, y_pred_rfc)"
   ]
  },
  {
   "cell_type": "code",
   "execution_count": 54,
   "id": "f0d0b489",
   "metadata": {},
   "outputs": [
    {
     "name": "stdout",
     "output_type": "stream",
     "text": [
      "              precision    recall  f1-score   support\n",
      "\n",
      "           0       0.91      0.98      0.94      8025\n",
      "           1       0.70      0.29      0.41      1119\n",
      "\n",
      "    accuracy                           0.90      9144\n",
      "   macro avg       0.80      0.64      0.68      9144\n",
      "weighted avg       0.88      0.90      0.88      9144\n",
      "\n"
     ]
    }
   ],
   "source": [
    "# classification report yang menunjukkan skor precision, recall, f1_score, dan akurasi\n",
    "print(classification_report(y_test, y_pred_rfc))"
   ]
  },
  {
   "cell_type": "markdown",
   "id": "0f84ddec",
   "metadata": {},
   "source": [
    "#### SVM"
   ]
  },
  {
   "cell_type": "code",
   "execution_count": 55,
   "id": "c3def938",
   "metadata": {},
   "outputs": [
    {
     "data": {
      "text/plain": [
       "SVC()"
      ]
     },
     "execution_count": 55,
     "metadata": {},
     "output_type": "execute_result"
    }
   ],
   "source": [
    "# membuat SVC\n",
    "svc_model = SVC()\n",
    "# train model dengan data train\n",
    "svc_model.fit(X_train_un, y_train)"
   ]
  },
  {
   "cell_type": "code",
   "execution_count": 56,
   "id": "7c4874d7",
   "metadata": {},
   "outputs": [
    {
     "data": {
      "text/plain": [
       "array([[7942,   83],\n",
       "       [ 907,  212]], dtype=int64)"
      ]
     },
     "execution_count": 56,
     "metadata": {},
     "output_type": "execute_result"
    }
   ],
   "source": [
    "# predict X_test\n",
    "y_pred_svc = svc_model.predict(X_test)\n",
    "# confusion matrix yang menunjukkan nilai TN, FP, FN, TP dari y_test (actual) dengan hasil prediksi (predict)\n",
    "confusion_matrix(y_test, y_pred_svc)"
   ]
  },
  {
   "cell_type": "code",
   "execution_count": 57,
   "id": "d070cb8f",
   "metadata": {},
   "outputs": [
    {
     "name": "stdout",
     "output_type": "stream",
     "text": [
      "              precision    recall  f1-score   support\n",
      "\n",
      "           0       0.90      0.99      0.94      8025\n",
      "           1       0.72      0.19      0.30      1119\n",
      "\n",
      "    accuracy                           0.89      9144\n",
      "   macro avg       0.81      0.59      0.62      9144\n",
      "weighted avg       0.88      0.89      0.86      9144\n",
      "\n"
     ]
    }
   ],
   "source": [
    "# classification report yang menunjukkan skor precision, recall, f1_score, dan akurasi\n",
    "print(classification_report(y_test, y_pred_svc))"
   ]
  },
  {
   "cell_type": "markdown",
   "id": "a67fe5fd",
   "metadata": {},
   "source": [
    "modeling dengan under sampling dataset"
   ]
  },
  {
   "cell_type": "markdown",
   "id": "e6967c15",
   "metadata": {},
   "source": [
    "#### Naive Bayes"
   ]
  },
  {
   "cell_type": "code",
   "execution_count": 58,
   "id": "dc375099",
   "metadata": {},
   "outputs": [
    {
     "data": {
      "text/plain": [
       "GaussianNB()"
      ]
     },
     "execution_count": 58,
     "metadata": {},
     "output_type": "execute_result"
    }
   ],
   "source": [
    "# membuat GaussianNB\n",
    "gnb_model = GaussianNB()\n",
    "# train model dengan data train\n",
    "gnb_model.fit(X_train_un, y_train)"
   ]
  },
  {
   "cell_type": "code",
   "execution_count": 59,
   "id": "b27ad9be",
   "metadata": {},
   "outputs": [
    {
     "data": {
      "text/plain": [
       "array([[8025,    0],\n",
       "       [1119,    0]], dtype=int64)"
      ]
     },
     "execution_count": 59,
     "metadata": {},
     "output_type": "execute_result"
    }
   ],
   "source": [
    "# predict X_test\n",
    "y_pred_gnb = gnb_model.predict(X_test)\n",
    "# confusion matrix yang menunjukkan nilai TN, FP, FN, TP dari y_test (actual) dengan hasil prediksi (predict)\n",
    "confusion_matrix(y_test, y_pred_gnb)"
   ]
  },
  {
   "cell_type": "code",
   "execution_count": 60,
   "id": "e0384e0c",
   "metadata": {},
   "outputs": [
    {
     "data": {
      "text/plain": [
       "array([], dtype=int32)"
      ]
     },
     "execution_count": 60,
     "metadata": {},
     "output_type": "execute_result"
    }
   ],
   "source": [
    "# cek prediksi 1\n",
    "y_pred_gnb[y_pred_gnb == 1]"
   ]
  },
  {
   "cell_type": "code",
   "execution_count": 61,
   "id": "8a3506f0",
   "metadata": {},
   "outputs": [
    {
     "name": "stdout",
     "output_type": "stream",
     "text": [
      "              precision    recall  f1-score   support\n",
      "\n",
      "           0       0.88      1.00      0.93      8025\n",
      "           1       0.00      0.00      0.00      1119\n",
      "\n",
      "    accuracy                           0.88      9144\n",
      "   macro avg       0.44      0.50      0.47      9144\n",
      "weighted avg       0.77      0.88      0.82      9144\n",
      "\n"
     ]
    },
    {
     "name": "stderr",
     "output_type": "stream",
     "text": [
      "C:\\Users\\USER\\anaconda3\\envs\\H8_001\\lib\\site-packages\\sklearn\\metrics\\_classification.py:1248: UndefinedMetricWarning: Precision and F-score are ill-defined and being set to 0.0 in labels with no predicted samples. Use `zero_division` parameter to control this behavior.\n",
      "  _warn_prf(average, modifier, msg_start, len(result))\n",
      "C:\\Users\\USER\\anaconda3\\envs\\H8_001\\lib\\site-packages\\sklearn\\metrics\\_classification.py:1248: UndefinedMetricWarning: Precision and F-score are ill-defined and being set to 0.0 in labels with no predicted samples. Use `zero_division` parameter to control this behavior.\n",
      "  _warn_prf(average, modifier, msg_start, len(result))\n",
      "C:\\Users\\USER\\anaconda3\\envs\\H8_001\\lib\\site-packages\\sklearn\\metrics\\_classification.py:1248: UndefinedMetricWarning: Precision and F-score are ill-defined and being set to 0.0 in labels with no predicted samples. Use `zero_division` parameter to control this behavior.\n",
      "  _warn_prf(average, modifier, msg_start, len(result))\n"
     ]
    }
   ],
   "source": [
    "# classification report yang menunjukkan skor precision, recall, f1_score, dan akurasi\n",
    "print(classification_report(y_test, y_pred_gnb))"
   ]
  },
  {
   "cell_type": "markdown",
   "id": "17e9f7df",
   "metadata": {},
   "source": [
    "#### UnderSampling Logistic Regression"
   ]
  },
  {
   "cell_type": "code",
   "execution_count": 62,
   "id": "54f7f5dc",
   "metadata": {},
   "outputs": [],
   "source": [
    "# mendefinisikan hyperparameter tuning\n",
    "param_grid = {\n",
    "    \"C\":[0.0005, 0.001, 0.005, 0.01, 0.05, 0.1, 0.5, 1], \n",
    "    \"class_weight\":[{0:1,1:1.5}, {0:0.5,1:0.75}]\n",
    "}\n",
    "# membuat LogisticRegression dengan GridSearchCV\n",
    "clf_lr = GridSearchCV(LogisticRegression(random_state=0), param_grid=param_grid, cv=10, scoring=make_scorer(f1_score))"
   ]
  },
  {
   "cell_type": "code",
   "execution_count": 63,
   "id": "6f5c5ea4",
   "metadata": {},
   "outputs": [
    {
     "data": {
      "text/plain": [
       "LogisticRegression(C=0.05, class_weight={0: 1, 1: 1.5}, random_state=0)"
      ]
     },
     "execution_count": 63,
     "metadata": {},
     "output_type": "execute_result"
    }
   ],
   "source": [
    "# train model dengan data train dan cek best_estimatornya\n",
    "clf_lr.fit(under_X_train, under_y_train)\n",
    "clf_lr.best_estimator_"
   ]
  },
  {
   "cell_type": "code",
   "execution_count": 64,
   "id": "03b0cb48",
   "metadata": {},
   "outputs": [],
   "source": [
    "# predict X_test\n",
    "y_pred_clf_lr = clf_lr.predict(X_test)"
   ]
  },
  {
   "cell_type": "code",
   "execution_count": 65,
   "id": "999d6293",
   "metadata": {},
   "outputs": [
    {
     "name": "stdout",
     "output_type": "stream",
     "text": [
      "              precision    recall  f1-score   support\n",
      "\n",
      "           0       0.98      0.79      0.88      8025\n",
      "           1       0.37      0.89      0.53      1119\n",
      "\n",
      "    accuracy                           0.80      9144\n",
      "   macro avg       0.68      0.84      0.70      9144\n",
      "weighted avg       0.91      0.80      0.83      9144\n",
      "\n"
     ]
    }
   ],
   "source": [
    "# classification report yang menunjukkan skor precision, recall, f1_score, dan akurasi\n",
    "print(classification_report(y_test, y_pred_clf_lr))"
   ]
  },
  {
   "cell_type": "markdown",
   "id": "6e24c17b",
   "metadata": {},
   "source": [
    "#### UnderSampling KNN"
   ]
  },
  {
   "cell_type": "code",
   "execution_count": 66,
   "id": "1b8c92c1",
   "metadata": {},
   "outputs": [],
   "source": [
    "# mendefinisikan hyperparameter tuning\n",
    "param_grid_knn = {\n",
    "    'n_neighbors' : [x for x in range(3,10,2)],\n",
    "    'metric' : ['euclidean']\n",
    "}\n",
    "# membuat KNeighborsClassifier dengan GridSearchCV\n",
    "clf_knn = GridSearchCV(KNeighborsClassifier(), param_grid=param_grid_knn, cv=10, scoring=make_scorer(f1_score))"
   ]
  },
  {
   "cell_type": "code",
   "execution_count": 67,
   "id": "4c839310",
   "metadata": {},
   "outputs": [
    {
     "data": {
      "text/plain": [
       "KNeighborsClassifier(metric='euclidean')"
      ]
     },
     "execution_count": 67,
     "metadata": {},
     "output_type": "execute_result"
    }
   ],
   "source": [
    "# train model dengan data train dan cek best_estimatornya\n",
    "clf_knn.fit(under_X_train, under_y_train)\n",
    "clf_knn.best_estimator_"
   ]
  },
  {
   "cell_type": "code",
   "execution_count": 68,
   "id": "0928baa3",
   "metadata": {},
   "outputs": [],
   "source": [
    "# predict X_test\n",
    "y_pred_clf_knn = clf_knn.predict(X_test)"
   ]
  },
  {
   "cell_type": "code",
   "execution_count": 69,
   "id": "7eb36183",
   "metadata": {},
   "outputs": [
    {
     "name": "stdout",
     "output_type": "stream",
     "text": [
      "              precision    recall  f1-score   support\n",
      "\n",
      "           0       0.96      0.83      0.89      8025\n",
      "           1       0.39      0.78      0.52      1119\n",
      "\n",
      "    accuracy                           0.82      9144\n",
      "   macro avg       0.68      0.80      0.71      9144\n",
      "weighted avg       0.89      0.82      0.85      9144\n",
      "\n"
     ]
    }
   ],
   "source": [
    "# classification report yang menunjukkan skor precision, recall, f1_score, dan akurasi\n",
    "print(classification_report(y_test, y_pred_clf_knn))"
   ]
  },
  {
   "cell_type": "markdown",
   "id": "336f40e5",
   "metadata": {},
   "source": [
    "#### UnderSampling Decision Tree"
   ]
  },
  {
   "cell_type": "code",
   "execution_count": 70,
   "id": "34177d6e",
   "metadata": {},
   "outputs": [],
   "source": [
    "# mendefinisikan hyperparameter tuning\n",
    "param_grid_dtc = {\n",
    "    'criterion' : ['gini', 'entropy'],\n",
    "    'max_depth' : [10,30,50,70],\n",
    "    'min_samples_split': [2, 3, 4],\n",
    "}\n",
    "# membuat DecisionTreeClassifier dengan GridSearchCV\n",
    "clf_dtc = GridSearchCV(DecisionTreeClassifier(), param_grid=param_grid_dtc, cv=10, scoring=make_scorer(f1_score))"
   ]
  },
  {
   "cell_type": "code",
   "execution_count": 71,
   "id": "75976935",
   "metadata": {},
   "outputs": [
    {
     "data": {
      "text/plain": [
       "DecisionTreeClassifier(criterion='entropy', max_depth=10, min_samples_split=3)"
      ]
     },
     "execution_count": 71,
     "metadata": {},
     "output_type": "execute_result"
    }
   ],
   "source": [
    "# train model dengan data train dan cek best_estimatornya\n",
    "clf_dtc.fit(under_X_train, under_y_train)\n",
    "clf_dtc.best_estimator_"
   ]
  },
  {
   "cell_type": "code",
   "execution_count": 72,
   "id": "fe03796b",
   "metadata": {},
   "outputs": [],
   "source": [
    "# predict X_test\n",
    "y_pred_clf_dtc = clf_dtc.predict(X_test)"
   ]
  },
  {
   "cell_type": "code",
   "execution_count": 73,
   "id": "5a2d0c7e",
   "metadata": {},
   "outputs": [
    {
     "name": "stdout",
     "output_type": "stream",
     "text": [
      "              precision    recall  f1-score   support\n",
      "\n",
      "           0       0.98      0.85      0.91      8025\n",
      "           1       0.44      0.86      0.58      1119\n",
      "\n",
      "    accuracy                           0.85      9144\n",
      "   macro avg       0.71      0.85      0.74      9144\n",
      "weighted avg       0.91      0.85      0.87      9144\n",
      "\n"
     ]
    }
   ],
   "source": [
    "# classification report yang menunjukkan skor precision, recall, f1_score, dan akurasi\n",
    "print(classification_report(y_test, y_pred_clf_dtc))"
   ]
  },
  {
   "cell_type": "markdown",
   "id": "2135f62c",
   "metadata": {},
   "source": [
    "#### UnderSampling Random Forest"
   ]
  },
  {
   "cell_type": "code",
   "execution_count": 74,
   "id": "bb0714d0",
   "metadata": {},
   "outputs": [],
   "source": [
    "# mendefinisikan hyperparameter tuning\n",
    "param_grid_rfc = {\n",
    "    'bootstrap': [True],\n",
    "    'criterion' : ['gini', 'entropy'],\n",
    "    'max_depth': [10, 20, 50],\n",
    "    'min_samples_split': [2, 3, 4],\n",
    "}\n",
    "# membuat RandomForestClassifier dengan GridSearchCV\n",
    "clf_rfc = GridSearchCV(RandomForestClassifier(random_state=0, n_jobs=-1), param_grid=param_grid_rfc, cv=10, scoring=make_scorer(f1_score))"
   ]
  },
  {
   "cell_type": "code",
   "execution_count": 75,
   "id": "81e6eaf4",
   "metadata": {},
   "outputs": [
    {
     "data": {
      "text/plain": [
       "RandomForestClassifier(criterion='entropy', max_depth=10, n_jobs=-1,\n",
       "                       random_state=0)"
      ]
     },
     "execution_count": 75,
     "metadata": {},
     "output_type": "execute_result"
    }
   ],
   "source": [
    "# train model dengan data train dan cek best_estimatornya\n",
    "clf_rfc.fit(under_X_train, under_y_train)\n",
    "clf_rfc.best_estimator_"
   ]
  },
  {
   "cell_type": "code",
   "execution_count": 76,
   "id": "397fa51e",
   "metadata": {},
   "outputs": [],
   "source": [
    "# predict X_test\n",
    "y_pred_clf_rfc = clf_rfc.predict(X_test)"
   ]
  },
  {
   "cell_type": "code",
   "execution_count": 77,
   "id": "058f8193",
   "metadata": {},
   "outputs": [
    {
     "name": "stdout",
     "output_type": "stream",
     "text": [
      "              precision    recall  f1-score   support\n",
      "\n",
      "           0       0.99      0.83      0.90      8025\n",
      "           1       0.43      0.93      0.59      1119\n",
      "\n",
      "    accuracy                           0.84      9144\n",
      "   macro avg       0.71      0.88      0.74      9144\n",
      "weighted avg       0.92      0.84      0.86      9144\n",
      "\n"
     ]
    }
   ],
   "source": [
    "# classification report yang menunjukkan skor precision, recall, f1_score, dan akurasi\n",
    "print(classification_report(y_test, y_pred_clf_rfc))"
   ]
  },
  {
   "cell_type": "markdown",
   "id": "62edebc6",
   "metadata": {},
   "source": [
    "#### UnderSampling SVC"
   ]
  },
  {
   "cell_type": "code",
   "execution_count": 78,
   "id": "e2d05cf2",
   "metadata": {},
   "outputs": [
    {
     "data": {
      "text/plain": [
       "SVC()"
      ]
     },
     "execution_count": 78,
     "metadata": {},
     "output_type": "execute_result"
    }
   ],
   "source": [
    "# membuat SVC untuk undersampling\n",
    "svc_under_model = SVC()\n",
    "# train model dengan data train\n",
    "svc_under_model.fit(under_X_train, under_y_train)"
   ]
  },
  {
   "cell_type": "code",
   "execution_count": 79,
   "id": "f63d7fc3",
   "metadata": {},
   "outputs": [],
   "source": [
    "# predict X_test\n",
    "y_pred_under_svc = svc_under_model.predict(X_test)"
   ]
  },
  {
   "cell_type": "code",
   "execution_count": 80,
   "id": "8452e343",
   "metadata": {},
   "outputs": [
    {
     "name": "stdout",
     "output_type": "stream",
     "text": [
      "              precision    recall  f1-score   support\n",
      "\n",
      "           0       0.98      0.82      0.89      8025\n",
      "           1       0.40      0.89      0.56      1119\n",
      "\n",
      "    accuracy                           0.83      9144\n",
      "   macro avg       0.69      0.85      0.72      9144\n",
      "weighted avg       0.91      0.83      0.85      9144\n",
      "\n"
     ]
    }
   ],
   "source": [
    "# classification report yang menunjukkan skor precision, recall, f1_score, dan akurasi\n",
    "print(classification_report(y_test, y_pred_under_svc))"
   ]
  },
  {
   "cell_type": "markdown",
   "id": "4a8580f5",
   "metadata": {},
   "source": [
    "#### UnderSampling Naive Bayes"
   ]
  },
  {
   "cell_type": "code",
   "execution_count": 81,
   "id": "6eb175f0",
   "metadata": {},
   "outputs": [
    {
     "data": {
      "text/plain": [
       "GaussianNB()"
      ]
     },
     "execution_count": 81,
     "metadata": {},
     "output_type": "execute_result"
    }
   ],
   "source": [
    "# membuat GaussianNB untuk undersampling\n",
    "gnb_under_model = GaussianNB()\n",
    "# train model dengan data train\n",
    "gnb_under_model.fit(under_X_train, under_y_train)"
   ]
  },
  {
   "cell_type": "code",
   "execution_count": 82,
   "id": "a83f64a8",
   "metadata": {},
   "outputs": [],
   "source": [
    "# predict X_test\n",
    "y_pred_under_gnb = gnb_under_model.predict(X_test)"
   ]
  },
  {
   "cell_type": "code",
   "execution_count": 83,
   "id": "c964ccc3",
   "metadata": {},
   "outputs": [
    {
     "name": "stdout",
     "output_type": "stream",
     "text": [
      "              precision    recall  f1-score   support\n",
      "\n",
      "           0       0.94      0.85      0.89      8025\n",
      "           1       0.35      0.60      0.45      1119\n",
      "\n",
      "    accuracy                           0.82      9144\n",
      "   macro avg       0.65      0.72      0.67      9144\n",
      "weighted avg       0.87      0.82      0.84      9144\n",
      "\n"
     ]
    }
   ],
   "source": [
    "# classification report yang menunjukkan skor precision, recall, f1_score, dan akurasi\n",
    "print(classification_report(y_test, y_pred_under_gnb))"
   ]
  },
  {
   "cell_type": "markdown",
   "id": "5c324da1",
   "metadata": {},
   "source": [
    "Modeling dengan over sampling dataset"
   ]
  },
  {
   "cell_type": "markdown",
   "id": "21695e55",
   "metadata": {},
   "source": [
    "#### OverSampling Logistic Regression"
   ]
  },
  {
   "cell_type": "code",
   "execution_count": 84,
   "id": "46d39ae5",
   "metadata": {},
   "outputs": [],
   "source": [
    "# membuat LogisticRegression dengan GridSearchCV\n",
    "clf_lr_over = GridSearchCV(LogisticRegression(random_state=0), param_grid=param_grid, cv=10, scoring=make_scorer(f1_score))"
   ]
  },
  {
   "cell_type": "code",
   "execution_count": 85,
   "id": "2409e0a5",
   "metadata": {},
   "outputs": [
    {
     "data": {
      "text/plain": [
       "LogisticRegression(C=0.5, class_weight={0: 1, 1: 1.5}, random_state=0)"
      ]
     },
     "execution_count": 85,
     "metadata": {},
     "output_type": "execute_result"
    }
   ],
   "source": [
    "# train model dengan data train dan cek best_estimatornya\n",
    "clf_lr_over.fit(over_X_train, over_y_train)\n",
    "clf_lr_over.best_estimator_"
   ]
  },
  {
   "cell_type": "code",
   "execution_count": 86,
   "id": "91117c97",
   "metadata": {},
   "outputs": [],
   "source": [
    "# predict X_test\n",
    "y_pred_clf_lr_over = clf_lr_over.predict(X_test)"
   ]
  },
  {
   "cell_type": "code",
   "execution_count": 87,
   "id": "86ebfdd7",
   "metadata": {},
   "outputs": [
    {
     "name": "stdout",
     "output_type": "stream",
     "text": [
      "              precision    recall  f1-score   support\n",
      "\n",
      "           0       0.96      0.84      0.90      8025\n",
      "           1       0.40      0.77      0.52      1119\n",
      "\n",
      "    accuracy                           0.83      9144\n",
      "   macro avg       0.68      0.80      0.71      9144\n",
      "weighted avg       0.89      0.83      0.85      9144\n",
      "\n"
     ]
    }
   ],
   "source": [
    "# classification report yang menunjukkan skor precision, recall, f1_score, dan akurasi\n",
    "print(classification_report(y_test, y_pred_clf_lr_over))"
   ]
  },
  {
   "cell_type": "markdown",
   "id": "f06bc511",
   "metadata": {},
   "source": [
    "#### OverSampling KNN"
   ]
  },
  {
   "cell_type": "code",
   "execution_count": 88,
   "id": "b3510a04",
   "metadata": {},
   "outputs": [],
   "source": [
    "# membuat KNeighborsClassifier dengan GridSearchCV\n",
    "clf_knn_over = GridSearchCV(KNeighborsClassifier(), param_grid=param_grid_knn, cv=10, scoring=make_scorer(f1_score))"
   ]
  },
  {
   "cell_type": "code",
   "execution_count": 89,
   "id": "87c58980",
   "metadata": {},
   "outputs": [
    {
     "data": {
      "text/plain": [
       "KNeighborsClassifier(metric='euclidean', n_neighbors=3)"
      ]
     },
     "execution_count": 89,
     "metadata": {},
     "output_type": "execute_result"
    }
   ],
   "source": [
    "# train model dengan data train dan cek best_estimatornya\n",
    "clf_knn_over.fit(over_X_train, over_y_train)\n",
    "clf_knn_over.best_estimator_"
   ]
  },
  {
   "cell_type": "code",
   "execution_count": 90,
   "id": "577e9a9b",
   "metadata": {},
   "outputs": [],
   "source": [
    "# predict X_test\n",
    "y_pred_clf_knn_over = clf_knn.predict(X_test)"
   ]
  },
  {
   "cell_type": "code",
   "execution_count": 91,
   "id": "bbd95f5c",
   "metadata": {},
   "outputs": [
    {
     "name": "stdout",
     "output_type": "stream",
     "text": [
      "              precision    recall  f1-score   support\n",
      "\n",
      "           0       0.96      0.83      0.89      8025\n",
      "           1       0.39      0.78      0.52      1119\n",
      "\n",
      "    accuracy                           0.82      9144\n",
      "   macro avg       0.68      0.80      0.71      9144\n",
      "weighted avg       0.89      0.82      0.85      9144\n",
      "\n"
     ]
    }
   ],
   "source": [
    "# classification report yang menunjukkan skor precision, recall, f1_score, dan akurasi\n",
    "print(classification_report(y_test, y_pred_clf_knn_over))"
   ]
  },
  {
   "cell_type": "markdown",
   "id": "2876dcae",
   "metadata": {},
   "source": [
    "#### OverSampling Decision Tree Classifier"
   ]
  },
  {
   "cell_type": "code",
   "execution_count": 92,
   "id": "8b9e9da3",
   "metadata": {},
   "outputs": [],
   "source": [
    "# membuat DecisionTreeClassifier dengan GridSearchCV\n",
    "clf_dtc_over = GridSearchCV(DecisionTreeClassifier(), param_grid=param_grid_dtc, cv=10, scoring=make_scorer(f1_score))"
   ]
  },
  {
   "cell_type": "code",
   "execution_count": 93,
   "id": "524ed68b",
   "metadata": {},
   "outputs": [
    {
     "data": {
      "text/plain": [
       "DecisionTreeClassifier(criterion='entropy', max_depth=70)"
      ]
     },
     "execution_count": 93,
     "metadata": {},
     "output_type": "execute_result"
    }
   ],
   "source": [
    "# train model dengan data train dan cek best_estimatornya\n",
    "clf_dtc_over.fit(over_X_train, over_y_train)\n",
    "clf_dtc_over.best_estimator_"
   ]
  },
  {
   "cell_type": "code",
   "execution_count": 94,
   "id": "21b219c9",
   "metadata": {},
   "outputs": [],
   "source": [
    "# predict X_test\n",
    "y_pred_clf_dtc_over = clf_dtc_over.predict(X_test)"
   ]
  },
  {
   "cell_type": "code",
   "execution_count": 95,
   "id": "0e0123f8",
   "metadata": {},
   "outputs": [
    {
     "name": "stdout",
     "output_type": "stream",
     "text": [
      "              precision    recall  f1-score   support\n",
      "\n",
      "           0       0.93      0.93      0.93      8025\n",
      "           1       0.50      0.54      0.52      1119\n",
      "\n",
      "    accuracy                           0.88      9144\n",
      "   macro avg       0.72      0.73      0.72      9144\n",
      "weighted avg       0.88      0.88      0.88      9144\n",
      "\n"
     ]
    }
   ],
   "source": [
    "# classification report yang menunjukkan skor precision, recall, f1_score, dan akurasi\n",
    "print(classification_report(y_test, y_pred_clf_dtc_over))"
   ]
  },
  {
   "cell_type": "markdown",
   "id": "3c738fb1",
   "metadata": {},
   "source": [
    "#### OverSampling Random Forest"
   ]
  },
  {
   "cell_type": "code",
   "execution_count": 96,
   "id": "145ca6f8",
   "metadata": {},
   "outputs": [],
   "source": [
    "# membuat RandomForestClassifier dengan GridSearchCV\n",
    "clf_rfc_over = GridSearchCV(RandomForestClassifier(random_state=0, n_jobs=-1), param_grid=param_grid_rfc, cv=10, scoring=make_scorer(f1_score))"
   ]
  },
  {
   "cell_type": "code",
   "execution_count": 97,
   "id": "e5e78521",
   "metadata": {},
   "outputs": [
    {
     "data": {
      "text/plain": [
       "RandomForestClassifier(criterion='entropy', max_depth=50, n_jobs=-1,\n",
       "                       random_state=0)"
      ]
     },
     "execution_count": 97,
     "metadata": {},
     "output_type": "execute_result"
    }
   ],
   "source": [
    "# train model dengan data train dan cek best_estimatornya\n",
    "clf_rfc_over.fit(over_X_train, over_y_train)\n",
    "clf_rfc_over.best_estimator_"
   ]
  },
  {
   "cell_type": "code",
   "execution_count": 98,
   "id": "06421af8",
   "metadata": {},
   "outputs": [],
   "source": [
    "# predict X_test\n",
    "y_pred_clf_rfc_over = clf_rfc_over.predict(X_test)"
   ]
  },
  {
   "cell_type": "code",
   "execution_count": 99,
   "id": "3d6a9738",
   "metadata": {},
   "outputs": [
    {
     "name": "stdout",
     "output_type": "stream",
     "text": [
      "              precision    recall  f1-score   support\n",
      "\n",
      "           0       0.95      0.94      0.94      8025\n",
      "           1       0.59      0.63      0.61      1119\n",
      "\n",
      "    accuracy                           0.90      9144\n",
      "   macro avg       0.77      0.78      0.78      9144\n",
      "weighted avg       0.90      0.90      0.90      9144\n",
      "\n"
     ]
    }
   ],
   "source": [
    "# classification report yang menunjukkan skor precision, recall, f1_score, dan akurasi\n",
    "print(classification_report(y_test, y_pred_clf_rfc_over))"
   ]
  },
  {
   "cell_type": "markdown",
   "id": "e5bd2b00",
   "metadata": {},
   "source": [
    "#### OverSampling SVC"
   ]
  },
  {
   "cell_type": "code",
   "execution_count": 100,
   "id": "d6102a26",
   "metadata": {},
   "outputs": [
    {
     "data": {
      "text/plain": [
       "SVC()"
      ]
     },
     "execution_count": 100,
     "metadata": {},
     "output_type": "execute_result"
    }
   ],
   "source": [
    "# membuat SVC untuk oversampling\n",
    "svc_over_model = SVC()\n",
    "# train model dengan data train\n",
    "svc_over_model.fit(over_X_train, over_y_train)"
   ]
  },
  {
   "cell_type": "code",
   "execution_count": 101,
   "id": "aecd8a77",
   "metadata": {},
   "outputs": [],
   "source": [
    "# predict X_test\n",
    "y_pred_over_svc = svc_over_model.predict(X_test)"
   ]
  },
  {
   "cell_type": "code",
   "execution_count": 102,
   "id": "b173d046",
   "metadata": {},
   "outputs": [
    {
     "name": "stdout",
     "output_type": "stream",
     "text": [
      "              precision    recall  f1-score   support\n",
      "\n",
      "           0       0.95      0.90      0.92      8025\n",
      "           1       0.48      0.67      0.56      1119\n",
      "\n",
      "    accuracy                           0.87      9144\n",
      "   macro avg       0.72      0.79      0.74      9144\n",
      "weighted avg       0.89      0.87      0.88      9144\n",
      "\n"
     ]
    }
   ],
   "source": [
    "# classification report yang menunjukkan skor precision, recall, f1_score, dan akurasi\n",
    "print(classification_report(y_test, y_pred_over_svc))"
   ]
  },
  {
   "cell_type": "markdown",
   "id": "08035898",
   "metadata": {},
   "source": [
    "#### OverSampling Naive Bayes"
   ]
  },
  {
   "cell_type": "code",
   "execution_count": 103,
   "id": "e78e0c62",
   "metadata": {},
   "outputs": [
    {
     "data": {
      "text/plain": [
       "GaussianNB()"
      ]
     },
     "execution_count": 103,
     "metadata": {},
     "output_type": "execute_result"
    }
   ],
   "source": [
    "# membuat GaussianNB untuk oversampling\n",
    "gnb_over_model = GaussianNB()\n",
    "# train model dengan data train\n",
    "gnb_over_model.fit(over_X_train, over_y_train)"
   ]
  },
  {
   "cell_type": "code",
   "execution_count": 104,
   "id": "5c3cdcfe",
   "metadata": {},
   "outputs": [],
   "source": [
    "# predict X_test\n",
    "y_pred_over_gnb = gnb_over_model.predict(X_test)"
   ]
  },
  {
   "cell_type": "code",
   "execution_count": 105,
   "id": "e3b2d5c1",
   "metadata": {},
   "outputs": [
    {
     "name": "stdout",
     "output_type": "stream",
     "text": [
      "              precision    recall  f1-score   support\n",
      "\n",
      "           0       0.97      0.33      0.49      8025\n",
      "           1       0.16      0.93      0.28      1119\n",
      "\n",
      "    accuracy                           0.40      9144\n",
      "   macro avg       0.57      0.63      0.38      9144\n",
      "weighted avg       0.87      0.40      0.46      9144\n",
      "\n"
     ]
    }
   ],
   "source": [
    "# classification report yang menunjukkan skor precision, recall, f1_score, dan akurasi\n",
    "print(classification_report(y_test, y_pred_over_gnb))"
   ]
  },
  {
   "cell_type": "markdown",
   "id": "56188179",
   "metadata": {},
   "source": [
    "Evaluasi data testing disini menggunakan f1 score karena Kita tidak mau model salah prediksi sehingga kita perlu memperkecil FN dan FP/ skor precision dan recallnya harus tinggi. Tetapi ini juga dapat direpresentasikan dengan f1 score karena pada model-model yang telah dibangun di atas beberapanya memang memiliki precision yang tinggi hanya saja recallnya sangat kecil sehingga f1 scorenya pun juga kecil. Begitu juga dengan model yang memiliki recall yang tinggi tapi precisionnya rendah. Sehingga menurut saya f1 score lebih dapat merepresentasikan skor yang sebenarnya. Berdasarkan eksplorasi pada dataset ini, model dengan f1 score tertinggi adalah model dengan algoritma learning random forest karena hasil evaluasi dengan data testnya mencapai 61% persen. Hyperparameter yang digunakan pada model ini adalah criterion='entropy', max_depth=50, n_jobs=-1, dan random_state=0."
   ]
  }
 ],
 "metadata": {
  "kernelspec": {
   "display_name": "H8_001",
   "language": "python",
   "name": "h8_001"
  },
  "language_info": {
   "codemirror_mode": {
    "name": "ipython",
    "version": 3
   },
   "file_extension": ".py",
   "mimetype": "text/x-python",
   "name": "python",
   "nbconvert_exporter": "python",
   "pygments_lexer": "ipython3",
   "version": "3.7.11"
  },
  "toc": {
   "base_numbering": 1,
   "nav_menu": {},
   "number_sections": true,
   "sideBar": true,
   "skip_h1_title": false,
   "title_cell": "Table of Contents",
   "title_sidebar": "Contents",
   "toc_cell": false,
   "toc_position": {
    "height": "calc(100% - 180px)",
    "left": "10px",
    "top": "150px",
    "width": "257.188px"
   },
   "toc_section_display": true,
   "toc_window_display": true
  }
 },
 "nbformat": 4,
 "nbformat_minor": 5
}
