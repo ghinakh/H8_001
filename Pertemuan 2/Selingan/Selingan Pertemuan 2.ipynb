{
 "cells": [
  {
   "cell_type": "code",
   "execution_count": 61,
   "id": "eb9f9c5b",
   "metadata": {},
   "outputs": [],
   "source": [
    "import csv\n",
    "\n",
    "new = []\n",
    "with open('Athletes.csv', 'r') as file:\n",
    "    csv_file = csv.DictReader(file)\n",
    "    for row in csv_file:\n",
    "        new.append(dict(row))"
   ]
  },
  {
   "cell_type": "code",
   "execution_count": null,
   "id": "38b93d98",
   "metadata": {},
   "outputs": [],
   "source": []
  },
  {
   "cell_type": "code",
   "execution_count": null,
   "id": "31fbeb5f",
   "metadata": {},
   "outputs": [],
   "source": []
  },
  {
   "cell_type": "code",
   "execution_count": null,
   "id": "00145619",
   "metadata": {},
   "outputs": [],
   "source": []
  },
  {
   "cell_type": "code",
   "execution_count": null,
   "id": "fc91c2a8",
   "metadata": {},
   "outputs": [],
   "source": []
  },
  {
   "cell_type": "code",
   "execution_count": null,
   "id": "10153f07",
   "metadata": {},
   "outputs": [],
   "source": []
  },
  {
   "cell_type": "code",
   "execution_count": null,
   "id": "d825c2a1",
   "metadata": {},
   "outputs": [],
   "source": []
  },
  {
   "cell_type": "code",
   "execution_count": null,
   "id": "be750dd3",
   "metadata": {},
   "outputs": [],
   "source": []
  },
  {
   "cell_type": "code",
   "execution_count": null,
   "id": "58e0af63",
   "metadata": {},
   "outputs": [],
   "source": []
  },
  {
   "cell_type": "code",
   "execution_count": null,
   "id": "f50631b6",
   "metadata": {},
   "outputs": [],
   "source": []
  },
  {
   "cell_type": "code",
   "execution_count": 1,
   "id": "4819f2dc",
   "metadata": {},
   "outputs": [],
   "source": [
    "import pandas as pd"
   ]
  },
  {
   "cell_type": "code",
   "execution_count": 2,
   "id": "a0566602",
   "metadata": {},
   "outputs": [],
   "source": [
    "data = pd.read_csv('Athletes.csv')"
   ]
  },
  {
   "cell_type": "code",
   "execution_count": 3,
   "id": "013f24cc",
   "metadata": {},
   "outputs": [
    {
     "data": {
      "text/html": [
       "<div>\n",
       "<style scoped>\n",
       "    .dataframe tbody tr th:only-of-type {\n",
       "        vertical-align: middle;\n",
       "    }\n",
       "\n",
       "    .dataframe tbody tr th {\n",
       "        vertical-align: top;\n",
       "    }\n",
       "\n",
       "    .dataframe thead th {\n",
       "        text-align: right;\n",
       "    }\n",
       "</style>\n",
       "<table border=\"1\" class=\"dataframe\">\n",
       "  <thead>\n",
       "    <tr style=\"text-align: right;\">\n",
       "      <th></th>\n",
       "      <th>Name</th>\n",
       "      <th>NOC</th>\n",
       "      <th>Discipline</th>\n",
       "    </tr>\n",
       "  </thead>\n",
       "  <tbody>\n",
       "    <tr>\n",
       "      <th>0</th>\n",
       "      <td>AALERUD Katrine</td>\n",
       "      <td>Norway</td>\n",
       "      <td>Cycling Road</td>\n",
       "    </tr>\n",
       "    <tr>\n",
       "      <th>1</th>\n",
       "      <td>ABAD Nestor</td>\n",
       "      <td>Spain</td>\n",
       "      <td>Artistic Gymnastics</td>\n",
       "    </tr>\n",
       "    <tr>\n",
       "      <th>2</th>\n",
       "      <td>ABAGNALE Giovanni</td>\n",
       "      <td>Italy</td>\n",
       "      <td>Rowing</td>\n",
       "    </tr>\n",
       "    <tr>\n",
       "      <th>3</th>\n",
       "      <td>ABALDE Alberto</td>\n",
       "      <td>Spain</td>\n",
       "      <td>Basketball</td>\n",
       "    </tr>\n",
       "    <tr>\n",
       "      <th>4</th>\n",
       "      <td>ABALDE Tamara</td>\n",
       "      <td>Spain</td>\n",
       "      <td>Basketball</td>\n",
       "    </tr>\n",
       "  </tbody>\n",
       "</table>\n",
       "</div>"
      ],
      "text/plain": [
       "                Name     NOC           Discipline\n",
       "0    AALERUD Katrine  Norway         Cycling Road\n",
       "1        ABAD Nestor   Spain  Artistic Gymnastics\n",
       "2  ABAGNALE Giovanni   Italy               Rowing\n",
       "3     ABALDE Alberto   Spain           Basketball\n",
       "4      ABALDE Tamara   Spain           Basketball"
      ]
     },
     "execution_count": 3,
     "metadata": {},
     "output_type": "execute_result"
    }
   ],
   "source": [
    "data.head()"
   ]
  },
  {
   "cell_type": "code",
   "execution_count": 13,
   "id": "e74cc5fb",
   "metadata": {},
   "outputs": [
    {
     "data": {
      "text/html": [
       "<div>\n",
       "<style scoped>\n",
       "    .dataframe tbody tr th:only-of-type {\n",
       "        vertical-align: middle;\n",
       "    }\n",
       "\n",
       "    .dataframe tbody tr th {\n",
       "        vertical-align: top;\n",
       "    }\n",
       "\n",
       "    .dataframe thead th {\n",
       "        text-align: right;\n",
       "    }\n",
       "</style>\n",
       "<table border=\"1\" class=\"dataframe\">\n",
       "  <thead>\n",
       "    <tr style=\"text-align: right;\">\n",
       "      <th></th>\n",
       "      <th>Name</th>\n",
       "      <th>Discipline</th>\n",
       "    </tr>\n",
       "    <tr>\n",
       "      <th>NOC</th>\n",
       "      <th></th>\n",
       "      <th></th>\n",
       "    </tr>\n",
       "  </thead>\n",
       "  <tbody>\n",
       "    <tr>\n",
       "      <th>Afghanistan</th>\n",
       "      <td>5</td>\n",
       "      <td>5</td>\n",
       "    </tr>\n",
       "    <tr>\n",
       "      <th>Albania</th>\n",
       "      <td>8</td>\n",
       "      <td>8</td>\n",
       "    </tr>\n",
       "    <tr>\n",
       "      <th>Algeria</th>\n",
       "      <td>41</td>\n",
       "      <td>41</td>\n",
       "    </tr>\n",
       "    <tr>\n",
       "      <th>American Samoa</th>\n",
       "      <td>5</td>\n",
       "      <td>5</td>\n",
       "    </tr>\n",
       "    <tr>\n",
       "      <th>Andorra</th>\n",
       "      <td>2</td>\n",
       "      <td>2</td>\n",
       "    </tr>\n",
       "    <tr>\n",
       "      <th>...</th>\n",
       "      <td>...</td>\n",
       "      <td>...</td>\n",
       "    </tr>\n",
       "    <tr>\n",
       "      <th>Virgin Islands, British</th>\n",
       "      <td>3</td>\n",
       "      <td>3</td>\n",
       "    </tr>\n",
       "    <tr>\n",
       "      <th>Virgin Islands, US</th>\n",
       "      <td>4</td>\n",
       "      <td>4</td>\n",
       "    </tr>\n",
       "    <tr>\n",
       "      <th>Yemen</th>\n",
       "      <td>3</td>\n",
       "      <td>3</td>\n",
       "    </tr>\n",
       "    <tr>\n",
       "      <th>Zambia</th>\n",
       "      <td>29</td>\n",
       "      <td>29</td>\n",
       "    </tr>\n",
       "    <tr>\n",
       "      <th>Zimbabwe</th>\n",
       "      <td>5</td>\n",
       "      <td>5</td>\n",
       "    </tr>\n",
       "  </tbody>\n",
       "</table>\n",
       "<p>206 rows × 2 columns</p>\n",
       "</div>"
      ],
      "text/plain": [
       "                         Name  Discipline\n",
       "NOC                                      \n",
       "Afghanistan                 5           5\n",
       "Albania                     8           8\n",
       "Algeria                    41          41\n",
       "American Samoa              5           5\n",
       "Andorra                     2           2\n",
       "...                       ...         ...\n",
       "Virgin Islands, British     3           3\n",
       "Virgin Islands, US          4           4\n",
       "Yemen                       3           3\n",
       "Zambia                     29          29\n",
       "Zimbabwe                    5           5\n",
       "\n",
       "[206 rows x 2 columns]"
      ]
     },
     "execution_count": 13,
     "metadata": {},
     "output_type": "execute_result"
    }
   ],
   "source": [
    "data.groupby('NOC').count()"
   ]
  },
  {
   "cell_type": "code",
   "execution_count": 19,
   "id": "231e41ba",
   "metadata": {},
   "outputs": [
    {
     "data": {
      "text/plain": [
       "NOC\n",
       "United States of America      615\n",
       "Japan                         586\n",
       "Australia                     470\n",
       "People's Republic of China    401\n",
       "Germany                       400\n",
       "France                        377\n",
       "Canada                        368\n",
       "Great Britain                 366\n",
       "Italy                         356\n",
       "Spain                         324\n",
       "Name: Name, dtype: int64"
      ]
     },
     "execution_count": 19,
     "metadata": {},
     "output_type": "execute_result"
    }
   ],
   "source": [
    "# Which top 10 countries have the most athletes?\n",
    "data.groupby('NOC')['Name'].count().sort_values(ascending=False).head(10)"
   ]
  },
  {
   "cell_type": "code",
   "execution_count": 22,
   "id": "3a4d37c8",
   "metadata": {},
   "outputs": [
    {
     "data": {
      "text/plain": [
       "Discipline\n",
       "Athletics    2068\n",
       "Name: Name, dtype: int64"
      ]
     },
     "execution_count": 22,
     "metadata": {},
     "output_type": "execute_result"
    }
   ],
   "source": [
    "# What sport has the most participants?\n",
    "data.groupby('Discipline')['Name'].count().sort_values(ascending=False).head(1)"
   ]
  },
  {
   "cell_type": "code",
   "execution_count": 26,
   "id": "d3aae616",
   "metadata": {},
   "outputs": [
    {
     "data": {
      "text/plain": [
       "NOC\n",
       "Afghanistan                 5\n",
       "Albania                     8\n",
       "Algeria                    41\n",
       "American Samoa              5\n",
       "Andorra                     2\n",
       "                           ..\n",
       "Virgin Islands, British     3\n",
       "Virgin Islands, US          4\n",
       "Yemen                       3\n",
       "Zambia                     29\n",
       "Zimbabwe                    5\n",
       "Name: Name, Length: 206, dtype: int64"
      ]
     },
     "execution_count": 26,
     "metadata": {},
     "output_type": "execute_result"
    }
   ],
   "source": [
    "# How many athletes do countries have on average?\n",
    "# data.groupby('NOC')['Name'].count()"
   ]
  },
  {
   "cell_type": "code",
   "execution_count": 27,
   "id": "e3e96327",
   "metadata": {},
   "outputs": [],
   "source": [
    "# How many athletes do Indonesia have?\n",
    "indonesia = data[data['NOC'] == 'Indonesia']"
   ]
  },
  {
   "cell_type": "code",
   "execution_count": 33,
   "id": "014040a8",
   "metadata": {},
   "outputs": [
    {
     "data": {
      "text/plain": [
       "0"
      ]
     },
     "execution_count": 33,
     "metadata": {},
     "output_type": "execute_result"
    }
   ],
   "source": [
    "indonesia.duplicated().sum()"
   ]
  },
  {
   "cell_type": "code",
   "execution_count": 36,
   "id": "8a9a34c8",
   "metadata": {},
   "outputs": [
    {
     "data": {
      "text/plain": [
       "26"
      ]
     },
     "execution_count": 36,
     "metadata": {},
     "output_type": "execute_result"
    }
   ],
   "source": [
    "total_indonesia = indonesia.shape\n",
    "total_indonesia[0]"
   ]
  },
  {
   "cell_type": "code",
   "execution_count": 40,
   "id": "cf0da3a6",
   "metadata": {},
   "outputs": [
    {
     "data": {
      "text/plain": [
       "Discipline\n",
       "Cycling BMX Freestyle    19\n",
       "Name: Name, dtype: int64"
      ]
     },
     "execution_count": 40,
     "metadata": {},
     "output_type": "execute_result"
    }
   ],
   "source": [
    "# What sport has the least number of participants?\n",
    "data.groupby('Discipline')['Name'].count().sort_values().head(1)"
   ]
  },
  {
   "cell_type": "code",
   "execution_count": 49,
   "id": "75606e2c",
   "metadata": {},
   "outputs": [],
   "source": [
    "# Which countries have the least participants?\n",
    "sort = data.groupby('NOC')['Name'].count().sort_values()\n",
    "minimum = data.groupby('NOC')['Name'].count().min()\n",
    "least = {}\n",
    "for k,v in sort.items():\n",
    "    if v == minimum:\n",
    "        least[k] = v"
   ]
  },
  {
   "cell_type": "code",
   "execution_count": 50,
   "id": "01567f1f",
   "metadata": {},
   "outputs": [
    {
     "data": {
      "text/plain": [
       "{'Dominica': 2,\n",
       " 'St Vincent and the Grenadines': 2,\n",
       " 'Lesotho': 2,\n",
       " 'Brunei Darussalam': 2,\n",
       " 'Saint Kitts and Nevis': 2,\n",
       " 'Nauru': 2,\n",
       " 'Myanmar': 2,\n",
       " 'South Sudan': 2,\n",
       " 'Tuvalu': 2,\n",
       " 'United Republic of Tanzania': 2,\n",
       " 'Vanuatu': 2,\n",
       " 'Andorra': 2,\n",
       " 'Bermuda': 2,\n",
       " 'Mauritania': 2,\n",
       " 'Marshall Islands': 2,\n",
       " 'Central African Republic': 2,\n",
       " 'Somalia': 2}"
      ]
     },
     "execution_count": 50,
     "metadata": {},
     "output_type": "execute_result"
    }
   ],
   "source": [
    "least"
   ]
  },
  {
   "cell_type": "code",
   "execution_count": 51,
   "id": "8dfe03b8",
   "metadata": {},
   "outputs": [],
   "source": [
    "# Which sport has the least participants?\n",
    "sort_sports = data.groupby('Discipline')['Name'].count().sort_values()\n",
    "min_sports = data.groupby('Discipline')['Name'].count().min()\n",
    "least_sports = {}\n",
    "for k,v in sort_sports.items():\n",
    "    if v == min_sports:\n",
    "        least_sports[k] = v"
   ]
  },
  {
   "cell_type": "code",
   "execution_count": 52,
   "id": "8198f1bb",
   "metadata": {},
   "outputs": [
    {
     "data": {
      "text/plain": [
       "{'Cycling BMX Freestyle': 19}"
      ]
     },
     "execution_count": 52,
     "metadata": {},
     "output_type": "execute_result"
    }
   ],
   "source": [
    "least_sports"
   ]
  },
  {
   "cell_type": "code",
   "execution_count": 56,
   "id": "1bc2aa43",
   "metadata": {},
   "outputs": [
    {
     "name": "stdout",
     "output_type": "stream",
     "text": [
      "Terdapat 78 negara yang memiliki atlet lebih banyak dari Indonesia. Berikut merupakan negaranya:\n"
     ]
    },
    {
     "data": {
      "text/plain": [
       "{'Fiji': 28,\n",
       " 'Zambia': 29,\n",
       " 'Malaysia': 29,\n",
       " \"Côte d'Ivoire\": 29,\n",
       " 'Latvia': 29,\n",
       " 'Bahrain': 31,\n",
       " 'Trinidad and Tobago': 31,\n",
       " 'Saudi Arabia': 32,\n",
       " 'Peru': 33,\n",
       " 'Estonia': 33,\n",
       " 'Georgia': 35,\n",
       " 'Montenegro': 35,\n",
       " 'Puerto Rico': 35,\n",
       " 'Lithuania': 37,\n",
       " 'Slovakia': 38,\n",
       " 'Thailand': 39,\n",
       " 'Hong Kong, China': 40,\n",
       " 'Algeria': 41,\n",
       " 'Azerbaijan': 41,\n",
       " 'Bulgaria': 41,\n",
       " 'Ethiopia': 42,\n",
       " 'Mongolia': 43,\n",
       " 'Venezuela': 43,\n",
       " 'Finland': 45,\n",
       " 'Ecuador': 46,\n",
       " 'Morocco': 48,\n",
       " 'Slovenia': 51,\n",
       " 'Chile': 56,\n",
       " 'Croatia': 57,\n",
       " 'Tunisia': 57,\n",
       " 'Nigeria': 59,\n",
       " 'Jamaica': 60,\n",
       " 'Dominican Republic': 61,\n",
       " 'Uzbekistan': 63,\n",
       " 'Colombia': 64,\n",
       " 'Islamic Republic of Iran': 66,\n",
       " 'Chinese Taipei': 67,\n",
       " 'Cuba': 69,\n",
       " 'Austria': 72,\n",
       " 'Greece': 75,\n",
       " 'Kenya': 78,\n",
       " 'Serbia': 83,\n",
       " 'Portugal': 85,\n",
       " 'Israel': 85,\n",
       " 'Kazakhstan': 92,\n",
       " 'Norway': 92,\n",
       " 'Romania': 99,\n",
       " 'Turkey': 102,\n",
       " 'Denmark': 103,\n",
       " 'Belarus': 104,\n",
       " 'Switzerland': 115,\n",
       " 'Ireland': 116,\n",
       " 'India': 117,\n",
       " 'Czech Republic': 117,\n",
       " 'Belgium': 125,\n",
       " 'Sweden': 129,\n",
       " 'Egypt': 133,\n",
       " 'Ukraine': 152,\n",
       " 'Mexico': 155,\n",
       " 'Hungary': 155,\n",
       " 'South Africa': 171,\n",
       " 'Argentina': 180,\n",
       " 'Poland': 195,\n",
       " 'New Zealand': 202,\n",
       " 'Republic of Korea': 223,\n",
       " 'Netherlands': 274,\n",
       " 'Brazil': 291,\n",
       " 'ROC': 318,\n",
       " 'Spain': 324,\n",
       " 'Italy': 356,\n",
       " 'Great Britain': 366,\n",
       " 'Canada': 368,\n",
       " 'France': 377,\n",
       " 'Germany': 400,\n",
       " \"People's Republic of China\": 401,\n",
       " 'Australia': 470,\n",
       " 'Japan': 586,\n",
       " 'United States of America': 615}"
      ]
     },
     "execution_count": 56,
     "metadata": {},
     "output_type": "execute_result"
    }
   ],
   "source": [
    "# How many countries have athletes more than Indonesia?\n",
    "countries = {}\n",
    "count = 0\n",
    "for k,v in sort.items():\n",
    "    if v > sort['Indonesia']:\n",
    "        countries[k] = v\n",
    "        count += 1\n",
    "print('Terdapat {} negara yang memiliki atlet lebih banyak dari Indonesia. Berikut merupakan negaranya:'.format(count))\n",
    "countries"
   ]
  }
 ],
 "metadata": {
  "kernelspec": {
   "display_name": "H8_001",
   "language": "python",
   "name": "h8_001"
  },
  "language_info": {
   "codemirror_mode": {
    "name": "ipython",
    "version": 3
   },
   "file_extension": ".py",
   "mimetype": "text/x-python",
   "name": "python",
   "nbconvert_exporter": "python",
   "pygments_lexer": "ipython3",
   "version": "3.7.11"
  },
  "toc": {
   "base_numbering": 1,
   "nav_menu": {},
   "number_sections": true,
   "sideBar": true,
   "skip_h1_title": false,
   "title_cell": "Table of Contents",
   "title_sidebar": "Contents",
   "toc_cell": false,
   "toc_position": {},
   "toc_section_display": true,
   "toc_window_display": false
  }
 },
 "nbformat": 4,
 "nbformat_minor": 5
}
