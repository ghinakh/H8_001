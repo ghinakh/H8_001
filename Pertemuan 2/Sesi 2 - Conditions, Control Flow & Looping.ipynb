{
 "cells": [
  {
   "cell_type": "markdown",
   "id": "d6acb5d5",
   "metadata": {},
   "source": [
    "### Logical Condition"
   ]
  },
  {
   "cell_type": "markdown",
   "id": "96528e31",
   "metadata": {},
   "source": [
    "Berikut merupakan logical condition yang didukung oleh Python: \n",
    "sama dengan (==), tidak sama dengan (!=), lebih kurang dari (<), lebih besar dari (>), lebih kurang dari atau sama dengan (<=), lebih besar dari sama dengan (>=)"
   ]
  },
  {
   "cell_type": "code",
   "execution_count": 2,
   "id": "ac268904",
   "metadata": {},
   "outputs": [
    {
     "name": "stdout",
     "output_type": "stream",
     "text": [
      "False\n",
      "True\n",
      "True\n",
      "False\n",
      "True\n",
      "False\n"
     ]
    }
   ],
   "source": [
    "a = 5\n",
    "b = 7\n",
    "\n",
    "print(a == b) # False\n",
    "print(a != b) # True\n",
    "print(a < b) # True\n",
    "print(a > b) # False\n",
    "print(a <= b) # True\n",
    "print(a >= b) # False"
   ]
  },
  {
   "cell_type": "markdown",
   "id": "3988c9a8",
   "metadata": {},
   "source": [
    "### If Statement"
   ]
  },
  {
   "cell_type": "code",
   "execution_count": null,
   "id": "67388aba",
   "metadata": {},
   "outputs": [],
   "source": [
    "### if (expression):\n",
    "###    statement 1\n",
    "###    statement 2\n",
    "###    statement ..."
   ]
  },
  {
   "cell_type": "code",
   "execution_count": 4,
   "id": "871d33ca",
   "metadata": {},
   "outputs": [],
   "source": [
    "x = 0\n",
    "y = None"
   ]
  },
  {
   "cell_type": "code",
   "execution_count": 15,
   "id": "a82dc930",
   "metadata": {},
   "outputs": [
    {
     "name": "stdout",
     "output_type": "stream",
     "text": [
      "yes, a is less than b\n",
      "yes, 5\n",
      "yes\n",
      "itzy\n"
     ]
    }
   ],
   "source": [
    "if a < b:\n",
    "    print('yes, a is less than b') ### True, maka dijalankan\n",
    "    \n",
    "if a > b:\n",
    "    print('yes, a is greater than b') ### False, maka tidak dijalankan\n",
    "\n",
    "if x:\n",
    "    print('yes,', x) ### False, maka tidak dijalankan\n",
    "\n",
    "if a:\n",
    "    print('yes,', a) ### True, maka dijalankan\n",
    "\n",
    "if 'zy' in 'itzy':\n",
    "    print('yes') ### True, maka dijalankan\n",
    "    print('itzy')\n",
    "\n",
    "if 'quux' in ['foo', 'bar', 'baz']:\n",
    "    print('yes') ### False, maka tidak dijalankan"
   ]
  },
  {
   "cell_type": "markdown",
   "id": "4e42d966",
   "metadata": {},
   "source": [
    "### Else and Elif"
   ]
  },
  {
   "cell_type": "code",
   "execution_count": 16,
   "id": "b3abd309",
   "metadata": {},
   "outputs": [
    {
     "name": "stdout",
     "output_type": "stream",
     "text": [
      "Lulus tahap satu\n"
     ]
    }
   ],
   "source": [
    "nilai = 68\n",
    "if nilai > 65:\n",
    "    print(\"Lulus tahap satu\")\n",
    "else:\n",
    "    print(\"Coba lagi\")"
   ]
  },
  {
   "cell_type": "code",
   "execution_count": 20,
   "id": "533cdcde",
   "metadata": {},
   "outputs": [
    {
     "name": "stdout",
     "output_type": "stream",
     "text": [
      "Bukan tipe satu atau dua\n"
     ]
    }
   ],
   "source": [
    "tipe = -1\n",
    "if tipe == 1:\n",
    "    print(\"Tipe satu\")\n",
    "elif tipe == 2:\n",
    "    print(\"Tipe dua\")\n",
    "else:\n",
    "    print(\"Bukan tipe satu atau dua\")"
   ]
  },
  {
   "cell_type": "markdown",
   "id": "a8ee9223",
   "metadata": {},
   "source": [
    "### One-Line If Statements"
   ]
  },
  {
   "cell_type": "code",
   "execution_count": 22,
   "id": "3cf2add5",
   "metadata": {},
   "outputs": [
    {
     "name": "stdout",
     "output_type": "stream",
     "text": [
      "Mahasiswa Hadir\n"
     ]
    }
   ],
   "source": [
    "status = 'hadir'\n",
    "if status == 'hadir': print(\"Mahasiswa Hadir\")\n",
    "else: print(\"Mahasiswa Tidak Hadir\")"
   ]
  },
  {
   "cell_type": "markdown",
   "id": "1b1aba81",
   "metadata": {},
   "source": [
    "### Conditional Expressions (Python’s Ternary Operator)"
   ]
  },
  {
   "cell_type": "code",
   "execution_count": 24,
   "id": "a096a556",
   "metadata": {},
   "outputs": [
    {
     "name": "stdout",
     "output_type": "stream",
     "text": [
      "Let's go to the library\n"
     ]
    }
   ],
   "source": [
    "raining = True\n",
    "print(\"Let's go to the\", 'beach' if not raining else 'library')"
   ]
  },
  {
   "cell_type": "code",
   "execution_count": 27,
   "id": "5b30436b",
   "metadata": {},
   "outputs": [
    {
     "name": "stdout",
     "output_type": "stream",
     "text": [
      "adult\n"
     ]
    }
   ],
   "source": [
    "age = 21\n",
    "s = 'teen' if age < 21 else 'adult'\n",
    "print(s)"
   ]
  },
  {
   "cell_type": "markdown",
   "id": "1cf45276",
   "metadata": {},
   "source": [
    "### Pass Statement"
   ]
  },
  {
   "cell_type": "code",
   "execution_count": 33,
   "id": "caf7da5c",
   "metadata": {},
   "outputs": [
    {
     "name": "stdout",
     "output_type": "stream",
     "text": [
      "pencarian selesai\n"
     ]
    }
   ],
   "source": [
    "bag = ['pensil', 'pena', 'buku']\n",
    "find = 'kaos kaki'\n",
    "if find in bag:\n",
    "    print('ada')\n",
    "else:\n",
    "    pass\n",
    "print('pencarian selesai')"
   ]
  },
  {
   "cell_type": "markdown",
   "id": "195d8c47",
   "metadata": {},
   "source": [
    "### Iteration"
   ]
  },
  {
   "cell_type": "markdown",
   "id": "87571efc",
   "metadata": {},
   "source": [
    "#### While Loops"
   ]
  },
  {
   "cell_type": "code",
   "execution_count": 45,
   "id": "a4d83cab",
   "metadata": {},
   "outputs": [
    {
     "name": "stdout",
     "output_type": "stream",
     "text": [
      "5,4,3,2,1\n"
     ]
    }
   ],
   "source": [
    "n = 5\n",
    "while n > 0:\n",
    "    if n == 1:\n",
    "        print(n)\n",
    "        break\n",
    "    print(n, end=\",\")\n",
    "    n -= 1"
   ]
  },
  {
   "cell_type": "code",
   "execution_count": 49,
   "id": "6543ea25",
   "metadata": {},
   "outputs": [
    {
     "name": "stdout",
     "output_type": "stream",
     "text": [
      "While Loop  1\n",
      "While Loop  2\n",
      "While Loop  3\n"
     ]
    }
   ],
   "source": [
    "i = 1\n",
    "while True:\n",
    "    print(\"While Loop \",i)\n",
    "    if i >= 3:\n",
    "        break\n",
    "    i += 1"
   ]
  },
  {
   "cell_type": "markdown",
   "id": "9dd30350",
   "metadata": {},
   "source": [
    "#### For Loops"
   ]
  },
  {
   "cell_type": "code",
   "execution_count": 54,
   "id": "6eb607d7",
   "metadata": {},
   "outputs": [
    {
     "name": "stdout",
     "output_type": "stream",
     "text": [
      "5 4 3 2 1 "
     ]
    }
   ],
   "source": [
    "for i in range(5,0,-1):\n",
    "    print(i, end=\" \")"
   ]
  },
  {
   "cell_type": "code",
   "execution_count": 55,
   "id": "4849f4f6",
   "metadata": {},
   "outputs": [
    {
     "name": "stdout",
     "output_type": "stream",
     "text": [
      "pensil pena buku "
     ]
    }
   ],
   "source": [
    "### bag = ['pensil', 'pena', 'buku']\n",
    "for i in bag: \n",
    "    print(i, end=\" \")"
   ]
  },
  {
   "cell_type": "code",
   "execution_count": 57,
   "id": "389578b3",
   "metadata": {},
   "outputs": [],
   "source": [
    "netflix = {\n",
    "    'judul':'Fear Street: Part One', \n",
    "    'tahun': 2021, \n",
    "    'genre':['drama','horror','mystery']\n",
    "}"
   ]
  },
  {
   "cell_type": "code",
   "execution_count": 65,
   "id": "aaa26b05",
   "metadata": {},
   "outputs": [
    {
     "name": "stdout",
     "output_type": "stream",
     "text": [
      "judul\n",
      "tahun\n",
      "genre\n"
     ]
    }
   ],
   "source": [
    "for k in netflix.keys():\n",
    "    print(k)   "
   ]
  },
  {
   "cell_type": "code",
   "execution_count": 66,
   "id": "9969a083",
   "metadata": {},
   "outputs": [
    {
     "name": "stdout",
     "output_type": "stream",
     "text": [
      "Fear Street: Part One\n",
      "2021\n",
      "['drama', 'horror', 'mystery']\n"
     ]
    }
   ],
   "source": [
    "for v in netflix.values():\n",
    "    print(v)"
   ]
  },
  {
   "cell_type": "code",
   "execution_count": 70,
   "id": "3a009aef",
   "metadata": {},
   "outputs": [
    {
     "name": "stdout",
     "output_type": "stream",
     "text": [
      "judul = Fear Street: Part One\n",
      "tahun = 2021\n",
      "genre = ['drama', 'horror', 'mystery']\n"
     ]
    }
   ],
   "source": [
    "for k, v in netflix.items():\n",
    "    print(k+' = '+str(v))"
   ]
  },
  {
   "cell_type": "markdown",
   "id": "b6ea50ca",
   "metadata": {},
   "source": [
    "### Break and Continue Statements"
   ]
  },
  {
   "cell_type": "code",
   "execution_count": 71,
   "id": "4c81f1e5",
   "metadata": {},
   "outputs": [
    {
     "name": "stdout",
     "output_type": "stream",
     "text": [
      "5,4,3,2,1\n"
     ]
    }
   ],
   "source": [
    "n = 5\n",
    "while n > 0:\n",
    "    if n == 1:\n",
    "        print(n)\n",
    "        break\n",
    "    print(n, end=\",\")\n",
    "    n -= 1"
   ]
  },
  {
   "cell_type": "code",
   "execution_count": 72,
   "id": "3ad173c2",
   "metadata": {},
   "outputs": [
    {
     "name": "stdout",
     "output_type": "stream",
     "text": [
      "4\n",
      "3\n",
      "1\n",
      "0\n",
      "Loop ended.\n"
     ]
    }
   ],
   "source": [
    "n = 5\n",
    "while n > 0:\n",
    "    n -= 1\n",
    "    if n == 2:\n",
    "        continue\n",
    "    print(n)\n",
    "print('Loop ended.')"
   ]
  },
  {
   "cell_type": "markdown",
   "id": "5ed2bb91",
   "metadata": {},
   "source": [
    "### One-Line While Loops"
   ]
  },
  {
   "cell_type": "code",
   "execution_count": 52,
   "id": "207a5eb3",
   "metadata": {},
   "outputs": [
    {
     "name": "stdout",
     "output_type": "stream",
     "text": [
      "4 3 2 1 0 "
     ]
    }
   ],
   "source": [
    "n = 5\n",
    "while n > 0: n -= 1; print(n, end=\" \")"
   ]
  }
 ],
 "metadata": {
  "kernelspec": {
   "display_name": "H8_001",
   "language": "python",
   "name": "h8_001"
  },
  "language_info": {
   "codemirror_mode": {
    "name": "ipython",
    "version": 3
   },
   "file_extension": ".py",
   "mimetype": "text/x-python",
   "name": "python",
   "nbconvert_exporter": "python",
   "pygments_lexer": "ipython3",
   "version": "3.7.11"
  },
  "toc": {
   "base_numbering": 1,
   "nav_menu": {},
   "number_sections": true,
   "sideBar": true,
   "skip_h1_title": false,
   "title_cell": "Table of Contents",
   "title_sidebar": "Contents",
   "toc_cell": false,
   "toc_position": {},
   "toc_section_display": true,
   "toc_window_display": false
  }
 },
 "nbformat": 4,
 "nbformat_minor": 5
}
