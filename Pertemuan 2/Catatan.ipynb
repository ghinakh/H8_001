{
 "cells": [
  {
   "cell_type": "markdown",
   "id": "ea97f838",
   "metadata": {},
   "source": [
    "# Sesi 2 - Conditions, Control Flow & Looping"
   ]
  },
  {
   "cell_type": "markdown",
   "id": "294495f8",
   "metadata": {},
   "source": [
    "## Conditional"
   ]
  },
  {
   "cell_type": "code",
   "execution_count": 3,
   "id": "78d94ea1",
   "metadata": {},
   "outputs": [
    {
     "name": "stdout",
     "output_type": "stream",
     "text": [
      "False\n",
      "True\n"
     ]
    }
   ],
   "source": [
    "a = 1\n",
    "b = 2\n",
    "\n",
    "print(a == b)\n",
    "print(a != b)"
   ]
  },
  {
   "cell_type": "code",
   "execution_count": 5,
   "id": "022b21c8",
   "metadata": {},
   "outputs": [
    {
     "name": "stdout",
     "output_type": "stream",
     "text": [
      "tidak sama\n"
     ]
    }
   ],
   "source": [
    "if a!=b:\n",
    "    print(\"tidak sama\")\n",
    "    \n",
    "if a==b:\n",
    "    print(\"sama\")"
   ]
  },
  {
   "cell_type": "code",
   "execution_count": 6,
   "id": "dcfaa83e",
   "metadata": {},
   "outputs": [
    {
     "name": "stdout",
     "output_type": "stream",
     "text": [
      "Majalah bisa dibeli\n"
     ]
    }
   ],
   "source": [
    "harga_buku = 2000\n",
    "harga_majalah = 1000\n",
    "uang = 1500\n",
    "\n",
    "if uang > harga_buku:\n",
    "    print(\"Buku bisa dibeli\")\n",
    "elif uang > harga_majalah:\n",
    "    print(\"Majalah bisa dibeli\")\n",
    "else:\n",
    "    print(\"Ga bisa beli buku atau majalah\")"
   ]
  },
  {
   "cell_type": "code",
   "execution_count": 7,
   "id": "4294a3a4",
   "metadata": {},
   "outputs": [
    {
     "name": "stdout",
     "output_type": "stream",
     "text": [
      "excellent\n"
     ]
    }
   ],
   "source": [
    "star_rating = 5\n",
    "\n",
    "if star_rating == 5:\n",
    "    print(\"excellent\")\n",
    "else:\n",
    "    print(\"typical\")"
   ]
  },
  {
   "cell_type": "code",
   "execution_count": 8,
   "id": "547d4aef",
   "metadata": {},
   "outputs": [
    {
     "name": "stdout",
     "output_type": "stream",
     "text": [
      "x nya none kak\n"
     ]
    }
   ],
   "source": [
    "x = None\n",
    "y = \"\"\n",
    "z = 1\n",
    "\n",
    "if not x:\n",
    "    print(\"x nya none kak\")"
   ]
  },
  {
   "cell_type": "code",
   "execution_count": 10,
   "id": "d6b8cd2a",
   "metadata": {},
   "outputs": [
    {
     "name": "stdout",
     "output_type": "stream",
     "text": [
      "ada\n",
      "fish\n"
     ]
    }
   ],
   "source": [
    "# One line if statements (not recommend)\n",
    "basket = ['fish', 'meat','noodel']\n",
    "if 'fish' in basket: print(\"ada\"); print(\"fish\")"
   ]
  },
  {
   "cell_type": "markdown",
   "id": "da226ca5",
   "metadata": {},
   "source": [
    "## Exercise"
   ]
  },
  {
   "cell_type": "code",
   "execution_count": 36,
   "id": "be0381b4",
   "metadata": {},
   "outputs": [
    {
     "name": "stdout",
     "output_type": "stream",
     "text": [
      "Star: 5\n",
      "          \n",
      "        * \n",
      "      * * \n",
      "    * * * \n",
      "  * * * * \n",
      "* * * * * \n"
     ]
    }
   ],
   "source": [
    "stars = int(input(\"Star: \"))\n",
    "for i in range(0,stars+1):\n",
    "    for j in range(5,0,-1):\n",
    "        if j > i  :\n",
    "            print(\" \", end=\" \")\n",
    "        else:\n",
    "            print(\"*\", end=\" \")\n",
    "    print(\"\")"
   ]
  },
  {
   "cell_type": "code",
   "execution_count": 49,
   "id": "717fdb57",
   "metadata": {},
   "outputs": [
    {
     "name": "stdout",
     "output_type": "stream",
     "text": [
      "2 3 5 7 11 13 17 19 23 29 31 37 41 43 47 53 59 61 67 71 73 "
     ]
    }
   ],
   "source": [
    "start = 1\n",
    "end = 73\n",
    "\n",
    "for i in range(start,end+1):\n",
    "    if i == 1:\n",
    "        continue\n",
    "    elif i % 2 == 0 and i != 2:\n",
    "        continue\n",
    "    elif i % 3 == 0 and i != 3:\n",
    "        continue\n",
    "    elif i % 5 == 0 and i != 5:\n",
    "        continue\n",
    "    elif i % 7 == 0 and i != 7:\n",
    "        continue\n",
    "    else:\n",
    "        print(i, end=\" \")\n",
    "    "
   ]
  },
  {
   "cell_type": "code",
   "execution_count": 1,
   "id": "6aca38b1",
   "metadata": {},
   "outputs": [
    {
     "name": "stdout",
     "output_type": "stream",
     "text": [
      "    *\n",
      "   **\n",
      "  ***\n",
      " ****\n",
      "*****\n"
     ]
    }
   ],
   "source": [
    "# no 1\n",
    "stars = 5\n",
    "space = \"\"\n",
    "star = \"\"\n",
    "for row in range(1,stars+1):\n",
    "    space = \" \"*(stars-row)\n",
    "    star = \"*\"*(row)\n",
    "    print(space+star)"
   ]
  },
  {
   "cell_type": "code",
   "execution_count": 2,
   "id": "79029708",
   "metadata": {},
   "outputs": [
    {
     "name": "stdout",
     "output_type": "stream",
     "text": [
      "Prime number between 1 and 53 are:\n",
      "2 3 5 7 11 13 17 19 23 29 31 37 41 43 47 53 "
     ]
    }
   ],
   "source": [
    "# no 2\n",
    "start = 1\n",
    "end = 53\n",
    "print(f'Prime number between {start} and {end} are:')\n",
    "divider = []\n",
    "for num in range(start,end+1):\n",
    "    if num == 1:\n",
    "        continue\n",
    "    divider.append(num)\n",
    "    for div in divider:\n",
    "        if num != div:\n",
    "            if num % div == 0:\n",
    "                break\n",
    "            elif num % div != 0:\n",
    "                continue\n",
    "        else:\n",
    "            print(num, end=\" \")\n",
    "            break"
   ]
  },
  {
   "cell_type": "code",
   "execution_count": null,
   "id": "d8197a20",
   "metadata": {},
   "outputs": [],
   "source": []
  }
 ],
 "metadata": {
  "kernelspec": {
   "display_name": "H8_001",
   "language": "python",
   "name": "h8_001"
  },
  "language_info": {
   "codemirror_mode": {
    "name": "ipython",
    "version": 3
   },
   "file_extension": ".py",
   "mimetype": "text/x-python",
   "name": "python",
   "nbconvert_exporter": "python",
   "pygments_lexer": "ipython3",
   "version": "3.7.11"
  },
  "toc": {
   "base_numbering": 1,
   "nav_menu": {},
   "number_sections": true,
   "sideBar": true,
   "skip_h1_title": false,
   "title_cell": "Table of Contents",
   "title_sidebar": "Contents",
   "toc_cell": false,
   "toc_position": {},
   "toc_section_display": true,
   "toc_window_display": false
  }
 },
 "nbformat": 4,
 "nbformat_minor": 5
}
