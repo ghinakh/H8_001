{
 "cells": [
  {
   "cell_type": "markdown",
   "id": "d2f03c7d",
   "metadata": {},
   "source": [
    "**Import libraries**"
   ]
  },
  {
   "cell_type": "code",
   "execution_count": 1,
   "id": "7728311e",
   "metadata": {},
   "outputs": [],
   "source": [
    "import pandas as pd\n",
    "import numpy as np\n",
    "import matplotlib.pyplot as plt\n",
    "%matplotlib inline\n",
    "import seaborn as sns\n",
    "import scipy.stats\n",
    "import statsmodels.api as sm\n",
    "pd.set_option(\"display.max.columns\", None)"
   ]
  },
  {
   "cell_type": "markdown",
   "id": "9bb82820",
   "metadata": {},
   "source": [
    "**Read data**"
   ]
  },
  {
   "cell_type": "code",
   "execution_count": 2,
   "id": "a286483d",
   "metadata": {},
   "outputs": [],
   "source": [
    "missing_values = [' ', ' -  '] # missing value pada dataset\n",
    "nyc = pd.read_csv('nyc-rolling-sales.csv', na_values = missing_values)"
   ]
  },
  {
   "cell_type": "code",
   "execution_count": 3,
   "id": "ba84d890",
   "metadata": {},
   "outputs": [
    {
     "data": {
      "text/html": [
       "<div>\n",
       "<style scoped>\n",
       "    .dataframe tbody tr th:only-of-type {\n",
       "        vertical-align: middle;\n",
       "    }\n",
       "\n",
       "    .dataframe tbody tr th {\n",
       "        vertical-align: top;\n",
       "    }\n",
       "\n",
       "    .dataframe thead th {\n",
       "        text-align: right;\n",
       "    }\n",
       "</style>\n",
       "<table border=\"1\" class=\"dataframe\">\n",
       "  <thead>\n",
       "    <tr style=\"text-align: right;\">\n",
       "      <th></th>\n",
       "      <th>Unnamed: 0</th>\n",
       "      <th>BOROUGH</th>\n",
       "      <th>NEIGHBORHOOD</th>\n",
       "      <th>BUILDING CLASS CATEGORY</th>\n",
       "      <th>TAX CLASS AT PRESENT</th>\n",
       "      <th>BLOCK</th>\n",
       "      <th>LOT</th>\n",
       "      <th>EASE-MENT</th>\n",
       "      <th>BUILDING CLASS AT PRESENT</th>\n",
       "      <th>ADDRESS</th>\n",
       "      <th>APARTMENT NUMBER</th>\n",
       "      <th>ZIP CODE</th>\n",
       "      <th>RESIDENTIAL UNITS</th>\n",
       "      <th>COMMERCIAL UNITS</th>\n",
       "      <th>TOTAL UNITS</th>\n",
       "      <th>LAND SQUARE FEET</th>\n",
       "      <th>GROSS SQUARE FEET</th>\n",
       "      <th>YEAR BUILT</th>\n",
       "      <th>TAX CLASS AT TIME OF SALE</th>\n",
       "      <th>BUILDING CLASS AT TIME OF SALE</th>\n",
       "      <th>SALE PRICE</th>\n",
       "      <th>SALE DATE</th>\n",
       "    </tr>\n",
       "  </thead>\n",
       "  <tbody>\n",
       "    <tr>\n",
       "      <th>0</th>\n",
       "      <td>4</td>\n",
       "      <td>1</td>\n",
       "      <td>ALPHABET CITY</td>\n",
       "      <td>07 RENTALS - WALKUP APARTMENTS</td>\n",
       "      <td>2A</td>\n",
       "      <td>392</td>\n",
       "      <td>6</td>\n",
       "      <td>NaN</td>\n",
       "      <td>C2</td>\n",
       "      <td>153 AVENUE B</td>\n",
       "      <td>NaN</td>\n",
       "      <td>10009</td>\n",
       "      <td>5</td>\n",
       "      <td>0</td>\n",
       "      <td>5</td>\n",
       "      <td>1633.0</td>\n",
       "      <td>6440.0</td>\n",
       "      <td>1900</td>\n",
       "      <td>2</td>\n",
       "      <td>C2</td>\n",
       "      <td>6625000.0</td>\n",
       "      <td>2017-07-19 00:00:00</td>\n",
       "    </tr>\n",
       "    <tr>\n",
       "      <th>1</th>\n",
       "      <td>5</td>\n",
       "      <td>1</td>\n",
       "      <td>ALPHABET CITY</td>\n",
       "      <td>07 RENTALS - WALKUP APARTMENTS</td>\n",
       "      <td>2</td>\n",
       "      <td>399</td>\n",
       "      <td>26</td>\n",
       "      <td>NaN</td>\n",
       "      <td>C7</td>\n",
       "      <td>234 EAST 4TH   STREET</td>\n",
       "      <td>NaN</td>\n",
       "      <td>10009</td>\n",
       "      <td>28</td>\n",
       "      <td>3</td>\n",
       "      <td>31</td>\n",
       "      <td>4616.0</td>\n",
       "      <td>18690.0</td>\n",
       "      <td>1900</td>\n",
       "      <td>2</td>\n",
       "      <td>C7</td>\n",
       "      <td>NaN</td>\n",
       "      <td>2016-12-14 00:00:00</td>\n",
       "    </tr>\n",
       "    <tr>\n",
       "      <th>2</th>\n",
       "      <td>6</td>\n",
       "      <td>1</td>\n",
       "      <td>ALPHABET CITY</td>\n",
       "      <td>07 RENTALS - WALKUP APARTMENTS</td>\n",
       "      <td>2</td>\n",
       "      <td>399</td>\n",
       "      <td>39</td>\n",
       "      <td>NaN</td>\n",
       "      <td>C7</td>\n",
       "      <td>197 EAST 3RD   STREET</td>\n",
       "      <td>NaN</td>\n",
       "      <td>10009</td>\n",
       "      <td>16</td>\n",
       "      <td>1</td>\n",
       "      <td>17</td>\n",
       "      <td>2212.0</td>\n",
       "      <td>7803.0</td>\n",
       "      <td>1900</td>\n",
       "      <td>2</td>\n",
       "      <td>C7</td>\n",
       "      <td>NaN</td>\n",
       "      <td>2016-12-09 00:00:00</td>\n",
       "    </tr>\n",
       "    <tr>\n",
       "      <th>3</th>\n",
       "      <td>7</td>\n",
       "      <td>1</td>\n",
       "      <td>ALPHABET CITY</td>\n",
       "      <td>07 RENTALS - WALKUP APARTMENTS</td>\n",
       "      <td>2B</td>\n",
       "      <td>402</td>\n",
       "      <td>21</td>\n",
       "      <td>NaN</td>\n",
       "      <td>C4</td>\n",
       "      <td>154 EAST 7TH STREET</td>\n",
       "      <td>NaN</td>\n",
       "      <td>10009</td>\n",
       "      <td>10</td>\n",
       "      <td>0</td>\n",
       "      <td>10</td>\n",
       "      <td>2272.0</td>\n",
       "      <td>6794.0</td>\n",
       "      <td>1913</td>\n",
       "      <td>2</td>\n",
       "      <td>C4</td>\n",
       "      <td>3936272.0</td>\n",
       "      <td>2016-09-23 00:00:00</td>\n",
       "    </tr>\n",
       "    <tr>\n",
       "      <th>4</th>\n",
       "      <td>8</td>\n",
       "      <td>1</td>\n",
       "      <td>ALPHABET CITY</td>\n",
       "      <td>07 RENTALS - WALKUP APARTMENTS</td>\n",
       "      <td>2A</td>\n",
       "      <td>404</td>\n",
       "      <td>55</td>\n",
       "      <td>NaN</td>\n",
       "      <td>C2</td>\n",
       "      <td>301 EAST 10TH   STREET</td>\n",
       "      <td>NaN</td>\n",
       "      <td>10009</td>\n",
       "      <td>6</td>\n",
       "      <td>0</td>\n",
       "      <td>6</td>\n",
       "      <td>2369.0</td>\n",
       "      <td>4615.0</td>\n",
       "      <td>1900</td>\n",
       "      <td>2</td>\n",
       "      <td>C2</td>\n",
       "      <td>8000000.0</td>\n",
       "      <td>2016-11-17 00:00:00</td>\n",
       "    </tr>\n",
       "  </tbody>\n",
       "</table>\n",
       "</div>"
      ],
      "text/plain": [
       "   Unnamed: 0  BOROUGH   NEIGHBORHOOD  \\\n",
       "0           4        1  ALPHABET CITY   \n",
       "1           5        1  ALPHABET CITY   \n",
       "2           6        1  ALPHABET CITY   \n",
       "3           7        1  ALPHABET CITY   \n",
       "4           8        1  ALPHABET CITY   \n",
       "\n",
       "                       BUILDING CLASS CATEGORY TAX CLASS AT PRESENT  BLOCK  \\\n",
       "0  07 RENTALS - WALKUP APARTMENTS                                2A    392   \n",
       "1  07 RENTALS - WALKUP APARTMENTS                                 2    399   \n",
       "2  07 RENTALS - WALKUP APARTMENTS                                 2    399   \n",
       "3  07 RENTALS - WALKUP APARTMENTS                                2B    402   \n",
       "4  07 RENTALS - WALKUP APARTMENTS                                2A    404   \n",
       "\n",
       "   LOT  EASE-MENT BUILDING CLASS AT PRESENT                 ADDRESS  \\\n",
       "0    6        NaN                        C2            153 AVENUE B   \n",
       "1   26        NaN                        C7   234 EAST 4TH   STREET   \n",
       "2   39        NaN                        C7   197 EAST 3RD   STREET   \n",
       "3   21        NaN                        C4     154 EAST 7TH STREET   \n",
       "4   55        NaN                        C2  301 EAST 10TH   STREET   \n",
       "\n",
       "  APARTMENT NUMBER  ZIP CODE  RESIDENTIAL UNITS  COMMERCIAL UNITS  \\\n",
       "0              NaN     10009                  5                 0   \n",
       "1              NaN     10009                 28                 3   \n",
       "2              NaN     10009                 16                 1   \n",
       "3              NaN     10009                 10                 0   \n",
       "4              NaN     10009                  6                 0   \n",
       "\n",
       "   TOTAL UNITS  LAND SQUARE FEET  GROSS SQUARE FEET  YEAR BUILT  \\\n",
       "0            5            1633.0             6440.0        1900   \n",
       "1           31            4616.0            18690.0        1900   \n",
       "2           17            2212.0             7803.0        1900   \n",
       "3           10            2272.0             6794.0        1913   \n",
       "4            6            2369.0             4615.0        1900   \n",
       "\n",
       "   TAX CLASS AT TIME OF SALE BUILDING CLASS AT TIME OF SALE  SALE PRICE  \\\n",
       "0                          2                             C2   6625000.0   \n",
       "1                          2                             C7         NaN   \n",
       "2                          2                             C7         NaN   \n",
       "3                          2                             C4   3936272.0   \n",
       "4                          2                             C2   8000000.0   \n",
       "\n",
       "             SALE DATE  \n",
       "0  2017-07-19 00:00:00  \n",
       "1  2016-12-14 00:00:00  \n",
       "2  2016-12-09 00:00:00  \n",
       "3  2016-09-23 00:00:00  \n",
       "4  2016-11-17 00:00:00  "
      ]
     },
     "execution_count": 3,
     "metadata": {},
     "output_type": "execute_result"
    }
   ],
   "source": [
    "nyc.head()"
   ]
  },
  {
   "cell_type": "markdown",
   "id": "41394bc0",
   "metadata": {},
   "source": [
    "**Cek fitur dan jumlah baris**"
   ]
  },
  {
   "cell_type": "code",
   "execution_count": 4,
   "id": "d22f3882",
   "metadata": {},
   "outputs": [
    {
     "data": {
      "text/plain": [
       "(84548, 22)"
      ]
     },
     "execution_count": 4,
     "metadata": {},
     "output_type": "execute_result"
    }
   ],
   "source": [
    "nyc.shape"
   ]
  },
  {
   "cell_type": "code",
   "execution_count": 5,
   "id": "cf70fc86",
   "metadata": {},
   "outputs": [
    {
     "name": "stdout",
     "output_type": "stream",
     "text": [
      "<class 'pandas.core.frame.DataFrame'>\n",
      "RangeIndex: 84548 entries, 0 to 84547\n",
      "Data columns (total 22 columns):\n",
      " #   Column                          Non-Null Count  Dtype  \n",
      "---  ------                          --------------  -----  \n",
      " 0   Unnamed: 0                      84548 non-null  int64  \n",
      " 1   BOROUGH                         84548 non-null  int64  \n",
      " 2   NEIGHBORHOOD                    84548 non-null  object \n",
      " 3   BUILDING CLASS CATEGORY         84548 non-null  object \n",
      " 4   TAX CLASS AT PRESENT            83810 non-null  object \n",
      " 5   BLOCK                           84548 non-null  int64  \n",
      " 6   LOT                             84548 non-null  int64  \n",
      " 7   EASE-MENT                       0 non-null      float64\n",
      " 8   BUILDING CLASS AT PRESENT       83810 non-null  object \n",
      " 9   ADDRESS                         84548 non-null  object \n",
      " 10  APARTMENT NUMBER                19052 non-null  object \n",
      " 11  ZIP CODE                        84548 non-null  int64  \n",
      " 12  RESIDENTIAL UNITS               84548 non-null  int64  \n",
      " 13  COMMERCIAL UNITS                84548 non-null  int64  \n",
      " 14  TOTAL UNITS                     84548 non-null  int64  \n",
      " 15  LAND SQUARE FEET                58296 non-null  float64\n",
      " 16  GROSS SQUARE FEET               56936 non-null  float64\n",
      " 17  YEAR BUILT                      84548 non-null  int64  \n",
      " 18  TAX CLASS AT TIME OF SALE       84548 non-null  int64  \n",
      " 19  BUILDING CLASS AT TIME OF SALE  84548 non-null  object \n",
      " 20  SALE PRICE                      69987 non-null  float64\n",
      " 21  SALE DATE                       84548 non-null  object \n",
      "dtypes: float64(4), int64(10), object(8)\n",
      "memory usage: 14.2+ MB\n"
     ]
    }
   ],
   "source": [
    "nyc.info()"
   ]
  },
  {
   "cell_type": "markdown",
   "id": "6c89a6dc",
   "metadata": {},
   "source": [
    "**Drop kolom Unnamed: 0 (tidak dibuthkan), EASE-MENT (tidak ada isinya), APARTMENT NUMBER (terlalu banyak missing values sehingga lebih baik kolomnya dihapus daripada barisnya)**"
   ]
  },
  {
   "cell_type": "code",
   "execution_count": 6,
   "id": "91d7c595",
   "metadata": {},
   "outputs": [
    {
     "data": {
      "text/plain": [
       "Series([], Name: EASE-MENT, dtype: int64)"
      ]
     },
     "execution_count": 6,
     "metadata": {},
     "output_type": "execute_result"
    }
   ],
   "source": [
    "nyc['EASE-MENT'].value_counts()"
   ]
  },
  {
   "cell_type": "code",
   "execution_count": 7,
   "id": "aca106e7",
   "metadata": {},
   "outputs": [
    {
     "data": {
      "text/plain": [
       "4       298\n",
       "3A      295\n",
       "3B      275\n",
       "2       275\n",
       "2B      272\n",
       "       ... \n",
       "ST50      1\n",
       "ST54      1\n",
       "SU13      1\n",
       "SU21      1\n",
       "363       1\n",
       "Name: APARTMENT NUMBER, Length: 3988, dtype: int64"
      ]
     },
     "execution_count": 7,
     "metadata": {},
     "output_type": "execute_result"
    }
   ],
   "source": [
    "nyc['APARTMENT NUMBER'].value_counts()"
   ]
  },
  {
   "cell_type": "code",
   "execution_count": 8,
   "id": "2b78e774",
   "metadata": {},
   "outputs": [],
   "source": [
    "nyc.drop(columns=['Unnamed: 0', 'EASE-MENT', 'APARTMENT NUMBER'], inplace=True)"
   ]
  },
  {
   "cell_type": "markdown",
   "id": "b789aa05",
   "metadata": {},
   "source": [
    "**Cek tipe data**"
   ]
  },
  {
   "cell_type": "code",
   "execution_count": 9,
   "id": "7fbdda01",
   "metadata": {},
   "outputs": [
    {
     "name": "stdout",
     "output_type": "stream",
     "text": [
      "<class 'pandas.core.frame.DataFrame'>\n",
      "RangeIndex: 84548 entries, 0 to 84547\n",
      "Data columns (total 19 columns):\n",
      " #   Column                          Non-Null Count  Dtype  \n",
      "---  ------                          --------------  -----  \n",
      " 0   BOROUGH                         84548 non-null  int64  \n",
      " 1   NEIGHBORHOOD                    84548 non-null  object \n",
      " 2   BUILDING CLASS CATEGORY         84548 non-null  object \n",
      " 3   TAX CLASS AT PRESENT            83810 non-null  object \n",
      " 4   BLOCK                           84548 non-null  int64  \n",
      " 5   LOT                             84548 non-null  int64  \n",
      " 6   BUILDING CLASS AT PRESENT       83810 non-null  object \n",
      " 7   ADDRESS                         84548 non-null  object \n",
      " 8   ZIP CODE                        84548 non-null  int64  \n",
      " 9   RESIDENTIAL UNITS               84548 non-null  int64  \n",
      " 10  COMMERCIAL UNITS                84548 non-null  int64  \n",
      " 11  TOTAL UNITS                     84548 non-null  int64  \n",
      " 12  LAND SQUARE FEET                58296 non-null  float64\n",
      " 13  GROSS SQUARE FEET               56936 non-null  float64\n",
      " 14  YEAR BUILT                      84548 non-null  int64  \n",
      " 15  TAX CLASS AT TIME OF SALE       84548 non-null  int64  \n",
      " 16  BUILDING CLASS AT TIME OF SALE  84548 non-null  object \n",
      " 17  SALE PRICE                      69987 non-null  float64\n",
      " 18  SALE DATE                       84548 non-null  object \n",
      "dtypes: float64(3), int64(9), object(7)\n",
      "memory usage: 12.3+ MB\n"
     ]
    }
   ],
   "source": [
    "nyc.info()"
   ]
  },
  {
   "cell_type": "markdown",
   "id": "6cf8730e",
   "metadata": {},
   "source": [
    "Fitur BOROUGH merepesentasikan kode digit untuk wilayah tempat properti berada; dalam urutan ini adalah Manhattan (1), Bronx (2), Brooklyn (3), Queens (4), dan Staten Island (5). Untuk itu kita dapat mengubah numerik menjadi object string. Kemudian terdapat dua fitur yang merepresentasikan TAX CLASS (PRESENT dan TIME OF SALE). Tetapi kedua fitur tersebut memiliki tipe data yang berbeda. Oleh karena itu kita perlu menyamakan tipe data kedua fitur tersebut. Selain itu juga TAX CLASS pada Glosarium terdiri dari 4 class yaitu class 1,2,3,4"
   ]
  },
  {
   "cell_type": "code",
   "execution_count": 10,
   "id": "4a4e9cfd",
   "metadata": {},
   "outputs": [],
   "source": [
    "def change_borough(borough):\n",
    "    \"\"\"\n",
    "        Function for changing borough code into string of the borough\n",
    "        \n",
    "        parameter\n",
    "        ---------\n",
    "            borough : the borough code\n",
    "            \n",
    "        return\n",
    "        ---------\n",
    "            string of the borough or NaN\n",
    "    \"\"\"\n",
    "    if borough == '1':\n",
    "        return 'Manhattan'\n",
    "    elif borough == '2':\n",
    "        return 'Bronx'\n",
    "    elif borough == '3':\n",
    "        return 'Brooklyn'\n",
    "    elif borough == '4':\n",
    "        return 'Queens'\n",
    "    elif borough == '5':\n",
    "        return 'Staten Island'\n",
    "    else:\n",
    "        return np.nan"
   ]
  },
  {
   "cell_type": "code",
   "execution_count": 11,
   "id": "63357be9",
   "metadata": {},
   "outputs": [],
   "source": [
    "# Ubah tipe data nyc['BOROUGH'] dan nyc['TAX CLASS AT TIME OF SALE'] menjadi string \n",
    "nyc[['BOROUGH','TAX CLASS AT TIME OF SALE']] = nyc[['BOROUGH','TAX CLASS AT TIME OF SALE']].astype('str')\n",
    "\n",
    "# Ubah borough code menjadi string nama boroughnya\n",
    "nyc['BOROUGH'] =  nyc['BOROUGH'].apply(change_borough)"
   ]
  },
  {
   "cell_type": "code",
   "execution_count": 12,
   "id": "b34eaf90",
   "metadata": {},
   "outputs": [
    {
     "data": {
      "text/plain": [
       "1     38633\n",
       "2     30919\n",
       "4      6140\n",
       "2A     2521\n",
       "2C     1915\n",
       "1A     1444\n",
       "1B     1234\n",
       "2B      814\n",
       "1C      186\n",
       "3         4\n",
       "Name: TAX CLASS AT PRESENT, dtype: int64"
      ]
     },
     "execution_count": 12,
     "metadata": {},
     "output_type": "execute_result"
    }
   ],
   "source": [
    "# Jumlah per unique value dari TAX CLASS AT PRESENT\n",
    "nyc['TAX CLASS AT PRESENT'].value_counts()"
   ]
  },
  {
   "cell_type": "code",
   "execution_count": 13,
   "id": "da35def9",
   "metadata": {},
   "outputs": [
    {
     "data": {
      "text/plain": [
       "1    41533\n",
       "2    36726\n",
       "4     6285\n",
       "3        4\n",
       "Name: TAX CLASS AT TIME OF SALE, dtype: int64"
      ]
     },
     "execution_count": 13,
     "metadata": {},
     "output_type": "execute_result"
    }
   ],
   "source": [
    "# Jumlah per unique value dari TAX CLASS AT TIME OF SALE\n",
    "nyc['TAX CLASS AT TIME OF SALE'].value_counts()"
   ]
  },
  {
   "cell_type": "code",
   "execution_count": 14,
   "id": "d97b7433",
   "metadata": {},
   "outputs": [],
   "source": [
    "# Mengelompokkan 1A, 1B, ... menjadi class 1; 2A, 2B, ... menjadi class 2, dst\n",
    "for idx, value in nyc['TAX CLASS AT PRESENT'].items():\n",
    "    if '1' in str(value):\n",
    "        nyc.loc[idx, 'TAX CLASS AT PRESENT'] = '1'\n",
    "    elif '2' in str(value):\n",
    "        nyc.loc[idx, 'TAX CLASS AT PRESENT'] = '2'\n",
    "    elif '3' in str(value):\n",
    "        nyc.loc[idx, 'TAX CLASS AT PRESENT'] = '3'\n",
    "    elif '4' in str(value):\n",
    "        nyc.loc[idx, 'TAX CLASS AT PRESENT'] = '4'"
   ]
  },
  {
   "cell_type": "code",
   "execution_count": 15,
   "id": "be73e216",
   "metadata": {},
   "outputs": [
    {
     "data": {
      "text/plain": [
       "1    41497\n",
       "2    36169\n",
       "4     6140\n",
       "3        4\n",
       "Name: TAX CLASS AT PRESENT, dtype: int64"
      ]
     },
     "execution_count": 15,
     "metadata": {},
     "output_type": "execute_result"
    }
   ],
   "source": [
    "# Jumlah per unique value dari TAX CLASS AT PRESENT setelah dikelompokkan\n",
    "nyc['TAX CLASS AT PRESENT'].value_counts()"
   ]
  },
  {
   "cell_type": "markdown",
   "id": "74608bfe",
   "metadata": {},
   "source": [
    "Fitur LAND SQUARE FEET, GROSS SQUARE FEET, dan SALE PRICE seharusnya bertipe data numerik sehingga perlu diubah menjadi numerik (jika ada baris yang tidak dapat diubah menjadi numerik maka akan menjadi nan)"
   ]
  },
  {
   "cell_type": "code",
   "execution_count": 16,
   "id": "a9b06d36",
   "metadata": {},
   "outputs": [],
   "source": [
    "to_numeric = ['LAND SQUARE FEET', 'GROSS SQUARE FEET', 'SALE PRICE']\n",
    "for col in to_numeric:\n",
    "    nyc[col] = pd.to_numeric(nyc[col], errors='coerce', downcast='signed')"
   ]
  },
  {
   "cell_type": "markdown",
   "id": "0c823789",
   "metadata": {},
   "source": [
    "Fitur SALE DATE seharusnya bertipe data datetime sehingga perlu diubah tipe datanya"
   ]
  },
  {
   "cell_type": "code",
   "execution_count": 17,
   "id": "e80f5bf5",
   "metadata": {},
   "outputs": [],
   "source": [
    "nyc['SALE DATE'] = pd.to_datetime(nyc['SALE DATE'])"
   ]
  },
  {
   "cell_type": "code",
   "execution_count": 18,
   "id": "6a487892",
   "metadata": {},
   "outputs": [],
   "source": [
    "nyc['SALE YEAR'] = nyc['SALE DATE'].dt.year\n",
    "nyc['SALE MONTH'] = nyc['SALE DATE'].dt.month"
   ]
  },
  {
   "cell_type": "markdown",
   "id": "3a5b192d",
   "metadata": {},
   "source": [
    "**Cek duplikat data**"
   ]
  },
  {
   "cell_type": "code",
   "execution_count": 19,
   "id": "2d9f4cd8",
   "metadata": {},
   "outputs": [
    {
     "data": {
      "text/plain": [
       "765"
      ]
     },
     "execution_count": 19,
     "metadata": {},
     "output_type": "execute_result"
    }
   ],
   "source": [
    "nyc.duplicated().sum()"
   ]
  },
  {
   "cell_type": "code",
   "execution_count": 20,
   "id": "ae2d8a00",
   "metadata": {},
   "outputs": [],
   "source": [
    "# drop duplikat data\n",
    "nyc.drop_duplicates(inplace=True)"
   ]
  },
  {
   "cell_type": "code",
   "execution_count": 21,
   "id": "8a200de6",
   "metadata": {},
   "outputs": [
    {
     "data": {
      "text/plain": [
       "0"
      ]
     },
     "execution_count": 21,
     "metadata": {},
     "output_type": "execute_result"
    }
   ],
   "source": [
    "nyc.duplicated().sum()"
   ]
  },
  {
   "cell_type": "code",
   "execution_count": 22,
   "id": "900b258a",
   "metadata": {},
   "outputs": [
    {
     "data": {
      "text/plain": [
       "(83783, 21)"
      ]
     },
     "execution_count": 22,
     "metadata": {},
     "output_type": "execute_result"
    }
   ],
   "source": [
    "nyc.shape"
   ]
  },
  {
   "cell_type": "markdown",
   "id": "8e2edb9f",
   "metadata": {},
   "source": [
    "**Cek data yang tidak masuk akal**"
   ]
  },
  {
   "cell_type": "markdown",
   "id": "5bc9415f",
   "metadata": {},
   "source": [
    "Drop Zip code = 0 "
   ]
  },
  {
   "cell_type": "code",
   "execution_count": 23,
   "id": "99fbb5a7",
   "metadata": {},
   "outputs": [],
   "source": [
    "nyc = nyc[nyc['ZIP CODE'] != 0]"
   ]
  },
  {
   "cell_type": "code",
   "execution_count": 24,
   "id": "c0dfc85f",
   "metadata": {},
   "outputs": [
    {
     "data": {
      "text/plain": [
       "(82812, 21)"
      ]
     },
     "execution_count": 24,
     "metadata": {},
     "output_type": "execute_result"
    }
   ],
   "source": [
    "nyc.shape"
   ]
  },
  {
   "cell_type": "markdown",
   "id": "7eff07b3",
   "metadata": {},
   "source": [
    "SALE PRICE = 0 (valid) karena banyak penjualan terjadi dengan jumlah dolar yang sangat kecil: $0 paling umum. Penjualan ini sebenarnya adalah transfer akta antar pihak: misalnya, orang tua mentransfer kepemilikan rumah mereka kepada seorang anak setelah pindah untuk pensiun. Tetapi price di bawah 10 usd terlihat tidak masuk akal maka akan di drop"
   ]
  },
  {
   "cell_type": "code",
   "execution_count": 25,
   "id": "380c284a",
   "metadata": {},
   "outputs": [],
   "source": [
    "nyc = nyc[(nyc['SALE PRICE'] == 0) | (nyc['SALE PRICE'] > 10)]"
   ]
  },
  {
   "cell_type": "code",
   "execution_count": 26,
   "id": "9abee5dd",
   "metadata": {},
   "outputs": [
    {
     "data": {
      "text/plain": [
       "(67962, 21)"
      ]
     },
     "execution_count": 26,
     "metadata": {},
     "output_type": "execute_result"
    }
   ],
   "source": [
    "nyc.shape"
   ]
  },
  {
   "cell_type": "markdown",
   "id": "3734e93f",
   "metadata": {},
   "source": [
    "**Cek Missing values**"
   ]
  },
  {
   "cell_type": "code",
   "execution_count": 27,
   "id": "cfabd6c6",
   "metadata": {},
   "outputs": [
    {
     "data": {
      "text/plain": [
       "BOROUGH                               0\n",
       "NEIGHBORHOOD                          0\n",
       "BUILDING CLASS CATEGORY               0\n",
       "TAX CLASS AT PRESENT                293\n",
       "BLOCK                                 0\n",
       "LOT                                   0\n",
       "BUILDING CLASS AT PRESENT           293\n",
       "ADDRESS                               0\n",
       "ZIP CODE                              0\n",
       "RESIDENTIAL UNITS                     0\n",
       "COMMERCIAL UNITS                      0\n",
       "TOTAL UNITS                           0\n",
       "LAND SQUARE FEET                  20831\n",
       "GROSS SQUARE FEET                 21181\n",
       "YEAR BUILT                            0\n",
       "TAX CLASS AT TIME OF SALE             0\n",
       "BUILDING CLASS AT TIME OF SALE        0\n",
       "SALE PRICE                            0\n",
       "SALE DATE                             0\n",
       "SALE YEAR                             0\n",
       "SALE MONTH                            0\n",
       "dtype: int64"
      ]
     },
     "execution_count": 27,
     "metadata": {},
     "output_type": "execute_result"
    }
   ],
   "source": [
    "nyc.isnull().sum()"
   ]
  },
  {
   "cell_type": "code",
   "execution_count": 28,
   "id": "f1bad02e",
   "metadata": {
    "scrolled": false
   },
   "outputs": [],
   "source": [
    "# isi missing value di TAX dan BUILDING CLASS PRESENT dengan TIME OF SALE \n",
    "# karena CLASS nya tidak akan jauh berbeda\n",
    "\n",
    "nyc['TAX CLASS AT PRESENT'].fillna(nyc['TAX CLASS AT TIME OF SALE'], inplace=True)\n",
    "nyc['BUILDING CLASS AT PRESENT'].fillna(nyc['BUILDING CLASS AT TIME OF SALE'], inplace=True)"
   ]
  },
  {
   "cell_type": "code",
   "execution_count": 29,
   "id": "3d88752b",
   "metadata": {},
   "outputs": [
    {
     "data": {
      "text/plain": [
       "BOROUGH                               0\n",
       "NEIGHBORHOOD                          0\n",
       "BUILDING CLASS CATEGORY               0\n",
       "TAX CLASS AT PRESENT                  0\n",
       "BLOCK                                 0\n",
       "LOT                                   0\n",
       "BUILDING CLASS AT PRESENT             0\n",
       "ADDRESS                               0\n",
       "ZIP CODE                              0\n",
       "RESIDENTIAL UNITS                     0\n",
       "COMMERCIAL UNITS                      0\n",
       "TOTAL UNITS                           0\n",
       "LAND SQUARE FEET                  20831\n",
       "GROSS SQUARE FEET                 21181\n",
       "YEAR BUILT                            0\n",
       "TAX CLASS AT TIME OF SALE             0\n",
       "BUILDING CLASS AT TIME OF SALE        0\n",
       "SALE PRICE                            0\n",
       "SALE DATE                             0\n",
       "SALE YEAR                             0\n",
       "SALE MONTH                            0\n",
       "dtype: int64"
      ]
     },
     "execution_count": 29,
     "metadata": {},
     "output_type": "execute_result"
    }
   ],
   "source": [
    "nyc.isnull().sum()"
   ]
  },
  {
   "cell_type": "code",
   "execution_count": 30,
   "id": "2a7851dd",
   "metadata": {},
   "outputs": [],
   "source": [
    "# isi missing value di Land Sq. Ft dengan Gross Sq. Ft jika Gross tidak null, dan sebaliknya\n",
    "\n",
    "nyc['LAND SQUARE FEET'].fillna(nyc['GROSS SQUARE FEET'], inplace=True)\n",
    "nyc['GROSS SQUARE FEET'].fillna(nyc['LAND SQUARE FEET'], inplace=True)"
   ]
  },
  {
   "cell_type": "code",
   "execution_count": 31,
   "id": "1a5d6302",
   "metadata": {},
   "outputs": [
    {
     "data": {
      "text/plain": [
       "BOROUGH                               0\n",
       "NEIGHBORHOOD                          0\n",
       "BUILDING CLASS CATEGORY               0\n",
       "TAX CLASS AT PRESENT                  0\n",
       "BLOCK                                 0\n",
       "LOT                                   0\n",
       "BUILDING CLASS AT PRESENT             0\n",
       "ADDRESS                               0\n",
       "ZIP CODE                              0\n",
       "RESIDENTIAL UNITS                     0\n",
       "COMMERCIAL UNITS                      0\n",
       "TOTAL UNITS                           0\n",
       "LAND SQUARE FEET                  20827\n",
       "GROSS SQUARE FEET                 20827\n",
       "YEAR BUILT                            0\n",
       "TAX CLASS AT TIME OF SALE             0\n",
       "BUILDING CLASS AT TIME OF SALE        0\n",
       "SALE PRICE                            0\n",
       "SALE DATE                             0\n",
       "SALE YEAR                             0\n",
       "SALE MONTH                            0\n",
       "dtype: int64"
      ]
     },
     "execution_count": 31,
     "metadata": {},
     "output_type": "execute_result"
    }
   ],
   "source": [
    "nyc.isnull().sum()"
   ]
  },
  {
   "cell_type": "code",
   "execution_count": 32,
   "id": "3fd82bf8",
   "metadata": {},
   "outputs": [],
   "source": [
    "# filter data dimana Land Sq. Ft. dan Gross Sq. Ft. tidak null\n",
    "\n",
    "nyc_new = nyc[(nyc['LAND SQUARE FEET'].notnull()) & (nyc['GROSS SQUARE FEET'].notnull())]"
   ]
  },
  {
   "cell_type": "code",
   "execution_count": 33,
   "id": "bbde8d7f",
   "metadata": {},
   "outputs": [
    {
     "data": {
      "text/plain": [
       "BOROUGH                           0\n",
       "NEIGHBORHOOD                      0\n",
       "BUILDING CLASS CATEGORY           0\n",
       "TAX CLASS AT PRESENT              0\n",
       "BLOCK                             0\n",
       "LOT                               0\n",
       "BUILDING CLASS AT PRESENT         0\n",
       "ADDRESS                           0\n",
       "ZIP CODE                          0\n",
       "RESIDENTIAL UNITS                 0\n",
       "COMMERCIAL UNITS                  0\n",
       "TOTAL UNITS                       0\n",
       "LAND SQUARE FEET                  0\n",
       "GROSS SQUARE FEET                 0\n",
       "YEAR BUILT                        0\n",
       "TAX CLASS AT TIME OF SALE         0\n",
       "BUILDING CLASS AT TIME OF SALE    0\n",
       "SALE PRICE                        0\n",
       "SALE DATE                         0\n",
       "SALE YEAR                         0\n",
       "SALE MONTH                        0\n",
       "dtype: int64"
      ]
     },
     "execution_count": 33,
     "metadata": {},
     "output_type": "execute_result"
    }
   ],
   "source": [
    "nyc_new.isnull().sum()"
   ]
  },
  {
   "cell_type": "code",
   "execution_count": 34,
   "id": "d0ec0726",
   "metadata": {
    "scrolled": false
   },
   "outputs": [
    {
     "data": {
      "text/html": [
       "<div>\n",
       "<style scoped>\n",
       "    .dataframe tbody tr th:only-of-type {\n",
       "        vertical-align: middle;\n",
       "    }\n",
       "\n",
       "    .dataframe tbody tr th {\n",
       "        vertical-align: top;\n",
       "    }\n",
       "\n",
       "    .dataframe thead th {\n",
       "        text-align: right;\n",
       "    }\n",
       "</style>\n",
       "<table border=\"1\" class=\"dataframe\">\n",
       "  <thead>\n",
       "    <tr style=\"text-align: right;\">\n",
       "      <th></th>\n",
       "      <th>BOROUGH</th>\n",
       "      <th>NEIGHBORHOOD</th>\n",
       "      <th>BUILDING CLASS CATEGORY</th>\n",
       "      <th>TAX CLASS AT PRESENT</th>\n",
       "      <th>BLOCK</th>\n",
       "      <th>LOT</th>\n",
       "      <th>BUILDING CLASS AT PRESENT</th>\n",
       "      <th>ADDRESS</th>\n",
       "      <th>ZIP CODE</th>\n",
       "      <th>RESIDENTIAL UNITS</th>\n",
       "      <th>COMMERCIAL UNITS</th>\n",
       "      <th>TOTAL UNITS</th>\n",
       "      <th>LAND SQUARE FEET</th>\n",
       "      <th>GROSS SQUARE FEET</th>\n",
       "      <th>YEAR BUILT</th>\n",
       "      <th>TAX CLASS AT TIME OF SALE</th>\n",
       "      <th>BUILDING CLASS AT TIME OF SALE</th>\n",
       "      <th>SALE PRICE</th>\n",
       "      <th>SALE DATE</th>\n",
       "      <th>SALE YEAR</th>\n",
       "      <th>SALE MONTH</th>\n",
       "    </tr>\n",
       "  </thead>\n",
       "  <tbody>\n",
       "    <tr>\n",
       "      <th>0</th>\n",
       "      <td>Manhattan</td>\n",
       "      <td>ALPHABET CITY</td>\n",
       "      <td>07 RENTALS - WALKUP APARTMENTS</td>\n",
       "      <td>2</td>\n",
       "      <td>392</td>\n",
       "      <td>6</td>\n",
       "      <td>C2</td>\n",
       "      <td>153 AVENUE B</td>\n",
       "      <td>10009</td>\n",
       "      <td>5</td>\n",
       "      <td>0</td>\n",
       "      <td>5</td>\n",
       "      <td>1633.0</td>\n",
       "      <td>6440.0</td>\n",
       "      <td>1900</td>\n",
       "      <td>2</td>\n",
       "      <td>C2</td>\n",
       "      <td>6625000.0</td>\n",
       "      <td>2017-07-19</td>\n",
       "      <td>2017</td>\n",
       "      <td>7</td>\n",
       "    </tr>\n",
       "    <tr>\n",
       "      <th>3</th>\n",
       "      <td>Manhattan</td>\n",
       "      <td>ALPHABET CITY</td>\n",
       "      <td>07 RENTALS - WALKUP APARTMENTS</td>\n",
       "      <td>2</td>\n",
       "      <td>402</td>\n",
       "      <td>21</td>\n",
       "      <td>C4</td>\n",
       "      <td>154 EAST 7TH STREET</td>\n",
       "      <td>10009</td>\n",
       "      <td>10</td>\n",
       "      <td>0</td>\n",
       "      <td>10</td>\n",
       "      <td>2272.0</td>\n",
       "      <td>6794.0</td>\n",
       "      <td>1913</td>\n",
       "      <td>2</td>\n",
       "      <td>C4</td>\n",
       "      <td>3936272.0</td>\n",
       "      <td>2016-09-23</td>\n",
       "      <td>2016</td>\n",
       "      <td>9</td>\n",
       "    </tr>\n",
       "    <tr>\n",
       "      <th>4</th>\n",
       "      <td>Manhattan</td>\n",
       "      <td>ALPHABET CITY</td>\n",
       "      <td>07 RENTALS - WALKUP APARTMENTS</td>\n",
       "      <td>2</td>\n",
       "      <td>404</td>\n",
       "      <td>55</td>\n",
       "      <td>C2</td>\n",
       "      <td>301 EAST 10TH   STREET</td>\n",
       "      <td>10009</td>\n",
       "      <td>6</td>\n",
       "      <td>0</td>\n",
       "      <td>6</td>\n",
       "      <td>2369.0</td>\n",
       "      <td>4615.0</td>\n",
       "      <td>1900</td>\n",
       "      <td>2</td>\n",
       "      <td>C2</td>\n",
       "      <td>8000000.0</td>\n",
       "      <td>2016-11-17</td>\n",
       "      <td>2016</td>\n",
       "      <td>11</td>\n",
       "    </tr>\n",
       "    <tr>\n",
       "      <th>6</th>\n",
       "      <td>Manhattan</td>\n",
       "      <td>ALPHABET CITY</td>\n",
       "      <td>07 RENTALS - WALKUP APARTMENTS</td>\n",
       "      <td>2</td>\n",
       "      <td>406</td>\n",
       "      <td>32</td>\n",
       "      <td>C4</td>\n",
       "      <td>210 AVENUE B</td>\n",
       "      <td>10009</td>\n",
       "      <td>8</td>\n",
       "      <td>0</td>\n",
       "      <td>8</td>\n",
       "      <td>1750.0</td>\n",
       "      <td>4226.0</td>\n",
       "      <td>1920</td>\n",
       "      <td>2</td>\n",
       "      <td>C4</td>\n",
       "      <td>3192840.0</td>\n",
       "      <td>2016-09-23</td>\n",
       "      <td>2016</td>\n",
       "      <td>9</td>\n",
       "    </tr>\n",
       "    <tr>\n",
       "      <th>9</th>\n",
       "      <td>Manhattan</td>\n",
       "      <td>ALPHABET CITY</td>\n",
       "      <td>08 RENTALS - ELEVATOR APARTMENTS</td>\n",
       "      <td>2</td>\n",
       "      <td>387</td>\n",
       "      <td>153</td>\n",
       "      <td>D9</td>\n",
       "      <td>629 EAST 5TH STREET</td>\n",
       "      <td>10009</td>\n",
       "      <td>24</td>\n",
       "      <td>0</td>\n",
       "      <td>24</td>\n",
       "      <td>4489.0</td>\n",
       "      <td>18523.0</td>\n",
       "      <td>1920</td>\n",
       "      <td>2</td>\n",
       "      <td>D9</td>\n",
       "      <td>16232000.0</td>\n",
       "      <td>2016-11-07</td>\n",
       "      <td>2016</td>\n",
       "      <td>11</td>\n",
       "    </tr>\n",
       "  </tbody>\n",
       "</table>\n",
       "</div>"
      ],
      "text/plain": [
       "     BOROUGH   NEIGHBORHOOD                      BUILDING CLASS CATEGORY  \\\n",
       "0  Manhattan  ALPHABET CITY  07 RENTALS - WALKUP APARTMENTS                \n",
       "3  Manhattan  ALPHABET CITY  07 RENTALS - WALKUP APARTMENTS                \n",
       "4  Manhattan  ALPHABET CITY  07 RENTALS - WALKUP APARTMENTS                \n",
       "6  Manhattan  ALPHABET CITY  07 RENTALS - WALKUP APARTMENTS                \n",
       "9  Manhattan  ALPHABET CITY  08 RENTALS - ELEVATOR APARTMENTS              \n",
       "\n",
       "  TAX CLASS AT PRESENT  BLOCK  LOT BUILDING CLASS AT PRESENT  \\\n",
       "0                    2    392    6                        C2   \n",
       "3                    2    402   21                        C4   \n",
       "4                    2    404   55                        C2   \n",
       "6                    2    406   32                        C4   \n",
       "9                    2    387  153                        D9   \n",
       "\n",
       "                  ADDRESS  ZIP CODE  RESIDENTIAL UNITS  COMMERCIAL UNITS  \\\n",
       "0            153 AVENUE B     10009                  5                 0   \n",
       "3     154 EAST 7TH STREET     10009                 10                 0   \n",
       "4  301 EAST 10TH   STREET     10009                  6                 0   \n",
       "6            210 AVENUE B     10009                  8                 0   \n",
       "9     629 EAST 5TH STREET     10009                 24                 0   \n",
       "\n",
       "   TOTAL UNITS  LAND SQUARE FEET  GROSS SQUARE FEET  YEAR BUILT  \\\n",
       "0            5            1633.0             6440.0        1900   \n",
       "3           10            2272.0             6794.0        1913   \n",
       "4            6            2369.0             4615.0        1900   \n",
       "6            8            1750.0             4226.0        1920   \n",
       "9           24            4489.0            18523.0        1920   \n",
       "\n",
       "  TAX CLASS AT TIME OF SALE BUILDING CLASS AT TIME OF SALE  SALE PRICE  \\\n",
       "0                         2                             C2   6625000.0   \n",
       "3                         2                             C4   3936272.0   \n",
       "4                         2                             C2   8000000.0   \n",
       "6                         2                             C4   3192840.0   \n",
       "9                         2                             D9  16232000.0   \n",
       "\n",
       "   SALE DATE  SALE YEAR  SALE MONTH  \n",
       "0 2017-07-19       2017           7  \n",
       "3 2016-09-23       2016           9  \n",
       "4 2016-11-17       2016          11  \n",
       "6 2016-09-23       2016           9  \n",
       "9 2016-11-07       2016          11  "
      ]
     },
     "execution_count": 34,
     "metadata": {},
     "output_type": "execute_result"
    }
   ],
   "source": [
    "nyc_new.head()"
   ]
  },
  {
   "cell_type": "markdown",
   "id": "d29be7ff",
   "metadata": {},
   "source": [
    "### Berapa rata-rata value untuk setiap kolom numerik?"
   ]
  },
  {
   "cell_type": "code",
   "execution_count": 35,
   "id": "fc383d87",
   "metadata": {},
   "outputs": [
    {
     "name": "stdout",
     "output_type": "stream",
     "text": [
      "<class 'pandas.core.frame.DataFrame'>\n",
      "Int64Index: 47135 entries, 0 to 84547\n",
      "Data columns (total 21 columns):\n",
      " #   Column                          Non-Null Count  Dtype         \n",
      "---  ------                          --------------  -----         \n",
      " 0   BOROUGH                         47135 non-null  object        \n",
      " 1   NEIGHBORHOOD                    47135 non-null  object        \n",
      " 2   BUILDING CLASS CATEGORY         47135 non-null  object        \n",
      " 3   TAX CLASS AT PRESENT            47135 non-null  object        \n",
      " 4   BLOCK                           47135 non-null  int64         \n",
      " 5   LOT                             47135 non-null  int64         \n",
      " 6   BUILDING CLASS AT PRESENT       47135 non-null  object        \n",
      " 7   ADDRESS                         47135 non-null  object        \n",
      " 8   ZIP CODE                        47135 non-null  int64         \n",
      " 9   RESIDENTIAL UNITS               47135 non-null  int64         \n",
      " 10  COMMERCIAL UNITS                47135 non-null  int64         \n",
      " 11  TOTAL UNITS                     47135 non-null  int64         \n",
      " 12  LAND SQUARE FEET                47135 non-null  float64       \n",
      " 13  GROSS SQUARE FEET               47135 non-null  float64       \n",
      " 14  YEAR BUILT                      47135 non-null  int64         \n",
      " 15  TAX CLASS AT TIME OF SALE       47135 non-null  object        \n",
      " 16  BUILDING CLASS AT TIME OF SALE  47135 non-null  object        \n",
      " 17  SALE PRICE                      47135 non-null  float64       \n",
      " 18  SALE DATE                       47135 non-null  datetime64[ns]\n",
      " 19  SALE YEAR                       47135 non-null  int64         \n",
      " 20  SALE MONTH                      47135 non-null  int64         \n",
      "dtypes: datetime64[ns](1), float64(3), int64(9), object(8)\n",
      "memory usage: 7.9+ MB\n"
     ]
    }
   ],
   "source": [
    "nyc_new.info()"
   ]
  },
  {
   "cell_type": "markdown",
   "id": "f9c3e65b",
   "metadata": {},
   "source": [
    "BLOCK, LOT, ZIP CODE tidak termasuk kolom numerik karena:\n",
    "\n",
    "BLOCK merupakan sub-divisi dari borough tempat properti sebenarnya berada (Label) <br>\n",
    "LOT juga sama seperti BLOCK yang merupakan sub-divisi dari BLOCK yang merepresentasikan unique location <br>\n",
    "ZIP CODE merupakan kode pos <br>\n",
    "YEAR BUILT merupakan tahun"
   ]
  },
  {
   "cell_type": "code",
   "execution_count": 36,
   "id": "b7bdcd82",
   "metadata": {},
   "outputs": [
    {
     "name": "stdout",
     "output_type": "stream",
     "text": [
      "Mean of Residential Units: 2.53\n",
      "Mean of Commercial Units: 0.24\n",
      "Mean of Total Units: 2.79\n",
      "Mean of Land Square Feet: 3370.13\n",
      "Mean of Gross Square Feet: 3674.68\n",
      "Mean of Sale Price: 1201487.27\n"
     ]
    }
   ],
   "source": [
    "# rata2 fitur RESIDENTIAL UNITS\n",
    "mean_res_units = nyc_new['RESIDENTIAL UNITS'].mean()\n",
    "print('Mean of Residential Units:', round(mean_res_units,2))\n",
    "\n",
    "# rata2 fitur COMMERCIAL UNITS\n",
    "mean_com_units = nyc_new['COMMERCIAL UNITS'].mean()\n",
    "print('Mean of Commercial Units:', round(mean_com_units,2))\n",
    "\n",
    "# rata2 fitur TOTAL UNITS\n",
    "mean_total_units = nyc_new['TOTAL UNITS'].mean()\n",
    "print('Mean of Total Units:', round(mean_total_units,2))\n",
    "\n",
    "# rata2 fitur LAND SQUARE FEET\n",
    "mean_land = nyc_new['LAND SQUARE FEET'].mean()\n",
    "print('Mean of Land Square Feet:', round(mean_land,2))\n",
    "\n",
    "# rata2 fitur GROSS SQUARE FEET\n",
    "mean_gross = nyc_new['GROSS SQUARE FEET'].mean()\n",
    "print('Mean of Gross Square Feet:', round(mean_gross,2))\n",
    "\n",
    "# rata2 fitur SALE PRICE\n",
    "mean_price = nyc_new['SALE PRICE'].mean()\n",
    "print('Mean of Sale Price:', round(mean_price,2))"
   ]
  },
  {
   "cell_type": "markdown",
   "id": "3c3677ac",
   "metadata": {},
   "source": [
    "### Berapa rata-rata SALE PRICE di setiap BOROUGH?"
   ]
  },
  {
   "cell_type": "code",
   "execution_count": 37,
   "id": "d8480147",
   "metadata": {},
   "outputs": [
    {
     "data": {
      "text/plain": [
       "BOROUGH\n",
       "Bronx            6.068540e+05\n",
       "Brooklyn         8.509849e+05\n",
       "Manhattan        1.996032e+07\n",
       "Queens           9.548699e+05\n",
       "Staten Island    5.626357e+05\n",
       "Name: SALE PRICE, dtype: float64"
      ]
     },
     "execution_count": 37,
     "metadata": {},
     "output_type": "execute_result"
    }
   ],
   "source": [
    "# Mengelompokkan berdasarkan BOROUGHnya kemudian menghitung rata-rata SALE PRICEnya tiap BOROUGH\n",
    "\n",
    "nyc_new.groupby(['BOROUGH'])['SALE PRICE'].mean()"
   ]
  },
  {
   "cell_type": "code",
   "execution_count": 38,
   "id": "0cc5360b",
   "metadata": {},
   "outputs": [
    {
     "name": "stdout",
     "output_type": "stream",
     "text": [
      "Manhattan: 19960319.41\n",
      "Bronx: 606854.02\n",
      "Brooklyn: 850984.9\n",
      "Queens: 954869.93\n",
      "Staten Island: 562635.68\n"
     ]
    }
   ],
   "source": [
    "# Menghitung rata-rata SALE PRICE di tiap Borough tanpa groupby dan hasilnya sama\n",
    "\n",
    "# Menghitung rata-rata SALE PRICE di Manhattan\n",
    "mean_manhattan = nyc_new[nyc_new['BOROUGH'] == 'Manhattan']['SALE PRICE'].mean()\n",
    "print('Manhattan:',round(mean_manhattan,2))\n",
    "\n",
    "# Menghitung rata-rata SALE PRICE di Bronx\n",
    "mean_bronx = nyc_new[nyc_new['BOROUGH'] == 'Bronx']['SALE PRICE'].mean()\n",
    "print('Bronx:',round(mean_bronx,2))\n",
    "\n",
    "# Menghitung rata-rata SALE PRICE di Brooklyn\n",
    "mean_brooklyn = nyc_new[nyc_new['BOROUGH'] == 'Brooklyn']['SALE PRICE'].mean()\n",
    "print('Brooklyn:',round(mean_brooklyn,2))\n",
    "\n",
    "# Menghitung rata-rata SALE PRICE di Queens\n",
    "mean_queens = nyc_new[nyc_new['BOROUGH'] == 'Queens']['SALE PRICE'].mean()\n",
    "print('Queens:',round(mean_queens,2))\n",
    "\n",
    "# Menghitung rata-rata SALE PRICE di Staten Island\n",
    "mean_staten_island = nyc_new[nyc_new['BOROUGH'] == 'Staten Island']['SALE PRICE'].mean()\n",
    "print('Staten Island:',round(mean_staten_island,2))"
   ]
  },
  {
   "cell_type": "markdown",
   "id": "0d745117",
   "metadata": {},
   "source": [
    "### Berapa rata-rata SALE PRICE untuk setiap kategori TAX?"
   ]
  },
  {
   "cell_type": "code",
   "execution_count": 39,
   "id": "1f127871",
   "metadata": {},
   "outputs": [
    {
     "name": "stdout",
     "output_type": "stream",
     "text": [
      "610021.02\n",
      "609562.54\n"
     ]
    }
   ],
   "source": [
    "# Menghitung rata-rata SALE PRICE pada property dengan TAX CLASS = 1\n",
    "\n",
    "mean_tax_1 = nyc_new[nyc_new['TAX CLASS AT PRESENT'] == '1']['SALE PRICE'].mean()\n",
    "print(round(mean_tax_1,2))\n",
    "\n",
    "mean_tax_sale_1 = nyc_new[nyc_new['TAX CLASS AT TIME OF SALE'] == '1']['SALE PRICE'].mean()\n",
    "print(round(mean_tax_sale_1,2))"
   ]
  },
  {
   "cell_type": "code",
   "execution_count": 40,
   "id": "66985bd3",
   "metadata": {},
   "outputs": [
    {
     "name": "stdout",
     "output_type": "stream",
     "text": [
      "1486091.2\n",
      "1481421.93\n"
     ]
    }
   ],
   "source": [
    "# Menghitung rata-rata SALE PRICE pada property dengan TAX CLASS = 2\n",
    "\n",
    "mean_tax_2 = nyc_new[nyc_new['TAX CLASS AT PRESENT'] == '2']['SALE PRICE'].mean()\n",
    "print(round(mean_tax_2,2))\n",
    "\n",
    "mean_tax_sale_2 = nyc_new[nyc_new['TAX CLASS AT TIME OF SALE'] == '2']['SALE PRICE'].mean()\n",
    "print(round(mean_tax_sale_2,2))"
   ]
  },
  {
   "cell_type": "code",
   "execution_count": 41,
   "id": "9cfaebd9",
   "metadata": {},
   "outputs": [
    {
     "name": "stdout",
     "output_type": "stream",
     "text": [
      "5737273.47\n",
      "5748098.11\n"
     ]
    }
   ],
   "source": [
    "# Menghitung rata-rata SALE PRICE pada property dengan TAX CLASS = 4\n",
    "# TAX CLASS = 3 tidak ada datanya sehingga tidak perlu dicari\n",
    "\n",
    "mean_tax_4 = nyc_new[nyc_new['TAX CLASS AT PRESENT'] == '4']['SALE PRICE'].mean()\n",
    "print(round(mean_tax_4,2))\n",
    "\n",
    "mean_tax_sale_4 = nyc_new[nyc_new['TAX CLASS AT TIME OF SALE'] == '4']['SALE PRICE'].mean()\n",
    "print(round(mean_tax_sale_4,2))"
   ]
  },
  {
   "cell_type": "markdown",
   "id": "22905a58",
   "metadata": {},
   "source": [
    "### Berapa rata-rata SALE PRICE untuk property yang bukan transfer deeds?"
   ]
  },
  {
   "cell_type": "code",
   "execution_count": 42,
   "id": "5c6d680e",
   "metadata": {},
   "outputs": [
    {
     "data": {
      "text/plain": [
       "1520569.823515197"
      ]
     },
     "execution_count": 42,
     "metadata": {},
     "output_type": "execute_result"
    }
   ],
   "source": [
    "# Menghitung rata-rata SALE PRICE pada property dengan SALE PRICE bukan 0 (bukan warisan) \n",
    "\n",
    "non_trf = nyc_new[nyc_new['SALE PRICE'] != 0]\n",
    "mean_non_trf = non_trf['SALE PRICE'].mean()\n",
    "mean_non_trf"
   ]
  },
  {
   "cell_type": "markdown",
   "id": "c28fa58b",
   "metadata": {},
   "source": [
    "### Berapa rata-rata LAND SQUARE FEET pada daerah Bronx dan Brooklyn"
   ]
  },
  {
   "cell_type": "code",
   "execution_count": 43,
   "id": "37c3f592",
   "metadata": {},
   "outputs": [
    {
     "name": "stdout",
     "output_type": "stream",
     "text": [
      "3768.108341885354\n",
      "2020.6039058803287\n"
     ]
    }
   ],
   "source": [
    "# Menghitung rata-rata LAND SQUARE FEET (land area) Property di Bronx dan Brooklyn\n",
    "\n",
    "land_bronx = nyc_new[nyc_new['BOROUGH'] == 'Bronx']['LAND SQUARE FEET'].mean()\n",
    "print(land_bronx)\n",
    "\n",
    "land_brooklyn = nyc_new[nyc_new['BOROUGH'] == 'Brooklyn']['LAND SQUARE FEET'].mean()\n",
    "print(land_brooklyn)"
   ]
  },
  {
   "cell_type": "markdown",
   "id": "722ac4e0",
   "metadata": {},
   "source": [
    "### Berapa median untuk setiap kolom numerik?"
   ]
  },
  {
   "cell_type": "code",
   "execution_count": 44,
   "id": "663261da",
   "metadata": {},
   "outputs": [
    {
     "name": "stdout",
     "output_type": "stream",
     "text": [
      "Median of Residential Units: 1.0\n",
      "Median of Commercial Units: 0.0\n",
      "Median of Total Units: 1.0\n",
      "Median of Land Square Feet: 2143.0\n",
      "Median of Gross Square Feet: 1632.0\n",
      "Median of Sale Price: 495000.0\n"
     ]
    }
   ],
   "source": [
    "# median fitur RESIDENTIAL UNITS\n",
    "median_res_units = nyc_new['RESIDENTIAL UNITS'].median()\n",
    "print('Median of Residential Units:', median_res_units)\n",
    "\n",
    "# median fitur COMMERCIAL UNITS\n",
    "median_com_units = nyc_new['COMMERCIAL UNITS'].median()\n",
    "print('Median of Commercial Units:', median_com_units)\n",
    "\n",
    "# median fitur TOTAL UNITS\n",
    "median_total_units = nyc_new['TOTAL UNITS'].median()\n",
    "print('Median of Total Units:', median_total_units)\n",
    "\n",
    "# median fitur LAND SQUARE FEET\n",
    "median_land = nyc_new['LAND SQUARE FEET'].median()\n",
    "print('Median of Land Square Feet:', median_land)\n",
    "\n",
    "# median fitur GROSS SQUARE FEET\n",
    "median_gross = nyc_new['GROSS SQUARE FEET'].median()\n",
    "print('Median of Gross Square Feet:', median_gross)\n",
    "\n",
    "# median fitur SALE PRICE\n",
    "median_price = nyc_new['SALE PRICE'].median()\n",
    "print('Median of Sale Price:', median_price)"
   ]
  },
  {
   "cell_type": "markdown",
   "id": "c83b4309",
   "metadata": {},
   "source": [
    "### Berapa median SALE PRICE di setiap BOROUGH?"
   ]
  },
  {
   "cell_type": "code",
   "execution_count": 45,
   "id": "82913241",
   "metadata": {},
   "outputs": [
    {
     "name": "stdout",
     "output_type": "stream",
     "text": [
      "Manhattan: 6800000.0\n",
      "Bronx: 285000.0\n",
      "Brooklyn: 440000.0\n",
      "Queens: 641000.0\n",
      "Staten Island: 490000.0\n"
     ]
    }
   ],
   "source": [
    "# Menghitung median SALE PRICE di daerah Manhattan\n",
    "median_manhattan = nyc_new[nyc_new['BOROUGH'] == 'Manhattan']['SALE PRICE'].median()\n",
    "print('Manhattan:',round(median_manhattan,2))\n",
    "\n",
    "# Menghitung median SALE PRICE di daerah Bronx\n",
    "median_bronx = nyc_new[nyc_new['BOROUGH'] == 'Bronx']['SALE PRICE'].median()\n",
    "print('Bronx:',round(median_bronx,2))\n",
    "\n",
    "# Menghitung median SALE PRICE di daerah Brooklyn\n",
    "median_brooklyn = nyc_new[nyc_new['BOROUGH'] == 'Brooklyn']['SALE PRICE'].median()\n",
    "print('Brooklyn:',round(median_brooklyn,2))\n",
    "\n",
    "# Menghitung median SALE PRICE di daerah Queens\n",
    "median_queens = nyc_new[nyc_new['BOROUGH'] == 'Queens']['SALE PRICE'].median()\n",
    "print('Queens:',round(median_queens,2))\n",
    "\n",
    "# Menghitung median SALE PRICE di daerah Staten Island\n",
    "median_staten_island = nyc_new[nyc_new['BOROUGH'] == 'Staten Island']['SALE PRICE'].median()\n",
    "print('Staten Island:',round(median_staten_island,2))"
   ]
  },
  {
   "cell_type": "markdown",
   "id": "e21fe3a0",
   "metadata": {},
   "source": [
    "### Berapa median SALE PRICE untuk setiap kategori Tax?"
   ]
  },
  {
   "cell_type": "code",
   "execution_count": 46,
   "id": "bb72055a",
   "metadata": {},
   "outputs": [
    {
     "name": "stdout",
     "output_type": "stream",
     "text": [
      "500000.0\n",
      "500000.0\n"
     ]
    }
   ],
   "source": [
    "# Menghitung median SALE PRICE pada tax class 1\n",
    "median_tax_1 = nyc_new[nyc_new['TAX CLASS AT PRESENT'] == '1']['SALE PRICE'].median()\n",
    "print(round(median_tax_1,2))\n",
    "\n",
    "median_tax_sale_1 = nyc_new[nyc_new['TAX CLASS AT TIME OF SALE'] == '1']['SALE PRICE'].median()\n",
    "print(round(median_tax_sale_1,2))"
   ]
  },
  {
   "cell_type": "code",
   "execution_count": 47,
   "id": "348814c9",
   "metadata": {},
   "outputs": [
    {
     "name": "stdout",
     "output_type": "stream",
     "text": [
      "492790.0\n",
      "495000.0\n"
     ]
    }
   ],
   "source": [
    "# Menghitung median SALE PRICE pada tax class 2\n",
    "median_tax_2 = nyc_new[nyc_new['TAX CLASS AT PRESENT'] == '2']['SALE PRICE'].median()\n",
    "print(round(median_tax_2,2))\n",
    "\n",
    "median_tax_sale_2 = nyc_new[nyc_new['TAX CLASS AT TIME OF SALE'] == '2']['SALE PRICE'].median()\n",
    "print(round(median_tax_sale_2,2))"
   ]
  },
  {
   "cell_type": "code",
   "execution_count": 48,
   "id": "2184f0ab",
   "metadata": {},
   "outputs": [
    {
     "name": "stdout",
     "output_type": "stream",
     "text": [
      "99000.0\n",
      "96330.0\n"
     ]
    }
   ],
   "source": [
    "# Menghitung median SALE PRICE pada tax class 4\n",
    "median_tax_4 = nyc_new[nyc_new['TAX CLASS AT PRESENT'] == '4']['SALE PRICE'].median()\n",
    "print(round(median_tax_4,2))\n",
    "\n",
    "median_tax_sale_4 = nyc_new[nyc_new['TAX CLASS AT TIME OF SALE'] == '4']['SALE PRICE'].median()\n",
    "print(round(median_tax_sale_4,2))"
   ]
  },
  {
   "cell_type": "markdown",
   "id": "f002698f",
   "metadata": {},
   "source": [
    "### Modus pada setiap kategorikal data?"
   ]
  },
  {
   "cell_type": "code",
   "execution_count": 49,
   "id": "13d4de3c",
   "metadata": {},
   "outputs": [
    {
     "name": "stdout",
     "output_type": "stream",
     "text": [
      "Mode of Borough: ['Brooklyn']\n",
      "Mode of Borough: ['Brooklyn']\n",
      "Mode of Neighborhood: ['BEDFORD STUYVESANT']\n",
      "Mode of Building Class Category: ['01 ONE FAMILY DWELLINGS                    ']\n",
      "Mode of Tax Class Present: ['1']\n",
      "Mode of Tax Class Time of Sale: ['1']\n",
      "Mode of Tax Class Time of Sale: ['1']\n"
     ]
    }
   ],
   "source": [
    "# modus fitur BOROUGH \n",
    "mode_borough = nyc_new['BOROUGH'].mode()\n",
    "print('Mode of Borough:', mode_borough.values)\n",
    "\n",
    "# modus fitur BOROUGH yang tidak termasuk transfer deeds\n",
    "borough_wo_trf = nyc_new[nyc_new['SALE PRICE'] != 0]['BOROUGH'].mode()\n",
    "print('Mode of Borough:', borough_wo_trf.values)\n",
    "\n",
    "# modus fitur NEIGHBORHOOD \n",
    "mode_neighborhood = nyc_new['NEIGHBORHOOD'].mode()\n",
    "print('Mode of Neighborhood:', mode_neighborhood.values)\n",
    "\n",
    "# modus fitur BUILDING CLASS CATEGORY \n",
    "mode_bcc = nyc_new['BUILDING CLASS CATEGORY'].mode()\n",
    "print('Mode of Building Class Category:', mode_bcc.values)\n",
    "\n",
    "# modus fitur TAX CLASS PRESENT \n",
    "mode_tax_present = nyc_new['TAX CLASS AT PRESENT'].mode()\n",
    "print('Mode of Tax Class Present:', mode_tax_present.values)\n",
    "\n",
    "# modus fitur TAX CLASS TIME OF SALE \n",
    "mode_tax_sale = nyc_new['TAX CLASS AT TIME OF SALE'].mode()\n",
    "print('Mode of Tax Class Time of Sale:', mode_tax_sale.values)\n",
    "\n",
    "# modus fitur TAX CLASS TIME OF SALE \n",
    "mode_tax_sale = nyc_new['TAX CLASS AT TIME OF SALE'].mode()\n",
    "print('Mode of Tax Class Time of Sale:', mode_tax_sale.values)"
   ]
  },
  {
   "cell_type": "markdown",
   "id": "97bad811",
   "metadata": {},
   "source": [
    "### Berapa range/jangkauan dari SALE PRICE, LAND sq. ft. ,GROSS sq. ft."
   ]
  },
  {
   "cell_type": "code",
   "execution_count": 50,
   "id": "95e13193",
   "metadata": {},
   "outputs": [
    {
     "name": "stdout",
     "output_type": "stream",
     "text": [
      "0.0 2210000000.0 2210000000.0\n"
     ]
    }
   ],
   "source": [
    "# Menghitung jangkauan (nilai tertinggi - nilai terendah) SALE PRICE\n",
    "range_sale_price = np.ptp(nyc_new['SALE PRICE'])\n",
    "print(min(nyc_new['SALE PRICE']),max(nyc_new['SALE PRICE']),range_sale_price)"
   ]
  },
  {
   "cell_type": "code",
   "execution_count": 51,
   "id": "172e2008",
   "metadata": {},
   "outputs": [
    {
     "name": "stdout",
     "output_type": "stream",
     "text": [
      "0.0 4228300.0 4228300.0\n"
     ]
    }
   ],
   "source": [
    "# Menghitung jangkauan (nilai tertinggi - nilai terendah) LAND SQUARE FEET (Land Area)\n",
    "range_land = np.ptp(nyc_new['LAND SQUARE FEET'])\n",
    "print(min(nyc_new['LAND SQUARE FEET']),max(nyc_new['LAND SQUARE FEET']),range_land)"
   ]
  },
  {
   "cell_type": "code",
   "execution_count": 52,
   "id": "3d8799bb",
   "metadata": {},
   "outputs": [
    {
     "name": "stdout",
     "output_type": "stream",
     "text": [
      "0.0 3750565.0 3750565.0\n"
     ]
    }
   ],
   "source": [
    "# Menghitung jangkauan (nilai tertinggi - nilai terendah) GROSS SQUARE FEET (Gross Area)\n",
    "range_gross = np.ptp(nyc_new['GROSS SQUARE FEET'])\n",
    "print(min(nyc_new['GROSS SQUARE FEET']),max(nyc_new['GROSS SQUARE FEET']),range_gross)"
   ]
  },
  {
   "cell_type": "markdown",
   "id": "58bf9f5b",
   "metadata": {},
   "source": [
    "### Berapa Variance dan Standar Deviasi untuk setiap kolom numerik?"
   ]
  },
  {
   "cell_type": "code",
   "execution_count": 53,
   "id": "d049ac7c",
   "metadata": {},
   "outputs": [
    {
     "name": "stdout",
     "output_type": "stream",
     "text": [
      "Residential Units Variance: 296.32\n",
      "Commercial Units Variance: 119.52\n",
      "Total Units Variance: 420.74\n",
      "Land Sq. Ft. Variance: 1128266993.09\n",
      "Gross Sq. Ft. Variance: 1122910128.36\n",
      "Sale Price Variance: 185277302488793.12\n"
     ]
    }
   ],
   "source": [
    "# Menghitung variasi nilai RESIDENTIAL UNIT\n",
    "var_res_units = np.var(nyc_new['RESIDENTIAL UNITS'], ddof=1)\n",
    "print('Residential Units Variance:', round(var_res_units,2))\n",
    "\n",
    "# Menghitung variasi nilai COMMERCIAL UNIT\n",
    "var_com_units = np.var(nyc_new['COMMERCIAL UNITS'], ddof=1)\n",
    "print('Commercial Units Variance:', round(var_com_units,2))\n",
    "\n",
    "# Menghitung variasi nilai TOTAL UNIT\n",
    "var_total_units = np.var(nyc_new['TOTAL UNITS'], ddof=1)\n",
    "print('Total Units Variance:', round(var_total_units,2))\n",
    "\n",
    "# Menghitung variasi nilai LAND SQUARE FEET\n",
    "var_land = np.var(nyc_new['LAND SQUARE FEET'], ddof=1)\n",
    "print('Land Sq. Ft. Variance:', round(var_land,2))\n",
    "\n",
    "# Menghitung variasi nilai GROSS SQUARE FEET\n",
    "var_gross = np.var(nyc_new['GROSS SQUARE FEET'], ddof=1)\n",
    "print('Gross Sq. Ft. Variance:', round(var_gross,2))\n",
    "\n",
    "# Menghitung variasi nilai SALE PRICE\n",
    "var_sale_price = np.var(nyc_new['SALE PRICE'], ddof=1)\n",
    "print('Sale Price Variance:', round(var_sale_price,2))"
   ]
  },
  {
   "cell_type": "code",
   "execution_count": 54,
   "id": "71fa7aa4",
   "metadata": {},
   "outputs": [
    {
     "name": "stdout",
     "output_type": "stream",
     "text": [
      "Residential Units Std: 17.21\n",
      "Commercial Units Std: 10.93\n",
      "Total Units Std: 20.51\n",
      "Land Sq. Ft. Std: 33589.69\n",
      "Gross Sq. Ft. Std: 33509.85\n",
      "Sale Price Std: 13611660.53\n"
     ]
    }
   ],
   "source": [
    "# Menghitung standar deviasi dari RESIDENTIAL UNIT\n",
    "std_res_units = var_res_units**0.5\n",
    "print('Residential Units Std:', round(std_res_units,2))\n",
    "\n",
    "# Menghitung standar deviasi dari COMMERCIAL UNIT\n",
    "std_com_units =  var_com_units**0.5\n",
    "print('Commercial Units Std:', round(std_com_units,2))\n",
    "\n",
    "# Menghitung standar deviasi dari TOTAL UNIT\n",
    "std_total_units =  var_total_units**0.5\n",
    "print('Total Units Std:', round(std_total_units,2))\n",
    "\n",
    "# Menghitung standar deviasi dari LAND SQUARE FEET\n",
    "std_land =  var_land**0.5\n",
    "print('Land Sq. Ft. Std:', round(std_land,2))\n",
    "\n",
    "# Menghitung standar deviasi dari GROSS SQUARE FEET\n",
    "std_gross =  var_gross**0.5\n",
    "print('Gross Sq. Ft. Std:', round(std_gross,2))\n",
    "\n",
    "# Menghitung standar deviasi dari SALE PRICE\n",
    "std_sale_price =  var_sale_price**0.5\n",
    "print('Sale Price Std:', round(std_sale_price,2))"
   ]
  },
  {
   "cell_type": "markdown",
   "id": "a446f3b1",
   "metadata": {},
   "source": [
    "### Bagaimana Distribusi dari SALE PRICE di setiap Borough?"
   ]
  },
  {
   "cell_type": "code",
   "execution_count": 55,
   "id": "d849cd4a",
   "metadata": {},
   "outputs": [
    {
     "name": "stderr",
     "output_type": "stream",
     "text": [
      "C:\\Users\\USER\\anaconda3\\envs\\H8_001\\lib\\site-packages\\seaborn\\distributions.py:2619: FutureWarning: `distplot` is a deprecated function and will be removed in a future version. Please adapt your code to use either `displot` (a figure-level function with similar flexibility) or `histplot` (an axes-level function for histograms).\n",
      "  warnings.warn(msg, FutureWarning)\n"
     ]
    },
    {
     "data": {
      "image/png": "[encoded data removed]",
      "text/plain": [
       "<Figure size 576x288 with 1 Axes>"
      ]
     },
     "metadata": {
      "needs_background": "light"
     },
     "output_type": "display_data"
    }
   ],
   "source": [
    "# lihat distribusi sale price dengan boroughnya adalah Manhattan\n",
    "plt.figure(figsize=(8,4))\n",
    "sns.distplot(nyc_new[nyc_new['BOROUGH'] == 'Manhattan']['SALE PRICE'])\n",
    "plt.title('Distribusi Sale Price Properti Manhattan')\n",
    "plt.show()"
   ]
  },
  {
   "cell_type": "code",
   "execution_count": 56,
   "id": "806dad3c",
   "metadata": {},
   "outputs": [
    {
     "name": "stderr",
     "output_type": "stream",
     "text": [
      "C:\\Users\\USER\\anaconda3\\envs\\H8_001\\lib\\site-packages\\seaborn\\distributions.py:2619: FutureWarning: `distplot` is a deprecated function and will be removed in a future version. Please adapt your code to use either `displot` (a figure-level function with similar flexibility) or `histplot` (an axes-level function for histograms).\n",
      "  warnings.warn(msg, FutureWarning)\n"
     ]
    },
    {
     "data": {
      "image/png": "[encoded data removed]",
      "text/plain": [
       "<Figure size 576x288 with 1 Axes>"
      ]
     },
     "metadata": {
      "needs_background": "light"
     },
     "output_type": "display_data"
    }
   ],
   "source": [
    "# lihat distribusi sale price dengan boroughnya adalah Bronx\n",
    "plt.figure(figsize=(8,4))\n",
    "sns.distplot(nyc_new[nyc_new['BOROUGH'] == 'Bronx']['SALE PRICE'])\n",
    "plt.title('Distribusi Sale Price Properti Bronx')\n",
    "plt.show()"
   ]
  },
  {
   "cell_type": "code",
   "execution_count": 57,
   "id": "f3d7a890",
   "metadata": {},
   "outputs": [
    {
     "name": "stderr",
     "output_type": "stream",
     "text": [
      "C:\\Users\\USER\\anaconda3\\envs\\H8_001\\lib\\site-packages\\seaborn\\distributions.py:2619: FutureWarning: `distplot` is a deprecated function and will be removed in a future version. Please adapt your code to use either `displot` (a figure-level function with similar flexibility) or `histplot` (an axes-level function for histograms).\n",
      "  warnings.warn(msg, FutureWarning)\n"
     ]
    },
    {
     "data": {
      "image/png": "[encoded data removed]",
      "text/plain": [
       "<Figure size 576x288 with 1 Axes>"
      ]
     },
     "metadata": {
      "needs_background": "light"
     },
     "output_type": "display_data"
    }
   ],
   "source": [
    "# lihat distribusi sale price dengan boroughnya adalah Brooklyn\n",
    "plt.figure(figsize=(8,4))\n",
    "sns.distplot(nyc_new[nyc_new['BOROUGH'] == 'Brooklyn']['SALE PRICE'])\n",
    "plt.title('Distribusi Sale Price Properti Brooklyn')\n",
    "plt.show()"
   ]
  },
  {
   "cell_type": "code",
   "execution_count": 58,
   "id": "71680d44",
   "metadata": {},
   "outputs": [
    {
     "name": "stderr",
     "output_type": "stream",
     "text": [
      "C:\\Users\\USER\\anaconda3\\envs\\H8_001\\lib\\site-packages\\seaborn\\distributions.py:2619: FutureWarning: `distplot` is a deprecated function and will be removed in a future version. Please adapt your code to use either `displot` (a figure-level function with similar flexibility) or `histplot` (an axes-level function for histograms).\n",
      "  warnings.warn(msg, FutureWarning)\n"
     ]
    },
    {
     "data": {
      "image/png": "[encoded data removed]",
      "text/plain": [
       "<Figure size 576x288 with 1 Axes>"
      ]
     },
     "metadata": {
      "needs_background": "light"
     },
     "output_type": "display_data"
    }
   ],
   "source": [
    "# lihat distribusi sale price dengan boroughnya adalah Queens\n",
    "plt.figure(figsize=(8,4))\n",
    "sns.distplot(nyc_new[nyc_new['BOROUGH'] == 'Queens']['SALE PRICE'])\n",
    "plt.title('Distribusi Sale Price Properti Queens')\n",
    "plt.show()"
   ]
  },
  {
   "cell_type": "code",
   "execution_count": 59,
   "id": "856be1c4",
   "metadata": {},
   "outputs": [
    {
     "name": "stderr",
     "output_type": "stream",
     "text": [
      "C:\\Users\\USER\\anaconda3\\envs\\H8_001\\lib\\site-packages\\seaborn\\distributions.py:2619: FutureWarning: `distplot` is a deprecated function and will be removed in a future version. Please adapt your code to use either `displot` (a figure-level function with similar flexibility) or `histplot` (an axes-level function for histograms).\n",
      "  warnings.warn(msg, FutureWarning)\n"
     ]
    },
    {
     "data": {
      "image/png": "[encoded data removed]",
      "text/plain": [
       "<Figure size 576x288 with 1 Axes>"
      ]
     },
     "metadata": {
      "needs_background": "light"
     },
     "output_type": "display_data"
    }
   ],
   "source": [
    "# lihat distribusi sale price dengan boroughnya adalah Staten Island\n",
    "plt.figure(figsize=(8,4))\n",
    "sns.distplot(nyc_new[nyc_new['BOROUGH'] == 'Staten Island']['SALE PRICE'])\n",
    "plt.title('Distribusi Sale Price Properti Staten Island')\n",
    "plt.show()"
   ]
  },
  {
   "cell_type": "markdown",
   "id": "a9560449",
   "metadata": {},
   "source": [
    "Dari grafik di atas dapat dilihat bahwa distribusi penjualan/sale price secara keseluruhan di tiap borough tidak lah normal (Right-Skew/Positif Skew). Jika dilihat dari grafiknya kemungkinan data sale price ini berdistribusi exponential atau gamma. Dimana nilai sale price yang lebih kecil paling banyak muncul kemudian menurun frekuensinya seiring bertambahnya harga penjualan"
   ]
  },
  {
   "cell_type": "markdown",
   "id": "f15e2fe5",
   "metadata": {},
   "source": [
    "### Berapa rata-rata SALE PRICE populasi property MANHATTAN yang bukan transfer deeds dengan CI 95%?"
   ]
  },
  {
   "cell_type": "code",
   "execution_count": 60,
   "id": "6f85e23a",
   "metadata": {},
   "outputs": [],
   "source": [
    "# data yang bukan trf deed dengan boroughnya adalah Manhattan\n",
    "non_trf_manhattan = non_trf[non_trf['BOROUGH'] == 'Manhattan']"
   ]
  },
  {
   "cell_type": "code",
   "execution_count": 61,
   "id": "4a3d045e",
   "metadata": {},
   "outputs": [
    {
     "name": "stderr",
     "output_type": "stream",
     "text": [
      "C:\\Users\\USER\\anaconda3\\envs\\H8_001\\lib\\site-packages\\seaborn\\distributions.py:2619: FutureWarning: `distplot` is a deprecated function and will be removed in a future version. Please adapt your code to use either `displot` (a figure-level function with similar flexibility) or `histplot` (an axes-level function for histograms).\n",
      "  warnings.warn(msg, FutureWarning)\n"
     ]
    },
    {
     "data": {
      "image/png": "[encoded data removed]",
      "text/plain": [
       "<Figure size 720x576 with 1 Axes>"
      ]
     },
     "metadata": {
      "needs_background": "light"
     },
     "output_type": "display_data"
    }
   ],
   "source": [
    "# lihat distribusi sale price dari data yang bukan trf deed dengan boroughnya adalah Manhattan\n",
    "plt.figure(figsize=(10,8))\n",
    "sns.distplot(non_trf_manhattan['SALE PRICE'])\n",
    "plt.title('Distribusi Sale Price Manhattan which is not transfer deeds')\n",
    "plt.show()"
   ]
  },
  {
   "cell_type": "markdown",
   "id": "b1ec45cb",
   "metadata": {},
   "source": [
    "Karena distribusinya tidak normal maka kita perlu mengimplementasikan Central limit theorem. "
   ]
  },
  {
   "cell_type": "code",
   "execution_count": 62,
   "id": "ee7b7c11",
   "metadata": {},
   "outputs": [
    {
     "data": {
      "text/html": [
       "<div>\n",
       "<style scoped>\n",
       "    .dataframe tbody tr th:only-of-type {\n",
       "        vertical-align: middle;\n",
       "    }\n",
       "\n",
       "    .dataframe tbody tr th {\n",
       "        vertical-align: top;\n",
       "    }\n",
       "\n",
       "    .dataframe thead th {\n",
       "        text-align: right;\n",
       "    }\n",
       "</style>\n",
       "<table border=\"1\" class=\"dataframe\">\n",
       "  <thead>\n",
       "    <tr style=\"text-align: right;\">\n",
       "      <th></th>\n",
       "      <th>BOROUGH</th>\n",
       "      <th>NEIGHBORHOOD</th>\n",
       "      <th>BUILDING CLASS CATEGORY</th>\n",
       "      <th>TAX CLASS AT PRESENT</th>\n",
       "      <th>BLOCK</th>\n",
       "      <th>LOT</th>\n",
       "      <th>BUILDING CLASS AT PRESENT</th>\n",
       "      <th>ADDRESS</th>\n",
       "      <th>ZIP CODE</th>\n",
       "      <th>RESIDENTIAL UNITS</th>\n",
       "      <th>COMMERCIAL UNITS</th>\n",
       "      <th>TOTAL UNITS</th>\n",
       "      <th>LAND SQUARE FEET</th>\n",
       "      <th>GROSS SQUARE FEET</th>\n",
       "      <th>YEAR BUILT</th>\n",
       "      <th>TAX CLASS AT TIME OF SALE</th>\n",
       "      <th>BUILDING CLASS AT TIME OF SALE</th>\n",
       "      <th>SALE PRICE</th>\n",
       "      <th>SALE DATE</th>\n",
       "      <th>SALE YEAR</th>\n",
       "      <th>SALE MONTH</th>\n",
       "    </tr>\n",
       "  </thead>\n",
       "  <tbody>\n",
       "  </tbody>\n",
       "</table>\n",
       "</div>"
      ],
      "text/plain": [
       "Empty DataFrame\n",
       "Columns: [BOROUGH, NEIGHBORHOOD, BUILDING CLASS CATEGORY, TAX CLASS AT PRESENT, BLOCK, LOT, BUILDING CLASS AT PRESENT, ADDRESS, ZIP CODE, RESIDENTIAL UNITS, COMMERCIAL UNITS, TOTAL UNITS, LAND SQUARE FEET, GROSS SQUARE FEET, YEAR BUILT, TAX CLASS AT TIME OF SALE, BUILDING CLASS AT TIME OF SALE, SALE PRICE, SALE DATE, SALE YEAR, SALE MONTH]\n",
       "Index: []"
      ]
     },
     "execution_count": 62,
     "metadata": {},
     "output_type": "execute_result"
    }
   ],
   "source": [
    "# Cek apakah property di Manhattan ada yang di wariskan\n",
    "nyc_new[(nyc_new['BOROUGH'] == 'Manhattan') & (nyc_new['SALE PRICE'] == 0)]"
   ]
  },
  {
   "cell_type": "markdown",
   "id": "ff7a2ac4",
   "metadata": {},
   "source": [
    "Karena pada data manhattan tidak ada sale price = 0 yang berarti tidak ada transfer deeds maka meannya sama dengan mean_manhattan pada question nomor 2"
   ]
  },
  {
   "cell_type": "code",
   "execution_count": 63,
   "id": "ec8cf237",
   "metadata": {},
   "outputs": [
    {
     "data": {
      "text/plain": [
       "19960319.4127967"
      ]
     },
     "execution_count": 63,
     "metadata": {},
     "output_type": "execute_result"
    }
   ],
   "source": [
    "mean_manhattan"
   ]
  },
  {
   "cell_type": "code",
   "execution_count": 64,
   "id": "ca6f32ad",
   "metadata": {},
   "outputs": [
    {
     "data": {
      "text/plain": [
       "89559248.02099727"
      ]
     },
     "execution_count": 64,
     "metadata": {},
     "output_type": "execute_result"
    }
   ],
   "source": [
    "# Menghitung standar deviasi dari sale pricenya\n",
    "std_nontrf_manhattan = non_trf_manhattan['SALE PRICE'].std()\n",
    "std_nontrf_manhattan"
   ]
  },
  {
   "cell_type": "markdown",
   "id": "173bc6d6",
   "metadata": {},
   "source": [
    "Kita akan mengambil 300 sampel masing-masing dari 3000 nilai acak. Untuk setiap sampel, kita akan menghitung rata-rata sampel. Kemudian menyimpan semua sample means tersebut dalam list sample_means."
   ]
  },
  {
   "cell_type": "code",
   "execution_count": 93,
   "id": "ea4cc788",
   "metadata": {},
   "outputs": [],
   "source": [
    "sample_means = []\n",
    "n = 3000\n",
    "for sample in range(0, 300):\n",
    "    sample_values = np.random.choice(a=non_trf_manhattan['SALE PRICE'], size=n)    \n",
    "    sample_mean = np.mean(sample_values)\n",
    "    sample_means.append(sample_mean)"
   ]
  },
  {
   "cell_type": "code",
   "execution_count": 94,
   "id": "0fb7f1d2",
   "metadata": {},
   "outputs": [
    {
     "name": "stderr",
     "output_type": "stream",
     "text": [
      "C:\\Users\\USER\\anaconda3\\envs\\H8_001\\lib\\site-packages\\seaborn\\distributions.py:2619: FutureWarning: `distplot` is a deprecated function and will be removed in a future version. Please adapt your code to use either `displot` (a figure-level function with similar flexibility) or `histplot` (an axes-level function for histograms).\n",
      "  warnings.warn(msg, FutureWarning)\n"
     ]
    },
    {
     "data": {
      "text/plain": [
       "<function matplotlib.pyplot.show(close=None, block=None)>"
      ]
     },
     "execution_count": 94,
     "metadata": {},
     "output_type": "execute_result"
    },
    {
     "data": {
      "image/png": "[encoded data removed]",
      "text/plain": [
       "<Figure size 720x576 with 1 Axes>"
      ]
     },
     "metadata": {
      "needs_background": "light"
     },
     "output_type": "display_data"
    }
   ],
   "source": [
    "# lihat distribusi sample means sale price dari data yang bukan trf deed dengan boroughnya adalah Manhattan\n",
    "plt.figure(figsize=(10,8))\n",
    "sns.distplot(sample_means)\n",
    "plt.title(\"Distribusi Sample Means ($n=3000$) dari Sale Price Manhattan Properti yang bukan transfer deeds\", y=1.015, fontsize=10, pad=20)\n",
    "plt.xlabel(\"sample mean sale price\", labelpad=14)\n",
    "plt.ylabel(\"frequency of occurence\", labelpad=14)\n",
    "plt.show"
   ]
  },
  {
   "cell_type": "code",
   "execution_count": 95,
   "id": "c9e138a1",
   "metadata": {},
   "outputs": [
    {
     "data": {
      "text/plain": [
       "0.37308290493338064"
      ]
     },
     "execution_count": 95,
     "metadata": {},
     "output_type": "execute_result"
    }
   ],
   "source": [
    "scipy.stats.skew(sample_means, bias=False)"
   ]
  },
  {
   "cell_type": "markdown",
   "id": "8a91bb2e",
   "metadata": {},
   "source": [
    "Berdasarkan central limit theorem, pengambilan sampel dengan n = 3000 akan menghasilkan distribusi sample means yang mendekati normal (skewnessnya mendekati 0 yang berarti hampir simetris)"
   ]
  },
  {
   "cell_type": "code",
   "execution_count": 96,
   "id": "0eb75218",
   "metadata": {},
   "outputs": [
    {
     "data": {
      "text/plain": [
       "19803739.321333334"
      ]
     },
     "execution_count": 96,
     "metadata": {},
     "output_type": "execute_result"
    }
   ],
   "source": [
    "# Menghitung Median dari Sample Means\n",
    "median_of_sample_means = np.median(sample_means)\n",
    "median_of_sample_means"
   ]
  },
  {
   "cell_type": "code",
   "execution_count": 97,
   "id": "c1d827cd",
   "metadata": {},
   "outputs": [
    {
     "data": {
      "text/plain": [
       "19905196.85305111"
      ]
     },
     "execution_count": 97,
     "metadata": {},
     "output_type": "execute_result"
    }
   ],
   "source": [
    "# Menghitung Mean dari Sample Means\n",
    "mean_of_sample_means = np.mean(sample_means)\n",
    "mean_of_sample_means"
   ]
  },
  {
   "cell_type": "code",
   "execution_count": 98,
   "id": "b1a74565",
   "metadata": {},
   "outputs": [
    {
     "data": {
      "text/plain": [
       "(19960319.4127967, 19905196.85305111)"
      ]
     },
     "execution_count": 98,
     "metadata": {},
     "output_type": "execute_result"
    }
   ],
   "source": [
    "# Mean populasi, Mean Sample\n",
    "mean_manhattan, mean_of_sample_means"
   ]
  },
  {
   "cell_type": "markdown",
   "id": "53eb290e",
   "metadata": {},
   "source": [
    "Nilai mean_of_sample_means ini kira-kira sama dengan nilai population mean yang kita tetapkan ke variabel mean_manhattan. Berdasarkan central limit theorem, hal ini akan selalu terjadi."
   ]
  },
  {
   "cell_type": "code",
   "execution_count": 99,
   "id": "29cc7604",
   "metadata": {},
   "outputs": [
    {
     "data": {
      "text/plain": [
       "1761838.2017687296"
      ]
     },
     "execution_count": 99,
     "metadata": {},
     "output_type": "execute_result"
    }
   ],
   "source": [
    "# Menghitung Standar Deviasi dari Sample Means\n",
    "std_dev_of_sample_means = np.std(sample_means)\n",
    "std_dev_of_sample_means"
   ]
  },
  {
   "cell_type": "markdown",
   "id": "f0b2d5d7",
   "metadata": {},
   "source": [
    "Standard deviation dari sample means lebih sering disebut standard error (SE). Persamaan untuk standard error adalah:\n",
    "\n",
    "SE=σ/√n\n",
    "\n",
    "σ is population standard deviation <br>\n",
    "n is sample size"
   ]
  },
  {
   "cell_type": "code",
   "execution_count": 100,
   "id": "0cade0ab",
   "metadata": {},
   "outputs": [
    {
     "data": {
      "text/plain": [
       "1635120.679143337"
      ]
     },
     "execution_count": 100,
     "metadata": {},
     "output_type": "execute_result"
    }
   ],
   "source": [
    "# Menghitung Standar error dengan rumus di atas\n",
    "standard_error = std_nontrf_manhattan/np.sqrt(n)\n",
    "standard_error"
   ]
  },
  {
   "cell_type": "markdown",
   "id": "8792cd02",
   "metadata": {},
   "source": [
    "Nilai standard error (1,6 jt) ini hampir sama dengan nilai yang dihitung di atas untuk std_dev_of_sample_means (1,7 jt)."
   ]
  },
  {
   "cell_type": "code",
   "execution_count": 101,
   "id": "4f1ae635",
   "metadata": {},
   "outputs": [
    {
     "data": {
      "text/plain": [
       "(16700360.32193017, 23110033.384172052)"
      ]
     },
     "execution_count": 101,
     "metadata": {},
     "output_type": "execute_result"
    }
   ],
   "source": [
    "# z-score untuk 95%\n",
    "z_score = 1.96\n",
    "\n",
    "# batas bawah confidence interval\n",
    "lower_95_perc_bound = mean_of_sample_means - (z_score*standard_error)\n",
    "\n",
    "# batas atas confidence interval\n",
    "upper_95_perc_bound = mean_of_sample_means + (z_score*standard_error)\n",
    "\n",
    "lower_95_perc_bound, upper_95_perc_bound"
   ]
  },
  {
   "cell_type": "markdown",
   "id": "70726784",
   "metadata": {},
   "source": [
    "CI 95% menyatakan bahwa rata-rata SALE PRICE dari populasi MANHATTAN yang bukan transfer deeds berkisar antara 16 juta (16,700,360.32193017) hingga 23 juta (23,110,033.384172052) USD"
   ]
  },
  {
   "cell_type": "markdown",
   "id": "fba70f3d",
   "metadata": {},
   "source": [
    "### Apakah penjualan property di Bronx lebih tinggi secara signifikan daripada di Brooklyn pada tahun 2016-2017?"
   ]
  },
  {
   "cell_type": "markdown",
   "id": "78364b36",
   "metadata": {},
   "source": [
    "**Null dan Alternatif Hipotesis**"
   ]
  },
  {
   "cell_type": "markdown",
   "id": "13a7e505",
   "metadata": {},
   "source": [
    "ho => penjualan property Bronx >= penjualan property Brooklyn (null hypothesis) <br> \n",
    "ha => penjualan property Bronx < penjualan property Brooklyn"
   ]
  },
  {
   "cell_type": "markdown",
   "id": "f66c34ef",
   "metadata": {},
   "source": [
    "**Calculate rata-rata penjualan property Bronx, rata-rata penjualan property Brooklyn**"
   ]
  },
  {
   "cell_type": "code",
   "execution_count": 102,
   "id": "a1924f15",
   "metadata": {},
   "outputs": [
    {
     "data": {
      "text/plain": [
       "606854.0187655769"
      ]
     },
     "execution_count": 102,
     "metadata": {},
     "output_type": "execute_result"
    }
   ],
   "source": [
    "# rata-rata penjualan property di Bronx\n",
    "mean_bronx"
   ]
  },
  {
   "cell_type": "code",
   "execution_count": 103,
   "id": "69a4ed7d",
   "metadata": {},
   "outputs": [
    {
     "data": {
      "text/plain": [
       "850984.8985245408"
      ]
     },
     "execution_count": 103,
     "metadata": {},
     "output_type": "execute_result"
    }
   ],
   "source": [
    "# rata-rata penjualan property di Brooklyn\n",
    "mean_brooklyn"
   ]
  },
  {
   "cell_type": "markdown",
   "id": "b4948068",
   "metadata": {},
   "source": [
    "Hasil kalkulasi rata-rata penjualan property di Bronx lebih kecil dari Manhattan dengan rata-rata Bronx 606854.0187655769 dan Brooklyn 850984.8985245408. tetapi apakah nilainya berbeda secara signifikan?"
   ]
  },
  {
   "cell_type": "code",
   "execution_count": 104,
   "id": "0f667517",
   "metadata": {},
   "outputs": [],
   "source": [
    "# data dengan borough Bronx dan data dengan borough Brooklyn\n",
    "bronx = nyc_new[nyc_new['BOROUGH'] == 'Bronx']\n",
    "brooklyn = nyc_new[nyc_new['BOROUGH'] == 'Brooklyn']"
   ]
  },
  {
   "cell_type": "code",
   "execution_count": 105,
   "id": "43dfba0d",
   "metadata": {},
   "outputs": [
    {
     "data": {
      "text/plain": [
       "(-4.715016731831338, 2.416908875624625e-06)"
      ]
     },
     "execution_count": 105,
     "metadata": {},
     "output_type": "execute_result"
    }
   ],
   "source": [
    "# menghitung ztest dan mendapatkan nilai p value\n",
    "sm.stats.ztest(bronx[\"SALE PRICE\"], brooklyn[\"SALE PRICE\"],alternative='two-sided')"
   ]
  },
  {
   "cell_type": "markdown",
   "id": "701dc19d",
   "metadata": {},
   "source": [
    "Karena p-value (2.4169e-06) kecil dari  alpha (0.05), kita dapat reject null hypothesis bahwa rata-rata penjualan properti di Bronx lebih besar dan sama dengan rata-rata penjualan properti di Brooklyn. Sehingga rata-rata Bronx 606854.0187655769 kurang dari rata-rata Brooklyn yaitu 850984.8985245408 "
   ]
  },
  {
   "cell_type": "markdown",
   "id": "f0f98be8",
   "metadata": {},
   "source": [
    "### Kesimpulan"
   ]
  },
  {
   "cell_type": "markdown",
   "id": "490e0fb7",
   "metadata": {},
   "source": [
    "Berdasarkan data yang telah diobservasi didapatkan informasi sebagai berikut:\n",
    "\n",
    "- Rata-rata Penjualan (SALE PRICE) tertinggi ada di penjualan properti di Manhattan dan terendah di Staten Island\n",
    "- Penjualan properti dengan TAX CLASS 4 memiliki rata-rata penjualan yang lebih tinggi daripada kelas yang lainnya (Kelas 4 : Termasuk semua properti lain yang tidak termasuk dalam kelas 1,2, dan 3, seperti kantor, pabrik, gudang, gedung garasi, dll.)\n",
    "- Rata-rata penjualan untuk data yang bukan transfer deeds atau bukan warisan/turun-temurun adalah 1,520,569.823515197 (1,5jt)\n",
    "- Rata-rata luas area land properti untuk daerah Bronx lebih besar daripada Brooklyn\n",
    "- Data dengan borough Brooklyn dan building class 'BEDFORD STUYVESANT'  muncul paling banyak di dataset ini.\n",
    "- Data penjualan di setiap borough memiliki distribusi yang tidak normal (jika dilihat dari gambar kemungkinannya adalah distribusi eksponential atau gamma). Sehingga central tendencynya direpresentasikan oleh mediannya\n",
    "- Jarak antar data point SALE PRICE sangat besar yaitu 13,611,660.53\n",
    "- Berdasarkan CI 95% rata-rata SALE PRICE property di Manhattan yang bukan trf deeds berkisar antara 16 hingga 23 juta\n",
    "- penjualan property di Bronx lebih rendah secara signifikan daripada di Brooklyn"
   ]
  },
  {
   "cell_type": "markdown",
   "id": "fccedae1",
   "metadata": {},
   "source": [
    "Berdasarkan wikipedia borough yang memiliki daerah terluas adalah Queens\n",
    "\n",
    "\n",
    "![borough](img\\borough1.png)\n",
    "Lima Borough New York City: 1: Manhattan 2: Brooklyn 3: Queens 4: The Bronx 5: Staten Island <br>\n",
    "sumber:https://id.wikipedia.org/wiki/Borough_(Kota_New_York)\n",
    "\n",
    "\n",
    "Tetapi penjualan tertinggi berasal dari Manhattan dan yang paling laku berasal dari Brooklyn. Sehingga perusahaan property dapat memanfaatkan hal ini yaitu dengan menjual property di Brooklyn dan Manhattan lebih banyak daripada di borough lainnya. "
   ]
  },
  {
   "cell_type": "code",
   "execution_count": null,
   "id": "399ede18",
   "metadata": {},
   "outputs": [],
   "source": []
  }
 ],
 "metadata": {
  "kernelspec": {
   "display_name": "H8_001",
   "language": "python",
   "name": "h8_001"
  },
  "language_info": {
   "codemirror_mode": {
    "name": "ipython",
    "version": 3
   },
   "file_extension": ".py",
   "mimetype": "text/x-python",
   "name": "python",
   "nbconvert_exporter": "python",
   "pygments_lexer": "ipython3",
   "version": "3.7.11"
  },
  "toc": {
   "base_numbering": 1,
   "nav_menu": {},
   "number_sections": true,
   "sideBar": true,
   "skip_h1_title": false,
   "title_cell": "Table of Contents",
   "title_sidebar": "Contents",
   "toc_cell": false,
   "toc_position": {
    "height": "calc(100% - 180px)",
    "left": "10px",
    "top": "150px",
    "width": "273.188px"
   },
   "toc_section_display": true,
   "toc_window_display": true
  }
 },
 "nbformat": 4,
 "nbformat_minor": 5
}
