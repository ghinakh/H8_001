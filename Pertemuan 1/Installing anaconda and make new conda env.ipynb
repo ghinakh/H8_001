{
 "cells": [
  {
   "cell_type": "markdown",
   "id": "8bfa8f12",
   "metadata": {},
   "source": [
    "Reason why we need python environments :\n",
    "\n",
    "https://www.freecodecamp.org/news/why-you-need-python-environments-and-how-to-manage-them-with-conda-85f155f4353c/"
   ]
  },
  {
   "cell_type": "markdown",
   "id": "e4f76f3f",
   "metadata": {},
   "source": [
    "### Step 1"
   ]
  },
  {
   "cell_type": "markdown",
   "id": "49584b45",
   "metadata": {},
   "source": [
    "[Install anaconda on windows](https://docs.anaconda.com/anaconda/install/windows/)"
   ]
  },
  {
   "cell_type": "markdown",
   "id": "ce4664d0",
   "metadata": {},
   "source": [
    "### Step 2"
   ]
  },
  {
   "cell_type": "markdown",
   "id": "9e314c4b",
   "metadata": {},
   "source": [
    "Paste the code into Anaconda Prompt <br> \n",
    "Create new conda environment, after -n is the name of environment.\n",
    "```\n",
    "conda create -n Proyek_001 python=3.7\n",
    "```\n",
    "> Note : If you find Proceed ([y]/n) then press y"
   ]
  },
  {
   "cell_type": "markdown",
   "id": "f7b2cb89",
   "metadata": {},
   "source": [
    "### Step 3"
   ]
  },
  {
   "cell_type": "markdown",
   "id": "e7088e97",
   "metadata": {},
   "source": [
    "```\n",
    "conda activate Proyek_001\n",
    "```"
   ]
  },
  {
   "cell_type": "markdown",
   "id": "c7ef794e",
   "metadata": {},
   "source": [
    "### Step 4"
   ]
  },
  {
   "cell_type": "markdown",
   "id": "664c4276",
   "metadata": {},
   "source": [
    "```\n",
    "pip install ipykernel\n",
    "```"
   ]
  },
  {
   "cell_type": "markdown",
   "id": "b86325ee",
   "metadata": {},
   "source": [
    "### Step 5"
   ]
  },
  {
   "cell_type": "markdown",
   "id": "d970abfc",
   "metadata": {},
   "source": [
    "```\n",
    "python -m ipykernel install — user --name Proyek_001 --display-name Proyek_001\n",
    "```"
   ]
  },
  {
   "cell_type": "markdown",
   "id": "9fc5208d",
   "metadata": {},
   "source": [
    "### Step 6"
   ]
  },
  {
   "cell_type": "markdown",
   "id": "49705014",
   "metadata": {},
   "source": [
    "```\n",
    "conda install jupyter\n",
    "```"
   ]
  },
  {
   "cell_type": "markdown",
   "id": "129f42e8",
   "metadata": {},
   "source": [
    "### Step 7 "
   ]
  },
  {
   "cell_type": "markdown",
   "id": "bb09e9f3",
   "metadata": {},
   "source": [
    "to run jupyter notebook :\n",
    "\n",
    "```\n",
    "jupyter notebook\n",
    "```"
   ]
  }
 ],
 "metadata": {
  "kernelspec": {
   "display_name": "H8_001",
   "language": "python",
   "name": "h8_001"
  },
  "language_info": {
   "codemirror_mode": {
    "name": "ipython",
    "version": 3
   },
   "file_extension": ".py",
   "mimetype": "text/x-python",
   "name": "python",
   "nbconvert_exporter": "python",
   "pygments_lexer": "ipython3",
   "version": "3.7.11"
  },
  "toc": {
   "base_numbering": 1,
   "nav_menu": {},
   "number_sections": true,
   "sideBar": true,
   "skip_h1_title": false,
   "title_cell": "Table of Contents",
   "title_sidebar": "Contents",
   "toc_cell": false,
   "toc_position": {},
   "toc_section_display": true,
   "toc_window_display": false
  }
 },
 "nbformat": 4,
 "nbformat_minor": 5
}
