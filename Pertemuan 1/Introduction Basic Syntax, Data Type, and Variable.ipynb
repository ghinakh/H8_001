{
 "cells": [
  {
   "cell_type": "markdown",
   "id": "d8b78944",
   "metadata": {},
   "source": [
    "## Intro to Python"
   ]
  },
  {
   "cell_type": "markdown",
   "id": "31ed53d3",
   "metadata": {},
   "source": [
    "### Integer"
   ]
  },
  {
   "cell_type": "code",
   "execution_count": 1,
   "id": "e993b05a",
   "metadata": {},
   "outputs": [
    {
     "name": "stdout",
     "output_type": "stream",
     "text": [
      "5\n",
      "<class 'int'>\n"
     ]
    }
   ],
   "source": [
    "print(5)\n",
    "print(type(10))"
   ]
  },
  {
   "cell_type": "code",
   "execution_count": 2,
   "id": "6d28cf02",
   "metadata": {},
   "outputs": [
    {
     "name": "stdout",
     "output_type": "stream",
     "text": [
      "123123123123123123123123123123123123123123123124\n"
     ]
    }
   ],
   "source": [
    "print(123123123123123123123123123123123123123123123123 + 1)"
   ]
  },
  {
   "cell_type": "markdown",
   "id": "f9e1c3d0",
   "metadata": {},
   "source": [
    "### Float"
   ]
  },
  {
   "cell_type": "code",
   "execution_count": 3,
   "id": "5d692898",
   "metadata": {},
   "outputs": [
    {
     "name": "stdout",
     "output_type": "stream",
     "text": [
      "4.2\n",
      "<class 'float'>\n"
     ]
    }
   ],
   "source": [
    "print(4.2)\n",
    "print(type(4.2))"
   ]
  },
  {
   "cell_type": "code",
   "execution_count": 4,
   "id": "110a6720",
   "metadata": {},
   "outputs": [
    {
     "name": "stdout",
     "output_type": "stream",
     "text": [
      "4.0\n",
      "0.2\n"
     ]
    }
   ],
   "source": [
    "print(4.)\n",
    "\n",
    "print(.2)"
   ]
  },
  {
   "cell_type": "code",
   "execution_count": 5,
   "id": "8f8f050c",
   "metadata": {},
   "outputs": [
    {
     "name": "stdout",
     "output_type": "stream",
     "text": [
      "4000000.0\n",
      "0.00042\n"
     ]
    }
   ],
   "source": [
    "print(.4e7) ### 0.4 x 10^7 = 4000000\n",
    " \n",
    "print(4.2e-4) ### 4.2 x 10^-4 = 0.00042"
   ]
  },
  {
   "cell_type": "markdown",
   "id": "12439ea3",
   "metadata": {},
   "source": [
    "### String"
   ]
  },
  {
   "cell_type": "code",
   "execution_count": 6,
   "id": "1ff18409",
   "metadata": {},
   "outputs": [
    {
     "name": "stdout",
     "output_type": "stream",
     "text": [
      "Hello World!\n",
      "<class 'str'>\n"
     ]
    }
   ],
   "source": [
    "print('Hello World!')\n",
    "print(type('Hello World!'))"
   ]
  },
  {
   "cell_type": "markdown",
   "id": "25884029",
   "metadata": {},
   "source": [
    "### Boolean"
   ]
  },
  {
   "cell_type": "code",
   "execution_count": 7,
   "id": "fed9d56e",
   "metadata": {},
   "outputs": [
    {
     "name": "stdout",
     "output_type": "stream",
     "text": [
      "<class 'bool'>\n",
      "<class 'bool'>\n"
     ]
    }
   ],
   "source": [
    "print(type(True))\n",
    "\n",
    "print(type(False))"
   ]
  },
  {
   "cell_type": "markdown",
   "id": "9d8c6ed7",
   "metadata": {},
   "source": [
    "### Variable Assignment"
   ]
  },
  {
   "cell_type": "code",
   "execution_count": 8,
   "id": "9f34a744",
   "metadata": {},
   "outputs": [
    {
     "name": "stdout",
     "output_type": "stream",
     "text": [
      "1000\n"
     ]
    }
   ],
   "source": [
    "n = 1000\n",
    "print(n)"
   ]
  },
  {
   "cell_type": "code",
   "execution_count": 9,
   "id": "2d90a263",
   "metadata": {},
   "outputs": [
    {
     "name": "stdout",
     "output_type": "stream",
     "text": [
      "300 300 300\n"
     ]
    }
   ],
   "source": [
    "a = b = c = 300\n",
    "print(a, b, c)"
   ]
  },
  {
   "cell_type": "markdown",
   "id": "693f75ca",
   "metadata": {},
   "source": [
    "### Operators and Expressions"
   ]
  },
  {
   "cell_type": "code",
   "execution_count": 10,
   "id": "e60972ff",
   "metadata": {},
   "outputs": [
    {
     "data": {
      "text/plain": [
       "30"
      ]
     },
     "execution_count": 10,
     "metadata": {},
     "output_type": "execute_result"
    }
   ],
   "source": [
    "a = 10\n",
    "b = 20\n",
    "a + b"
   ]
  },
  {
   "cell_type": "code",
   "execution_count": 11,
   "id": "6cd81daa",
   "metadata": {},
   "outputs": [
    {
     "data": {
      "text/plain": [
       "25"
      ]
     },
     "execution_count": 11,
     "metadata": {},
     "output_type": "execute_result"
    }
   ],
   "source": [
    "a + b - 5"
   ]
  },
  {
   "cell_type": "code",
   "execution_count": 12,
   "id": "efba7892",
   "metadata": {},
   "outputs": [
    {
     "name": "stdout",
     "output_type": "stream",
     "text": [
      "30\n",
      "-10\n",
      "200\n",
      "0.5\n",
      "10\n",
      "100000000000000000000\n"
     ]
    }
   ],
   "source": [
    "print(a + b)\n",
    "print(a - b)\n",
    "print(a * b)\n",
    "print(a / b)\n",
    "print(a % b)\n",
    "print(a ** b)"
   ]
  },
  {
   "cell_type": "code",
   "execution_count": 13,
   "id": "0a4213fc",
   "metadata": {},
   "outputs": [
    {
     "name": "stdout",
     "output_type": "stream",
     "text": [
      "False\n",
      "True\n",
      "True\n",
      "False\n",
      "True\n",
      "False\n"
     ]
    }
   ],
   "source": [
    "print(a == b)\n",
    "print(a != b)\n",
    "print(a <= b)\n",
    "print(a >= b)\n",
    "print(a < b)\n",
    "print(a > b)"
   ]
  },
  {
   "cell_type": "markdown",
   "id": "5cb162d3",
   "metadata": {},
   "source": [
    "### String Manipulation"
   ]
  },
  {
   "cell_type": "code",
   "execution_count": 14,
   "id": "6d80efd6",
   "metadata": {},
   "outputs": [
    {
     "name": "stdout",
     "output_type": "stream",
     "text": [
      "helloworld!\n",
      "hellohellohellohello\n",
      "True\n",
      "False\n"
     ]
    }
   ],
   "source": [
    "str1 = 'hello'\n",
    "str2 = 'world'\n",
    "str3 = '!'\n",
    "\n",
    "### + operation\n",
    "print(str1 + str2 + str3)\n",
    "\n",
    "### * operation\n",
    "print(str1*4)\n",
    "\n",
    "### in operator\n",
    "print('hell' in str1)\n",
    "print('hell' in str2)"
   ]
  },
  {
   "cell_type": "code",
   "execution_count": 15,
   "id": "34dbcad2",
   "metadata": {},
   "outputs": [
    {
     "name": "stdout",
     "output_type": "stream",
     "text": [
      "Helloworld!\n",
      "helloworld!\n",
      "HELLowORLd!\n",
      "The Trial Of The Chicago 7\n",
      "HELLOWORLD!\n"
     ]
    }
   ],
   "source": [
    "### Case Conversion\n",
    "\n",
    "string = 'hellOWorlD!'\n",
    "\n",
    "### Capitalize\n",
    "print(string.capitalize())\n",
    "\n",
    "### Lower\n",
    "print(string.lower())\n",
    "\n",
    "### Swapcase\n",
    "print(string.swapcase())\n",
    "\n",
    "### Title\n",
    "print('the trial of the chicago 7'.title())\n",
    "\n",
    "### Uppercase\n",
    "print(string.upper())"
   ]
  },
  {
   "cell_type": "markdown",
   "id": "81a817e4",
   "metadata": {},
   "source": [
    "### List"
   ]
  },
  {
   "cell_type": "markdown",
   "id": "41d5f08f",
   "metadata": {},
   "source": [
    "Karakteristik List\n",
    "- Lists are ordered\n",
    "- Lists can contain any arbitrary objects.\n",
    "- List elements can be accessed by index.\n",
    "- Lists can be nested to arbitrary depth.\n",
    "- Lists are mutable.\n",
    "- Lists are dynamic."
   ]
  },
  {
   "cell_type": "code",
   "execution_count": 16,
   "id": "094cc0da",
   "metadata": {},
   "outputs": [
    {
     "name": "stdout",
     "output_type": "stream",
     "text": [
      "['lucy', 'julia', 'joanne', 'judy', 'hussey']\n"
     ]
    }
   ],
   "source": [
    "simple_list = ['lucy', 'julia', 'joanne', 'judy', 'hussey']\n",
    "print(simple_list)"
   ]
  },
  {
   "cell_type": "code",
   "execution_count": 17,
   "id": "967359a1",
   "metadata": {},
   "outputs": [
    {
     "name": "stdout",
     "output_type": "stream",
     "text": [
      "False\n",
      "True\n"
     ]
    }
   ],
   "source": [
    "### list are ordered\n",
    "a = ['lucy', 'julia', 'joanne', 'judy', 'hussey']\n",
    "b = ['julia', 'lucy', 'joanne', 'judy', 'hussey']\n",
    "c = ['lucy', 'julia', 'joanne', 'judy', 'hussey']\n",
    "\n",
    "print(a == b)\n",
    "print(a == c)"
   ]
  },
  {
   "cell_type": "code",
   "execution_count": 18,
   "id": "43d8d1ea",
   "metadata": {},
   "outputs": [
    {
     "name": "stdout",
     "output_type": "stream",
     "text": [
      "[21.42, 'sam', 3, 4, 'bark', False, 3.14159]\n"
     ]
    }
   ],
   "source": [
    "### list can contain any arbitrary objects\n",
    "a = [21.42, 'sam', 3, 4, 'bark', False, 3.14159]\n",
    "\n",
    "print(a)"
   ]
  },
  {
   "cell_type": "code",
   "execution_count": 19,
   "id": "25a29e5d",
   "metadata": {},
   "outputs": [
    {
     "name": "stdout",
     "output_type": "stream",
     "text": [
      "lucy\n",
      "joanne\n",
      "judy\n",
      "hussey\n",
      "julia\n",
      "['julia', 'joanne', 'judy']\n",
      "['lucy', 'julia', 'joanne', 'judy']\n",
      "['judy', 'hussey']\n"
     ]
    }
   ],
   "source": [
    "### list elements can be accessed by index\n",
    "simple_list = ['lucy', 'julia', 'joanne', 'judy', 'hussey']\n",
    "\n",
    "print(simple_list[0])\n",
    "print(simple_list[2])\n",
    "print(simple_list[3])\n",
    "print(simple_list[-1])\n",
    "print(simple_list[-4])\n",
    "print(simple_list[1:4])\n",
    "print(simple_list[0:-1])\n",
    "print(simple_list[3:])"
   ]
  },
  {
   "cell_type": "code",
   "execution_count": 20,
   "id": "888a5b84",
   "metadata": {},
   "outputs": [
    {
     "name": "stdout",
     "output_type": "stream",
     "text": [
      "['foo', 'bar', 'baz', 'grault', 'garply']\n",
      "['foo', 'bar', 'baz', 'foo', 'bar', 'baz']\n"
     ]
    }
   ],
   "source": [
    "### concatenation (+) and replication (*) operator\n",
    "a = ['foo', 'bar', 'baz']\n",
    "print(a + ['grault', 'garply'])\n",
    "print(a * 2)"
   ]
  },
  {
   "cell_type": "code",
   "execution_count": 21,
   "id": "0b8b3736",
   "metadata": {},
   "outputs": [
    {
     "name": "stdout",
     "output_type": "stream",
     "text": [
      "['lucy', 'julia', 'joanne', 'judy', 'hussey']\n",
      "5\n",
      "hussey\n",
      "lucy\n"
     ]
    }
   ],
   "source": [
    "### len(), min(), max()\n",
    "print(simple_list)\n",
    "\n",
    "print(len(simple_list))\n",
    "print(min(simple_list))\n",
    "print(max(simple_list))"
   ]
  },
  {
   "cell_type": "code",
   "execution_count": 22,
   "id": "a884922f",
   "metadata": {},
   "outputs": [
    {
     "name": "stdout",
     "output_type": "stream",
     "text": [
      "before : ['lucy', 'julia', 'joanne', 'judy', 'hussey']\n",
      "after : ['lucy', 'julia', 'ryujin', 'judy', 'yuna']\n"
     ]
    }
   ],
   "source": [
    "### Modifying a Single List Value\n",
    "simple_list = ['lucy', 'julia', 'joanne', 'judy', 'hussey']\n",
    "print(\"before : {list}\".format(list=simple_list))\n",
    "\n",
    "simple_list[2] = 'ryujin'\n",
    "simple_list[-1] = 'yuna'\n",
    "\n",
    "print(\"after : {list}\".format(list=simple_list))"
   ]
  },
  {
   "cell_type": "code",
   "execution_count": 23,
   "id": "739feabb",
   "metadata": {},
   "outputs": [
    {
     "name": "stdout",
     "output_type": "stream",
     "text": [
      "before : ['foo', 'bar', 'baz']\n",
      "after : ['foo', 'baz']\n"
     ]
    }
   ],
   "source": [
    "### delete item in list\n",
    "print(\"before : {list}\".format(list=a))\n",
    "\n",
    "del a[1]\n",
    "\n",
    "print(\"after : {list}\".format(list=a))"
   ]
  },
  {
   "cell_type": "code",
   "execution_count": 24,
   "id": "cd4c1124",
   "metadata": {},
   "outputs": [
    {
     "name": "stdout",
     "output_type": "stream",
     "text": [
      "['bar', 'baz', 'qux']\n",
      "['foo', 1.1, 2.2, 3.3, 4.4, 5.5, 'quux', 'corge']\n"
     ]
    }
   ],
   "source": [
    "### Modifying Multiple List Values\n",
    "a = ['foo', 'bar', 'baz', 'qux', 'quux', 'corge']\n",
    "\n",
    "print(a[1:4])\n",
    "\n",
    "a[1:4] = [1.1, 2.2, 3.3, 4.4, 5.5]\n",
    "\n",
    "print(a)"
   ]
  },
  {
   "cell_type": "markdown",
   "id": "1f79a9c6",
   "metadata": {},
   "source": [
    "### Tuple"
   ]
  },
  {
   "cell_type": "code",
   "execution_count": 25,
   "id": "ab99100e",
   "metadata": {},
   "outputs": [
    {
     "name": "stdout",
     "output_type": "stream",
     "text": [
      "('foo', 'bar', 'baz', 'qux', 'quux', 'corge')\n"
     ]
    }
   ],
   "source": [
    "t = ('foo', 'bar', 'baz', 'qux', 'quux', 'corge')\n",
    "\n",
    "print(t)"
   ]
  },
  {
   "cell_type": "code",
   "execution_count": 26,
   "id": "fa618002",
   "metadata": {},
   "outputs": [
    {
     "name": "stdout",
     "output_type": "stream",
     "text": [
      "foo\n",
      "corge\n"
     ]
    }
   ],
   "source": [
    "print(t[0])\n",
    "\n",
    "print(t[-1])"
   ]
  },
  {
   "cell_type": "code",
   "execution_count": 27,
   "id": "e5b0a5ee",
   "metadata": {},
   "outputs": [
    {
     "name": "stdout",
     "output_type": "stream",
     "text": [
      "foo\n",
      "bar\n",
      "baz\n",
      "qux\n"
     ]
    }
   ],
   "source": [
    "(s1, s2, s3, s4) = ('foo', 'bar', 'baz', 'qux')\n",
    "print(s1)\n",
    "print(s2)\n",
    "print(s3)\n",
    "print(s4)"
   ]
  },
  {
   "cell_type": "markdown",
   "id": "1d5f386e",
   "metadata": {},
   "source": [
    "### Dictionary"
   ]
  },
  {
   "cell_type": "code",
   "execution_count": 28,
   "id": "1b2161c8",
   "metadata": {},
   "outputs": [],
   "source": [
    "netflix = {\n",
    "    'judul':'Fear Street: Part One', \n",
    "    'tahun': 2021, \n",
    "    'genre':['drama','horror','mystery']\n",
    "}"
   ]
  },
  {
   "cell_type": "code",
   "execution_count": 29,
   "id": "3e598f88",
   "metadata": {},
   "outputs": [
    {
     "name": "stdout",
     "output_type": "stream",
     "text": [
      "Fear Street: Part One\n",
      "['drama', 'horror', 'mystery']\n"
     ]
    }
   ],
   "source": [
    "### Accessing Dictionary Values\n",
    "print(netflix['judul'])\n",
    "print(netflix['genre'])"
   ]
  },
  {
   "cell_type": "code",
   "execution_count": 30,
   "id": "7a6955ca",
   "metadata": {},
   "outputs": [
    {
     "data": {
      "text/plain": [
       "{'judul': 'Fear Street: Part One',\n",
       " 'tahun': 2021,\n",
       " 'genre': ['drama', 'horror', 'mystery'],\n",
       " 'imdb rating': '6.2/10'}"
      ]
     },
     "execution_count": 30,
     "metadata": {},
     "output_type": "execute_result"
    }
   ],
   "source": [
    "### Adding an entry to an existing dictionary\n",
    "netflix['imdb rating'] = '6.2/10'\n",
    "netflix"
   ]
  },
  {
   "cell_type": "code",
   "execution_count": 31,
   "id": "19c2db68",
   "metadata": {},
   "outputs": [
    {
     "data": {
      "text/plain": [
       "{'judul': 'Fear Street: Part One',\n",
       " 'tahun': 2021,\n",
       " 'genre': ['drama', 'horror', 'mystery'],\n",
       " 'imdb rating': '6.3/10'}"
      ]
     },
     "execution_count": 31,
     "metadata": {},
     "output_type": "execute_result"
    }
   ],
   "source": [
    "### Update an entry\n",
    "netflix['imdb rating'] = '6.3/10'\n",
    "netflix"
   ]
  },
  {
   "cell_type": "code",
   "execution_count": 32,
   "id": "106a165e",
   "metadata": {},
   "outputs": [
    {
     "data": {
      "text/plain": [
       "{'judul': 'Fear Street: Part One',\n",
       " 'tahun': 2021,\n",
       " 'genre': ['drama', 'horror', 'mystery']}"
      ]
     },
     "execution_count": 32,
     "metadata": {},
     "output_type": "execute_result"
    }
   ],
   "source": [
    "### Delete an entry\n",
    "del netflix['imdb rating']\n",
    "netflix"
   ]
  },
  {
   "cell_type": "code",
   "execution_count": 33,
   "id": "99f31f22",
   "metadata": {},
   "outputs": [],
   "source": [
    "### Building a Dictionary Incrementally\n",
    "person = {}\n",
    "type(person)\n",
    "\n",
    "person['fname'] = 'Lucy'\n",
    "person['lname'] = 'Hwang'\n",
    "person['age'] = 21\n",
    "person['pets'] = {'dog': ['Hongsam','Insam']}\n",
    "person['sibling'] = ['Hj','Nk','Gk']"
   ]
  },
  {
   "cell_type": "code",
   "execution_count": 34,
   "id": "54afa9ee",
   "metadata": {},
   "outputs": [
    {
     "name": "stdout",
     "output_type": "stream",
     "text": [
      "{'fname': 'Lucy', 'lname': 'Hwang', 'age': 21, 'pets': {'dog': ['Hongsam', 'Insam']}, 'sibling': ['Hj', 'Nk', 'Gk']}\n",
      "Lucy\n",
      "Hwang\n",
      "Insam\n",
      "Hj\n"
     ]
    }
   ],
   "source": [
    "print(person)\n",
    "print(person['fname'])\n",
    "print(person['lname'])\n",
    "print(person['pets']['dog'][1])\n",
    "print(person['sibling'][0])"
   ]
  },
  {
   "cell_type": "code",
   "execution_count": 35,
   "id": "8b1b2db9",
   "metadata": {},
   "outputs": [
    {
     "name": "stdout",
     "output_type": "stream",
     "text": [
      "dict_items([('judul', 'Fear Street: Part One'), ('tahun', 2021), ('genre', ['drama', 'horror', 'mystery'])])\n",
      "dict_keys(['judul', 'tahun', 'genre'])\n",
      "dict_values(['Fear Street: Part One', 2021, ['drama', 'horror', 'mystery']])\n"
     ]
    }
   ],
   "source": [
    "### Built-in Methods\n",
    "# items\n",
    "print(netflix.items())\n",
    "\n",
    "# keys\n",
    "print(netflix.keys())\n",
    "\n",
    "# values\n",
    "print(netflix.values())"
   ]
  },
  {
   "cell_type": "code",
   "execution_count": 56,
   "id": "65663e70",
   "metadata": {},
   "outputs": [
    {
     "name": "stdout",
     "output_type": "stream",
     "text": [
      "defaultdict(<class 'int'>, {'aaa': 3, 'bb': 2, 'c': 1})\n"
     ]
    }
   ],
   "source": [
    "### Frekuensi di suatu string\n",
    "from collections import defaultdict\n",
    "default_d = defaultdict(int)\n",
    "string = \"aaa bb bb aaa aaa c\"\n",
    "for i in string.split():\n",
    "    default_d[i] += 1\n",
    "print(default_d)"
   ]
  },
  {
   "cell_type": "markdown",
   "id": "92c621a9",
   "metadata": {},
   "source": [
    "## Jupyter Notebook"
   ]
  },
  {
   "cell_type": "markdown",
   "id": "1b0ec211",
   "metadata": {},
   "source": [
    "### Simple Syntax"
   ]
  },
  {
   "cell_type": "code",
   "execution_count": 36,
   "id": "64319b6b",
   "metadata": {},
   "outputs": [
    {
     "name": "stdout",
     "output_type": "stream",
     "text": [
      "Halo, Nama saya Ghina\n"
     ]
    }
   ],
   "source": [
    "print(\"Halo, Nama saya Ghina\")"
   ]
  },
  {
   "cell_type": "code",
   "execution_count": 37,
   "id": "836636a1",
   "metadata": {},
   "outputs": [
    {
     "name": "stdout",
     "output_type": "stream",
     "text": [
      "0\n",
      "1\n",
      "2\n",
      "3\n",
      "4\n"
     ]
    }
   ],
   "source": [
    "for i in range(5):\n",
    "    print(i)"
   ]
  },
  {
   "cell_type": "markdown",
   "id": "52e21f8c",
   "metadata": {},
   "source": [
    "### Library"
   ]
  },
  {
   "cell_type": "code",
   "execution_count": 38,
   "id": "122ccb0f",
   "metadata": {},
   "outputs": [],
   "source": [
    "import pandas as pd\n",
    "import numpy as np"
   ]
  },
  {
   "cell_type": "code",
   "execution_count": 39,
   "id": "a4d7d6f1",
   "metadata": {},
   "outputs": [
    {
     "data": {
      "text/html": [
       "<div>\n",
       "<style scoped>\n",
       "    .dataframe tbody tr th:only-of-type {\n",
       "        vertical-align: middle;\n",
       "    }\n",
       "\n",
       "    .dataframe tbody tr th {\n",
       "        vertical-align: top;\n",
       "    }\n",
       "\n",
       "    .dataframe thead th {\n",
       "        text-align: right;\n",
       "    }\n",
       "</style>\n",
       "<table border=\"1\" class=\"dataframe\">\n",
       "  <thead>\n",
       "    <tr style=\"text-align: right;\">\n",
       "      <th></th>\n",
       "      <th>A</th>\n",
       "      <th>B</th>\n",
       "      <th>C</th>\n",
       "    </tr>\n",
       "  </thead>\n",
       "  <tbody>\n",
       "    <tr>\n",
       "      <th>0</th>\n",
       "      <td>10</td>\n",
       "      <td>20</td>\n",
       "      <td>30</td>\n",
       "    </tr>\n",
       "    <tr>\n",
       "      <th>1</th>\n",
       "      <td>40</td>\n",
       "      <td>50</td>\n",
       "      <td>60</td>\n",
       "    </tr>\n",
       "  </tbody>\n",
       "</table>\n",
       "</div>"
      ],
      "text/plain": [
       "    A   B   C\n",
       "0  10  20  30\n",
       "1  40  50  60"
      ]
     },
     "execution_count": 39,
     "metadata": {},
     "output_type": "execute_result"
    }
   ],
   "source": [
    "np_array = np.array([[10,20,30],[40,50,60]])\n",
    "data = pd.DataFrame(np_array, columns = ['A', 'B', 'C'])\n",
    "data"
   ]
  },
  {
   "cell_type": "markdown",
   "id": "5ff101c3",
   "metadata": {},
   "source": [
    "### Latex"
   ]
  },
  {
   "cell_type": "code",
   "execution_count": 40,
   "id": "1bac45b8",
   "metadata": {},
   "outputs": [],
   "source": [
    "# Latex dengan markdown \"$$ c=\\sqrt(a^2+b^2) $$\""
   ]
  },
  {
   "cell_type": "markdown",
   "id": "14537533",
   "metadata": {},
   "source": [
    "$$ c=\\sqrt(a^2+b^2) $$ "
   ]
  },
  {
   "cell_type": "code",
   "execution_count": 41,
   "id": "f54ec296",
   "metadata": {},
   "outputs": [
    {
     "data": {
      "text/latex": [
       "$\\displaystyle \\sqrt(a^2+b^2)$"
      ],
      "text/plain": [
       "<IPython.core.display.Math object>"
      ]
     },
     "metadata": {},
     "output_type": "display_data"
    }
   ],
   "source": [
    "# Latex dengan python\n",
    "from IPython.display import display, Math, Latex\n",
    "display(Math(r'\\sqrt(a^2+b^2)'))"
   ]
  },
  {
   "cell_type": "markdown",
   "id": "1826f5d9",
   "metadata": {},
   "source": [
    "### Shell"
   ]
  },
  {
   "cell_type": "code",
   "execution_count": 53,
   "id": "9d874aef",
   "metadata": {},
   "outputs": [
    {
     "name": "stdout",
     "output_type": "stream",
     "text": [
      " Volume in drive D is New Volume\n",
      " Volume Serial Number is F44E-8F12\n",
      "\n",
      " Directory of D:\\Hacktiv8\\H8_001\\Pertemuan 1\n",
      "\n",
      "08/29/2021  12:28 AM    <DIR>          .\n",
      "08/29/2021  12:28 AM    <DIR>          ..\n",
      "08/25/2021  07:23 AM    <DIR>          .ipynb_checkpoints\n",
      "08/25/2021  10:31 PM           103,593 Ghina Khoerunnisa - Memahami Jupyter Notebook.pdf\n",
      "08/25/2021  06:48 AM            94,384 Ghina Khoerunnisa - Sesi 1 - Introduction_ Basic Syntax, Data Type, and Variable.pdf\n",
      "08/29/2021  12:28 AM            23,449 Introduction Basic Syntax, Data Type, and Variable.ipynb\n",
      "               3 File(s)        221,426 bytes\n",
      "               3 Dir(s)  221,590,556,672 bytes free\n"
     ]
    }
   ],
   "source": [
    "!dir"
   ]
  },
  {
   "cell_type": "code",
   "execution_count": 54,
   "id": "38de6e68",
   "metadata": {},
   "outputs": [
    {
     "name": "stdout",
     "output_type": "stream",
     "text": [
      "[' Volume in drive D is New Volume', ' Volume Serial Number is F44E-8F12', '', ' Directory of D:\\\\Hacktiv8\\\\H8_001\\\\Pertemuan 1', '', '08/29/2021  12:28 AM    <DIR>          .', '08/29/2021  12:28 AM    <DIR>          ..', '08/25/2021  07:23 AM    <DIR>          .ipynb_checkpoints', '08/25/2021  10:31 PM           103,593 Ghina Khoerunnisa - Memahami Jupyter Notebook.pdf', '08/25/2021  06:48 AM            94,384 Ghina Khoerunnisa - Sesi 1 - Introduction_ Basic Syntax, Data Type, and Variable.pdf', '08/29/2021  12:28 AM            23,449 Introduction Basic Syntax, Data Type, and Variable.ipynb', '               3 File(s)        221,426 bytes', '               3 Dir(s)  221,590,556,672 bytes free']\n"
     ]
    }
   ],
   "source": [
    "# Passing value ke dan dari shell\n",
    "files = !dir\n",
    "print(files)"
   ]
  }
 ],
 "metadata": {
  "kernelspec": {
   "display_name": "H8_001",
   "language": "python",
   "name": "h8_001"
  },
  "language_info": {
   "codemirror_mode": {
    "name": "ipython",
    "version": 3
   },
   "file_extension": ".py",
   "mimetype": "text/x-python",
   "name": "python",
   "nbconvert_exporter": "python",
   "pygments_lexer": "ipython3",
   "version": "3.7.11"
  },
  "toc": {
   "base_numbering": 1,
   "nav_menu": {},
   "number_sections": true,
   "sideBar": true,
   "skip_h1_title": false,
   "title_cell": "Table of Contents",
   "title_sidebar": "Contents",
   "toc_cell": false,
   "toc_position": {},
   "toc_section_display": true,
   "toc_window_display": false
  }
 },
 "nbformat": 4,
 "nbformat_minor": 5
}
