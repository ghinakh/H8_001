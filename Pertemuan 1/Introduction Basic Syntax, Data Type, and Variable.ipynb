{
 "cells": [
  {
   "cell_type": "markdown",
   "id": "1b0ec211",
   "metadata": {},
   "source": [
    "## Simple Syntax"
   ]
  },
  {
   "cell_type": "code",
   "execution_count": 1,
   "id": "64319b6b",
   "metadata": {},
   "outputs": [
    {
     "name": "stdout",
     "output_type": "stream",
     "text": [
      "Halo, Nama saya Ghina\n"
     ]
    }
   ],
   "source": [
    "print(\"Halo, Nama saya Ghina\")"
   ]
  },
  {
   "cell_type": "code",
   "execution_count": 6,
   "id": "836636a1",
   "metadata": {},
   "outputs": [
    {
     "name": "stdout",
     "output_type": "stream",
     "text": [
      "0\n",
      "1\n",
      "2\n",
      "3\n",
      "4\n"
     ]
    }
   ],
   "source": [
    "for i in range(5):\n",
    "    print(i)"
   ]
  },
  {
   "cell_type": "markdown",
   "id": "52e21f8c",
   "metadata": {},
   "source": [
    "## Library"
   ]
  },
  {
   "cell_type": "code",
   "execution_count": 8,
   "id": "122ccb0f",
   "metadata": {},
   "outputs": [],
   "source": [
    "import pandas as pd\n",
    "import numpy as np"
   ]
  },
  {
   "cell_type": "code",
   "execution_count": 10,
   "id": "a4d7d6f1",
   "metadata": {},
   "outputs": [
    {
     "data": {
      "text/html": [
       "<div>\n",
       "<style scoped>\n",
       "    .dataframe tbody tr th:only-of-type {\n",
       "        vertical-align: middle;\n",
       "    }\n",
       "\n",
       "    .dataframe tbody tr th {\n",
       "        vertical-align: top;\n",
       "    }\n",
       "\n",
       "    .dataframe thead th {\n",
       "        text-align: right;\n",
       "    }\n",
       "</style>\n",
       "<table border=\"1\" class=\"dataframe\">\n",
       "  <thead>\n",
       "    <tr style=\"text-align: right;\">\n",
       "      <th></th>\n",
       "      <th>A</th>\n",
       "      <th>B</th>\n",
       "      <th>C</th>\n",
       "    </tr>\n",
       "  </thead>\n",
       "  <tbody>\n",
       "    <tr>\n",
       "      <th>0</th>\n",
       "      <td>10</td>\n",
       "      <td>20</td>\n",
       "      <td>30</td>\n",
       "    </tr>\n",
       "    <tr>\n",
       "      <th>1</th>\n",
       "      <td>40</td>\n",
       "      <td>50</td>\n",
       "      <td>60</td>\n",
       "    </tr>\n",
       "  </tbody>\n",
       "</table>\n",
       "</div>"
      ],
      "text/plain": [
       "    A   B   C\n",
       "0  10  20  30\n",
       "1  40  50  60"
      ]
     },
     "execution_count": 10,
     "metadata": {},
     "output_type": "execute_result"
    }
   ],
   "source": [
    "np_array = np.array([[10,20,30],[40,50,60]])\n",
    "data = pd.DataFrame(np_array, columns = ['A', 'B', 'C'])\n",
    "data"
   ]
  },
  {
   "cell_type": "markdown",
   "id": "5ff101c3",
   "metadata": {},
   "source": [
    "## Latex"
   ]
  },
  {
   "cell_type": "code",
   "execution_count": null,
   "id": "1bac45b8",
   "metadata": {},
   "outputs": [],
   "source": [
    "# Latex dengan markdown \"$$ c=\\sqrt(a^2+b^2) $$\""
   ]
  },
  {
   "cell_type": "markdown",
   "id": "14537533",
   "metadata": {},
   "source": [
    "$$ c=\\sqrt(a^2+b^2) $$ "
   ]
  },
  {
   "cell_type": "code",
   "execution_count": 11,
   "id": "f54ec296",
   "metadata": {},
   "outputs": [
    {
     "data": {
      "text/latex": [
       "$\\displaystyle \\sqrt(a^2+b^2)$"
      ],
      "text/plain": [
       "<IPython.core.display.Math object>"
      ]
     },
     "metadata": {},
     "output_type": "display_data"
    }
   ],
   "source": [
    "# Latex dengan python\n",
    "from IPython.display import display, Math, Latex\n",
    "display(Math(r'\\sqrt(a^2+b^2)'))"
   ]
  },
  {
   "cell_type": "markdown",
   "id": "1826f5d9",
   "metadata": {},
   "source": [
    "## Shell"
   ]
  },
  {
   "cell_type": "code",
   "execution_count": 14,
   "id": "9d874aef",
   "metadata": {},
   "outputs": [
    {
     "name": "stdout",
     "output_type": "stream",
     "text": [
      " Volume in drive D is New Volume\n",
      " Volume Serial Number is F44E-8F12\n",
      "\n",
      " Directory of D:\\Hacktiv8\\H8_001\\Pertemuan 1\n",
      "\n",
      "08/25/2021  10:18 AM    <DIR>          .\n",
      "08/25/2021  10:18 AM    <DIR>          ..\n",
      "08/25/2021  07:23 AM    <DIR>          .ipynb_checkpoints\n",
      "08/25/2021  10:18 AM             4,313 Introduction Basic Syntax, Data Type, and Variable.ipynb\n",
      "               1 File(s)          4,313 bytes\n",
      "               3 Dir(s)  221,731,844,096 bytes free\n"
     ]
    }
   ],
   "source": [
    "!dir  # Windows"
   ]
  },
  {
   "cell_type": "code",
   "execution_count": 17,
   "id": "38de6e68",
   "metadata": {},
   "outputs": [
    {
     "name": "stdout",
     "output_type": "stream",
     "text": [
      "[' Volume in drive D is New Volume', ' Volume Serial Number is F44E-8F12', '', ' Directory of D:\\\\Hacktiv8\\\\H8_001\\\\Pertemuan 1', '', '08/25/2021  10:18 AM    <DIR>          .', '08/25/2021  10:18 AM    <DIR>          ..', '08/25/2021  07:23 AM    <DIR>          .ipynb_checkpoints', '08/25/2021  10:18 AM             4,313 Introduction Basic Syntax, Data Type, and Variable.ipynb', '               1 File(s)          4,313 bytes', '               3 Dir(s)  221,731,844,096 bytes free']\n"
     ]
    }
   ],
   "source": [
    "# Passing value ke dan dari shell\n",
    "files = !dir\n",
    "print(files)"
   ]
  }
 ],
 "metadata": {
  "kernelspec": {
   "display_name": "H8_001",
   "language": "python",
   "name": "h8_001"
  },
  "language_info": {
   "codemirror_mode": {
    "name": "ipython",
    "version": 3
   },
   "file_extension": ".py",
   "mimetype": "text/x-python",
   "name": "python",
   "nbconvert_exporter": "python",
   "pygments_lexer": "ipython3",
   "version": "3.7.11"
  }
 },
 "nbformat": 4,
 "nbformat_minor": 5
}
