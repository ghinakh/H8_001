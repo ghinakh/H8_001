{
 "cells": [
  {
   "cell_type": "markdown",
   "id": "d2ae6f34",
   "metadata": {},
   "source": [
    "Karakteristik data, Deskripsi/gambaran dari datanya.\n",
    "Berkutat di data yang ada/dikasih aja, ga ada konsep probabilitas."
   ]
  },
  {
   "cell_type": "markdown",
   "id": "1d25f03f",
   "metadata": {},
   "source": [
    "Jika skew = median, karena kita gamau datanya di representasikan sama data yang gede banget"
   ]
  },
  {
   "cell_type": "code",
   "execution_count": 1,
   "id": "652ff2c1",
   "metadata": {},
   "outputs": [],
   "source": [
    "import math\n",
    "import statistics\n",
    "import numpy as np\n",
    "import scipy.stats\n",
    "import pandas as pd"
   ]
  },
  {
   "cell_type": "code",
   "execution_count": null,
   "id": "e0aaaab3",
   "metadata": {},
   "outputs": [],
   "source": []
  },
  {
   "cell_type": "code",
   "execution_count": 2,
   "id": "93cce438",
   "metadata": {},
   "outputs": [
    {
     "name": "stdout",
     "output_type": "stream",
     "text": [
      "[8.0, 1, 2.5, 4, 28.0]\n",
      "[8.0, 1, 2.5, nan, 4, 28.0]\n"
     ]
    }
   ],
   "source": [
    "x = [8.0, 1, 2.5, 4, 28.0]\n",
    "x_with_nan = [8.0, 1, 2.5, math.nan, 4, 28.0]\n",
    "print(x)\n",
    "print(x_with_nan)"
   ]
  },
  {
   "cell_type": "code",
   "execution_count": 8,
   "id": "55d4e2b7",
   "metadata": {},
   "outputs": [],
   "source": [
    "y, y_with_nan =np.array(x), np.array(x_with_nan)\n",
    "z, z_with_nan =pd.Series(x), pd.Series(x_with_nan)"
   ]
  },
  {
   "cell_type": "markdown",
   "id": "58fa9dc8",
   "metadata": {},
   "source": [
    "### Measures of Centran Tendency"
   ]
  },
  {
   "cell_type": "markdown",
   "id": "4571f9cd",
   "metadata": {},
   "source": [
    "Measures of central tendency menunjukkan nilai tengah atau pusat dari kumpulan data. Berikut merupakan cara mengidentifikasi dan menghitung measures of central tendency: "
   ]
  },
  {
   "cell_type": "markdown",
   "id": "ee55db07",
   "metadata": {},
   "source": [
    "#### Mean/Average"
   ]
  },
  {
   "cell_type": "markdown",
   "id": "f4ed17b6",
   "metadata": {},
   "source": [
    "rata-rata aritmatika dari semua elemen kumpulan data"
   ]
  },
  {
   "cell_type": "code",
   "execution_count": 18,
   "id": "daee6442",
   "metadata": {},
   "outputs": [
    {
     "name": "stdout",
     "output_type": "stream",
     "text": [
      "8.7\n"
     ]
    }
   ],
   "source": [
    "# without packages\n",
    "mean_python = sum(x)/len(x)\n",
    "print(mean_python)"
   ]
  },
  {
   "cell_type": "code",
   "execution_count": 19,
   "id": "b7b99e3f",
   "metadata": {},
   "outputs": [
    {
     "name": "stdout",
     "output_type": "stream",
     "text": [
      "8.7\n"
     ]
    }
   ],
   "source": [
    "# with statistics\n",
    "mean_stat = statistics.mean(x)\n",
    "print(mean_stat)"
   ]
  },
  {
   "cell_type": "markdown",
   "id": "60594c0d",
   "metadata": {},
   "source": [
    "Kita juga dapat menghitung mean walaupun datanya terdapat NaN hanya saja tidak disarankan karena sebelum memasuki tahap ini seharusnya data kita telah bersih dari missing value"
   ]
  },
  {
   "cell_type": "code",
   "execution_count": 20,
   "id": "dedb7373",
   "metadata": {},
   "outputs": [
    {
     "name": "stdout",
     "output_type": "stream",
     "text": [
      "nan\n"
     ]
    }
   ],
   "source": [
    "# with statistics\n",
    "mean_ = statistics.mean(x_with_nan)\n",
    "print(mean_)"
   ]
  },
  {
   "cell_type": "code",
   "execution_count": 24,
   "id": "7af0c67d",
   "metadata": {},
   "outputs": [
    {
     "name": "stdout",
     "output_type": "stream",
     "text": [
      "nan\n",
      "nan\n"
     ]
    }
   ],
   "source": [
    "# with numpy\n",
    "print(np.mean(y_with_nan))\n",
    "print(y_with_nan.mean())"
   ]
  },
  {
   "cell_type": "code",
   "execution_count": 25,
   "id": "acabd978",
   "metadata": {},
   "outputs": [
    {
     "data": {
      "text/plain": [
       "8.7"
      ]
     },
     "execution_count": 25,
     "metadata": {},
     "output_type": "execute_result"
    }
   ],
   "source": [
    "# with numpy\n",
    "np.nanmean(y_with_nan)"
   ]
  },
  {
   "cell_type": "code",
   "execution_count": 26,
   "id": "c64b7dd5",
   "metadata": {},
   "outputs": [
    {
     "data": {
      "text/plain": [
       "8.7"
      ]
     },
     "execution_count": 26,
     "metadata": {},
     "output_type": "execute_result"
    }
   ],
   "source": [
    "# # with pandas\n",
    "z.mean()"
   ]
  },
  {
   "cell_type": "code",
   "execution_count": 27,
   "id": "ab2f5489",
   "metadata": {},
   "outputs": [
    {
     "data": {
      "text/plain": [
       "8.7"
      ]
     },
     "execution_count": 27,
     "metadata": {},
     "output_type": "execute_result"
    }
   ],
   "source": [
    "z_with_nan.mean()"
   ]
  },
  {
   "cell_type": "markdown",
   "id": "b920411a",
   "metadata": {},
   "source": [
    "#### Weighted Mean"
   ]
  },
  {
   "cell_type": "markdown",
   "id": "b6504f7f",
   "metadata": {},
   "source": [
    "Generalisasi dari rata-rata aritmatika yang memungkinkan kita untuk menentukan kontribusi relatif dari setiap titik data ke hasil. Mengalikan setiap titik data dengan bobot yang sesuai, menjumlahkan semua produk, dan membagi jumlah yang diperoleh dengan jumlah bobot:"
   ]
  },
  {
   "cell_type": "code",
   "execution_count": 28,
   "id": "aa6f50ee",
   "metadata": {},
   "outputs": [],
   "source": [
    "x = [8.0, 1, 2.5, 4, 28.0]\n",
    "w = [0.1, 0.2, 0.3, 0.25, 0.15]"
   ]
  },
  {
   "cell_type": "code",
   "execution_count": 35,
   "id": "d8d81233",
   "metadata": {},
   "outputs": [
    {
     "name": "stdout",
     "output_type": "stream",
     "text": [
      "6.95\n",
      "6.95\n"
     ]
    }
   ],
   "source": [
    "weighted_mean = sum([x[idx]*w[idx] for idx in range(0,len(x))])/sum(w)\n",
    "print(weighted_mean)\n",
    "\n",
    "weighted_mean_2 = sum([val_x*val_w for val_x, val_w in zip(x,w)])\n",
    "print(weighted_mean_2)"
   ]
  },
  {
   "cell_type": "code",
   "execution_count": 36,
   "id": "9d9cf955",
   "metadata": {},
   "outputs": [],
   "source": [
    "y, z, w = np.array(x), pd.Series(x), np.array(w)"
   ]
  },
  {
   "cell_type": "code",
   "execution_count": 37,
   "id": "a0bff612",
   "metadata": {},
   "outputs": [
    {
     "name": "stdout",
     "output_type": "stream",
     "text": [
      "6.95\n",
      "6.95\n"
     ]
    }
   ],
   "source": [
    "# with numpy\n",
    "wmean = np.average(y, weights=w)\n",
    "print(wmean)\n",
    "\n",
    "wmean = np.average(z, weights=w)\n",
    "print(wmean)"
   ]
  },
  {
   "cell_type": "markdown",
   "id": "00e69b12",
   "metadata": {},
   "source": [
    "#### Harmonic Mean"
   ]
  },
  {
   "cell_type": "markdown",
   "id": "fdb2f06c",
   "metadata": {},
   "source": [
    "Harmonic Mean: rata-rata kebalikan dari rata-rata aritmatika. Harmonic mean dihitung dengan membagi banyaknya nilai di kumpulan data dengan jumlah kebalikan (1 / x_i) dari setiap nilai dalam kumpulan data.  Harmonic mean biasa digunakan pada beberapa kasus data misalnya data kecepatan, rasio atau tarif. Ini adalah ukuran yang paling tepat untuk rasio dan tarif karena ini menyamakan bobot setiap titik data. Misalnya, mean aritmatika memberi bobot yang tinggi pada titik data yang besar, sedangkan mean geometrik memberikan bobot yang lebih rendah ke titik data yang lebih kecil (livingeconomyadvisors)."
   ]
  },
  {
   "cell_type": "code",
   "execution_count": 38,
   "id": "60feb91a",
   "metadata": {},
   "outputs": [
    {
     "data": {
      "text/plain": [
       "2.7613412228796843"
      ]
     },
     "execution_count": 38,
     "metadata": {},
     "output_type": "execute_result"
    }
   ],
   "source": [
    "# with built-in function python\n",
    "hmean = len(x) / sum(1 / item for item in x)\n",
    "hmean"
   ]
  },
  {
   "cell_type": "code",
   "execution_count": 39,
   "id": "0dd3655f",
   "metadata": {},
   "outputs": [
    {
     "data": {
      "text/plain": [
       "2.7613412228796843"
      ]
     },
     "execution_count": 39,
     "metadata": {},
     "output_type": "execute_result"
    }
   ],
   "source": [
    "# with statistics\n",
    "statistics.harmonic_mean(x)"
   ]
  },
  {
   "cell_type": "code",
   "execution_count": 42,
   "id": "e07c8b69",
   "metadata": {},
   "outputs": [
    {
     "name": "stdout",
     "output_type": "stream",
     "text": [
      "2.7613412228796843\n",
      "2.7613412228796843\n",
      "2.7613412228796843\n"
     ]
    }
   ],
   "source": [
    "# with scipy.stats\n",
    "print(scipy.stats.hmean(x))\n",
    "print(scipy.stats.hmean(y))\n",
    "print(scipy.stats.hmean(z))"
   ]
  },
  {
   "cell_type": "markdown",
   "id": "c59c8a26",
   "metadata": {},
   "source": [
    "10 km pertama -> 60 km/h <br>\n",
    "10 km kedua -> 20 km/h <br>\n",
    "harmonic mean? aritmatika mean?"
   ]
  },
  {
   "cell_type": "code",
   "execution_count": 106,
   "id": "0cba49d1",
   "metadata": {},
   "outputs": [
    {
     "data": {
      "text/plain": [
       "40.0"
      ]
     },
     "execution_count": 106,
     "metadata": {},
     "output_type": "execute_result"
    }
   ],
   "source": [
    "(60+20)/2 # with arithmetic mean"
   ]
  },
  {
   "cell_type": "code",
   "execution_count": 107,
   "id": "9f41eb65",
   "metadata": {},
   "outputs": [
    {
     "data": {
      "text/plain": [
       "30.0"
      ]
     },
     "execution_count": 107,
     "metadata": {},
     "output_type": "execute_result"
    }
   ],
   "source": [
    "2/((1/60)+(1/20)) # with formula harmonic mean"
   ]
  },
  {
   "cell_type": "markdown",
   "id": "dbce292c",
   "metadata": {},
   "source": [
    "10 km pertama => 1/6 jam <br>\n",
    "10 km kedua => 1/2 jam <br>\n",
    "\n",
    "20 km dan (1/6+1/2)jam => 20 km dan 2/3 jam  <br>\n",
    "v = s/t = 20 km / (2/3) jam = 30 km/jam <br>\n",
    "\n",
    "Oleh karena itu kasus kecepatan seperti ini menggunakan harmonic mean"
   ]
  },
  {
   "cell_type": "markdown",
   "id": "3c7dee45",
   "metadata": {},
   "source": [
    "Kasus lain : <br>\n",
    "Pompa A : dapat mengisi 1/4 kolam renang dalam 1 jam <br>\n",
    "Pompa B : dapat mengisi 1/6 kolam renang dalam 1 jam <br>\n",
    "Pompa C : dapat mengisi 1/3 kolam renang dalam 1 jam <br>\n",
    "\n",
    "Jika digunakan ketiganya berapa lama waktu yang dibutuhkan untuk mengisi 1 kolam renang|"
   ]
  },
  {
   "cell_type": "code",
   "execution_count": 109,
   "id": "b999cf83",
   "metadata": {},
   "outputs": [
    {
     "data": {
      "text/plain": [
       "0.75"
      ]
     },
     "execution_count": 109,
     "metadata": {},
     "output_type": "execute_result"
    }
   ],
   "source": [
    "(1/4)+(1/6)+(1/3) # dalam 1 jam sudah terisi 3/4 kolam renang"
   ]
  },
  {
   "cell_type": "markdown",
   "id": "53d1cb74",
   "metadata": {},
   "source": [
    "1/x = 0.75/1 <br>\n",
    "0.75x = 1 <br>\n",
    "x = 1/0.75 <br>"
   ]
  },
  {
   "cell_type": "code",
   "execution_count": 111,
   "id": "6ea4d7c5",
   "metadata": {},
   "outputs": [
    {
     "data": {
      "text/plain": [
       "1.3333333333333333"
      ]
     },
     "execution_count": 111,
     "metadata": {},
     "output_type": "execute_result"
    }
   ],
   "source": [
    "1/0.75 # dibutuhkan 1,3 jam untuk mengisi 1 kolam renang dengan 3 pompa A,B,C"
   ]
  },
  {
   "cell_type": "markdown",
   "id": "f36e409b",
   "metadata": {},
   "source": [
    "#### Geometric Mean"
   ]
  },
  {
   "cell_type": "markdown",
   "id": "e41c38b1",
   "metadata": {},
   "source": [
    "rata-rata yang dihitung dengan mengalikan semua data dalam suatu kelompok sampel, kemudian di akar pangkatkan dengan banyaknya data sampel tersebut. Biasanya digunakan pada perhitungan finansial (saham, aset, dll)"
   ]
  },
  {
   "cell_type": "code",
   "execution_count": 43,
   "id": "0f5005e6",
   "metadata": {},
   "outputs": [
    {
     "data": {
      "text/plain": [
       "4.67788567485604"
      ]
     },
     "execution_count": 43,
     "metadata": {},
     "output_type": "execute_result"
    }
   ],
   "source": [
    "scipy.stats.gmean(x)"
   ]
  },
  {
   "cell_type": "code",
   "execution_count": 44,
   "id": "9d521e7d",
   "metadata": {},
   "outputs": [
    {
     "data": {
      "text/plain": [
       "4.67788567485604"
      ]
     },
     "execution_count": 44,
     "metadata": {},
     "output_type": "execute_result"
    }
   ],
   "source": [
    "scipy.stats.gmean(y)"
   ]
  },
  {
   "cell_type": "code",
   "execution_count": 45,
   "id": "c4b3e652",
   "metadata": {},
   "outputs": [
    {
     "data": {
      "text/plain": [
       "4.67788567485604"
      ]
     },
     "execution_count": 45,
     "metadata": {},
     "output_type": "execute_result"
    }
   ],
   "source": [
    "scipy.stats.gmean(z)"
   ]
  },
  {
   "cell_type": "markdown",
   "id": "feaccf34",
   "metadata": {},
   "source": [
    "kasus geometric mean: <br>\n",
    "Aset coca cola pada tahun 2018 = 1000 <br>\n",
    "pada tahun 2019 berkembang 20%, -> 1.2<br>\n",
    "pada tahun 2020 berkembang -30%, -> 0.7<br>\n",
    "pada tahun 2021 berkembang 10%, -> 1.1<br>"
   ]
  },
  {
   "cell_type": "code",
   "execution_count": 112,
   "id": "b4819651",
   "metadata": {},
   "outputs": [
    {
     "data": {
      "text/plain": [
       "0.9739963373377919"
      ]
     },
     "execution_count": 112,
     "metadata": {},
     "output_type": "execute_result"
    }
   ],
   "source": [
    "(1.2*0.7*1.1)**(1/3)"
   ]
  },
  {
   "cell_type": "markdown",
   "id": "306d090c",
   "metadata": {},
   "source": [
    "#### Median"
   ]
  },
  {
   "cell_type": "markdown",
   "id": "d131d9cc",
   "metadata": {},
   "source": [
    "Median merupakan elemen tengah dari kumpulan data yang telah disorting. Nilai median tidak terpengaruh pada kumpulan data yang memiliki outlier"
   ]
  },
  {
   "cell_type": "code",
   "execution_count": 51,
   "id": "5834dcb8",
   "metadata": {},
   "outputs": [
    {
     "data": {
      "text/plain": [
       "4"
      ]
     },
     "execution_count": 51,
     "metadata": {},
     "output_type": "execute_result"
    }
   ],
   "source": [
    "statistics.median(x)"
   ]
  },
  {
   "cell_type": "code",
   "execution_count": 48,
   "id": "fdcb3951",
   "metadata": {},
   "outputs": [
    {
     "data": {
      "text/plain": [
       "2.5"
      ]
     },
     "execution_count": 48,
     "metadata": {},
     "output_type": "execute_result"
    }
   ],
   "source": [
    "statistics.median_low(x[:-1])"
   ]
  },
  {
   "cell_type": "code",
   "execution_count": 49,
   "id": "26b7209a",
   "metadata": {},
   "outputs": [
    {
     "data": {
      "text/plain": [
       "4"
      ]
     },
     "execution_count": 49,
     "metadata": {},
     "output_type": "execute_result"
    }
   ],
   "source": [
    "statistics.median_high(x[:-1])"
   ]
  },
  {
   "cell_type": "code",
   "execution_count": 53,
   "id": "38437dd3",
   "metadata": {},
   "outputs": [
    {
     "data": {
      "text/plain": [
       "3.25"
      ]
     },
     "execution_count": 53,
     "metadata": {},
     "output_type": "execute_result"
    }
   ],
   "source": [
    "statistics.median(x[:-1])"
   ]
  },
  {
   "cell_type": "code",
   "execution_count": 52,
   "id": "0ea89541",
   "metadata": {},
   "outputs": [
    {
     "name": "stdout",
     "output_type": "stream",
     "text": [
      "4.0\n"
     ]
    }
   ],
   "source": [
    "median_ = np.median(y)\n",
    "print(median_)"
   ]
  },
  {
   "cell_type": "code",
   "execution_count": 54,
   "id": "9b70b0a7",
   "metadata": {},
   "outputs": [
    {
     "name": "stdout",
     "output_type": "stream",
     "text": [
      "3.25\n"
     ]
    }
   ],
   "source": [
    "median_ = np.median(y[:-1])\n",
    "print(median_)"
   ]
  },
  {
   "cell_type": "markdown",
   "id": "531f2103",
   "metadata": {},
   "source": [
    "#### Mode"
   ]
  },
  {
   "cell_type": "markdown",
   "id": "5a991aca",
   "metadata": {},
   "source": [
    "Nilai yang paling sering muncul pada kumpulan data."
   ]
  },
  {
   "cell_type": "code",
   "execution_count": 55,
   "id": "8a185c70",
   "metadata": {},
   "outputs": [],
   "source": [
    "u = [2, 3, 2, 8, 12]\n",
    "v = [12, 15, 12, 15, 21, 15, 12]"
   ]
  },
  {
   "cell_type": "code",
   "execution_count": 56,
   "id": "1329b310",
   "metadata": {},
   "outputs": [
    {
     "data": {
      "text/plain": [
       "2"
      ]
     },
     "execution_count": 56,
     "metadata": {},
     "output_type": "execute_result"
    }
   ],
   "source": [
    "statistics.mode(u)"
   ]
  },
  {
   "cell_type": "code",
   "execution_count": 62,
   "id": "add291a3",
   "metadata": {},
   "outputs": [
    {
     "data": {
      "text/plain": [
       "ModeResult(mode=array([12]), count=array([3]))"
      ]
     },
     "execution_count": 62,
     "metadata": {},
     "output_type": "execute_result"
    }
   ],
   "source": [
    "# statistics.mode(v) -> raise an error\n",
    "scipy.stats.mode(v)"
   ]
  },
  {
   "cell_type": "code",
   "execution_count": 63,
   "id": "a27e44c4",
   "metadata": {},
   "outputs": [],
   "source": [
    "u, v, w = pd.Series(u), pd.Series(v), pd.Series([2, 2, math.nan])"
   ]
  },
  {
   "cell_type": "code",
   "execution_count": 65,
   "id": "ca39f42c",
   "metadata": {},
   "outputs": [
    {
     "name": "stdout",
     "output_type": "stream",
     "text": [
      "0    2\n",
      "dtype: int64\n",
      "0    12\n",
      "1    15\n",
      "dtype: int64\n",
      "0    2.0\n",
      "dtype: float64\n"
     ]
    }
   ],
   "source": [
    "# with pandas\n",
    "print(u.mode())\n",
    "print(v.mode())\n",
    "print(w.mode())"
   ]
  },
  {
   "cell_type": "markdown",
   "id": "1ed8c76b",
   "metadata": {},
   "source": [
    "### Measures of Variability"
   ]
  },
  {
   "cell_type": "markdown",
   "id": "2272ed5a",
   "metadata": {},
   "source": [
    "Measures of central tendency tidak cukup untuk menggambarkan data. Kita juga memerlukan ukuran variabilitas yang mengukur penyebaran titik data"
   ]
  },
  {
   "cell_type": "markdown",
   "id": "6d101ac9",
   "metadata": {},
   "source": [
    "#### Variance"
   ]
  },
  {
   "cell_type": "markdown",
   "id": "e2a1951e",
   "metadata": {},
   "source": [
    "Sample variance menunjukkan secara numerik seberapa jauh titik data dari mean"
   ]
  },
  {
   "cell_type": "code",
   "execution_count": 66,
   "id": "7d22f887",
   "metadata": {},
   "outputs": [
    {
     "data": {
      "text/plain": [
       "123.2"
      ]
     },
     "execution_count": 66,
     "metadata": {},
     "output_type": "execute_result"
    }
   ],
   "source": [
    "var_ = statistics.variance(x)\n",
    "var_"
   ]
  },
  {
   "cell_type": "markdown",
   "id": "b52adabc",
   "metadata": {},
   "source": [
    "ddof = degrees of freedom -> kalo 1 berarti nanti di pembaginya n-1 (artinya unbiased)"
   ]
  },
  {
   "cell_type": "code",
   "execution_count": 67,
   "id": "26e9b6b8",
   "metadata": {},
   "outputs": [
    {
     "data": {
      "text/plain": [
       "123.19999999999999"
      ]
     },
     "execution_count": 67,
     "metadata": {},
     "output_type": "execute_result"
    }
   ],
   "source": [
    "var_ = np.var(y, ddof=1)\n",
    "var_"
   ]
  },
  {
   "cell_type": "code",
   "execution_count": 68,
   "id": "d893ec76",
   "metadata": {},
   "outputs": [
    {
     "data": {
      "text/plain": [
       "123.19999999999999"
      ]
     },
     "execution_count": 68,
     "metadata": {},
     "output_type": "execute_result"
    }
   ],
   "source": [
    "# with pandas\n",
    "var_ = y.var(ddof=1)\n",
    "var_"
   ]
  },
  {
   "cell_type": "markdown",
   "id": "e2791d21",
   "metadata": {},
   "source": [
    "#### Standard deviation"
   ]
  },
  {
   "cell_type": "markdown",
   "id": "6bff4cb9",
   "metadata": {},
   "source": [
    "Sample standard deviation adalah cara lain mengukur penyebaran data. Berhubungan dengan varians sampel, karena standard deviation, 𝑠, adalah positive square root dari sample variance. standard deviation seringkali lebih cocok daripada varians karena memiliki satuan yang sama dengan data points. Manualnya setelah kita mendapatkan variance, kita dapat menghitung deviasi standar"
   ]
  },
  {
   "cell_type": "code",
   "execution_count": 69,
   "id": "10de61e9",
   "metadata": {},
   "outputs": [
    {
     "data": {
      "text/plain": [
       "11.099549540409287"
      ]
     },
     "execution_count": 69,
     "metadata": {},
     "output_type": "execute_result"
    }
   ],
   "source": [
    "std_ = statistics.stdev(x)\n",
    "std_"
   ]
  },
  {
   "cell_type": "code",
   "execution_count": 70,
   "id": "9857f290",
   "metadata": {},
   "outputs": [
    {
     "data": {
      "text/plain": [
       "11.099549540409285"
      ]
     },
     "execution_count": 70,
     "metadata": {},
     "output_type": "execute_result"
    }
   ],
   "source": [
    "np.std(y, ddof=1)"
   ]
  },
  {
   "cell_type": "code",
   "execution_count": 71,
   "id": "0ceec277",
   "metadata": {},
   "outputs": [
    {
     "data": {
      "text/plain": [
       "11.099549540409285"
      ]
     },
     "execution_count": 71,
     "metadata": {},
     "output_type": "execute_result"
    }
   ],
   "source": [
    "y.std(ddof=1)"
   ]
  },
  {
   "cell_type": "markdown",
   "id": "7ec78ddd",
   "metadata": {},
   "source": [
    "#### Skewness"
   ]
  },
  {
   "cell_type": "markdown",
   "id": "a2ca9846",
   "metadata": {},
   "source": [
    "Sample skewness mengukur asimetri sampel data. Negative skewness menunjukkan bahwa ada ekor dominan di sisi kiri. Positive skewness menunjukkan ekor dominan di sisi kanan, Jika skewness mendekati 0 (misalnya antara −0.5 dan 0.5), maka dataset dianggap cukup simetris."
   ]
  },
  {
   "cell_type": "code",
   "execution_count": 73,
   "id": "5a762f45",
   "metadata": {},
   "outputs": [
    {
     "data": {
      "text/plain": [
       "1.9470432273905927"
      ]
     },
     "execution_count": 73,
     "metadata": {},
     "output_type": "execute_result"
    }
   ],
   "source": [
    "scipy.stats.skew(y, bias=False)"
   ]
  },
  {
   "cell_type": "code",
   "execution_count": 74,
   "id": "575e3f0f",
   "metadata": {},
   "outputs": [
    {
     "data": {
      "text/plain": [
       "1.9470432273905924"
      ]
     },
     "execution_count": 74,
     "metadata": {},
     "output_type": "execute_result"
    }
   ],
   "source": [
    "z.skew()"
   ]
  },
  {
   "cell_type": "markdown",
   "id": "424841f5",
   "metadata": {},
   "source": [
    "#### Percentiles"
   ]
  },
  {
   "cell_type": "markdown",
   "id": "9b8bb89a",
   "metadata": {},
   "source": [
    "Tiap dataset memiliki tiga quartiles, yang merupakan persentil yang membagi dataset menjadi empat bagian\n",
    "- First quartile adalah sampel persentil ke-25. Kuartil pertama membagi sekitar 25% item terkecil dari kumpulan data lainnya.\n",
    "- Second quartile adalah sampel persentil ke-50 atau median. Kira-kira 25% item terletak di antara kuartil pertama dan kedua dan 25% lainnya antara kuartil kedua dan ketiga.\n",
    "- Third quartile adalah sampel persentil ke-75. Kuartil ketiga membagi sekitar 25% item terbesar dari sisa kumpulan data."
   ]
  },
  {
   "cell_type": "code",
   "execution_count": 90,
   "id": "911cba23",
   "metadata": {},
   "outputs": [
    {
     "data": {
      "text/plain": [
       "[0, 2, 2, 2, 2, 3, 3, 6, 7, 4, 7, 6, 6, 9, 4, 5, 5, 10, 11, 12, 14]"
      ]
     },
     "execution_count": 90,
     "metadata": {},
     "output_type": "execute_result"
    }
   ],
   "source": [
    "y"
   ]
  },
  {
   "cell_type": "code",
   "execution_count": 92,
   "id": "79d63921",
   "metadata": {},
   "outputs": [
    {
     "data": {
      "text/plain": [
       "21"
      ]
     },
     "execution_count": 92,
     "metadata": {},
     "output_type": "execute_result"
    }
   ],
   "source": [
    "len(y)"
   ]
  },
  {
   "cell_type": "code",
   "execution_count": 94,
   "id": "7db3b2b3",
   "metadata": {},
   "outputs": [
    {
     "data": {
      "text/plain": [
       "2.0"
      ]
     },
     "execution_count": 94,
     "metadata": {},
     "output_type": "execute_result"
    }
   ],
   "source": [
    "np.percentile(y, 5)"
   ]
  },
  {
   "cell_type": "code",
   "execution_count": 98,
   "id": "cfb4df11",
   "metadata": {},
   "outputs": [
    {
     "data": {
      "text/plain": [
       "11.0"
      ]
     },
     "execution_count": 98,
     "metadata": {},
     "output_type": "execute_result"
    }
   ],
   "source": [
    "np.percentile(y, 90)"
   ]
  },
  {
   "cell_type": "code",
   "execution_count": 99,
   "id": "8b9c6221",
   "metadata": {},
   "outputs": [
    {
     "data": {
      "text/plain": [
       "array([3., 5., 7.])"
      ]
     },
     "execution_count": 99,
     "metadata": {},
     "output_type": "execute_result"
    }
   ],
   "source": [
    "np.percentile(y, [25, 50, 75])"
   ]
  },
  {
   "cell_type": "code",
   "execution_count": 101,
   "id": "f44ed6e9",
   "metadata": {},
   "outputs": [
    {
     "name": "stdout",
     "output_type": "stream",
     "text": [
      "3.0 5.0 7.0\n"
     ]
    }
   ],
   "source": [
    "print(np.quantile(y, .25), np.quantile(y, .50), np.quantile(y, .75))"
   ]
  },
  {
   "cell_type": "markdown",
   "id": "03eee61d",
   "metadata": {},
   "source": [
    "#### Ranges"
   ]
  },
  {
   "cell_type": "code",
   "execution_count": 88,
   "id": "de29acd5",
   "metadata": {},
   "outputs": [
    {
     "data": {
      "text/plain": [
       "[0, 2, 2, 2, 2, 3, 3, 6, 7, 4, 7, 6, 6, 9, 4, 5, 5, 10, 11, 12, 14]"
      ]
     },
     "execution_count": 88,
     "metadata": {},
     "output_type": "execute_result"
    }
   ],
   "source": [
    "y"
   ]
  },
  {
   "cell_type": "code",
   "execution_count": 86,
   "id": "d518dc38",
   "metadata": {},
   "outputs": [
    {
     "data": {
      "text/plain": [
       "14"
      ]
     },
     "execution_count": 86,
     "metadata": {},
     "output_type": "execute_result"
    }
   ],
   "source": [
    "np.ptp(y)"
   ]
  },
  {
   "cell_type": "code",
   "execution_count": 89,
   "id": "2a49e1ca",
   "metadata": {},
   "outputs": [
    {
     "data": {
      "text/plain": [
       "[-10, -9, -8, -7, -6, -5, -4, -3, -2, -1, 0, 1, 2, 3, 4, 5, 6, 7, 8, 9, 10]"
      ]
     },
     "execution_count": 89,
     "metadata": {},
     "output_type": "execute_result"
    }
   ],
   "source": [
    "x"
   ]
  },
  {
   "cell_type": "code",
   "execution_count": 87,
   "id": "879071b1",
   "metadata": {},
   "outputs": [
    {
     "data": {
      "text/plain": [
       "20"
      ]
     },
     "execution_count": 87,
     "metadata": {},
     "output_type": "execute_result"
    }
   ],
   "source": [
    "np.ptp(x)"
   ]
  },
  {
   "cell_type": "markdown",
   "id": "3e9d49ec",
   "metadata": {},
   "source": [
    "#### Covariance and Correlation Coefficient"
   ]
  },
  {
   "cell_type": "markdown",
   "id": "e6c1d801",
   "metadata": {},
   "source": [
    "Covariance <br>\n",
    "ukuran yang mengukur kekuatan dan arah hubungan antara sepasang variabel\n",
    "- If the correlation is positive, then the covariance is positive, as well. A stronger relationship corresponds to a higher value of the covariance.\n",
    "- If the correlation is negative, then the covariance is negative, as well. A stronger relationship corresponds to a lower (or higher absolute) value of the covariance.\n",
    "- If the correlation is weak, then the covariance is close to zero."
   ]
  },
  {
   "cell_type": "code",
   "execution_count": 76,
   "id": "b6265783",
   "metadata": {},
   "outputs": [],
   "source": [
    "x = list(range(-10, 11))\n",
    "y = [0, 2, 2, 2, 2, 3, 3, 6, 7, 4, 7, 6, 6, 9, 4, 5, 5, 10, 11, 12, 14]\n",
    "x_, y_ = np.array(x), np.array(y)\n",
    "x__, y__ = pd.Series(x_), pd.Series(y_)"
   ]
  },
  {
   "cell_type": "code",
   "execution_count": 77,
   "id": "5783b603",
   "metadata": {},
   "outputs": [
    {
     "data": {
      "text/plain": [
       "array([[38.5       , 19.95      ],\n",
       "       [19.95      , 13.91428571]])"
      ]
     },
     "execution_count": 77,
     "metadata": {},
     "output_type": "execute_result"
    }
   ],
   "source": [
    "cov_matrix = np.cov(x_, y_)\n",
    "cov_matrix"
   ]
  },
  {
   "cell_type": "code",
   "execution_count": 79,
   "id": "d8682f5a",
   "metadata": {},
   "outputs": [
    {
     "data": {
      "text/plain": [
       "19.95"
      ]
     },
     "execution_count": 79,
     "metadata": {},
     "output_type": "execute_result"
    }
   ],
   "source": [
    "cov_xy = x__.cov(y__)\n",
    "cov_xy"
   ]
  },
  {
   "cell_type": "markdown",
   "id": "85c90d53",
   "metadata": {},
   "source": [
    "Correlation coefficient, atau Pearson product-moment correlation coefficient, dilambangkan dengan simbol 𝑟. Coefficient  adalah ukuran lain dari korelasi antar data. "
   ]
  },
  {
   "cell_type": "markdown",
   "id": "edbec940",
   "metadata": {},
   "source": [
    "- The value 𝑟 > 0 indicates positive correlation.\n",
    "- The value 𝑟 < 0 indicates negative correlation.\n",
    "- The value r = 1 is the maximum possible value of 𝑟. It corresponds to a perfect positive linear relationship between variables.\n",
    "- The value r = −1 is the minimum possible value of 𝑟. It corresponds to a perfect negative linear relationship between variables.\n",
    "- The value r ≈ 0, or when 𝑟 is around zero, means that the correlation between variables is weak"
   ]
  },
  {
   "cell_type": "code",
   "execution_count": 82,
   "id": "40976247",
   "metadata": {},
   "outputs": [
    {
     "data": {
      "text/plain": [
       "0.861950005631606"
      ]
     },
     "execution_count": 82,
     "metadata": {},
     "output_type": "execute_result"
    }
   ],
   "source": [
    "var_x = sum((item - np.mean(x))**2 for item in x) / ((len(x)) - 1)\n",
    "var_y = sum((item - np.mean(y))**2 for item in y) / ((len(y)) - 1)\n",
    "std_x, std_y = var_x ** 0.5, var_y ** 0.5\n",
    "r = cov_xy / (std_x * std_y)\n",
    "r"
   ]
  },
  {
   "cell_type": "code",
   "execution_count": 83,
   "id": "aeff9d6b",
   "metadata": {},
   "outputs": [],
   "source": [
    "r, p = scipy.stats.pearsonr(x_, y_)"
   ]
  },
  {
   "cell_type": "code",
   "execution_count": 84,
   "id": "575f13d4",
   "metadata": {},
   "outputs": [
    {
     "name": "stdout",
     "output_type": "stream",
     "text": [
      "0.861950005631606 5.122760847201171e-07\n"
     ]
    }
   ],
   "source": [
    "print(r, p)"
   ]
  },
  {
   "cell_type": "code",
   "execution_count": 85,
   "id": "c1b2814d",
   "metadata": {},
   "outputs": [
    {
     "data": {
      "text/plain": [
       "array([[1.        , 0.86195001],\n",
       "       [0.86195001, 1.        ]])"
      ]
     },
     "execution_count": 85,
     "metadata": {},
     "output_type": "execute_result"
    }
   ],
   "source": [
    "corr_matrix = np.corrcoef(x_, y_)\n",
    "corr_matrix"
   ]
  },
  {
   "cell_type": "code",
   "execution_count": null,
   "id": "0a27a304",
   "metadata": {},
   "outputs": [],
   "source": []
  }
 ],
 "metadata": {
  "kernelspec": {
   "display_name": "H8_001",
   "language": "python",
   "name": "h8_001"
  },
  "language_info": {
   "codemirror_mode": {
    "name": "ipython",
    "version": 3
   },
   "file_extension": ".py",
   "mimetype": "text/x-python",
   "name": "python",
   "nbconvert_exporter": "python",
   "pygments_lexer": "ipython3",
   "version": "3.7.11"
  },
  "toc": {
   "base_numbering": 1,
   "nav_menu": {},
   "number_sections": true,
   "sideBar": true,
   "skip_h1_title": false,
   "title_cell": "Table of Contents",
   "title_sidebar": "Contents",
   "toc_cell": false,
   "toc_position": {},
   "toc_section_display": true,
   "toc_window_display": false
  }
 },
 "nbformat": 4,
 "nbformat_minor": 5
}
