{
 "cells": [
  {
   "cell_type": "markdown",
   "metadata": {
    "id": "w7Wf3cB2wkii"
   },
   "source": [
    "### Perkenalan"
   ]
  },
  {
   "cell_type": "markdown",
   "metadata": {
    "id": "ZiWpoKk_y7r5"
   },
   "source": [
    "Anggota Kelompok :\n",
    "- Almanik Balingga\n",
    "- Muhammad Aziz Pratama\n",
    "- Ghina Khoerunnisa\n",
    "\n",
    "Disini kami memilih Final Project ke-3 Ensenmble memakai Random Forest dengan dataset Heart Failure Prediction."
   ]
  },
  {
   "cell_type": "markdown",
   "metadata": {
    "id": "oXonxKloxJe1"
   },
   "source": [
    "Latar Belakang : Menurut kami permasalahan ini menarik untuk dipecahkan karena masalah ini menyangkut isu kesehatan yang merupakan hal yang sangat penting. Selain itu berdasarkan Kompas pada tahun 2020 mengatakan bahwa penyakit jantung merupakan penyebab kematian utama di dunia. Pada tahun 2005 sekitar 7,6 juta orang meninggal dunia akibat Jantung Koroner saja. Dikutip dari Karyatin pada tahun 2019, WHO memperkirakan sekitar 17 juta orang meninggal akibat penyakit kardiovaskuler, setiap 5 detiknya ada satu orang yang meninggal akibat serangan jantung. Tujuan dari tugas ini adalah untuk memprediksi keselamatan pasien dari penyakit jantung.\n",
    "<br>\n",
    "<br>\n",
    "Dataset bersumber dari Kaggle dan dapat dilihat [disini](https://www.kaggle.com/andrewmvd/heart-failure-clinical-data). Pada dataset ini terdapat 299 baris dan 13 kolom dimana kita diminta untuk memprediksi keselamatan pasien penyakit jantung"
   ]
  },
  {
   "cell_type": "markdown",
   "metadata": {
    "id": "8bbehMyTwsLn"
   },
   "source": [
    "### Import Pustaka yang dibutuhkan"
   ]
  },
  {
   "cell_type": "code",
   "execution_count": 1,
   "metadata": {
    "id": "YVrrkVBO4aoN"
   },
   "outputs": [],
   "source": [
    "import pandas as pd\n",
    "import numpy as np\n",
    "import matplotlib.pyplot as plt\n",
    "import seaborn as sns\n",
    "%matplotlib inline\n",
    "\n",
    "pd.set_option('display.max_columns', None)"
   ]
  },
  {
   "cell_type": "code",
   "execution_count": 2,
   "metadata": {
    "id": "6TYEV0HG4mSo"
   },
   "outputs": [],
   "source": [
    "from sklearn.ensemble import RandomForestClassifier\n",
    "from sklearn.metrics import classification_report, confusion_matrix\n",
    "from sklearn.model_selection import train_test_split\n",
    "from sklearn.preprocessing import StandardScaler\n",
    "import pickle"
   ]
  },
  {
   "cell_type": "markdown",
   "metadata": {
    "id": "-RpK2Vn8SXYF"
   },
   "source": [
    "**Projects Overview** <br>\n",
    "Data ini memiliki 13 atribut. Prediksi keselamatan pasien dari penyakit jantung.\n",
    "\n",
    "**Attribute Information:**\n",
    "\n",
    "1. age - umur pasien\n",
    "2. anaemia - apakah ada pengurangan haemoglobin\n",
    "3. creatinine_phosphokinase - level enzim CPK dalam mcg/L\n",
    "4. diabetes - apakah pasien punya riwayat diabetes\n",
    "5. ejection_fraction - persentase darah yang meninggalkan jantung dalam persentasi\n",
    "di setiap kontraksi jantung\n",
    "6. high_blood_pressure - apakah pasien punya darah tinggi\n",
    "7. platelets - jumlah platelet di darah dalam kiloplatelets/mL\n",
    "8. serum_creatinine - level serum creatinine di darah dalam mg/dL\n",
    "9. serum_sodium - level serum sodium di darah dalam mEq/L\n",
    "10. sex - apakah pasien pria atau wanita\n",
    "11. smoking - apakah pasien merokok\n",
    "12. time - waktu dalam hari untuk follow-up\n",
    "13. DEATH_EVENT - apakah pasien sudah meninggal saat waktu follow-up"
   ]
  },
  {
   "cell_type": "markdown",
   "metadata": {
    "id": "yiM4hITZ4u4e"
   },
   "source": [
    "### Data Loading"
   ]
  },
  {
   "cell_type": "code",
   "execution_count": 3,
   "metadata": {
    "id": "EPbogPal4yD_"
   },
   "outputs": [],
   "source": [
    "# load dataset\n",
    "df = pd.read_csv('https://raw.githubusercontent.com/ghinakh/H8_001/main/Final%20Project%203/dataset/heart_failure_clinical_records_dataset.csv')"
   ]
  },
  {
   "cell_type": "code",
   "execution_count": 4,
   "metadata": {
    "colab": {
     "base_uri": "https://localhost:8080/",
     "height": 202
    },
    "id": "foVS8bZ54teA",
    "outputId": "2ef74f36-8bd5-4c8c-cce5-2d9870a94ec3"
   },
   "outputs": [
    {
     "data": {
      "text/html": [
       "<div>\n",
       "<style scoped>\n",
       "    .dataframe tbody tr th:only-of-type {\n",
       "        vertical-align: middle;\n",
       "    }\n",
       "\n",
       "    .dataframe tbody tr th {\n",
       "        vertical-align: top;\n",
       "    }\n",
       "\n",
       "    .dataframe thead th {\n",
       "        text-align: right;\n",
       "    }\n",
       "</style>\n",
       "<table border=\"1\" class=\"dataframe\">\n",
       "  <thead>\n",
       "    <tr style=\"text-align: right;\">\n",
       "      <th></th>\n",
       "      <th>age</th>\n",
       "      <th>anaemia</th>\n",
       "      <th>creatinine_phosphokinase</th>\n",
       "      <th>diabetes</th>\n",
       "      <th>ejection_fraction</th>\n",
       "      <th>high_blood_pressure</th>\n",
       "      <th>platelets</th>\n",
       "      <th>serum_creatinine</th>\n",
       "      <th>serum_sodium</th>\n",
       "      <th>sex</th>\n",
       "      <th>smoking</th>\n",
       "      <th>time</th>\n",
       "      <th>DEATH_EVENT</th>\n",
       "    </tr>\n",
       "  </thead>\n",
       "  <tbody>\n",
       "    <tr>\n",
       "      <th>0</th>\n",
       "      <td>75.0</td>\n",
       "      <td>0</td>\n",
       "      <td>582</td>\n",
       "      <td>0</td>\n",
       "      <td>20</td>\n",
       "      <td>1</td>\n",
       "      <td>265000.00</td>\n",
       "      <td>1.9</td>\n",
       "      <td>130</td>\n",
       "      <td>1</td>\n",
       "      <td>0</td>\n",
       "      <td>4</td>\n",
       "      <td>1</td>\n",
       "    </tr>\n",
       "    <tr>\n",
       "      <th>1</th>\n",
       "      <td>55.0</td>\n",
       "      <td>0</td>\n",
       "      <td>7861</td>\n",
       "      <td>0</td>\n",
       "      <td>38</td>\n",
       "      <td>0</td>\n",
       "      <td>263358.03</td>\n",
       "      <td>1.1</td>\n",
       "      <td>136</td>\n",
       "      <td>1</td>\n",
       "      <td>0</td>\n",
       "      <td>6</td>\n",
       "      <td>1</td>\n",
       "    </tr>\n",
       "    <tr>\n",
       "      <th>2</th>\n",
       "      <td>65.0</td>\n",
       "      <td>0</td>\n",
       "      <td>146</td>\n",
       "      <td>0</td>\n",
       "      <td>20</td>\n",
       "      <td>0</td>\n",
       "      <td>162000.00</td>\n",
       "      <td>1.3</td>\n",
       "      <td>129</td>\n",
       "      <td>1</td>\n",
       "      <td>1</td>\n",
       "      <td>7</td>\n",
       "      <td>1</td>\n",
       "    </tr>\n",
       "    <tr>\n",
       "      <th>3</th>\n",
       "      <td>50.0</td>\n",
       "      <td>1</td>\n",
       "      <td>111</td>\n",
       "      <td>0</td>\n",
       "      <td>20</td>\n",
       "      <td>0</td>\n",
       "      <td>210000.00</td>\n",
       "      <td>1.9</td>\n",
       "      <td>137</td>\n",
       "      <td>1</td>\n",
       "      <td>0</td>\n",
       "      <td>7</td>\n",
       "      <td>1</td>\n",
       "    </tr>\n",
       "    <tr>\n",
       "      <th>4</th>\n",
       "      <td>65.0</td>\n",
       "      <td>1</td>\n",
       "      <td>160</td>\n",
       "      <td>1</td>\n",
       "      <td>20</td>\n",
       "      <td>0</td>\n",
       "      <td>327000.00</td>\n",
       "      <td>2.7</td>\n",
       "      <td>116</td>\n",
       "      <td>0</td>\n",
       "      <td>0</td>\n",
       "      <td>8</td>\n",
       "      <td>1</td>\n",
       "    </tr>\n",
       "  </tbody>\n",
       "</table>\n",
       "</div>"
      ],
      "text/plain": [
       "    age  anaemia  creatinine_phosphokinase  diabetes  ejection_fraction  \\\n",
       "0  75.0        0                       582         0                 20   \n",
       "1  55.0        0                      7861         0                 38   \n",
       "2  65.0        0                       146         0                 20   \n",
       "3  50.0        1                       111         0                 20   \n",
       "4  65.0        1                       160         1                 20   \n",
       "\n",
       "   high_blood_pressure  platelets  serum_creatinine  serum_sodium  sex  \\\n",
       "0                    1  265000.00               1.9           130    1   \n",
       "1                    0  263358.03               1.1           136    1   \n",
       "2                    0  162000.00               1.3           129    1   \n",
       "3                    0  210000.00               1.9           137    1   \n",
       "4                    0  327000.00               2.7           116    0   \n",
       "\n",
       "   smoking  time  DEATH_EVENT  \n",
       "0        0     4            1  \n",
       "1        0     6            1  \n",
       "2        1     7            1  \n",
       "3        0     7            1  \n",
       "4        0     8            1  "
      ]
     },
     "execution_count": 4,
     "metadata": {},
     "output_type": "execute_result"
    }
   ],
   "source": [
    "# melihat 5 data teratas\n",
    "df.head()"
   ]
  },
  {
   "cell_type": "code",
   "execution_count": 5,
   "metadata": {
    "colab": {
     "base_uri": "https://localhost:8080/"
    },
    "id": "GLca695k4CSR",
    "outputId": "bfe1cc56-8f00-47cb-9035-7053e79215cb"
   },
   "outputs": [
    {
     "data": {
      "text/plain": [
       "(299, 13)"
      ]
     },
     "execution_count": 5,
     "metadata": {},
     "output_type": "execute_result"
    }
   ],
   "source": [
    "# dimensi dataset\n",
    "df.shape"
   ]
  },
  {
   "cell_type": "code",
   "execution_count": 6,
   "metadata": {
    "colab": {
     "base_uri": "https://localhost:8080/",
     "height": 314
    },
    "id": "qzlHKn1DbR2n",
    "outputId": "6f30f514-017c-4760-a72f-dcfc5c480bad"
   },
   "outputs": [
    {
     "data": {
      "text/html": [
       "<div>\n",
       "<style scoped>\n",
       "    .dataframe tbody tr th:only-of-type {\n",
       "        vertical-align: middle;\n",
       "    }\n",
       "\n",
       "    .dataframe tbody tr th {\n",
       "        vertical-align: top;\n",
       "    }\n",
       "\n",
       "    .dataframe thead th {\n",
       "        text-align: right;\n",
       "    }\n",
       "</style>\n",
       "<table border=\"1\" class=\"dataframe\">\n",
       "  <thead>\n",
       "    <tr style=\"text-align: right;\">\n",
       "      <th></th>\n",
       "      <th>age</th>\n",
       "      <th>anaemia</th>\n",
       "      <th>creatinine_phosphokinase</th>\n",
       "      <th>diabetes</th>\n",
       "      <th>ejection_fraction</th>\n",
       "      <th>high_blood_pressure</th>\n",
       "      <th>platelets</th>\n",
       "      <th>serum_creatinine</th>\n",
       "      <th>serum_sodium</th>\n",
       "      <th>sex</th>\n",
       "      <th>smoking</th>\n",
       "      <th>time</th>\n",
       "      <th>DEATH_EVENT</th>\n",
       "    </tr>\n",
       "  </thead>\n",
       "  <tbody>\n",
       "    <tr>\n",
       "      <th>count</th>\n",
       "      <td>299.000000</td>\n",
       "      <td>299.000000</td>\n",
       "      <td>299.000000</td>\n",
       "      <td>299.000000</td>\n",
       "      <td>299.000000</td>\n",
       "      <td>299.000000</td>\n",
       "      <td>299.000000</td>\n",
       "      <td>299.00000</td>\n",
       "      <td>299.000000</td>\n",
       "      <td>299.000000</td>\n",
       "      <td>299.00000</td>\n",
       "      <td>299.000000</td>\n",
       "      <td>299.00000</td>\n",
       "    </tr>\n",
       "    <tr>\n",
       "      <th>mean</th>\n",
       "      <td>60.833893</td>\n",
       "      <td>0.431438</td>\n",
       "      <td>581.839465</td>\n",
       "      <td>0.418060</td>\n",
       "      <td>38.083612</td>\n",
       "      <td>0.351171</td>\n",
       "      <td>263358.029264</td>\n",
       "      <td>1.39388</td>\n",
       "      <td>136.625418</td>\n",
       "      <td>0.648829</td>\n",
       "      <td>0.32107</td>\n",
       "      <td>130.260870</td>\n",
       "      <td>0.32107</td>\n",
       "    </tr>\n",
       "    <tr>\n",
       "      <th>std</th>\n",
       "      <td>11.894809</td>\n",
       "      <td>0.496107</td>\n",
       "      <td>970.287881</td>\n",
       "      <td>0.494067</td>\n",
       "      <td>11.834841</td>\n",
       "      <td>0.478136</td>\n",
       "      <td>97804.236869</td>\n",
       "      <td>1.03451</td>\n",
       "      <td>4.412477</td>\n",
       "      <td>0.478136</td>\n",
       "      <td>0.46767</td>\n",
       "      <td>77.614208</td>\n",
       "      <td>0.46767</td>\n",
       "    </tr>\n",
       "    <tr>\n",
       "      <th>min</th>\n",
       "      <td>40.000000</td>\n",
       "      <td>0.000000</td>\n",
       "      <td>23.000000</td>\n",
       "      <td>0.000000</td>\n",
       "      <td>14.000000</td>\n",
       "      <td>0.000000</td>\n",
       "      <td>25100.000000</td>\n",
       "      <td>0.50000</td>\n",
       "      <td>113.000000</td>\n",
       "      <td>0.000000</td>\n",
       "      <td>0.00000</td>\n",
       "      <td>4.000000</td>\n",
       "      <td>0.00000</td>\n",
       "    </tr>\n",
       "    <tr>\n",
       "      <th>25%</th>\n",
       "      <td>51.000000</td>\n",
       "      <td>0.000000</td>\n",
       "      <td>116.500000</td>\n",
       "      <td>0.000000</td>\n",
       "      <td>30.000000</td>\n",
       "      <td>0.000000</td>\n",
       "      <td>212500.000000</td>\n",
       "      <td>0.90000</td>\n",
       "      <td>134.000000</td>\n",
       "      <td>0.000000</td>\n",
       "      <td>0.00000</td>\n",
       "      <td>73.000000</td>\n",
       "      <td>0.00000</td>\n",
       "    </tr>\n",
       "    <tr>\n",
       "      <th>50%</th>\n",
       "      <td>60.000000</td>\n",
       "      <td>0.000000</td>\n",
       "      <td>250.000000</td>\n",
       "      <td>0.000000</td>\n",
       "      <td>38.000000</td>\n",
       "      <td>0.000000</td>\n",
       "      <td>262000.000000</td>\n",
       "      <td>1.10000</td>\n",
       "      <td>137.000000</td>\n",
       "      <td>1.000000</td>\n",
       "      <td>0.00000</td>\n",
       "      <td>115.000000</td>\n",
       "      <td>0.00000</td>\n",
       "    </tr>\n",
       "    <tr>\n",
       "      <th>75%</th>\n",
       "      <td>70.000000</td>\n",
       "      <td>1.000000</td>\n",
       "      <td>582.000000</td>\n",
       "      <td>1.000000</td>\n",
       "      <td>45.000000</td>\n",
       "      <td>1.000000</td>\n",
       "      <td>303500.000000</td>\n",
       "      <td>1.40000</td>\n",
       "      <td>140.000000</td>\n",
       "      <td>1.000000</td>\n",
       "      <td>1.00000</td>\n",
       "      <td>203.000000</td>\n",
       "      <td>1.00000</td>\n",
       "    </tr>\n",
       "    <tr>\n",
       "      <th>max</th>\n",
       "      <td>95.000000</td>\n",
       "      <td>1.000000</td>\n",
       "      <td>7861.000000</td>\n",
       "      <td>1.000000</td>\n",
       "      <td>80.000000</td>\n",
       "      <td>1.000000</td>\n",
       "      <td>850000.000000</td>\n",
       "      <td>9.40000</td>\n",
       "      <td>148.000000</td>\n",
       "      <td>1.000000</td>\n",
       "      <td>1.00000</td>\n",
       "      <td>285.000000</td>\n",
       "      <td>1.00000</td>\n",
       "    </tr>\n",
       "  </tbody>\n",
       "</table>\n",
       "</div>"
      ],
      "text/plain": [
       "              age     anaemia  creatinine_phosphokinase    diabetes  \\\n",
       "count  299.000000  299.000000                299.000000  299.000000   \n",
       "mean    60.833893    0.431438                581.839465    0.418060   \n",
       "std     11.894809    0.496107                970.287881    0.494067   \n",
       "min     40.000000    0.000000                 23.000000    0.000000   \n",
       "25%     51.000000    0.000000                116.500000    0.000000   \n",
       "50%     60.000000    0.000000                250.000000    0.000000   \n",
       "75%     70.000000    1.000000                582.000000    1.000000   \n",
       "max     95.000000    1.000000               7861.000000    1.000000   \n",
       "\n",
       "       ejection_fraction  high_blood_pressure      platelets  \\\n",
       "count         299.000000           299.000000     299.000000   \n",
       "mean           38.083612             0.351171  263358.029264   \n",
       "std            11.834841             0.478136   97804.236869   \n",
       "min            14.000000             0.000000   25100.000000   \n",
       "25%            30.000000             0.000000  212500.000000   \n",
       "50%            38.000000             0.000000  262000.000000   \n",
       "75%            45.000000             1.000000  303500.000000   \n",
       "max            80.000000             1.000000  850000.000000   \n",
       "\n",
       "       serum_creatinine  serum_sodium         sex    smoking        time  \\\n",
       "count         299.00000    299.000000  299.000000  299.00000  299.000000   \n",
       "mean            1.39388    136.625418    0.648829    0.32107  130.260870   \n",
       "std             1.03451      4.412477    0.478136    0.46767   77.614208   \n",
       "min             0.50000    113.000000    0.000000    0.00000    4.000000   \n",
       "25%             0.90000    134.000000    0.000000    0.00000   73.000000   \n",
       "50%             1.10000    137.000000    1.000000    0.00000  115.000000   \n",
       "75%             1.40000    140.000000    1.000000    1.00000  203.000000   \n",
       "max             9.40000    148.000000    1.000000    1.00000  285.000000   \n",
       "\n",
       "       DEATH_EVENT  \n",
       "count    299.00000  \n",
       "mean       0.32107  \n",
       "std        0.46767  \n",
       "min        0.00000  \n",
       "25%        0.00000  \n",
       "50%        0.00000  \n",
       "75%        1.00000  \n",
       "max        1.00000  "
      ]
     },
     "execution_count": 6,
     "metadata": {},
     "output_type": "execute_result"
    }
   ],
   "source": [
    "#melihat deskripsi singkat data, sekaligus dengan central tendency nya\n",
    "df.describe()"
   ]
  },
  {
   "cell_type": "code",
   "execution_count": 7,
   "metadata": {
    "colab": {
     "base_uri": "https://localhost:8080/"
    },
    "id": "9SyFZ4pG5YQm",
    "outputId": "d1c4d2cd-da19-44c3-ba09-729e75ac8e93"
   },
   "outputs": [
    {
     "name": "stdout",
     "output_type": "stream",
     "text": [
      "<class 'pandas.core.frame.DataFrame'>\n",
      "RangeIndex: 299 entries, 0 to 298\n",
      "Data columns (total 13 columns):\n",
      " #   Column                    Non-Null Count  Dtype  \n",
      "---  ------                    --------------  -----  \n",
      " 0   age                       299 non-null    float64\n",
      " 1   anaemia                   299 non-null    int64  \n",
      " 2   creatinine_phosphokinase  299 non-null    int64  \n",
      " 3   diabetes                  299 non-null    int64  \n",
      " 4   ejection_fraction         299 non-null    int64  \n",
      " 5   high_blood_pressure       299 non-null    int64  \n",
      " 6   platelets                 299 non-null    float64\n",
      " 7   serum_creatinine          299 non-null    float64\n",
      " 8   serum_sodium              299 non-null    int64  \n",
      " 9   sex                       299 non-null    int64  \n",
      " 10  smoking                   299 non-null    int64  \n",
      " 11  time                      299 non-null    int64  \n",
      " 12  DEATH_EVENT               299 non-null    int64  \n",
      "dtypes: float64(3), int64(10)\n",
      "memory usage: 30.5 KB\n"
     ]
    }
   ],
   "source": [
    "#melihat info dari tiap tipe data feature\n",
    "df.info()"
   ]
  },
  {
   "cell_type": "markdown",
   "metadata": {
    "id": "8EP8KXOaIGtS"
   },
   "source": [
    "### Data Cleaning"
   ]
  },
  {
   "cell_type": "code",
   "execution_count": 8,
   "metadata": {
    "colab": {
     "base_uri": "https://localhost:8080/"
    },
    "id": "-d2G60HYY58M",
    "outputId": "3d17b724-c9be-41b4-ebf3-43c00663c6ed"
   },
   "outputs": [
    {
     "data": {
      "text/plain": [
       "age                         0\n",
       "anaemia                     0\n",
       "creatinine_phosphokinase    0\n",
       "diabetes                    0\n",
       "ejection_fraction           0\n",
       "high_blood_pressure         0\n",
       "platelets                   0\n",
       "serum_creatinine            0\n",
       "serum_sodium                0\n",
       "sex                         0\n",
       "smoking                     0\n",
       "time                        0\n",
       "DEATH_EVENT                 0\n",
       "dtype: int64"
      ]
     },
     "execution_count": 8,
     "metadata": {},
     "output_type": "execute_result"
    }
   ],
   "source": [
    "# cek missing values\n",
    "df.isnull().sum()"
   ]
  },
  {
   "cell_type": "code",
   "execution_count": 9,
   "metadata": {
    "colab": {
     "base_uri": "https://localhost:8080/"
    },
    "id": "OlQ3mKBvW7Zx",
    "outputId": "7963f349-64f0-4b21-8cdc-abdec5f90940"
   },
   "outputs": [
    {
     "data": {
      "text/plain": [
       "0"
      ]
     },
     "execution_count": 9,
     "metadata": {},
     "output_type": "execute_result"
    }
   ],
   "source": [
    "# cek duplikat\n",
    "df.duplicated().sum()"
   ]
  },
  {
   "cell_type": "markdown",
   "metadata": {
    "id": "uELAMZbURRQY"
   },
   "source": [
    "Pada dataset ini, tidak ditemukan missing values dari suatu feature maupun data redundant(duplikasi)"
   ]
  },
  {
   "cell_type": "code",
   "execution_count": 10,
   "metadata": {
    "id": "ObKxQev-IrQy"
   },
   "outputs": [],
   "source": [
    "# membuat list yang berisi kolom-kolom numeric\n",
    "numeric_columns = ['age', 'creatinine_phosphokinase', 'ejection_fraction', 'platelets', 'serum_creatinine', 'serum_sodium', 'time']"
   ]
  },
  {
   "cell_type": "markdown",
   "metadata": {
    "id": "pwHVV94GISh6"
   },
   "source": [
    "### Eksplorasi Data"
   ]
  },
  {
   "cell_type": "code",
   "execution_count": 11,
   "metadata": {
    "colab": {
     "base_uri": "https://localhost:8080/",
     "height": 376
    },
    "id": "OLiXMowpQ_8D",
    "outputId": "89b3b0b9-3797-4305-998f-18ab69016cb0"
   },
   "outputs": [
    {
     "data": {
      "image/png": "[encoded data removed]",
      "text/plain": [
       "<Figure size 360x72 with 1 Axes>"
      ]
     },
     "metadata": {
      "needs_background": "light"
     },
     "output_type": "display_data"
    },
    {
     "data": {
      "image/png": "[encoded data removed]",
      "text/plain": [
       "<Figure size 360x72 with 1 Axes>"
      ]
     },
     "metadata": {
      "needs_background": "light"
     },
     "output_type": "display_data"
    },
    {
     "data": {
      "image/png": "[encoded data removed]",
      "text/plain": [
       "<Figure size 360x72 with 1 Axes>"
      ]
     },
     "metadata": {
      "needs_background": "light"
     },
     "output_type": "display_data"
    },
    {
     "data": {
      "image/png": "[encoded data removed]",
      "text/plain": [
       "<Figure size 360x72 with 1 Axes>"
      ]
     },
     "metadata": {
      "needs_background": "light"
     },
     "output_type": "display_data"
    },
    {
     "data": {
      "image/png": "[encoded data removed]",
      "text/plain": [
       "<Figure size 576x72 with 1 Axes>"
      ]
     },
     "metadata": {
      "needs_background": "light"
     },
     "output_type": "display_data"
    }
   ],
   "source": [
    "# membuat list colors palette yang digunakan untuk visualisasi\n",
    "colors_blue = ['#eff3ff','#bdd7e7','#6baed6','#3182bd','#08519c']\n",
    "colors_red = [\"#331313\", \"#582626\", '#9E1717', '#D35151', '#E9B4B4']\n",
    "colors_green = ['#edf8e9','#bae4b3','#74c476','#31a354','#006d2c']\n",
    "colors_dark = [\"#1F1F1F\", \"#313131\", '#636363', '#AEAEAE', '#DADADA']\n",
    "colors_mix = [\"#3182bd\",'#D3B651', '#74c476', '#D35151', '#E9DAB4', '#E9B4B4', '#264D58', '#6351D3']\n",
    "\n",
    "# plot colors palette \n",
    "sns.palplot(colors_blue)\n",
    "sns.palplot(colors_red)\n",
    "sns.palplot(colors_green)\n",
    "sns.palplot(colors_dark)\n",
    "sns.palplot(colors_mix)"
   ]
  },
  {
   "cell_type": "code",
   "execution_count": 12,
   "metadata": {
    "colab": {
     "base_uri": "https://localhost:8080/",
     "height": 840
    },
    "id": "eYcdZwoVbv3q",
    "outputId": "3792521a-35a8-4f4b-9e9f-cb40a436eee5"
   },
   "outputs": [
    {
     "data": {
      "image/png": "[encoded data removed]",
      "text/plain": [
       "<Figure size 1152x864 with 2 Axes>"
      ]
     },
     "metadata": {
      "needs_background": "light"
     },
     "output_type": "display_data"
    }
   ],
   "source": [
    "# menghitung korelasi\n",
    "df_corr = df.corr()\n",
    "\n",
    "# mengatur mask dan cmap\n",
    "mask = np.triu(np.ones_like(df_corr, dtype=bool))\n",
    "cmap = sns.diverging_palette(250, 15, s=75, l=40,\n",
    "                             n=9, center=\"light\", as_cmap=True)\n",
    "\n",
    "# membuat heatmap dari data korelasi\n",
    "plt.figure(figsize=(16, 12))\n",
    "sns.heatmap(df_corr, mask=mask, center=0, annot=True,\n",
    "             fmt='.2f', square=True, cmap=cmap, vmin=-1,vmax=1)\n",
    "\n",
    "# mengatur title\n",
    "plt.title(\"Heatmap Correlations Feature\", y=1.04, fontsize=18, color=colors_dark[0]) \n",
    "\n",
    "plt.show()"
   ]
  },
  {
   "cell_type": "code",
   "execution_count": 13,
   "metadata": {
    "id": "LMhi4aG0O1su"
   },
   "outputs": [],
   "source": [
    "# mengelompokkan death_event dan menghitung valuenya\n",
    "death_data = df.groupby(['DEATH_EVENT'], as_index=False)['DEATH_EVENT'].count()"
   ]
  },
  {
   "cell_type": "code",
   "execution_count": 14,
   "metadata": {
    "colab": {
     "base_uri": "https://localhost:8080/",
     "height": 450
    },
    "id": "tRR5D0c4R6OI",
    "outputId": "db7b97ea-7fd7-4e3d-c0c4-d41b3fdfa851"
   },
   "outputs": [
    {
     "data": {
      "image/png": "[encoded data removed]",
      "text/plain": [
       "<Figure size 720x432 with 1 Axes>"
      ]
     },
     "metadata": {
      "needs_background": "light"
     },
     "output_type": "display_data"
    }
   ],
   "source": [
    "# membuat plot barchart\n",
    "fig, ax = plt.subplots(figsize=(10, 6))\n",
    "bars = ax.bar(['survived', 'not survived'], death_data['DEATH_EVENT'], alpha=0.8, color=colors_red[2])\n",
    "\n",
    "# menandai bar paling besar\n",
    "bars[0].set_alpha(0.7)\n",
    "bars[0].set_color(colors_green[2])\n",
    "bars[0].set_edgecolor(colors_dark[0])\n",
    "\n",
    "# setting figure\n",
    "ax.spines['right'].set_visible(False)\n",
    "ax.spines['top'].set_visible(False)\n",
    "ax.grid(axis='y', alpha=0.2)\n",
    "ax.set_axisbelow(True)\n",
    "\n",
    "xmin, xmax = ax.get_xlim()\n",
    "ymin, ymax = ax.get_ylim()\n",
    "\n",
    "# set label\n",
    "ax.set_xlabel(\"Death_Event\", fontsize=12, labelpad=10, fontweight='bold', color=colors_dark[1])\n",
    "ax.set_ylabel(\"Count of Event\", fontsize=12, labelpad=10, fontweight='bold', color=colors_dark[1])\n",
    "\n",
    "plt.text(s=\"Bagaimana distribusi target(Death Event) pada dataset ini ?\", ha='left', x=xmin, y=ymax*1.12, fontsize=18, fontweight='bold', color=colors_dark[0])\n",
    "plt.title(\"Target Dataset ini Unbalanced dan lebih banyak yang survived\", y=1.04, loc='left', fontsize=14, color=colors_dark[2]) \n",
    "\n",
    "plt.show()"
   ]
  },
  {
   "cell_type": "markdown",
   "metadata": {
    "id": "uf7FwGk9XLQK"
   },
   "source": [
    "Berdasarkan plot di atas dataset ini memiliki class yang imbalance yang mana mayoritas datanya memiliki target survived (0)"
   ]
  },
  {
   "cell_type": "code",
   "execution_count": 15,
   "metadata": {
    "id": "zEWV0Po7ZFmZ"
   },
   "outputs": [],
   "source": [
    "# meng-copy df dengan fitur sex dan death event ke dalam variabel baru\n",
    "temp = df[['sex','DEATH_EVENT']].copy()\n",
    "\n",
    "# mengubah value 0 dan 1 menjadi female dan male (untuk visualisasi)\n",
    "temp['sex'].replace({0:'female', 1:'male'}, inplace=True)"
   ]
  },
  {
   "cell_type": "code",
   "execution_count": 16,
   "metadata": {
    "colab": {
     "base_uri": "https://localhost:8080/",
     "height": 450
    },
    "id": "Y0lTGqkSjRAL",
    "outputId": "65562bf9-b83a-4499-b1c4-320fc0853cae"
   },
   "outputs": [
    {
     "data": {
      "image/png": "[encoded data removed]",
      "text/plain": [
       "<Figure size 720x432 with 1 Axes>"
      ]
     },
     "metadata": {
      "needs_background": "light"
     },
     "output_type": "display_data"
    }
   ],
   "source": [
    "fig, ax = plt.subplots(figsize=(10, 6))\n",
    "\n",
    "# membuat plot perbandingan death event berdasarkan jenis kelamis\n",
    "sns.countplot(x='sex',hue='DEATH_EVENT', data=temp, palette=[colors_green[2],colors_red[3]])\n",
    "\n",
    "# mengatur legend\n",
    "plt.legend(title='death event', loc='upper right', labels=['survived', 'not survived'])\n",
    "plt.xlabel('sex')\n",
    "\n",
    "xmin, xmax = ax.get_xlim()\n",
    "ymin, ymax = ax.get_ylim()\n",
    "\n",
    "# set label\n",
    "ax.set_xlabel(\"Sex\", fontsize=12, labelpad=10, fontweight='bold', color=colors_dark[1])\n",
    "ax.set_ylabel(\"Count of Event\", fontsize=12, labelpad=10, fontweight='bold', color=colors_dark[1])\n",
    "\n",
    "# mengatur title dan annotate\n",
    "plt.text(s=\"Perbandingan DEATH EVENT Berdasarkan Jenis Kelamin?\", ha='left', x=xmin, y=ymax*1.12, fontsize=18, fontweight='bold', color=colors_dark[0])\n",
    "plt.title(\"Laki-laki merupakan kelompok yang lebih banyak tidak survived\", y=1.04, loc='left', fontsize=14, color=colors_dark[2]) \n",
    "sns.despine()\n",
    "plt.show()"
   ]
  },
  {
   "cell_type": "code",
   "execution_count": 17,
   "metadata": {
    "id": "vm5W3BQvZ51F"
   },
   "outputs": [],
   "source": [
    "# menghitung jumlah pasien laki-laki dan meninggal\n",
    "male_death = len(df[(df['sex'] == 1) & (df['DEATH_EVENT']==1)])\n",
    "\n",
    "# menghitung jumlah pasien perempuan dan meninggal\n",
    "female_death = len(df[(df['sex'] == 0) & (df['DEATH_EVENT']==1)])\n",
    "\n",
    "# menghitung jumlah pasien yang meninggal\n",
    "total_death = len(df[df['DEATH_EVENT'] == 1])"
   ]
  },
  {
   "cell_type": "code",
   "execution_count": 18,
   "metadata": {
    "colab": {
     "base_uri": "https://localhost:8080/"
    },
    "id": "Ew2RuMpleBEb",
    "outputId": "7db8f675-527d-4239-b508-483d7457c6da"
   },
   "outputs": [
    {
     "data": {
      "text/plain": [
       "(0.65, 0.35)"
      ]
     },
     "execution_count": 18,
     "metadata": {},
     "output_type": "execute_result"
    }
   ],
   "source": [
    "# menghitung persentase pasien yang meninggal berdasarkan jenis kelamin => jumlah pasien laki-laki/perempuan yang meninggal dibagi dengan total pasien yang meninggal\n",
    "p_male_death, p_female_death = round(male_death/total_death,2), round(female_death/total_death,2)\n",
    "p_male_death, p_female_death"
   ]
  },
  {
   "cell_type": "code",
   "execution_count": 19,
   "metadata": {
    "colab": {
     "base_uri": "https://localhost:8080/"
    },
    "id": "Fi-zUNVba9rn",
    "outputId": "479b3ca2-0266-44a5-9c53-afa83432502b"
   },
   "outputs": [
    {
     "data": {
      "text/plain": [
       "(0.554586208194692, 0.7454137918053081)"
      ]
     },
     "execution_count": 19,
     "metadata": {},
     "output_type": "execute_result"
    }
   ],
   "source": [
    "# menghitung standar error untuk pasien laki-laki dan meninggal\n",
    "se_male = np.sqrt(p_male_death * (1-p_male_death) / total_death)\n",
    "\n",
    "# menghitung batas atas dan batas bawah\n",
    "z_score = 1.96\n",
    "lcb_male = p_male_death - z_score* se_male #lower limit of the CI\n",
    "ucb_male = p_male_death + z_score* se_male #upper limit of the CI\n",
    "lcb_male, ucb_male"
   ]
  },
  {
   "cell_type": "code",
   "execution_count": 20,
   "metadata": {
    "colab": {
     "base_uri": "https://localhost:8080/"
    },
    "id": "hfHPoR8aczet",
    "outputId": "4ecb2ddf-1c14-4061-fcec-b037a815defa"
   },
   "outputs": [
    {
     "data": {
      "text/plain": [
       "(0.25458620819469197, 0.445413791805308)"
      ]
     },
     "execution_count": 20,
     "metadata": {},
     "output_type": "execute_result"
    }
   ],
   "source": [
    "# menghitung standar error untuk pasien perempuan dan meninggal\n",
    "se_female = np.sqrt(p_female_death * (1-p_female_death) / total_death)\n",
    "\n",
    "# menghitung batas atas dan batas bawah\n",
    "z_score = 1.96\n",
    "lcb_female = p_female_death - z_score* se_female #lower limit of the CI\n",
    "ucb_female = p_female_death + z_score* se_female #upper limit of the CI\n",
    "lcb_female, ucb_female"
   ]
  },
  {
   "cell_type": "markdown",
   "metadata": {
    "id": "XuELJz38YstT"
   },
   "source": [
    "**Berdasarkan plot di atas, pada dataset ini pasien yang meninggal didominasi oleh laki-laki yaitu sebanyak 65% sedangkan pasien perempuan yang meninggal sekitar 35%.**"
   ]
  },
  {
   "cell_type": "markdown",
   "metadata": {
    "id": "Q6U50YBrcGv8"
   },
   "source": [
    "**Berdasarkan CI menyatakan bahwa peluang populasi pasien jantung meninggal dengan jenis kelamin laki-laki berkisar antara 55% - 77%. Sedangkan yang berjenis kelamin perempuan berkisar antara 25% - 44%**"
   ]
  },
  {
   "cell_type": "code",
   "execution_count": 21,
   "metadata": {
    "id": "asONlWrkZSTc"
   },
   "outputs": [],
   "source": [
    "# meng-copy df dengan fitur smoking dan death event ke dalam variabel baru\n",
    "temp = df[['smoking','DEATH_EVENT']].copy()\n",
    "\n",
    "# mengubah value 0 dan 1 menjadi no dan yes (untuk visualisasi)\n",
    "temp['smoking'].replace({0:'no', 1:'yes'}, inplace=True)"
   ]
  },
  {
   "cell_type": "code",
   "execution_count": 22,
   "metadata": {
    "colab": {
     "base_uri": "https://localhost:8080/",
     "height": 450
    },
    "id": "smV7x1EzkWoo",
    "outputId": "c2ba8d1c-9ed9-440d-f7dc-dd4c430e8975"
   },
   "outputs": [
    {
     "data": {
      "image/png": "[encoded data removed]",
      "text/plain": [
       "<Figure size 720x432 with 1 Axes>"
      ]
     },
     "metadata": {
      "needs_background": "light"
     },
     "output_type": "display_data"
    }
   ],
   "source": [
    "fig, ax = plt.subplots(figsize=(10, 6))\n",
    "\n",
    "# membuat plot perbandingan death event berdasarkan smoking \n",
    "sns.countplot(x='smoking',hue='DEATH_EVENT', data=temp, palette=[colors_green[2],colors_red[3]])\n",
    "\n",
    "# mengatur legend\n",
    "plt.legend(title='death event', loc='upper right', labels=['survived', 'not survived'])\n",
    "\n",
    "xmin, xmax = ax.get_xlim()\n",
    "ymin, ymax = ax.get_ylim()\n",
    "\n",
    "# set label\n",
    "ax.set_xlabel(\"Smoking\", fontsize=12, labelpad=10, fontweight='bold', color=colors_dark[1])\n",
    "ax.set_ylabel(\"Count of Event\", fontsize=12, labelpad=10, fontweight='bold', color=colors_dark[1])\n",
    "\n",
    "# mengatur title dan annotate\n",
    "plt.text(s=\"Perbandingan DEATH EVENT Berdasarkan Smoking\", ha='left', x=xmin, y=ymax*1.12, fontsize=18, fontweight='bold', color=colors_dark[0])\n",
    "plt.title(\"non smoking merupakan kelompok yang lebih banyak tidak survived\", y=1.04, loc='left', fontsize=14, color=colors_dark[2]) \n",
    "sns.despine()\n",
    "plt.show()"
   ]
  },
  {
   "cell_type": "code",
   "execution_count": 23,
   "metadata": {
    "colab": {
     "base_uri": "https://localhost:8080/"
    },
    "id": "yPrI5jLKnYRh",
    "outputId": "02e2bbe6-836a-4168-8f40-653aa641f313"
   },
   "outputs": [
    {
     "data": {
      "text/plain": [
       "(0.31, 0.69)"
      ]
     },
     "execution_count": 23,
     "metadata": {},
     "output_type": "execute_result"
    }
   ],
   "source": [
    "# menghitung jumlah pasien smoking dan meninggal\n",
    "smoking_death = len(df[(df['smoking'] == 1) & (df['DEATH_EVENT']==1)])\n",
    "\n",
    "# menghitung jumlah pasien tidak smoking dan meninggal\n",
    "nsmoking_death = len(df[(df['smoking'] == 0) & (df['DEATH_EVENT']==1)])\n",
    "\n",
    "# menghitung persentase pasien yang meninggal berdasarkan smoking atau tidak => jumlah pasien smoking/non-smoking yang meninggal dibagi dengan total pasien yang meninggal\n",
    "percent_smoking_death, percent_nsmoking_death = round(smoking_death/total_death,2), round(nsmoking_death/total_death,2)\n",
    "percent_smoking_death, percent_nsmoking_death"
   ]
  },
  {
   "cell_type": "markdown",
   "metadata": {
    "id": "eFN3daJOnes9"
   },
   "source": [
    "**Berdasarkan plot di atas, pada dataset ini ternyata pasien yang tidak merokok lebih banyak yang meninggal daripada yang merokok. Dari data ini sekitar 31% pasien penyakit jantung yang merokok meninggal dan 69% yang tidak merokok dan meninggal**"
   ]
  },
  {
   "cell_type": "code",
   "execution_count": 24,
   "metadata": {
    "id": "c3ayo7ymaC8E"
   },
   "outputs": [],
   "source": [
    "# meng-copy df dengan fitur diabetes dan death event ke dalam variabel baru\n",
    "temp = df[['diabetes','DEATH_EVENT']].copy()\n",
    "\n",
    "# mengubah value 0 dan 1 menjadi no dan yes (untuk visualisasi)\n",
    "temp['diabetes'].replace({0:'no', 1:'yes'}, inplace=True)"
   ]
  },
  {
   "cell_type": "code",
   "execution_count": 25,
   "metadata": {
    "colab": {
     "base_uri": "https://localhost:8080/",
     "height": 450
    },
    "id": "lCJ_lnIBkmIq",
    "outputId": "6ecad0e3-009f-473d-8dc1-da8cfdee0011"
   },
   "outputs": [
    {
     "data": {
      "image/png": "[encoded data removed]",
      "text/plain": [
       "<Figure size 720x432 with 1 Axes>"
      ]
     },
     "metadata": {
      "needs_background": "light"
     },
     "output_type": "display_data"
    }
   ],
   "source": [
    "fig, ax = plt.subplots(figsize=(10, 6))\n",
    "\n",
    "# membuat plot perbandingan death event berdasarkan diabetes\n",
    "sns.countplot(x='diabetes',hue='DEATH_EVENT', data=temp, palette=[colors_green[2],colors_red[3]])\n",
    "\n",
    "# mengatur legend\n",
    "plt.legend(title='death event', loc='upper right', labels=['survived', 'not survived'])\n",
    "\n",
    "xmin, xmax = ax.get_xlim()\n",
    "ymin, ymax = ax.get_ylim()\n",
    "\n",
    "# set label\n",
    "ax.set_xlabel(\"Diabetes\", fontsize=12, labelpad=10, fontweight='bold', color=colors_dark[1])\n",
    "ax.set_ylabel(\"Count of Event\", fontsize=12, labelpad=10, fontweight='bold', color=colors_dark[1])\n",
    "\n",
    "# mengatur title dan annotate\n",
    "plt.text(s=\"Perbandingan DEATH EVENT Berdasarkan Diabetes\", ha='left', x=xmin, y=ymax*1.12, fontsize=18, fontweight='bold', color=colors_dark[0])\n",
    "plt.title(\"non diabetes merupakan kelompok yang lebih banyak tidak survived\", y=1.04, loc='left', fontsize=14, color=colors_dark[2]) \n",
    "sns.despine()\n",
    "plt.show()"
   ]
  },
  {
   "cell_type": "code",
   "execution_count": 26,
   "metadata": {
    "colab": {
     "base_uri": "https://localhost:8080/"
    },
    "id": "MD4cD5Z4Qt3z",
    "outputId": "d3f6fba8-5b9e-4c8a-efca-7805b35ff937"
   },
   "outputs": [
    {
     "data": {
      "text/plain": [
       "(0.42, 0.58)"
      ]
     },
     "execution_count": 26,
     "metadata": {},
     "output_type": "execute_result"
    }
   ],
   "source": [
    "# menghitung jumlah pasien diabetes dan meninggal\n",
    "diabetes_death = len(df[(df['diabetes'] == 1) & (df['DEATH_EVENT']==1)])\n",
    "\n",
    "# menghitung jumlah pasien non diabetes dan meninggal\n",
    "ndiabetes_death = len(df[(df['diabetes'] == 0) & (df['DEATH_EVENT']==1)])\n",
    "\n",
    "# menghitung persentase pasien yang meninggal berdasarkan diabetes atau tidak => jumlah pasien diabetes/non-diabetes yang meninggal dibagi dengan total pasien yang meninggal\n",
    "percent_diabetes_death, percent_ndiabetes_death = round(diabetes_death/total_death,2), round(ndiabetes_death/total_death,2)\n",
    "percent_diabetes_death, percent_ndiabetes_death"
   ]
  },
  {
   "cell_type": "markdown",
   "metadata": {
    "id": "eFn5DkMSBHd4"
   },
   "source": [
    "**Berdasarkan plot di atas, pada dataset ini pasien yang meninggal didominasi oleh pasien yang tidak diabetes yaitu sebanyak 58% sedangkan pasien yang diabetes yang meninggal sebanyak 42%.**"
   ]
  },
  {
   "cell_type": "code",
   "execution_count": 27,
   "metadata": {
    "id": "iIjKZmBMbGUi"
   },
   "outputs": [],
   "source": [
    "# meng-copy df dengan fitur anaemia dan death event ke dalam variabel baru\n",
    "temp = df[['anaemia','DEATH_EVENT']].copy()\n",
    "\n",
    "# mengubah value 0 dan 1 menjadi no dan yes (untuk visualisasi)\n",
    "temp['anaemia'].replace({0:'no', 1:'yes'}, inplace=True)"
   ]
  },
  {
   "cell_type": "code",
   "execution_count": 28,
   "metadata": {
    "colab": {
     "base_uri": "https://localhost:8080/",
     "height": 450
    },
    "id": "SNd8_xepkzBN",
    "outputId": "0aebd596-c186-4a16-87c3-e2e23a79a197"
   },
   "outputs": [
    {
     "data": {
      "image/png": "[encoded data removed]",
      "text/plain": [
       "<Figure size 720x432 with 1 Axes>"
      ]
     },
     "metadata": {
      "needs_background": "light"
     },
     "output_type": "display_data"
    }
   ],
   "source": [
    "fig, ax = plt.subplots(figsize=(10, 6))\n",
    "\n",
    "# membuat plot perbandingan death event berdasarkan anaemia\n",
    "sns.countplot(x='anaemia',hue='DEATH_EVENT', data=temp, palette=[colors_green[2],colors_red[3]])\n",
    "\n",
    "# mengatur legend\n",
    "plt.legend(title='death event', loc='upper right', labels=['survived', 'not survived'])\n",
    "\n",
    "xmin, xmax = ax.get_xlim()\n",
    "ymin, ymax = ax.get_ylim()\n",
    "\n",
    "# set label\n",
    "ax.set_xlabel(\"anaemia\", fontsize=12, labelpad=10, fontweight='bold', color=colors_dark[1])\n",
    "ax.set_ylabel(\"Count of Event\", fontsize=12, labelpad=10, fontweight='bold', color=colors_dark[1])\n",
    "\n",
    "# mengatur title dan annotate\n",
    "plt.text(s=\"Perbandingan DEATH EVENT Berdasarkan anaemia\", ha='left', x=xmin, y=ymax*1.12, fontsize=18, fontweight='bold', color=colors_dark[0])\n",
    "plt.title(\"non anaemia merupakan kelompok yang lebih banyak tidak survived\", y=1.04, loc='left', fontsize=14, color=colors_dark[2]) \n",
    "sns.despine()\n",
    "plt.show()"
   ]
  },
  {
   "cell_type": "code",
   "execution_count": 29,
   "metadata": {
    "colab": {
     "base_uri": "https://localhost:8080/"
    },
    "id": "jbe8gd1wdSt1",
    "outputId": "b433bf38-fe05-4f0c-e7f2-f579c57a2563"
   },
   "outputs": [
    {
     "data": {
      "text/plain": [
       "(0.48, 0.52)"
      ]
     },
     "execution_count": 29,
     "metadata": {},
     "output_type": "execute_result"
    }
   ],
   "source": [
    "# menghitung jumlah pasien anaemia dan meninggal\n",
    "anemia_death = len(df[(df['anaemia'] == 1) & (df['DEATH_EVENT']==1)])\n",
    "\n",
    "# menghitung jumlah pasien non anaemia dan meninggal\n",
    "nanemia_death = len(df[(df['anaemia'] == 0) & (df['DEATH_EVENT']==1)])\n",
    "\n",
    "# menghitung persentase pasien yang meninggal berdasarkan anaemia atau tidak => jumlah pasien anaemia/non-anaemia yang meninggal dibagi dengan total pasien yang meninggal\n",
    "percent_anemia_death, percent_nanemia_death = round(anemia_death/total_death,2), round(nanemia_death/total_death,2)\n",
    "percent_anemia_death, percent_nanemia_death"
   ]
  },
  {
   "cell_type": "markdown",
   "metadata": {
    "id": "NyKXiu9KhczZ"
   },
   "source": [
    "**Berdasarkan plot di atas, pada dataset ini pasien yang meninggal didominasi oleh pasien yang tidak memiliki anemia yaitu sebanyak 52% sedangkan pasien yang memiliki anemia dan meninggal sebanyak 48%.**"
   ]
  },
  {
   "cell_type": "code",
   "execution_count": 30,
   "metadata": {
    "id": "9VDDVhXFbeAO"
   },
   "outputs": [],
   "source": [
    "# meng-copy df dengan fitur high_blood_pressure dan death event ke dalam variabel baru\n",
    "temp = df[['high_blood_pressure','DEATH_EVENT']].copy()\n",
    "\n",
    "# mengubah value 0 dan 1 menjadi no dan yes (untuk visualisasi)\n",
    "temp['high_blood_pressure'].replace({0:'no', 1:'yes'}, inplace=True)"
   ]
  },
  {
   "cell_type": "code",
   "execution_count": 31,
   "metadata": {
    "colab": {
     "base_uri": "https://localhost:8080/",
     "height": 450
    },
    "id": "4LLRsJ3-esDj",
    "outputId": "c7bfbfdd-5b01-4074-94b0-45e32031ece1"
   },
   "outputs": [
    {
     "data": {
      "image/png": "[encoded data removed]",
      "text/plain": [
       "<Figure size 720x432 with 1 Axes>"
      ]
     },
     "metadata": {
      "needs_background": "light"
     },
     "output_type": "display_data"
    }
   ],
   "source": [
    "fig, ax = plt.subplots(figsize=(10, 6))\n",
    "\n",
    "# membuat plot perbandingan death event berdasarkan high_blood_pressure\n",
    "sns.countplot(x='high_blood_pressure',hue='DEATH_EVENT', data=temp, palette=[colors_green[2],colors_red[3]])\n",
    "\n",
    "# mengatur legend\n",
    "plt.legend(title='death event', loc='upper right', labels=['survived', 'not survived'])\n",
    "\n",
    "xmin, xmax = ax.get_xlim()\n",
    "ymin, ymax = ax.get_ylim()\n",
    "\n",
    "# set label\n",
    "ax.set_xlabel(\"high_blood_pressure\", fontsize=12, labelpad=10, fontweight='bold', color=colors_dark[1])\n",
    "ax.set_ylabel(\"Count of Event\", fontsize=12, labelpad=10, fontweight='bold', color=colors_dark[1])\n",
    "\n",
    "# mengatur title dan annotate\n",
    "plt.text(s=\"Perbandingan DEATH EVENT Berdasarkan high_blood_pressure\", ha='left', x=xmin, y=ymax*1.12, fontsize=18, fontweight='bold', color=colors_dark[0])\n",
    "plt.title(\"non high_blood_pressure merupakan kelompok yang lebih banyak tidak survived\", y=1.04, loc='left', fontsize=14, color=colors_dark[2]) \n",
    "sns.despine()\n",
    "plt.show()"
   ]
  },
  {
   "cell_type": "code",
   "execution_count": 32,
   "metadata": {
    "id": "cNfrJKvMg6eq"
   },
   "outputs": [],
   "source": [
    "# menghitung jumlah pasien high_blood_pressure dan meninggal\n",
    "dt_death = len(df[(df['high_blood_pressure'] == 1) & (df['DEATH_EVENT']==1)])\n",
    "\n",
    "# menghitung jumlah pasien non high_blood_pressure dan meninggal\n",
    "ndt_death = len(df[(df['high_blood_pressure'] == 0) & (df['DEATH_EVENT']==1)])"
   ]
  },
  {
   "cell_type": "code",
   "execution_count": 33,
   "metadata": {
    "colab": {
     "base_uri": "https://localhost:8080/"
    },
    "id": "G6jioMmKhxBl",
    "outputId": "6d46a464-d776-454c-bcfd-44aeeb2bece4"
   },
   "outputs": [
    {
     "name": "stdout",
     "output_type": "stream",
     "text": [
      "40.625 % orang yang memiliki Darah Tinggi dan Meninggal\n",
      "59.375 % orang yang tidak memiliki Darah Tinggi dan Meninggal\n"
     ]
    }
   ],
   "source": [
    "# menghitung persentase pasien yang meninggal berdasarkan high_blood_pressure atau tidak => jumlah pasien high_blood_pressure/non-high_blood_pressure \n",
    "# yang meninggal dibagi dengan total pasien yang meninggal\n",
    "print(dt_death/total_death * 100,'% orang yang memiliki Darah Tinggi dan Meninggal')\n",
    "print(ndt_death/total_death * 100,'% orang yang tidak memiliki Darah Tinggi dan Meninggal')"
   ]
  },
  {
   "cell_type": "code",
   "execution_count": 34,
   "metadata": {
    "colab": {
     "base_uri": "https://localhost:8080/",
     "height": 420
    },
    "id": "Owc0ocXNch-6",
    "outputId": "d89ed1ce-8c8c-4046-c4d8-c455da291ec2"
   },
   "outputs": [
    {
     "data": {
      "image/png": "[encoded data removed]",
      "text/plain": [
       "<Figure size 1152x432 with 1 Axes>"
      ]
     },
     "metadata": {
      "needs_background": "light"
     },
     "output_type": "display_data"
    }
   ],
   "source": [
    "plt.figure(figsize=(16,6))\n",
    "\n",
    "# membuat plot distribusi kematian berdasarkan umur pasien\n",
    "sns.histplot(x='age', data=df, hue='DEATH_EVENT', bins=30, multiple='dodge', kde=True, palette=[colors_red[3],colors_green[2]])\n",
    "\n",
    "# mengatur title dan label\n",
    "plt.title('Distribusi kematian berdasarkan Umur Pasien', y=1.05)\n",
    "plt.xlabel('Umur')\n",
    "\n",
    "# mengatur legend\n",
    "plt.legend(title='death event', loc='upper right', labels=['not survived','survived'])\n",
    "\n",
    "xmin, xmax = ax.get_xlim()\n",
    "ymin, ymax = ax.get_ylim()\n",
    "plt.axvline(x=df.age.mean(),ymin=ymin,ymax=ymax, color=colors_blue[3])\n",
    "plt.annotate('rata-rata',xy=(61,21.6))\n",
    "\n",
    "sns.despine()\n",
    "plt.show()"
   ]
  },
  {
   "cell_type": "markdown",
   "metadata": {
    "id": "jZo9IgaPhyfG"
   },
   "source": [
    "**Berdasarkan plot distribusi di atas, pasien jantung dengan umur 60 ke atas lebih berisiko untuk meninggal**"
   ]
  },
  {
   "cell_type": "code",
   "execution_count": 35,
   "metadata": {
    "colab": {
     "base_uri": "https://localhost:8080/",
     "height": 420
    },
    "id": "hQH0bJ7idxHa",
    "outputId": "49bf5e7e-74a1-4dc6-b0bf-8d3dfa1cc056"
   },
   "outputs": [
    {
     "data": {
      "image/png": "[encoded data removed]",
      "text/plain": [
       "<Figure size 1152x432 with 1 Axes>"
      ]
     },
     "metadata": {
      "needs_background": "light"
     },
     "output_type": "display_data"
    }
   ],
   "source": [
    "plt.figure(figsize=(16,6))\n",
    "\n",
    "# membuat plot distribusi kematian berdasarkan berapa lama pasien Follow Up\n",
    "sns.histplot(x='time', data=df, hue='DEATH_EVENT', bins=30, multiple='dodge', kde=True, palette=[colors_green[2],colors_red[3]])\n",
    "\n",
    "# mengatur title dan label\n",
    "plt.title('Distribusi kematian berdasarkan berapa lama Pasien Follow Up', y=1.05)\n",
    "plt.xlabel('time')\n",
    "\n",
    "# mengatur legend\n",
    "plt.legend(title='death event', loc='upper right', labels=['not survived','survived'])\n",
    "\n",
    "plt.axvline(x=df.time.mean(),ymin=ymin,ymax=ymax, color=colors_blue[3])\n",
    "plt.annotate('rata-rata',xy=(df.time.mean()+1,23.6))\n",
    "\n",
    "sns.despine()\n",
    "plt.show()"
   ]
  },
  {
   "cell_type": "markdown",
   "metadata": {
    "id": "6RsteyiCjXW8"
   },
   "source": [
    "**Berdasarkan plot distribusi di atas, pasien jantung yang follow up dengan cepat ternyata lebih banyak yang meninggal daripada yang follow up lebih lama**"
   ]
  },
  {
   "cell_type": "code",
   "execution_count": 36,
   "metadata": {
    "colab": {
     "base_uri": "https://localhost:8080/",
     "height": 420
    },
    "id": "3z4qWWDyq69U",
    "outputId": "cd80801c-57a8-4d66-972b-046dd879df96"
   },
   "outputs": [
    {
     "data": {
      "image/png": "[encoded data removed]",
      "text/plain": [
       "<Figure size 432x432 with 1 Axes>"
      ]
     },
     "metadata": {
      "needs_background": "light"
     },
     "output_type": "display_data"
    }
   ],
   "source": [
    "plt.figure(figsize=(6,6))\n",
    "\n",
    "# membuat plot distribusi data serum creatinine\n",
    "sns.boxplot(data=df['serum_creatinine'])\n",
    "plt.title('Distribusi Data Serum Creatinine', y=1.05)\n",
    "plt.xlabel('Serum Creatinine')\n",
    "plt.show()"
   ]
  },
  {
   "cell_type": "code",
   "execution_count": 37,
   "metadata": {
    "colab": {
     "base_uri": "https://localhost:8080/",
     "height": 416
    },
    "id": "J42yPHcVq9Wr",
    "outputId": "60133191-b540-4576-d4ef-bb401ebe22bd"
   },
   "outputs": [
    {
     "data": {
      "text/html": [
       "<div>\n",
       "<style scoped>\n",
       "    .dataframe tbody tr th:only-of-type {\n",
       "        vertical-align: middle;\n",
       "    }\n",
       "\n",
       "    .dataframe tbody tr th {\n",
       "        vertical-align: top;\n",
       "    }\n",
       "\n",
       "    .dataframe thead th {\n",
       "        text-align: right;\n",
       "    }\n",
       "</style>\n",
       "<table border=\"1\" class=\"dataframe\">\n",
       "  <thead>\n",
       "    <tr style=\"text-align: right;\">\n",
       "      <th></th>\n",
       "      <th>age</th>\n",
       "      <th>anaemia</th>\n",
       "      <th>creatinine_phosphokinase</th>\n",
       "      <th>diabetes</th>\n",
       "      <th>ejection_fraction</th>\n",
       "      <th>high_blood_pressure</th>\n",
       "      <th>platelets</th>\n",
       "      <th>serum_creatinine</th>\n",
       "      <th>serum_sodium</th>\n",
       "      <th>sex</th>\n",
       "      <th>smoking</th>\n",
       "      <th>time</th>\n",
       "      <th>DEATH_EVENT</th>\n",
       "    </tr>\n",
       "  </thead>\n",
       "  <tbody>\n",
       "    <tr>\n",
       "      <th>4</th>\n",
       "      <td>65.0</td>\n",
       "      <td>1</td>\n",
       "      <td>160</td>\n",
       "      <td>1</td>\n",
       "      <td>20</td>\n",
       "      <td>0</td>\n",
       "      <td>327000.00</td>\n",
       "      <td>2.7</td>\n",
       "      <td>116</td>\n",
       "      <td>0</td>\n",
       "      <td>0</td>\n",
       "      <td>8</td>\n",
       "      <td>1</td>\n",
       "    </tr>\n",
       "    <tr>\n",
       "      <th>9</th>\n",
       "      <td>80.0</td>\n",
       "      <td>1</td>\n",
       "      <td>123</td>\n",
       "      <td>0</td>\n",
       "      <td>35</td>\n",
       "      <td>1</td>\n",
       "      <td>388000.00</td>\n",
       "      <td>9.4</td>\n",
       "      <td>133</td>\n",
       "      <td>1</td>\n",
       "      <td>1</td>\n",
       "      <td>10</td>\n",
       "      <td>1</td>\n",
       "    </tr>\n",
       "    <tr>\n",
       "      <th>10</th>\n",
       "      <td>75.0</td>\n",
       "      <td>1</td>\n",
       "      <td>81</td>\n",
       "      <td>0</td>\n",
       "      <td>38</td>\n",
       "      <td>1</td>\n",
       "      <td>368000.00</td>\n",
       "      <td>4.0</td>\n",
       "      <td>131</td>\n",
       "      <td>1</td>\n",
       "      <td>1</td>\n",
       "      <td>10</td>\n",
       "      <td>1</td>\n",
       "    </tr>\n",
       "    <tr>\n",
       "      <th>28</th>\n",
       "      <td>58.0</td>\n",
       "      <td>1</td>\n",
       "      <td>60</td>\n",
       "      <td>0</td>\n",
       "      <td>38</td>\n",
       "      <td>0</td>\n",
       "      <td>153000.00</td>\n",
       "      <td>5.8</td>\n",
       "      <td>134</td>\n",
       "      <td>1</td>\n",
       "      <td>0</td>\n",
       "      <td>26</td>\n",
       "      <td>1</td>\n",
       "    </tr>\n",
       "    <tr>\n",
       "      <th>31</th>\n",
       "      <td>85.0</td>\n",
       "      <td>0</td>\n",
       "      <td>23</td>\n",
       "      <td>0</td>\n",
       "      <td>45</td>\n",
       "      <td>0</td>\n",
       "      <td>360000.00</td>\n",
       "      <td>3.0</td>\n",
       "      <td>132</td>\n",
       "      <td>1</td>\n",
       "      <td>0</td>\n",
       "      <td>28</td>\n",
       "      <td>1</td>\n",
       "    </tr>\n",
       "    <tr>\n",
       "      <th>35</th>\n",
       "      <td>69.0</td>\n",
       "      <td>0</td>\n",
       "      <td>582</td>\n",
       "      <td>1</td>\n",
       "      <td>35</td>\n",
       "      <td>0</td>\n",
       "      <td>228000.00</td>\n",
       "      <td>3.5</td>\n",
       "      <td>134</td>\n",
       "      <td>1</td>\n",
       "      <td>0</td>\n",
       "      <td>30</td>\n",
       "      <td>1</td>\n",
       "    </tr>\n",
       "    <tr>\n",
       "      <th>39</th>\n",
       "      <td>60.0</td>\n",
       "      <td>0</td>\n",
       "      <td>235</td>\n",
       "      <td>1</td>\n",
       "      <td>38</td>\n",
       "      <td>0</td>\n",
       "      <td>329000.00</td>\n",
       "      <td>3.0</td>\n",
       "      <td>142</td>\n",
       "      <td>0</td>\n",
       "      <td>0</td>\n",
       "      <td>30</td>\n",
       "      <td>1</td>\n",
       "    </tr>\n",
       "    <tr>\n",
       "      <th>48</th>\n",
       "      <td>80.0</td>\n",
       "      <td>1</td>\n",
       "      <td>553</td>\n",
       "      <td>0</td>\n",
       "      <td>20</td>\n",
       "      <td>1</td>\n",
       "      <td>140000.00</td>\n",
       "      <td>4.4</td>\n",
       "      <td>133</td>\n",
       "      <td>1</td>\n",
       "      <td>0</td>\n",
       "      <td>41</td>\n",
       "      <td>1</td>\n",
       "    </tr>\n",
       "    <tr>\n",
       "      <th>52</th>\n",
       "      <td>60.0</td>\n",
       "      <td>0</td>\n",
       "      <td>3964</td>\n",
       "      <td>1</td>\n",
       "      <td>62</td>\n",
       "      <td>0</td>\n",
       "      <td>263358.03</td>\n",
       "      <td>6.8</td>\n",
       "      <td>146</td>\n",
       "      <td>0</td>\n",
       "      <td>0</td>\n",
       "      <td>43</td>\n",
       "      <td>1</td>\n",
       "    </tr>\n",
       "    <tr>\n",
       "      <th>65</th>\n",
       "      <td>60.0</td>\n",
       "      <td>0</td>\n",
       "      <td>68</td>\n",
       "      <td>0</td>\n",
       "      <td>20</td>\n",
       "      <td>0</td>\n",
       "      <td>119000.00</td>\n",
       "      <td>2.9</td>\n",
       "      <td>127</td>\n",
       "      <td>1</td>\n",
       "      <td>1</td>\n",
       "      <td>64</td>\n",
       "      <td>1</td>\n",
       "    </tr>\n",
       "    <tr>\n",
       "      <th>124</th>\n",
       "      <td>60.0</td>\n",
       "      <td>0</td>\n",
       "      <td>582</td>\n",
       "      <td>0</td>\n",
       "      <td>40</td>\n",
       "      <td>0</td>\n",
       "      <td>217000.00</td>\n",
       "      <td>3.7</td>\n",
       "      <td>134</td>\n",
       "      <td>1</td>\n",
       "      <td>0</td>\n",
       "      <td>96</td>\n",
       "      <td>1</td>\n",
       "    </tr>\n",
       "    <tr>\n",
       "      <th>217</th>\n",
       "      <td>54.0</td>\n",
       "      <td>1</td>\n",
       "      <td>427</td>\n",
       "      <td>0</td>\n",
       "      <td>70</td>\n",
       "      <td>1</td>\n",
       "      <td>151000.00</td>\n",
       "      <td>9.0</td>\n",
       "      <td>137</td>\n",
       "      <td>0</td>\n",
       "      <td>0</td>\n",
       "      <td>196</td>\n",
       "      <td>1</td>\n",
       "    </tr>\n",
       "  </tbody>\n",
       "</table>\n",
       "</div>"
      ],
      "text/plain": [
       "      age  anaemia  creatinine_phosphokinase  diabetes  ejection_fraction  \\\n",
       "4    65.0        1                       160         1                 20   \n",
       "9    80.0        1                       123         0                 35   \n",
       "10   75.0        1                        81         0                 38   \n",
       "28   58.0        1                        60         0                 38   \n",
       "31   85.0        0                        23         0                 45   \n",
       "35   69.0        0                       582         1                 35   \n",
       "39   60.0        0                       235         1                 38   \n",
       "48   80.0        1                       553         0                 20   \n",
       "52   60.0        0                      3964         1                 62   \n",
       "65   60.0        0                        68         0                 20   \n",
       "124  60.0        0                       582         0                 40   \n",
       "217  54.0        1                       427         0                 70   \n",
       "\n",
       "     high_blood_pressure  platelets  serum_creatinine  serum_sodium  sex  \\\n",
       "4                      0  327000.00               2.7           116    0   \n",
       "9                      1  388000.00               9.4           133    1   \n",
       "10                     1  368000.00               4.0           131    1   \n",
       "28                     0  153000.00               5.8           134    1   \n",
       "31                     0  360000.00               3.0           132    1   \n",
       "35                     0  228000.00               3.5           134    1   \n",
       "39                     0  329000.00               3.0           142    0   \n",
       "48                     1  140000.00               4.4           133    1   \n",
       "52                     0  263358.03               6.8           146    0   \n",
       "65                     0  119000.00               2.9           127    1   \n",
       "124                    0  217000.00               3.7           134    1   \n",
       "217                    1  151000.00               9.0           137    0   \n",
       "\n",
       "     smoking  time  DEATH_EVENT  \n",
       "4          0     8            1  \n",
       "9          1    10            1  \n",
       "10         1    10            1  \n",
       "28         0    26            1  \n",
       "31         0    28            1  \n",
       "35         0    30            1  \n",
       "39         0    30            1  \n",
       "48         0    41            1  \n",
       "52         0    43            1  \n",
       "65         1    64            1  \n",
       "124        0    96            1  \n",
       "217        0   196            1  "
      ]
     },
     "execution_count": 37,
     "metadata": {},
     "output_type": "execute_result"
    }
   ],
   "source": [
    "# query dimana serum creatinine > 2.5 (lebih tinggi dari normal) dan meninggal\n",
    "df[(df['serum_creatinine'] > 2.5) & (df['DEATH_EVENT'] == 1)]"
   ]
  },
  {
   "cell_type": "markdown",
   "metadata": {
    "id": "rN72h3TFrDX1"
   },
   "source": [
    "**Dari boxplot di atas dapat diketahui bahwa pada fitur serum_creatinine terdapat nilai pencilan. Pada tabel di atas hampir seluruh Pasien yang meninggal dan memiliki serum_creatinine yang tinggi pasti memiliki diabetes/tekanan darah tinggi yang mana hal ini memang sering terjadi di real life. Oleh karena itu pencilan di data tersebut tidak dihapus.**"
   ]
  },
  {
   "cell_type": "code",
   "execution_count": 38,
   "metadata": {
    "colab": {
     "base_uri": "https://localhost:8080/",
     "height": 416
    },
    "id": "8VwvwIUb98mY",
    "outputId": "2f097125-0082-4441-e158-82a219071ced"
   },
   "outputs": [
    {
     "data": {
      "text/html": [
       "<div>\n",
       "<style scoped>\n",
       "    .dataframe tbody tr th:only-of-type {\n",
       "        vertical-align: middle;\n",
       "    }\n",
       "\n",
       "    .dataframe tbody tr th {\n",
       "        vertical-align: top;\n",
       "    }\n",
       "\n",
       "    .dataframe thead th {\n",
       "        text-align: right;\n",
       "    }\n",
       "</style>\n",
       "<table border=\"1\" class=\"dataframe\">\n",
       "  <thead>\n",
       "    <tr style=\"text-align: right;\">\n",
       "      <th></th>\n",
       "      <th>Feature</th>\n",
       "      <th>Variance</th>\n",
       "    </tr>\n",
       "  </thead>\n",
       "  <tbody>\n",
       "    <tr>\n",
       "      <th>10</th>\n",
       "      <td>smoking</td>\n",
       "      <td>0.210501</td>\n",
       "    </tr>\n",
       "    <tr>\n",
       "      <th>5</th>\n",
       "      <td>high_blood_pressure</td>\n",
       "      <td>0.225381</td>\n",
       "    </tr>\n",
       "    <tr>\n",
       "      <th>9</th>\n",
       "      <td>sex</td>\n",
       "      <td>0.226677</td>\n",
       "    </tr>\n",
       "    <tr>\n",
       "      <th>3</th>\n",
       "      <td>diabetes</td>\n",
       "      <td>0.243343</td>\n",
       "    </tr>\n",
       "    <tr>\n",
       "      <th>1</th>\n",
       "      <td>anaemia</td>\n",
       "      <td>0.247265</td>\n",
       "    </tr>\n",
       "    <tr>\n",
       "      <th>7</th>\n",
       "      <td>serum_creatinine</td>\n",
       "      <td>1.179684</td>\n",
       "    </tr>\n",
       "    <tr>\n",
       "      <th>8</th>\n",
       "      <td>serum_sodium</td>\n",
       "      <td>20.727473</td>\n",
       "    </tr>\n",
       "    <tr>\n",
       "      <th>0</th>\n",
       "      <td>age</td>\n",
       "      <td>55.000000</td>\n",
       "    </tr>\n",
       "    <tr>\n",
       "      <th>4</th>\n",
       "      <td>ejection_fraction</td>\n",
       "      <td>66.000000</td>\n",
       "    </tr>\n",
       "    <tr>\n",
       "      <th>11</th>\n",
       "      <td>time</td>\n",
       "      <td>276.000000</td>\n",
       "    </tr>\n",
       "    <tr>\n",
       "      <th>2</th>\n",
       "      <td>creatinine_phosphokinase</td>\n",
       "      <td>7838.000000</td>\n",
       "    </tr>\n",
       "    <tr>\n",
       "      <th>6</th>\n",
       "      <td>platelets</td>\n",
       "      <td>824900.000000</td>\n",
       "    </tr>\n",
       "  </tbody>\n",
       "</table>\n",
       "</div>"
      ],
      "text/plain": [
       "                     Feature       Variance\n",
       "10                   smoking       0.210501\n",
       "5        high_blood_pressure       0.225381\n",
       "9                        sex       0.226677\n",
       "3                   diabetes       0.243343\n",
       "1                    anaemia       0.247265\n",
       "7           serum_creatinine       1.179684\n",
       "8               serum_sodium      20.727473\n",
       "0                        age      55.000000\n",
       "4          ejection_fraction      66.000000\n",
       "11                      time     276.000000\n",
       "2   creatinine_phosphokinase    7838.000000\n",
       "6                  platelets  824900.000000"
      ]
     },
     "execution_count": 38,
     "metadata": {},
     "output_type": "execute_result"
    }
   ],
   "source": [
    "# import feature selection\n",
    "from sklearn.feature_selection import VarianceThreshold\n",
    "\n",
    "# split df menjadi fitur dan target\n",
    "X= df.drop('DEATH_EVENT', axis=1)\n",
    "y= df['DEATH_EVENT']\n",
    "\n",
    "# split data fitur dan target menjadi data train dan data test\n",
    "X_train, X_test, y_train, y_test = train_test_split(X, y, test_size = 0.2, random_state= 1)\n",
    "\n",
    "# menghitung variance dimana thresholdnya 0\n",
    "vth = VarianceThreshold(threshold=0)  # as deafult threshold=0\n",
    "\n",
    "# fit data train\n",
    "vth.fit(X_train)\n",
    "X_train_vth = X_train.iloc[:, vth.get_support()]\n",
    "\n",
    "# simpan hasil variance ke dalam dataframe baru\n",
    "pd.DataFrame( {'Feature': X_train.columns,'Variance': vth.variances_,}).sort_values('Variance', ascending=True)"
   ]
  },
  {
   "cell_type": "markdown",
   "metadata": {
    "id": "Yb-azWaa-DDP"
   },
   "source": [
    "**Karena tidak ada variance = 0 maka tidak ada kolom yang dihapus**"
   ]
  },
  {
   "cell_type": "markdown",
   "metadata": {
    "id": "2w7E71wnIks0"
   },
   "source": [
    "### Data Preprocessing"
   ]
  },
  {
   "cell_type": "code",
   "execution_count": 39,
   "metadata": {
    "colab": {
     "base_uri": "https://localhost:8080/"
    },
    "id": "wWjBbdWpBPKp",
    "outputId": "1bd91fee-389a-4844-c6f9-06dc01fa251a"
   },
   "outputs": [
    {
     "data": {
      "text/plain": [
       "['age',\n",
       " 'creatinine_phosphokinase',\n",
       " 'ejection_fraction',\n",
       " 'platelets',\n",
       " 'serum_creatinine',\n",
       " 'serum_sodium',\n",
       " 'time']"
      ]
     },
     "execution_count": 39,
     "metadata": {},
     "output_type": "execute_result"
    }
   ],
   "source": [
    "# cek numeric columns\n",
    "numeric_columns"
   ]
  },
  {
   "cell_type": "code",
   "execution_count": 40,
   "metadata": {
    "id": "rGzbnyg2BJyE"
   },
   "outputs": [],
   "source": [
    "# copy df dengan numeric columns ke dataframe baru\n",
    "df_numeric = df[numeric_columns].copy()"
   ]
  },
  {
   "cell_type": "code",
   "execution_count": 41,
   "metadata": {
    "colab": {
     "base_uri": "https://localhost:8080/",
     "height": 414
    },
    "id": "nat9fxhMBYJv",
    "outputId": "b72115cb-3605-4407-c104-b0820b8bc4ff"
   },
   "outputs": [
    {
     "data": {
      "text/html": [
       "<div>\n",
       "<style scoped>\n",
       "    .dataframe tbody tr th:only-of-type {\n",
       "        vertical-align: middle;\n",
       "    }\n",
       "\n",
       "    .dataframe tbody tr th {\n",
       "        vertical-align: top;\n",
       "    }\n",
       "\n",
       "    .dataframe thead th {\n",
       "        text-align: right;\n",
       "    }\n",
       "</style>\n",
       "<table border=\"1\" class=\"dataframe\">\n",
       "  <thead>\n",
       "    <tr style=\"text-align: right;\">\n",
       "      <th></th>\n",
       "      <th>anaemia</th>\n",
       "      <th>diabetes</th>\n",
       "      <th>high_blood_pressure</th>\n",
       "      <th>sex</th>\n",
       "      <th>smoking</th>\n",
       "      <th>DEATH_EVENT</th>\n",
       "    </tr>\n",
       "  </thead>\n",
       "  <tbody>\n",
       "    <tr>\n",
       "      <th>0</th>\n",
       "      <td>0</td>\n",
       "      <td>0</td>\n",
       "      <td>1</td>\n",
       "      <td>1</td>\n",
       "      <td>0</td>\n",
       "      <td>1</td>\n",
       "    </tr>\n",
       "    <tr>\n",
       "      <th>1</th>\n",
       "      <td>0</td>\n",
       "      <td>0</td>\n",
       "      <td>0</td>\n",
       "      <td>1</td>\n",
       "      <td>0</td>\n",
       "      <td>1</td>\n",
       "    </tr>\n",
       "    <tr>\n",
       "      <th>2</th>\n",
       "      <td>0</td>\n",
       "      <td>0</td>\n",
       "      <td>0</td>\n",
       "      <td>1</td>\n",
       "      <td>1</td>\n",
       "      <td>1</td>\n",
       "    </tr>\n",
       "    <tr>\n",
       "      <th>3</th>\n",
       "      <td>1</td>\n",
       "      <td>0</td>\n",
       "      <td>0</td>\n",
       "      <td>1</td>\n",
       "      <td>0</td>\n",
       "      <td>1</td>\n",
       "    </tr>\n",
       "    <tr>\n",
       "      <th>4</th>\n",
       "      <td>1</td>\n",
       "      <td>1</td>\n",
       "      <td>0</td>\n",
       "      <td>0</td>\n",
       "      <td>0</td>\n",
       "      <td>1</td>\n",
       "    </tr>\n",
       "    <tr>\n",
       "      <th>...</th>\n",
       "      <td>...</td>\n",
       "      <td>...</td>\n",
       "      <td>...</td>\n",
       "      <td>...</td>\n",
       "      <td>...</td>\n",
       "      <td>...</td>\n",
       "    </tr>\n",
       "    <tr>\n",
       "      <th>294</th>\n",
       "      <td>0</td>\n",
       "      <td>1</td>\n",
       "      <td>1</td>\n",
       "      <td>1</td>\n",
       "      <td>1</td>\n",
       "      <td>0</td>\n",
       "    </tr>\n",
       "    <tr>\n",
       "      <th>295</th>\n",
       "      <td>0</td>\n",
       "      <td>0</td>\n",
       "      <td>0</td>\n",
       "      <td>0</td>\n",
       "      <td>0</td>\n",
       "      <td>0</td>\n",
       "    </tr>\n",
       "    <tr>\n",
       "      <th>296</th>\n",
       "      <td>0</td>\n",
       "      <td>1</td>\n",
       "      <td>0</td>\n",
       "      <td>0</td>\n",
       "      <td>0</td>\n",
       "      <td>0</td>\n",
       "    </tr>\n",
       "    <tr>\n",
       "      <th>297</th>\n",
       "      <td>0</td>\n",
       "      <td>0</td>\n",
       "      <td>0</td>\n",
       "      <td>1</td>\n",
       "      <td>1</td>\n",
       "      <td>0</td>\n",
       "    </tr>\n",
       "    <tr>\n",
       "      <th>298</th>\n",
       "      <td>0</td>\n",
       "      <td>0</td>\n",
       "      <td>0</td>\n",
       "      <td>1</td>\n",
       "      <td>1</td>\n",
       "      <td>0</td>\n",
       "    </tr>\n",
       "  </tbody>\n",
       "</table>\n",
       "<p>299 rows × 6 columns</p>\n",
       "</div>"
      ],
      "text/plain": [
       "     anaemia  diabetes  high_blood_pressure  sex  smoking  DEATH_EVENT\n",
       "0          0         0                    1    1        0            1\n",
       "1          0         0                    0    1        0            1\n",
       "2          0         0                    0    1        1            1\n",
       "3          1         0                    0    1        0            1\n",
       "4          1         1                    0    0        0            1\n",
       "..       ...       ...                  ...  ...      ...          ...\n",
       "294        0         1                    1    1        1            0\n",
       "295        0         0                    0    0        0            0\n",
       "296        0         1                    0    0        0            0\n",
       "297        0         0                    0    1        1            0\n",
       "298        0         0                    0    1        1            0\n",
       "\n",
       "[299 rows x 6 columns]"
      ]
     },
     "execution_count": 41,
     "metadata": {},
     "output_type": "execute_result"
    }
   ],
   "source": [
    "# drop numeric columns di data df\n",
    "df.drop(columns=numeric_columns, inplace=True)\n",
    "df"
   ]
  },
  {
   "cell_type": "code",
   "execution_count": 42,
   "metadata": {
    "colab": {
     "base_uri": "https://localhost:8080/",
     "height": 414
    },
    "id": "EInLHazRBl4O",
    "outputId": "3eec2e2e-7d44-40ac-b8a8-f0c36fee8715"
   },
   "outputs": [
    {
     "data": {
      "text/html": [
       "<div>\n",
       "<style scoped>\n",
       "    .dataframe tbody tr th:only-of-type {\n",
       "        vertical-align: middle;\n",
       "    }\n",
       "\n",
       "    .dataframe tbody tr th {\n",
       "        vertical-align: top;\n",
       "    }\n",
       "\n",
       "    .dataframe thead th {\n",
       "        text-align: right;\n",
       "    }\n",
       "</style>\n",
       "<table border=\"1\" class=\"dataframe\">\n",
       "  <thead>\n",
       "    <tr style=\"text-align: right;\">\n",
       "      <th></th>\n",
       "      <th>age</th>\n",
       "      <th>creatinine_phosphokinase</th>\n",
       "      <th>ejection_fraction</th>\n",
       "      <th>platelets</th>\n",
       "      <th>serum_creatinine</th>\n",
       "      <th>serum_sodium</th>\n",
       "      <th>time</th>\n",
       "      <th>anaemia</th>\n",
       "      <th>diabetes</th>\n",
       "      <th>high_blood_pressure</th>\n",
       "      <th>sex</th>\n",
       "      <th>smoking</th>\n",
       "      <th>DEATH_EVENT</th>\n",
       "    </tr>\n",
       "  </thead>\n",
       "  <tbody>\n",
       "    <tr>\n",
       "      <th>0</th>\n",
       "      <td>75.0</td>\n",
       "      <td>582</td>\n",
       "      <td>20</td>\n",
       "      <td>265000.00</td>\n",
       "      <td>1.9</td>\n",
       "      <td>130</td>\n",
       "      <td>4</td>\n",
       "      <td>0</td>\n",
       "      <td>0</td>\n",
       "      <td>1</td>\n",
       "      <td>1</td>\n",
       "      <td>0</td>\n",
       "      <td>1</td>\n",
       "    </tr>\n",
       "    <tr>\n",
       "      <th>1</th>\n",
       "      <td>55.0</td>\n",
       "      <td>7861</td>\n",
       "      <td>38</td>\n",
       "      <td>263358.03</td>\n",
       "      <td>1.1</td>\n",
       "      <td>136</td>\n",
       "      <td>6</td>\n",
       "      <td>0</td>\n",
       "      <td>0</td>\n",
       "      <td>0</td>\n",
       "      <td>1</td>\n",
       "      <td>0</td>\n",
       "      <td>1</td>\n",
       "    </tr>\n",
       "    <tr>\n",
       "      <th>2</th>\n",
       "      <td>65.0</td>\n",
       "      <td>146</td>\n",
       "      <td>20</td>\n",
       "      <td>162000.00</td>\n",
       "      <td>1.3</td>\n",
       "      <td>129</td>\n",
       "      <td>7</td>\n",
       "      <td>0</td>\n",
       "      <td>0</td>\n",
       "      <td>0</td>\n",
       "      <td>1</td>\n",
       "      <td>1</td>\n",
       "      <td>1</td>\n",
       "    </tr>\n",
       "    <tr>\n",
       "      <th>3</th>\n",
       "      <td>50.0</td>\n",
       "      <td>111</td>\n",
       "      <td>20</td>\n",
       "      <td>210000.00</td>\n",
       "      <td>1.9</td>\n",
       "      <td>137</td>\n",
       "      <td>7</td>\n",
       "      <td>1</td>\n",
       "      <td>0</td>\n",
       "      <td>0</td>\n",
       "      <td>1</td>\n",
       "      <td>0</td>\n",
       "      <td>1</td>\n",
       "    </tr>\n",
       "    <tr>\n",
       "      <th>4</th>\n",
       "      <td>65.0</td>\n",
       "      <td>160</td>\n",
       "      <td>20</td>\n",
       "      <td>327000.00</td>\n",
       "      <td>2.7</td>\n",
       "      <td>116</td>\n",
       "      <td>8</td>\n",
       "      <td>1</td>\n",
       "      <td>1</td>\n",
       "      <td>0</td>\n",
       "      <td>0</td>\n",
       "      <td>0</td>\n",
       "      <td>1</td>\n",
       "    </tr>\n",
       "    <tr>\n",
       "      <th>...</th>\n",
       "      <td>...</td>\n",
       "      <td>...</td>\n",
       "      <td>...</td>\n",
       "      <td>...</td>\n",
       "      <td>...</td>\n",
       "      <td>...</td>\n",
       "      <td>...</td>\n",
       "      <td>...</td>\n",
       "      <td>...</td>\n",
       "      <td>...</td>\n",
       "      <td>...</td>\n",
       "      <td>...</td>\n",
       "      <td>...</td>\n",
       "    </tr>\n",
       "    <tr>\n",
       "      <th>294</th>\n",
       "      <td>62.0</td>\n",
       "      <td>61</td>\n",
       "      <td>38</td>\n",
       "      <td>155000.00</td>\n",
       "      <td>1.1</td>\n",
       "      <td>143</td>\n",
       "      <td>270</td>\n",
       "      <td>0</td>\n",
       "      <td>1</td>\n",
       "      <td>1</td>\n",
       "      <td>1</td>\n",
       "      <td>1</td>\n",
       "      <td>0</td>\n",
       "    </tr>\n",
       "    <tr>\n",
       "      <th>295</th>\n",
       "      <td>55.0</td>\n",
       "      <td>1820</td>\n",
       "      <td>38</td>\n",
       "      <td>270000.00</td>\n",
       "      <td>1.2</td>\n",
       "      <td>139</td>\n",
       "      <td>271</td>\n",
       "      <td>0</td>\n",
       "      <td>0</td>\n",
       "      <td>0</td>\n",
       "      <td>0</td>\n",
       "      <td>0</td>\n",
       "      <td>0</td>\n",
       "    </tr>\n",
       "    <tr>\n",
       "      <th>296</th>\n",
       "      <td>45.0</td>\n",
       "      <td>2060</td>\n",
       "      <td>60</td>\n",
       "      <td>742000.00</td>\n",
       "      <td>0.8</td>\n",
       "      <td>138</td>\n",
       "      <td>278</td>\n",
       "      <td>0</td>\n",
       "      <td>1</td>\n",
       "      <td>0</td>\n",
       "      <td>0</td>\n",
       "      <td>0</td>\n",
       "      <td>0</td>\n",
       "    </tr>\n",
       "    <tr>\n",
       "      <th>297</th>\n",
       "      <td>45.0</td>\n",
       "      <td>2413</td>\n",
       "      <td>38</td>\n",
       "      <td>140000.00</td>\n",
       "      <td>1.4</td>\n",
       "      <td>140</td>\n",
       "      <td>280</td>\n",
       "      <td>0</td>\n",
       "      <td>0</td>\n",
       "      <td>0</td>\n",
       "      <td>1</td>\n",
       "      <td>1</td>\n",
       "      <td>0</td>\n",
       "    </tr>\n",
       "    <tr>\n",
       "      <th>298</th>\n",
       "      <td>50.0</td>\n",
       "      <td>196</td>\n",
       "      <td>45</td>\n",
       "      <td>395000.00</td>\n",
       "      <td>1.6</td>\n",
       "      <td>136</td>\n",
       "      <td>285</td>\n",
       "      <td>0</td>\n",
       "      <td>0</td>\n",
       "      <td>0</td>\n",
       "      <td>1</td>\n",
       "      <td>1</td>\n",
       "      <td>0</td>\n",
       "    </tr>\n",
       "  </tbody>\n",
       "</table>\n",
       "<p>299 rows × 13 columns</p>\n",
       "</div>"
      ],
      "text/plain": [
       "      age  creatinine_phosphokinase  ejection_fraction  platelets  \\\n",
       "0    75.0                       582                 20  265000.00   \n",
       "1    55.0                      7861                 38  263358.03   \n",
       "2    65.0                       146                 20  162000.00   \n",
       "3    50.0                       111                 20  210000.00   \n",
       "4    65.0                       160                 20  327000.00   \n",
       "..    ...                       ...                ...        ...   \n",
       "294  62.0                        61                 38  155000.00   \n",
       "295  55.0                      1820                 38  270000.00   \n",
       "296  45.0                      2060                 60  742000.00   \n",
       "297  45.0                      2413                 38  140000.00   \n",
       "298  50.0                       196                 45  395000.00   \n",
       "\n",
       "     serum_creatinine  serum_sodium  time  anaemia  diabetes  \\\n",
       "0                 1.9           130     4        0         0   \n",
       "1                 1.1           136     6        0         0   \n",
       "2                 1.3           129     7        0         0   \n",
       "3                 1.9           137     7        1         0   \n",
       "4                 2.7           116     8        1         1   \n",
       "..                ...           ...   ...      ...       ...   \n",
       "294               1.1           143   270        0         1   \n",
       "295               1.2           139   271        0         0   \n",
       "296               0.8           138   278        0         1   \n",
       "297               1.4           140   280        0         0   \n",
       "298               1.6           136   285        0         0   \n",
       "\n",
       "     high_blood_pressure  sex  smoking  DEATH_EVENT  \n",
       "0                      1    1        0            1  \n",
       "1                      0    1        0            1  \n",
       "2                      0    1        1            1  \n",
       "3                      0    1        0            1  \n",
       "4                      0    0        0            1  \n",
       "..                   ...  ...      ...          ...  \n",
       "294                    1    1        1            0  \n",
       "295                    0    0        0            0  \n",
       "296                    0    0        0            0  \n",
       "297                    0    1        1            0  \n",
       "298                    0    1        1            0  \n",
       "\n",
       "[299 rows x 13 columns]"
      ]
     },
     "execution_count": 42,
     "metadata": {},
     "output_type": "execute_result"
    }
   ],
   "source": [
    "# concat df numeric dengan df (mengubah posisi columns)\n",
    "df = pd.concat([df_numeric,df], axis=1)\n",
    "df"
   ]
  },
  {
   "cell_type": "code",
   "execution_count": 43,
   "metadata": {
    "id": "3kS6BxVlQthh"
   },
   "outputs": [],
   "source": [
    "# split df menjadi fitur dan target\n",
    "X = df.drop('DEATH_EVENT', axis=1)\n",
    "y = df['DEATH_EVENT']"
   ]
  },
  {
   "cell_type": "code",
   "execution_count": 44,
   "metadata": {
    "id": "cSm2I5ezRUFQ"
   },
   "outputs": [],
   "source": [
    "# split data fitur dan target menjadi data train dan data test\n",
    "X_train, X_test, y_train, y_test = train_test_split(X, y, test_size = 0.2, random_state= 1)"
   ]
  },
  {
   "cell_type": "code",
   "execution_count": 45,
   "metadata": {
    "colab": {
     "base_uri": "https://localhost:8080/"
    },
    "id": "TjBCbQqNTnTs",
    "outputId": "63a4bc13-3fc0-4421-d404-1786fefcc6f5"
   },
   "outputs": [
    {
     "name": "stderr",
     "output_type": "stream",
     "text": [
      "C:\\Users\\USER\\anaconda3\\envs\\H8_001\\lib\\site-packages\\pandas\\core\\indexing.py:1835: SettingWithCopyWarning: \n",
      "A value is trying to be set on a copy of a slice from a DataFrame.\n",
      "Try using .loc[row_indexer,col_indexer] = value instead\n",
      "\n",
      "See the caveats in the documentation: https://pandas.pydata.org/pandas-docs/stable/user_guide/indexing.html#returning-a-view-versus-a-copy\n",
      "  self._setitem_single_column(loc, value[:, i].tolist(), pi)\n",
      "C:\\Users\\USER\\anaconda3\\envs\\H8_001\\lib\\site-packages\\pandas\\core\\indexing.py:1835: SettingWithCopyWarning: \n",
      "A value is trying to be set on a copy of a slice from a DataFrame.\n",
      "Try using .loc[row_indexer,col_indexer] = value instead\n",
      "\n",
      "See the caveats in the documentation: https://pandas.pydata.org/pandas-docs/stable/user_guide/indexing.html#returning-a-view-versus-a-copy\n",
      "  self._setitem_single_column(loc, value[:, i].tolist(), pi)\n"
     ]
    }
   ],
   "source": [
    "# mendefinisikan scaler\n",
    "scaler = StandardScaler()\n",
    "\n",
    "# scale data yang numeric columns\n",
    "X_train.loc[:,numeric_columns] = scaler.fit_transform(X_train.loc[:,numeric_columns])\n",
    "X_test.loc[:,numeric_columns] = scaler.transform(X_test.loc[:,numeric_columns])"
   ]
  },
  {
   "cell_type": "markdown",
   "metadata": {
    "id": "-Rs3MnpJItjM"
   },
   "source": [
    "### Pendefinisian Model"
   ]
  },
  {
   "cell_type": "code",
   "execution_count": 46,
   "metadata": {
    "id": "7ylU9YUYI14G"
   },
   "outputs": [],
   "source": [
    "# mendefinisikan model\n",
    "rf = RandomForestClassifier()"
   ]
  },
  {
   "cell_type": "markdown",
   "metadata": {
    "id": "H93h9yzXI518"
   },
   "source": [
    "### Pelatihan Model"
   ]
  },
  {
   "cell_type": "code",
   "execution_count": 47,
   "metadata": {
    "colab": {
     "base_uri": "https://localhost:8080/"
    },
    "id": "DeHBujpGJCag",
    "outputId": "10383365-da6b-4e07-a56c-04b593036215"
   },
   "outputs": [
    {
     "data": {
      "text/plain": [
       "RandomForestClassifier()"
      ]
     },
     "execution_count": 47,
     "metadata": {},
     "output_type": "execute_result"
    }
   ],
   "source": [
    "# fit data train\n",
    "rf.fit(X_train, y_train)"
   ]
  },
  {
   "cell_type": "markdown",
   "metadata": {
    "id": "Vjzm6yjdJDTP"
   },
   "source": [
    "### Evaluasi Model"
   ]
  },
  {
   "cell_type": "code",
   "execution_count": 48,
   "metadata": {
    "colab": {
     "base_uri": "https://localhost:8080/"
    },
    "id": "gwJpZMY8o_52",
    "outputId": "e97ab3ac-f979-4ad0-a958-d32b94bd5524"
   },
   "outputs": [
    {
     "name": "stdout",
     "output_type": "stream",
     "text": [
      "              precision    recall  f1-score   support\n",
      "\n",
      "           0       0.92      0.96      0.94        46\n",
      "           1       0.83      0.71      0.77        14\n",
      "\n",
      "    accuracy                           0.90        60\n",
      "   macro avg       0.88      0.84      0.85        60\n",
      "weighted avg       0.90      0.90      0.90        60\n",
      "\n"
     ]
    }
   ],
   "source": [
    "# predict data test dengan model rf\n",
    "y_pred = rf.predict(X_test)\n",
    "\n",
    "# melihat score dari data test\n",
    "print(classification_report(y_test, y_pred))"
   ]
  },
  {
   "cell_type": "markdown",
   "metadata": {
    "id": "spbm0tiqJROt"
   },
   "source": [
    "### Eksperimen dengan GridSearchCV"
   ]
  },
  {
   "cell_type": "code",
   "execution_count": 49,
   "metadata": {
    "id": "2pROjV6qXDmt"
   },
   "outputs": [],
   "source": [
    "# import GridSerachCV untuk tuning hyperparameter\n",
    "from sklearn.model_selection import GridSearchCV\n",
    "\n",
    "# hyperparameter yang akan dituning\n",
    "param_grid = {\n",
    "    'bootstrap': [True, False],\n",
    "    'criterion' : ['gini', 'entropy'],\n",
    "    'max_features': ['sqrt', 'log2'],\n",
    "    'min_samples_leaf': [5, 7, 9],\n",
    "    'n_estimators': [100, 200, 300, 400],\n",
    "    'random_state': [42],\n",
    "}\n",
    "\n",
    "# mendefinisikan gridsearchcv\n",
    "grid_search = GridSearchCV(estimator = RandomForestClassifier(), param_grid = param_grid, cv = 5, n_jobs = -1, verbose = 2)"
   ]
  },
  {
   "cell_type": "code",
   "execution_count": 50,
   "metadata": {
    "colab": {
     "base_uri": "https://localhost:8080/"
    },
    "id": "Zb5Q_guZX7Sd",
    "outputId": "797cc764-6e65-4712-98af-68804217feee"
   },
   "outputs": [
    {
     "name": "stdout",
     "output_type": "stream",
     "text": [
      "Fitting 5 folds for each of 96 candidates, totalling 480 fits\n",
      "{'bootstrap': True, 'criterion': 'entropy', 'max_features': 'sqrt', 'min_samples_leaf': 5, 'n_estimators': 100, 'random_state': 42}\n"
     ]
    }
   ],
   "source": [
    "# fit data train dengan gridsearchcv\n",
    "grid_search.fit(X_train, y_train)\n",
    "\n",
    "# melihat best parameter\n",
    "print(grid_search.best_params_)\n",
    "\n",
    "# melihat best estimator\n",
    "rf_cv = grid_search.best_estimator_"
   ]
  },
  {
   "cell_type": "code",
   "execution_count": 51,
   "metadata": {
    "colab": {
     "base_uri": "https://localhost:8080/"
    },
    "id": "W0JE1mVxbY0q",
    "outputId": "a1932bca-0b2d-475b-a895-a2b024146b7d"
   },
   "outputs": [
    {
     "name": "stdout",
     "output_type": "stream",
     "text": [
      "              precision    recall  f1-score   support\n",
      "\n",
      "           0       0.94      0.98      0.96        46\n",
      "           1       0.92      0.79      0.85        14\n",
      "\n",
      "    accuracy                           0.93        60\n",
      "   macro avg       0.93      0.88      0.90        60\n",
      "weighted avg       0.93      0.93      0.93        60\n",
      "\n"
     ]
    }
   ],
   "source": [
    "# predict data test dengan model tuning hyperparameter\n",
    "y_pred = rf_cv.predict(X_test)\n",
    "\n",
    "# melihat score dari data test \n",
    "print(classification_report(y_test,y_pred))"
   ]
  },
  {
   "cell_type": "markdown",
   "metadata": {
    "id": "_VP_FiGvKFcg"
   },
   "source": [
    "### Pickle"
   ]
  },
  {
   "cell_type": "code",
   "execution_count": 52,
   "metadata": {
    "id": "IiYNEjb_KOu9"
   },
   "outputs": [],
   "source": [
    "# mendefinisikan dictionary yang berisi scaler dan model yang akan dipickle\n",
    "d ={\n",
    "    'scaler' : scaler,\n",
    "    'model' : rf_cv\n",
    "}"
   ]
  },
  {
   "cell_type": "code",
   "execution_count": 53,
   "metadata": {
    "colab": {
     "base_uri": "https://localhost:8080/"
    },
    "id": "D6uzC-pK0N3O",
    "outputId": "d06a9d32-83da-4421-9c75-c71a3ea87268"
   },
   "outputs": [
    {
     "data": {
      "text/plain": [
       "RandomForestClassifier(criterion='entropy', max_features='sqrt',\n",
       "                       min_samples_leaf=5, random_state=42)"
      ]
     },
     "execution_count": 53,
     "metadata": {},
     "output_type": "execute_result"
    }
   ],
   "source": [
    "# cek model \n",
    "test = d['model']\n",
    "test"
   ]
  },
  {
   "cell_type": "code",
   "execution_count": 54,
   "metadata": {
    "id": "tEj0jjqqxPGm"
   },
   "outputs": [],
   "source": [
    "# pickle dictionary yang berisi model dan scaler\n",
    "with open ('obj.pkl', 'wb') as f:\n",
    "    pickle.dump(d, f)"
   ]
  },
  {
   "cell_type": "markdown",
   "metadata": {
    "id": "5X25o6ZPKPW5"
   },
   "source": [
    "### Model Inference"
   ]
  },
  {
   "cell_type": "code",
   "execution_count": 55,
   "metadata": {
    "id": "-C7vxo9930nx"
   },
   "outputs": [],
   "source": [
    "# mendefinisikan new data yang digunakan untuk model inference\n",
    "new_data = [46,80,30,290000,0.8,170,90,0,1,0,0,1]\n",
    "\n",
    "# scale 6 value pertama\n",
    "scaled = scaler.transform([new_data[:7]])"
   ]
  },
  {
   "cell_type": "code",
   "execution_count": 56,
   "metadata": {
    "colab": {
     "base_uri": "https://localhost:8080/"
    },
    "id": "D7bV_9z7BDSw",
    "outputId": "2750ff3f-2559-4309-d723-58e5d1c5d353"
   },
   "outputs": [
    {
     "data": {
      "text/plain": [
       "array([-1.24873987, -0.50553823, -0.66373165,  0.36138819, -0.58084862,\n",
       "        7.32373707, -0.50367119,  0.        ,  1.        ,  0.        ,\n",
       "        0.        ,  1.        ])"
      ]
     },
     "execution_count": 56,
     "metadata": {},
     "output_type": "execute_result"
    }
   ],
   "source": [
    "# assign new data dengan list data dengan value index ke 7 sampai terakhir\n",
    "new_data = np.array(new_data[7:])\n",
    "\n",
    "# concat data menjadi satu list lagi dengan data yang telah di scale\n",
    "new_data = np.concatenate((np.reshape(scaled, 7),new_data))\n",
    "new_data"
   ]
  },
  {
   "cell_type": "code",
   "execution_count": 57,
   "metadata": {
    "colab": {
     "base_uri": "https://localhost:8080/"
    },
    "id": "MfNwLzCJ-TD-",
    "outputId": "f78e333e-e3e4-49f1-f49c-6ac27fcca81f"
   },
   "outputs": [
    {
     "data": {
      "text/plain": [
       "array([0], dtype=int64)"
      ]
     },
     "execution_count": 57,
     "metadata": {},
     "output_type": "execute_result"
    }
   ],
   "source": [
    "# predict new data\n",
    "rf_cv.predict([new_data])"
   ]
  },
  {
   "cell_type": "code",
   "execution_count": 58,
   "metadata": {
    "id": "EvbynXVIyLhn"
   },
   "outputs": [],
   "source": [
    "# mendefinisikan new data baru yang digunakan untuk model inference\n",
    "new_data1 = [60,580,55,280000,4,138,40,1,0,0,1,1]\n",
    "\n",
    "# scale 6 value pertama\n",
    "scaled = scaler.transform([new_data1[:7]])"
   ]
  },
  {
   "cell_type": "code",
   "execution_count": 59,
   "metadata": {
    "colab": {
     "base_uri": "https://localhost:8080/"
    },
    "id": "_P0uHJpAyQOf",
    "outputId": "b1c96a58-5304-4507-e34e-0f8eaefd0b74"
   },
   "outputs": [
    {
     "data": {
      "text/plain": [
       "array([1, 0, 0, 1, 1])"
      ]
     },
     "execution_count": 59,
     "metadata": {},
     "output_type": "execute_result"
    }
   ],
   "source": [
    "# assign new data1 dengan list new data1 dengan value index ke 7 sampai terakhir\n",
    "new_data1 = np.array(new_data1[7:])\n",
    "new_data1"
   ]
  },
  {
   "cell_type": "code",
   "execution_count": 60,
   "metadata": {
    "colab": {
     "base_uri": "https://localhost:8080/"
    },
    "id": "x8HR94a2ySMo",
    "outputId": "ec846927-0c11-4a19-baaa-3e08395474a5"
   },
   "outputs": [
    {
     "data": {
      "text/plain": [
       "array([-0.08389917, -0.02678988,  1.43902371,  0.25323452,  2.36538447,\n",
       "        0.29500811, -1.14547869,  1.        ,  0.        ,  0.        ,\n",
       "        1.        ,  1.        ])"
      ]
     },
     "execution_count": 60,
     "metadata": {},
     "output_type": "execute_result"
    }
   ],
   "source": [
    "# concat data menjadi satu list lagi dengan data yang telah di scale\n",
    "new_data1 = np.concatenate((np.reshape(scaled, 7),new_data1))\n",
    "new_data1"
   ]
  },
  {
   "cell_type": "code",
   "execution_count": 61,
   "metadata": {
    "colab": {
     "base_uri": "https://localhost:8080/"
    },
    "id": "DJxpv8UzyUAv",
    "outputId": "d10fb41d-e3da-4b65-9376-48fb749db28e"
   },
   "outputs": [
    {
     "data": {
      "text/plain": [
       "array([1], dtype=int64)"
      ]
     },
     "execution_count": 61,
     "metadata": {},
     "output_type": "execute_result"
    }
   ],
   "source": [
    "# predict new data\n",
    "rf_cv.predict([new_data1])"
   ]
  },
  {
   "cell_type": "markdown",
   "metadata": {
    "id": "xidhWb7VKa1N"
   },
   "source": [
    "### Kesimpulan"
   ]
  },
  {
   "cell_type": "markdown",
   "metadata": {
    "id": "_et2HYvqKiiC"
   },
   "source": [
    "Berdasarkan eksplorasi dan pemodelan kita mendapatkan kesimpulan berupa:\n",
    "\n",
    "- Tidak ditemukan missing value dan data duplikat\n",
    "- Setiap fitur dengan fitur lainnya tidak ada yang highly correlation\n",
    "- Dataset yang dimiliki merupakan imbalance dataset\n",
    "- Pada dataset ini pasien jantung dengan jenis kelamin laki-laki lebih berisiko meninggal daripada pasien perempuan.\n",
    "- Pada dataset ini pasien jantung yang tidak merokok, tidak diabetes, tidak memiliki darah tinggi dan tidak anemia lebih berisiko untuk meninggal hal ini mungkin saja terjadi karena penyakit jantung yang dialami pasien bisa saja penyakit jantung turunan. Tetapi jika kasusnya bukan penyakit turunan biasanya pasien yang diabetes lebih rentan karena peningkatan kadar gula yang diderita penderita diabetes dapat merusak pembuluh darah yang menyalurkan darah ke jantung yang menyebabkan pasokan darah pada jantung tidak memadai dan akan menyebabkan jantung bekerja terlalu keras (https://drjantung.com/). Selain itu menurut https://hellodoktor.com/ menyatakan bahwa kematian akibat komplikasi kardiovaskular seperti kegagalan jantung, strok dan serangan jantung dilaporkan lebih tinggi dalam kalangan pasien yang memiliki tekanan darah tinggi.\n",
    "- Pada dataset ini pasien yang berumur 60 ke atas lebih berisiko meninggal dan juga pasien yang lebih cepat follow up juga lebih berisiko untuk meninggal.\n",
    "- Evaluasi data testing disini menggunakan f1 score karena Kita tidak mau model salah prediksi sehingga kita perlu memperkecil FP dan FN/skor precision dan recallnya harus tinggi (tidak terlalu jauh berbeda). Tetapi, kedua skor tersebut juga dapat direpresentasikan dengan f1 score (Semakin bagus f1-scorenya maka semakin bagus juga precision dan recallnya). Selain itu juga kita menggunakan f1-score karena dataset yang kita miliki ini merupakan imbalance dataset. Model dengan f1-score tertinggi yaitu 85%  untuk dataset ini adalah model ensemble random forest dengan hyperparameternya,\n",
    "\n",
    "***bootstrap=True, criterion='entropy', max_features='sqrt', min_samples_leaf=5, min_samples_split=2, n_estimators=100, random_state=42***"
   ]
  },
  {
   "cell_type": "code",
   "execution_count": null,
   "metadata": {
    "id": "fpPJAM8XEq1K"
   },
   "outputs": [],
   "source": []
  }
 ],
 "metadata": {
  "colab": {
   "collapsed_sections": [],
   "name": "PYTN_KampusMerdeka_fp3_<nama>.ipynb",
   "provenance": []
  },
  "kernelspec": {
   "display_name": "Python 3",
   "language": "python",
   "name": "python3"
  },
  "language_info": {
   "codemirror_mode": {
    "name": "ipython",
    "version": 3
   },
   "file_extension": ".py",
   "mimetype": "text/x-python",
   "name": "python",
   "nbconvert_exporter": "python",
   "pygments_lexer": "ipython3",
   "version": "3.7.11"
  },
  "toc": {
   "base_numbering": 1,
   "nav_menu": {},
   "number_sections": true,
   "sideBar": true,
   "skip_h1_title": false,
   "title_cell": "Table of Contents",
   "title_sidebar": "Contents",
   "toc_cell": false,
   "toc_position": {},
   "toc_section_display": true,
   "toc_window_display": false
  }
 },
 "nbformat": 4,
 "nbformat_minor": 1
}
