{
 "cells": [
  {
   "cell_type": "markdown",
   "id": "05335284",
   "metadata": {},
   "source": [
    "### Installing Numpy"
   ]
  },
  {
   "cell_type": "markdown",
   "id": "a5030eb6",
   "metadata": {},
   "source": [
    "### Import Numpy"
   ]
  },
  {
   "cell_type": "code",
   "execution_count": 1,
   "id": "b99f4fe3",
   "metadata": {},
   "outputs": [],
   "source": [
    "import numpy as np"
   ]
  },
  {
   "cell_type": "markdown",
   "id": "a07ef8f6",
   "metadata": {},
   "source": [
    "### Kenapa Numpy?"
   ]
  },
  {
   "cell_type": "markdown",
   "id": "a67ad5ad",
   "metadata": {},
   "source": [
    "Array Numpy lebih cepat dan lebih compact daripada list python."
   ]
  },
  {
   "cell_type": "markdown",
   "id": "ff6708a1",
   "metadata": {},
   "source": [
    "### Introduction"
   ]
  },
  {
   "cell_type": "code",
   "execution_count": 2,
   "id": "5bb5746a",
   "metadata": {},
   "outputs": [],
   "source": [
    "### Array = struktur data paling basic\n",
    "#  axis = 0 -> rows; axis = 1 -> columns"
   ]
  },
  {
   "cell_type": "markdown",
   "id": "6e8e6ac7",
   "metadata": {},
   "source": [
    "### Array"
   ]
  },
  {
   "cell_type": "markdown",
   "id": "212a864a",
   "metadata": {},
   "source": [
    "#### Creating array"
   ]
  },
  {
   "cell_type": "code",
   "execution_count": 3,
   "id": "d6b4674d",
   "metadata": {},
   "outputs": [],
   "source": [
    "x=[1,2,3]"
   ]
  },
  {
   "cell_type": "code",
   "execution_count": 4,
   "id": "6e01fc90",
   "metadata": {},
   "outputs": [],
   "source": [
    "x_np = np.array(x)"
   ]
  },
  {
   "cell_type": "code",
   "execution_count": 5,
   "id": "3491fbea",
   "metadata": {},
   "outputs": [
    {
     "data": {
      "text/plain": [
       "list"
      ]
     },
     "execution_count": 5,
     "metadata": {},
     "output_type": "execute_result"
    }
   ],
   "source": [
    "type(x)"
   ]
  },
  {
   "cell_type": "code",
   "execution_count": 6,
   "id": "32fc4e03",
   "metadata": {},
   "outputs": [
    {
     "data": {
      "text/plain": [
       "numpy.ndarray"
      ]
     },
     "execution_count": 6,
     "metadata": {},
     "output_type": "execute_result"
    }
   ],
   "source": [
    "type(x_np)"
   ]
  },
  {
   "cell_type": "code",
   "execution_count": 7,
   "id": "8a61e5df",
   "metadata": {},
   "outputs": [
    {
     "name": "stdout",
     "output_type": "stream",
     "text": [
      "[0. 0. 0. 0. 0. 0.]\n"
     ]
    }
   ],
   "source": [
    "zero = np.zeros(6)\n",
    "print(zero)"
   ]
  },
  {
   "cell_type": "code",
   "execution_count": 8,
   "id": "0a0babc0",
   "metadata": {},
   "outputs": [
    {
     "name": "stdout",
     "output_type": "stream",
     "text": [
      "[1. 1. 1. 1. 1. 1.]\n"
     ]
    }
   ],
   "source": [
    "one = np.ones(6)\n",
    "print(one)"
   ]
  },
  {
   "cell_type": "code",
   "execution_count": 9,
   "id": "6a0fd6c3",
   "metadata": {},
   "outputs": [],
   "source": [
    "empty = np.empty(6) # jarang"
   ]
  },
  {
   "cell_type": "code",
   "execution_count": 10,
   "id": "50a6a241",
   "metadata": {},
   "outputs": [
    {
     "data": {
      "text/plain": [
       "array([1., 1., 1., 1., 1., 1.])"
      ]
     },
     "execution_count": 10,
     "metadata": {},
     "output_type": "execute_result"
    }
   ],
   "source": [
    "empty"
   ]
  },
  {
   "cell_type": "code",
   "execution_count": 11,
   "id": "5be6b7b9",
   "metadata": {},
   "outputs": [
    {
     "data": {
      "text/plain": [
       "array([0, 1, 2, 3, 4, 5])"
      ]
     },
     "execution_count": 11,
     "metadata": {},
     "output_type": "execute_result"
    }
   ],
   "source": [
    "# buat bilangan berurutan\n",
    "np.arange(0,6)"
   ]
  },
  {
   "cell_type": "code",
   "execution_count": 12,
   "id": "451160e1",
   "metadata": {},
   "outputs": [
    {
     "data": {
      "text/plain": [
       "array([0, 2, 4, 6, 8])"
      ]
     },
     "execution_count": 12,
     "metadata": {},
     "output_type": "execute_result"
    }
   ],
   "source": [
    "np.arange(0,10,2) # (start, stop, step) remainder: stop ga diikut sertakan"
   ]
  },
  {
   "cell_type": "code",
   "execution_count": 13,
   "id": "338cc276",
   "metadata": {},
   "outputs": [
    {
     "name": "stdout",
     "output_type": "stream",
     "text": [
      "0\n",
      "2\n",
      "4\n",
      "6\n",
      "8\n",
      "10\n",
      "12\n",
      "14\n",
      "16\n",
      "18\n"
     ]
    }
   ],
   "source": [
    "for i in np.arange(0,20,2): \n",
    "    print(i)"
   ]
  },
  {
   "cell_type": "code",
   "execution_count": 14,
   "id": "4a1d0d50",
   "metadata": {},
   "outputs": [],
   "source": [
    "def func1(start,end):\n",
    "    returnnp.arange()"
   ]
  },
  {
   "cell_type": "markdown",
   "id": "e4f22d79",
   "metadata": {},
   "source": [
    "#### Add, Remove, Sort"
   ]
  },
  {
   "cell_type": "code",
   "execution_count": 15,
   "id": "df21670c",
   "metadata": {},
   "outputs": [],
   "source": [
    "l1 = [1,2,3]"
   ]
  },
  {
   "cell_type": "code",
   "execution_count": 16,
   "id": "88145c15",
   "metadata": {},
   "outputs": [],
   "source": [
    "l1.append(4)"
   ]
  },
  {
   "cell_type": "code",
   "execution_count": 17,
   "id": "801f2d64",
   "metadata": {},
   "outputs": [],
   "source": [
    "l1 += [5]"
   ]
  },
  {
   "cell_type": "code",
   "execution_count": 18,
   "id": "df7b5129",
   "metadata": {},
   "outputs": [],
   "source": [
    "# append\n",
    "x =np.array([1,2,3])"
   ]
  },
  {
   "cell_type": "code",
   "execution_count": 19,
   "id": "f5a73b26",
   "metadata": {},
   "outputs": [
    {
     "data": {
      "text/plain": [
       "array([1, 2, 3, 1])"
      ]
     },
     "execution_count": 19,
     "metadata": {},
     "output_type": "execute_result"
    }
   ],
   "source": [
    "np.append(x,1)"
   ]
  },
  {
   "cell_type": "code",
   "execution_count": 20,
   "id": "0bd493b5",
   "metadata": {},
   "outputs": [
    {
     "data": {
      "text/plain": [
       "array([1, 2, 3, 1, 2])"
      ]
     },
     "execution_count": 20,
     "metadata": {},
     "output_type": "execute_result"
    }
   ],
   "source": [
    "np.append(x,[1,2])"
   ]
  },
  {
   "cell_type": "code",
   "execution_count": 21,
   "id": "9554e385",
   "metadata": {},
   "outputs": [
    {
     "data": {
      "text/plain": [
       "array([1, 2, 3, 6, 7])"
      ]
     },
     "execution_count": 21,
     "metadata": {},
     "output_type": "execute_result"
    }
   ],
   "source": [
    "y = [6,7]\n",
    "np.append(x,y)"
   ]
  },
  {
   "cell_type": "code",
   "execution_count": 22,
   "id": "f0cb922e",
   "metadata": {},
   "outputs": [
    {
     "data": {
      "text/plain": [
       "array([1, 3])"
      ]
     },
     "execution_count": 22,
     "metadata": {},
     "output_type": "execute_result"
    }
   ],
   "source": [
    "# Delete\n",
    "np.delete(x,1)"
   ]
  },
  {
   "cell_type": "code",
   "execution_count": 23,
   "id": "180f9318",
   "metadata": {},
   "outputs": [
    {
     "data": {
      "text/plain": [
       "array([1, 2, 3])"
      ]
     },
     "execution_count": 23,
     "metadata": {},
     "output_type": "execute_result"
    }
   ],
   "source": [
    "x"
   ]
  },
  {
   "cell_type": "code",
   "execution_count": 24,
   "id": "00ac4a4e",
   "metadata": {},
   "outputs": [],
   "source": [
    "# sort\n",
    "s = np.array([1,2,3,10,9,4,6,5,7,8])"
   ]
  },
  {
   "cell_type": "code",
   "execution_count": 25,
   "id": "14eebee2",
   "metadata": {},
   "outputs": [
    {
     "data": {
      "text/plain": [
       "array([ 1,  2,  3,  4,  5,  6,  7,  8,  9, 10])"
      ]
     },
     "execution_count": 25,
     "metadata": {},
     "output_type": "execute_result"
    }
   ],
   "source": [
    "# Ascending\n",
    "np.sort(s)"
   ]
  },
  {
   "cell_type": "code",
   "execution_count": 26,
   "id": "e86f22d3",
   "metadata": {},
   "outputs": [
    {
     "data": {
      "text/plain": [
       "array([10,  9,  8,  7,  6,  5,  4,  3,  2,  1])"
      ]
     },
     "execution_count": 26,
     "metadata": {},
     "output_type": "execute_result"
    }
   ],
   "source": [
    "# Descending\n",
    "-np.sort(-s)"
   ]
  },
  {
   "cell_type": "code",
   "execution_count": 27,
   "id": "4383098c",
   "metadata": {},
   "outputs": [
    {
     "data": {
      "text/plain": [
       "[10, 9, 8, 7, 6, 5, 4, 3, 2, 1]"
      ]
     },
     "execution_count": 27,
     "metadata": {},
     "output_type": "execute_result"
    }
   ],
   "source": [
    "# Descending sorted\n",
    "sorted(s, reverse=True)"
   ]
  },
  {
   "cell_type": "markdown",
   "id": "fbfebc50",
   "metadata": {},
   "source": [
    "#### Shape, Size, ndim"
   ]
  },
  {
   "cell_type": "code",
   "execution_count": 28,
   "id": "15204ec3",
   "metadata": {},
   "outputs": [
    {
     "data": {
      "text/plain": [
       "(10,)"
      ]
     },
     "execution_count": 28,
     "metadata": {},
     "output_type": "execute_result"
    }
   ],
   "source": [
    "# Shape\n",
    "s.shape"
   ]
  },
  {
   "cell_type": "code",
   "execution_count": 29,
   "id": "44048859",
   "metadata": {},
   "outputs": [
    {
     "data": {
      "text/plain": [
       "1"
      ]
     },
     "execution_count": 29,
     "metadata": {},
     "output_type": "execute_result"
    }
   ],
   "source": [
    "s.ndim # dimensi"
   ]
  },
  {
   "cell_type": "code",
   "execution_count": 30,
   "id": "ccff8411",
   "metadata": {},
   "outputs": [
    {
     "data": {
      "text/plain": [
       "10"
      ]
     },
     "execution_count": 30,
     "metadata": {},
     "output_type": "execute_result"
    }
   ],
   "source": [
    "s.size"
   ]
  },
  {
   "cell_type": "code",
   "execution_count": 31,
   "id": "36e2b528",
   "metadata": {},
   "outputs": [],
   "source": [
    "multidimensi = np.array([[1,2],[3,4]])"
   ]
  },
  {
   "cell_type": "code",
   "execution_count": 32,
   "id": "cda25a56",
   "metadata": {},
   "outputs": [
    {
     "data": {
      "text/plain": [
       "(2, 2)"
      ]
     },
     "execution_count": 32,
     "metadata": {},
     "output_type": "execute_result"
    }
   ],
   "source": [
    "multidimensi.shape"
   ]
  },
  {
   "cell_type": "code",
   "execution_count": 33,
   "id": "ac72778c",
   "metadata": {},
   "outputs": [
    {
     "data": {
      "text/plain": [
       "2"
      ]
     },
     "execution_count": 33,
     "metadata": {},
     "output_type": "execute_result"
    }
   ],
   "source": [
    "multidimensi.ndim"
   ]
  },
  {
   "cell_type": "code",
   "execution_count": 34,
   "id": "88933b1f",
   "metadata": {
    "scrolled": true
   },
   "outputs": [
    {
     "data": {
      "text/plain": [
       "4"
      ]
     },
     "execution_count": 34,
     "metadata": {},
     "output_type": "execute_result"
    }
   ],
   "source": [
    "multidimensi.size"
   ]
  },
  {
   "cell_type": "markdown",
   "id": "2c100d7b",
   "metadata": {},
   "source": [
    "#### Array Dimension Manipulation"
   ]
  },
  {
   "cell_type": "code",
   "execution_count": 35,
   "id": "c85dc2da",
   "metadata": {},
   "outputs": [],
   "source": [
    "# np.reshape(multidimensi,(2,2)) ambil contoh lain"
   ]
  },
  {
   "cell_type": "code",
   "execution_count": 36,
   "id": "f4135cf5",
   "metadata": {},
   "outputs": [],
   "source": [
    "z = np.array([[1,2],[1,3],[3,4]])"
   ]
  },
  {
   "cell_type": "code",
   "execution_count": 37,
   "id": "ba46eb8a",
   "metadata": {},
   "outputs": [
    {
     "data": {
      "text/plain": [
       "array([[1, 2],\n",
       "       [1, 3],\n",
       "       [3, 4]])"
      ]
     },
     "execution_count": 37,
     "metadata": {},
     "output_type": "execute_result"
    }
   ],
   "source": [
    "z"
   ]
  },
  {
   "cell_type": "code",
   "execution_count": 38,
   "id": "d2b0ace8",
   "metadata": {},
   "outputs": [
    {
     "data": {
      "text/plain": [
       "(3, 2)"
      ]
     },
     "execution_count": 38,
     "metadata": {},
     "output_type": "execute_result"
    }
   ],
   "source": [
    "z.shape"
   ]
  },
  {
   "cell_type": "code",
   "execution_count": 39,
   "id": "08a55a5a",
   "metadata": {},
   "outputs": [
    {
     "data": {
      "text/plain": [
       "6"
      ]
     },
     "execution_count": 39,
     "metadata": {},
     "output_type": "execute_result"
    }
   ],
   "source": [
    "z.size"
   ]
  },
  {
   "cell_type": "code",
   "execution_count": 40,
   "id": "c86a85a0",
   "metadata": {},
   "outputs": [
    {
     "data": {
      "text/plain": [
       "array([[1, 2, 1],\n",
       "       [3, 3, 4]])"
      ]
     },
     "execution_count": 40,
     "metadata": {},
     "output_type": "execute_result"
    }
   ],
   "source": [
    "np.reshape(z,(2,3))"
   ]
  },
  {
   "cell_type": "code",
   "execution_count": 41,
   "id": "4b7c3a27",
   "metadata": {},
   "outputs": [],
   "source": [
    "### contoh aplikasi numpy reshape"
   ]
  },
  {
   "cell_type": "markdown",
   "id": "3ff07dab",
   "metadata": {},
   "source": [
    "dataser untuk training image\n",
    "100 image, ukuran image 128x128, RGB (3 layer)\n",
    "\n",
    "100, 3, 128, 128\n",
    "\n",
    "flaten di atas\n",
    "100, 49152 dapat dari (128**2)*3"
   ]
  },
  {
   "cell_type": "code",
   "execution_count": 42,
   "id": "1c30e30a",
   "metadata": {},
   "outputs": [],
   "source": [
    "a = np.arange(0,6)"
   ]
  },
  {
   "cell_type": "code",
   "execution_count": 43,
   "id": "add082e0",
   "metadata": {},
   "outputs": [
    {
     "data": {
      "text/plain": [
       "(6,)"
      ]
     },
     "execution_count": 43,
     "metadata": {},
     "output_type": "execute_result"
    }
   ],
   "source": [
    "a.shape"
   ]
  },
  {
   "cell_type": "code",
   "execution_count": 44,
   "id": "a3d7c122",
   "metadata": {},
   "outputs": [
    {
     "data": {
      "text/plain": [
       "array([[0, 1, 2, 3, 4, 5]])"
      ]
     },
     "execution_count": 44,
     "metadata": {},
     "output_type": "execute_result"
    }
   ],
   "source": [
    "a.reshape(1,6)"
   ]
  },
  {
   "cell_type": "code",
   "execution_count": 45,
   "id": "6e12d9ed",
   "metadata": {},
   "outputs": [
    {
     "data": {
      "text/plain": [
       "array([[0, 1, 2, 3, 4, 5]])"
      ]
     },
     "execution_count": 45,
     "metadata": {},
     "output_type": "execute_result"
    }
   ],
   "source": [
    "a[np.newaxis]"
   ]
  },
  {
   "cell_type": "code",
   "execution_count": 46,
   "id": "170f2202",
   "metadata": {},
   "outputs": [
    {
     "data": {
      "text/plain": [
       "array([[0],\n",
       "       [1],\n",
       "       [2],\n",
       "       [3],\n",
       "       [4],\n",
       "       [5]])"
      ]
     },
     "execution_count": 46,
     "metadata": {},
     "output_type": "execute_result"
    }
   ],
   "source": [
    "a[:,np.newaxis]"
   ]
  },
  {
   "cell_type": "code",
   "execution_count": 47,
   "id": "32b57468",
   "metadata": {},
   "outputs": [],
   "source": [
    "### row = jumlah data\n",
    "### kolom = jumlah fitur atau dimensi vektor"
   ]
  },
  {
   "cell_type": "code",
   "execution_count": 48,
   "id": "5d45bff6",
   "metadata": {},
   "outputs": [
    {
     "data": {
      "text/plain": [
       "array([[0, 1, 2, 3, 4, 5]])"
      ]
     },
     "execution_count": 48,
     "metadata": {},
     "output_type": "execute_result"
    }
   ],
   "source": [
    "np.expand_dims(a,axis=0)"
   ]
  },
  {
   "cell_type": "code",
   "execution_count": 49,
   "id": "5d54cd87",
   "metadata": {},
   "outputs": [
    {
     "data": {
      "text/plain": [
       "array([[0],\n",
       "       [1],\n",
       "       [2],\n",
       "       [3],\n",
       "       [4],\n",
       "       [5]])"
      ]
     },
     "execution_count": 49,
     "metadata": {},
     "output_type": "execute_result"
    }
   ],
   "source": [
    "np.expand_dims(a,axis=1)"
   ]
  },
  {
   "cell_type": "code",
   "execution_count": 50,
   "id": "e48d29a0",
   "metadata": {},
   "outputs": [
    {
     "data": {
      "text/plain": [
       "array([[1, 2],\n",
       "       [3, 4]])"
      ]
     },
     "execution_count": 50,
     "metadata": {},
     "output_type": "execute_result"
    }
   ],
   "source": [
    "sample = np.array([1,2,3,4]).reshape((2,2))\n",
    "sample"
   ]
  },
  {
   "cell_type": "code",
   "execution_count": 51,
   "id": "cc8c5246",
   "metadata": {},
   "outputs": [
    {
     "data": {
      "text/plain": [
       "array([[[1, 2],\n",
       "        [3, 4]]])"
      ]
     },
     "execution_count": 51,
     "metadata": {},
     "output_type": "execute_result"
    }
   ],
   "source": [
    "np.expand_dims(sample,axis=0)"
   ]
  },
  {
   "cell_type": "code",
   "execution_count": 52,
   "id": "e51d7db0",
   "metadata": {
    "scrolled": true
   },
   "outputs": [
    {
     "data": {
      "text/plain": [
       "(2, 1, 2)"
      ]
     },
     "execution_count": 52,
     "metadata": {},
     "output_type": "execute_result"
    }
   ],
   "source": [
    "np.expand_dims(sample,axis=1).shape"
   ]
  },
  {
   "cell_type": "code",
   "execution_count": 53,
   "id": "3528adb9",
   "metadata": {},
   "outputs": [],
   "source": [
    "# aeroscope?"
   ]
  },
  {
   "cell_type": "markdown",
   "id": "7960c4b7",
   "metadata": {},
   "source": [
    "#### Indexing, Slicing"
   ]
  },
  {
   "cell_type": "code",
   "execution_count": 54,
   "id": "c390e63b",
   "metadata": {},
   "outputs": [],
   "source": [
    "num = np.arange(1,11)"
   ]
  },
  {
   "cell_type": "code",
   "execution_count": 55,
   "id": "25242855",
   "metadata": {},
   "outputs": [
    {
     "data": {
      "text/plain": [
       "array([ 1,  2,  3,  4,  5,  6,  7,  8,  9, 10])"
      ]
     },
     "execution_count": 55,
     "metadata": {},
     "output_type": "execute_result"
    }
   ],
   "source": [
    "num"
   ]
  },
  {
   "cell_type": "code",
   "execution_count": 56,
   "id": "707fd5f6",
   "metadata": {},
   "outputs": [
    {
     "data": {
      "text/plain": [
       "array([ 9, 10])"
      ]
     },
     "execution_count": 56,
     "metadata": {},
     "output_type": "execute_result"
    }
   ],
   "source": [
    "num[8:]"
   ]
  },
  {
   "cell_type": "code",
   "execution_count": 57,
   "id": "de80bf0c",
   "metadata": {},
   "outputs": [
    {
     "data": {
      "text/plain": [
       "array([ 9, 10])"
      ]
     },
     "execution_count": 57,
     "metadata": {},
     "output_type": "execute_result"
    }
   ],
   "source": [
    "num[-2:]"
   ]
  },
  {
   "cell_type": "code",
   "execution_count": 58,
   "id": "83419fce",
   "metadata": {},
   "outputs": [
    {
     "data": {
      "text/plain": [
       "array([1, 2])"
      ]
     },
     "execution_count": 58,
     "metadata": {},
     "output_type": "execute_result"
    }
   ],
   "source": [
    "num[:2]"
   ]
  },
  {
   "cell_type": "code",
   "execution_count": 59,
   "id": "fe0390b1",
   "metadata": {},
   "outputs": [],
   "source": [
    "# indexing multidimensional"
   ]
  },
  {
   "cell_type": "code",
   "execution_count": 60,
   "id": "3ceca4f8",
   "metadata": {},
   "outputs": [
    {
     "data": {
      "text/plain": [
       "array([[1, 2],\n",
       "       [3, 4]])"
      ]
     },
     "execution_count": 60,
     "metadata": {},
     "output_type": "execute_result"
    }
   ],
   "source": [
    "sample"
   ]
  },
  {
   "cell_type": "code",
   "execution_count": 61,
   "id": "534cd0ff",
   "metadata": {},
   "outputs": [
    {
     "data": {
      "text/plain": [
       "array([1, 3])"
      ]
     },
     "execution_count": 61,
     "metadata": {},
     "output_type": "execute_result"
    }
   ],
   "source": [
    "sample[:,0]"
   ]
  },
  {
   "cell_type": "code",
   "execution_count": 62,
   "id": "4b558c2a",
   "metadata": {},
   "outputs": [
    {
     "data": {
      "text/plain": [
       "2"
      ]
     },
     "execution_count": 62,
     "metadata": {},
     "output_type": "execute_result"
    }
   ],
   "source": [
    "sample[0,1]"
   ]
  },
  {
   "cell_type": "markdown",
   "id": "c6851f2c",
   "metadata": {},
   "source": [
    "#### Filtering (Slicing by condition)"
   ]
  },
  {
   "cell_type": "code",
   "execution_count": 63,
   "id": "063250c6",
   "metadata": {},
   "outputs": [
    {
     "data": {
      "text/plain": [
       "array([ 1,  2,  3,  4,  5,  6,  7,  8,  9, 10])"
      ]
     },
     "execution_count": 63,
     "metadata": {},
     "output_type": "execute_result"
    }
   ],
   "source": [
    "num"
   ]
  },
  {
   "cell_type": "code",
   "execution_count": 64,
   "id": "c759d104",
   "metadata": {},
   "outputs": [
    {
     "data": {
      "text/plain": [
       "array([ 3,  4,  5,  6,  7,  8,  9, 10])"
      ]
     },
     "execution_count": 64,
     "metadata": {},
     "output_type": "execute_result"
    }
   ],
   "source": [
    "num[num>2]"
   ]
  },
  {
   "cell_type": "code",
   "execution_count": 65,
   "id": "7fdff54a",
   "metadata": {},
   "outputs": [
    {
     "data": {
      "text/plain": [
       "array([ 5,  6,  7,  8,  9, 10])"
      ]
     },
     "execution_count": 65,
     "metadata": {},
     "output_type": "execute_result"
    }
   ],
   "source": [
    "condition = num>4\n",
    "num[condition]"
   ]
  },
  {
   "cell_type": "code",
   "execution_count": 66,
   "id": "22b43d07",
   "metadata": {},
   "outputs": [
    {
     "data": {
      "text/plain": [
       "array([ 2,  4,  6,  8, 10])"
      ]
     },
     "execution_count": 66,
     "metadata": {},
     "output_type": "execute_result"
    }
   ],
   "source": [
    "num[num%2==0]"
   ]
  },
  {
   "cell_type": "markdown",
   "id": "b0619cd1",
   "metadata": {},
   "source": [
    "#### Creating array from existing data"
   ]
  },
  {
   "cell_type": "code",
   "execution_count": 67,
   "id": "e318ea86",
   "metadata": {},
   "outputs": [],
   "source": [
    "a = np.array([1,2,3])\n",
    "b = np.array([3,4,5])"
   ]
  },
  {
   "cell_type": "code",
   "execution_count": 68,
   "id": "0e260e2b",
   "metadata": {},
   "outputs": [
    {
     "data": {
      "text/plain": [
       "array([[1, 2, 3],\n",
       "       [3, 4, 5]])"
      ]
     },
     "execution_count": 68,
     "metadata": {},
     "output_type": "execute_result"
    }
   ],
   "source": [
    "np.vstack((a,b))"
   ]
  },
  {
   "cell_type": "code",
   "execution_count": 69,
   "id": "783e920f",
   "metadata": {},
   "outputs": [
    {
     "data": {
      "text/plain": [
       "array([1, 2, 3, 3, 4, 5])"
      ]
     },
     "execution_count": 69,
     "metadata": {},
     "output_type": "execute_result"
    }
   ],
   "source": [
    "np.hstack((a,b))"
   ]
  },
  {
   "cell_type": "markdown",
   "id": "e1c1c8a4",
   "metadata": {},
   "source": [
    "### Array Operation"
   ]
  },
  {
   "cell_type": "code",
   "execution_count": 70,
   "id": "f1cc1b93",
   "metadata": {},
   "outputs": [],
   "source": [
    "a = np.array([[1,2],[3,4]])\n",
    "b = np.array([[2,2],[2,2]])"
   ]
  },
  {
   "cell_type": "code",
   "execution_count": 71,
   "id": "d85d1c3d",
   "metadata": {},
   "outputs": [
    {
     "data": {
      "text/plain": [
       "array([[3, 4],\n",
       "       [5, 6]])"
      ]
     },
     "execution_count": 71,
     "metadata": {},
     "output_type": "execute_result"
    }
   ],
   "source": [
    "a+b"
   ]
  },
  {
   "cell_type": "code",
   "execution_count": 72,
   "id": "38b50f43",
   "metadata": {},
   "outputs": [
    {
     "data": {
      "text/plain": [
       "array([[2, 4],\n",
       "       [6, 8]])"
      ]
     },
     "execution_count": 72,
     "metadata": {},
     "output_type": "execute_result"
    }
   ],
   "source": [
    "a*b"
   ]
  },
  {
   "cell_type": "code",
   "execution_count": 73,
   "id": "2b9ed6b6",
   "metadata": {},
   "outputs": [
    {
     "data": {
      "text/plain": [
       "array([[0.5, 1. ],\n",
       "       [1.5, 2. ]])"
      ]
     },
     "execution_count": 73,
     "metadata": {},
     "output_type": "execute_result"
    }
   ],
   "source": [
    "a/b"
   ]
  },
  {
   "cell_type": "code",
   "execution_count": 74,
   "id": "bddb8109",
   "metadata": {},
   "outputs": [
    {
     "name": "stdout",
     "output_type": "stream",
     "text": [
      "data: \n",
      " [[46  6 59]\n",
      " [68 13 31]\n",
      " [38 95 24]]\n",
      "ones: \n",
      " [[1. 1. 1.]\n",
      " [1. 1. 1.]\n",
      " [1. 1. 1.]]\n",
      "Add: \n",
      " [[47.  7. 60.]\n",
      " [69. 14. 32.]\n",
      " [39. 96. 25.]]\n",
      "Sub: \n",
      " [[45.  5. 58.]\n",
      " [67. 12. 30.]\n",
      " [37. 94. 23.]]\n",
      "Mul: \n",
      " [[46.  6. 59.]\n",
      " [68. 13. 31.]\n",
      " [38. 95. 24.]]\n",
      "Div: \n",
      " [[46.  6. 59.]\n",
      " [68. 13. 31.]\n",
      " [38. 95. 24.]]\n"
     ]
    }
   ],
   "source": [
    "data = np.random.randint(100,size=(3,3))\n",
    "ones = np.ones((3,3))\n",
    "print(\"data: \\n\",data)\n",
    "print(\"ones: \\n\",ones)\n",
    "print(\"Add: \\n\", data+ones)\n",
    "print(\"Sub: \\n\", data-ones)\n",
    "print(\"Mul: \\n\", data*ones)\n",
    "print(\"Div: \\n\", data/ones)"
   ]
  },
  {
   "cell_type": "code",
   "execution_count": 75,
   "id": "0df49816",
   "metadata": {},
   "outputs": [
    {
     "name": "stdout",
     "output_type": "stream",
     "text": [
      "broadcasting: \n",
      " [[ 69.    9.   88.5]\n",
      " [102.   19.5  46.5]\n",
      " [ 57.  142.5  36. ]]\n",
      "max: \n",
      " 95\n",
      "min: \n",
      " 6\n",
      "sum: \n",
      " 380\n",
      "mean: \n",
      " 42.22222222222222\n",
      "std: \n",
      " 26.64072812559237\n"
     ]
    }
   ],
   "source": [
    "print(\"broadcasting: \\n\", data*1.5)\n",
    "print(\"max: \\n\",data.max())\n",
    "print(\"min: \\n\",data.min())\n",
    "print(\"sum: \\n\",data.sum())\n",
    "print(\"mean: \\n\",data.mean())\n",
    "print(\"std: \\n\",data.std())"
   ]
  },
  {
   "cell_type": "code",
   "execution_count": 76,
   "id": "de6655cb",
   "metadata": {},
   "outputs": [],
   "source": [
    "### no 1.a\n",
    "def rgb(N):\n",
    "    return np.random.randint(255,size=(3,N,N))"
   ]
  },
  {
   "cell_type": "code",
   "execution_count": 77,
   "id": "a8b64eb3",
   "metadata": {},
   "outputs": [
    {
     "data": {
      "text/plain": [
       "array([[[200,  16, 168, 176],\n",
       "        [140, 216,  74, 129],\n",
       "        [  2,  57, 149, 165],\n",
       "        [232,  95, 211,  45]],\n",
       "\n",
       "       [[166,  41, 156, 233],\n",
       "        [ 13,  95,  86, 112],\n",
       "        [ 82,  15,  35,  87],\n",
       "        [166,  26, 101,  42]],\n",
       "\n",
       "       [[ 72,  10,  16, 245],\n",
       "        [122,  44,  46, 244],\n",
       "        [128,  43,  94,  15],\n",
       "        [  6, 207, 243, 113]]])"
      ]
     },
     "execution_count": 77,
     "metadata": {},
     "output_type": "execute_result"
    }
   ],
   "source": [
    "rgb(4)"
   ]
  },
  {
   "cell_type": "code",
   "execution_count": 78,
   "id": "9ee15242",
   "metadata": {},
   "outputs": [],
   "source": [
    "### no 1.b\n",
    "def rubik(N):\n",
    "    return np.random.randint(255,size=(N,N,N))"
   ]
  },
  {
   "cell_type": "code",
   "execution_count": 79,
   "id": "9951dce1",
   "metadata": {},
   "outputs": [
    {
     "data": {
      "text/plain": [
       "array([[[204,  36, 101],\n",
       "        [  5, 145, 123],\n",
       "        [133, 184, 127]],\n",
       "\n",
       "       [[220,  29, 209],\n",
       "        [188,  55, 136],\n",
       "        [ 52, 215, 190]],\n",
       "\n",
       "       [[ 95,   2,  91],\n",
       "        [152,  37,  79],\n",
       "        [196, 170, 188]]])"
      ]
     },
     "execution_count": 79,
     "metadata": {},
     "output_type": "execute_result"
    }
   ],
   "source": [
    "rubik(3)"
   ]
  },
  {
   "cell_type": "code",
   "execution_count": 80,
   "id": "113a6269",
   "metadata": {},
   "outputs": [],
   "source": [
    "# no 2\n",
    "def split(records): \n",
    "    train = record[:int(0.8*(len(record)))]\n",
    "    test = record[-int(0.2*(len(record))):]\n",
    "    return train, test"
   ]
  },
  {
   "cell_type": "code",
   "execution_count": 81,
   "id": "19b2aec6",
   "metadata": {},
   "outputs": [],
   "source": [
    "record = np.random.randint(100,size=(10,3))"
   ]
  },
  {
   "cell_type": "code",
   "execution_count": 82,
   "id": "4c9374b0",
   "metadata": {},
   "outputs": [
    {
     "data": {
      "text/plain": [
       "array([[25, 86, 11],\n",
       "       [24, 29, 97],\n",
       "       [95, 72, 69],\n",
       "       [33, 20, 67],\n",
       "       [41, 46, 47],\n",
       "       [ 1, 45, 74],\n",
       "       [34, 54, 69],\n",
       "       [71, 34, 61],\n",
       "       [90, 78, 12],\n",
       "       [61, 42, 64]])"
      ]
     },
     "execution_count": 82,
     "metadata": {},
     "output_type": "execute_result"
    }
   ],
   "source": [
    "record"
   ]
  },
  {
   "cell_type": "code",
   "execution_count": 83,
   "id": "bf992c9b",
   "metadata": {},
   "outputs": [],
   "source": [
    "train, test = split(record)"
   ]
  },
  {
   "cell_type": "code",
   "execution_count": 84,
   "id": "2f41b493",
   "metadata": {},
   "outputs": [
    {
     "data": {
      "text/plain": [
       "(8, 3)"
      ]
     },
     "execution_count": 84,
     "metadata": {},
     "output_type": "execute_result"
    }
   ],
   "source": [
    "train.shape"
   ]
  },
  {
   "cell_type": "code",
   "execution_count": 85,
   "id": "b792b603",
   "metadata": {},
   "outputs": [
    {
     "data": {
      "text/plain": [
       "(2, 3)"
      ]
     },
     "execution_count": 85,
     "metadata": {},
     "output_type": "execute_result"
    }
   ],
   "source": [
    "test.shape"
   ]
  },
  {
   "cell_type": "markdown",
   "id": "878a080d",
   "metadata": {},
   "source": [
    "##### MSE & MAE"
   ]
  },
  {
   "cell_type": "code",
   "execution_count": 86,
   "id": "4b3bc2fa",
   "metadata": {},
   "outputs": [
    {
     "data": {
      "text/plain": [
       "array([[26, 68],\n",
       "       [30, 83],\n",
       "       [29, 27],\n",
       "       [39, 42],\n",
       "       [64, 64],\n",
       "       [12, 58],\n",
       "       [24, 45],\n",
       "       [90, 70],\n",
       "       [96, 28],\n",
       "       [51, 28]])"
      ]
     },
     "execution_count": 86,
     "metadata": {},
     "output_type": "execute_result"
    }
   ],
   "source": [
    "data = np.random.randint(100,size=(10,2))\n",
    "data"
   ]
  },
  {
   "cell_type": "code",
   "execution_count": 87,
   "id": "2cedb46c",
   "metadata": {},
   "outputs": [],
   "source": [
    "def mse(data):\n",
    "    return ((data[:,0] - data[:,1])**2).sum()/len(data)\n",
    "\n",
    "def mae(data):\n",
    "    return np.sum(np.abs(data[:,0]-data[:,1]))/len(data)"
   ]
  },
  {
   "cell_type": "code",
   "execution_count": 88,
   "id": "7efd6808",
   "metadata": {},
   "outputs": [
    {
     "data": {
      "text/plain": [
       "1269.6"
      ]
     },
     "execution_count": 88,
     "metadata": {},
     "output_type": "execute_result"
    }
   ],
   "source": [
    "mse(data)"
   ]
  },
  {
   "cell_type": "code",
   "execution_count": 89,
   "id": "84af25b7",
   "metadata": {},
   "outputs": [
    {
     "data": {
      "text/plain": [
       "27.8"
      ]
     },
     "execution_count": 89,
     "metadata": {},
     "output_type": "execute_result"
    }
   ],
   "source": [
    "mae(data)"
   ]
  },
  {
   "cell_type": "code",
   "execution_count": 90,
   "id": "46628af0",
   "metadata": {},
   "outputs": [],
   "source": [
    "def mse1(var):\n",
    "    x = var[:,0]\n",
    "    y = var[:,1]\n",
    "    return np.sum((x-y)**2) / var.shape[0]\n",
    "\n",
    "#### b.\n",
    "\n",
    "def mae1(var):\n",
    "    x = var[:,0]\n",
    "    y = var[:,1]\n",
    "    return np.sum(np.abs(x-y)) / var.shape[0]"
   ]
  },
  {
   "cell_type": "code",
   "execution_count": 91,
   "id": "0cdeb62f",
   "metadata": {},
   "outputs": [
    {
     "name": "stdout",
     "output_type": "stream",
     "text": [
      "1269.6\n",
      "27.8\n"
     ]
    }
   ],
   "source": [
    "print(mse1(data))\n",
    "print(mae1(data))"
   ]
  },
  {
   "cell_type": "code",
   "execution_count": 109,
   "id": "d425bc39",
   "metadata": {},
   "outputs": [],
   "source": [
    "def cross_entropy_loss(data):\n",
    "    a = data[:,0]*np.log(data[:,1])\n",
    "    b = (1-data[:,0])\n",
    "    c = np.log(1-data[:,1])\n",
    "    return -1*(np.sum(a+(b*c)))/len(data)"
   ]
  },
  {
   "cell_type": "code",
   "execution_count": 110,
   "id": "59e7e6cc",
   "metadata": {},
   "outputs": [
    {
     "data": {
      "text/plain": [
       "array([[0.46180172, 0.15061566],\n",
       "       [0.03745537, 0.6822217 ],\n",
       "       [0.41866572, 0.36458318],\n",
       "       [0.69667019, 0.16797633],\n",
       "       [0.31144594, 0.5210073 ],\n",
       "       [0.08061793, 0.18321058],\n",
       "       [0.41174403, 0.58572744],\n",
       "       [0.9527679 , 0.26384149],\n",
       "       [0.73898788, 0.23906021],\n",
       "       [0.62398357, 0.64937893]])"
      ]
     },
     "execution_count": 110,
     "metadata": {},
     "output_type": "execute_result"
    }
   ],
   "source": [
    "data_float = np.random.random((10,2))\n",
    "data_float"
   ]
  },
  {
   "cell_type": "code",
   "execution_count": 111,
   "id": "6ded0d77",
   "metadata": {},
   "outputs": [
    {
     "data": {
      "text/plain": [
       "0.8912137930681834"
      ]
     },
     "execution_count": 111,
     "metadata": {},
     "output_type": "execute_result"
    }
   ],
   "source": [
    "cross_entropy_loss(data_float)"
   ]
  },
  {
   "cell_type": "code",
   "execution_count": 138,
   "id": "11edff6b",
   "metadata": {},
   "outputs": [],
   "source": [
    "from matplotlib import pyplot as plt\n",
    "def data_graphic(inp):\n",
    "    left = np.array([np.arange(0,(-(inp)-1),-1),np.zeros(inp+1)])\n",
    "    right = np.array([np.arange(0,inp+1),np.arange(0,inp+1)])\n",
    "    full = np.hstack((left,right))\n",
    "    plt.plot(full[0],full[1])\n",
    "    plt.show()"
   ]
  },
  {
   "cell_type": "code",
   "execution_count": 140,
   "id": "50cd19d9",
   "metadata": {},
   "outputs": [
    {
     "name": "stdout",
     "output_type": "stream",
     "text": [
      "10\n"
     ]
    },
    {
     "data": {
      "image/png": "[encoded data removed]",
      "text/plain": [
       "<Figure size 640x480 with 1 Axes>"
      ]
     },
     "metadata": {},
     "output_type": "display_data"
    }
   ],
   "source": [
    "inp = int(input())\n",
    "data_graphic(inp)"
   ]
  },
  {
   "cell_type": "code",
   "execution_count": null,
   "id": "cc29efd0",
   "metadata": {},
   "outputs": [],
   "source": []
  }
 ],
 "metadata": {
  "kernelspec": {
   "display_name": "H8_001",
   "language": "python",
   "name": "h8_001"
  },
  "language_info": {
   "codemirror_mode": {
    "name": "ipython",
    "version": 3
   },
   "file_extension": ".py",
   "mimetype": "text/x-python",
   "name": "python",
   "nbconvert_exporter": "python",
   "pygments_lexer": "ipython3",
   "version": "3.7.11"
  },
  "toc": {
   "base_numbering": 1,
   "nav_menu": {},
   "number_sections": true,
   "sideBar": true,
   "skip_h1_title": false,
   "title_cell": "Table of Contents",
   "title_sidebar": "Contents",
   "toc_cell": false,
   "toc_position": {},
   "toc_section_display": true,
   "toc_window_display": false
  }
 },
 "nbformat": 4,
 "nbformat_minor": 5
}
