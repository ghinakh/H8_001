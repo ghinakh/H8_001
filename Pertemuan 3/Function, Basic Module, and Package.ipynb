{
 "cells": [
  {
   "cell_type": "markdown",
   "id": "09ddb0b3",
   "metadata": {},
   "source": [
    "### Function"
   ]
  },
  {
   "cell_type": "markdown",
   "id": "131290cc",
   "metadata": {},
   "source": [
    "Function merupakan blok kode yang dapat digunakan kembali. Sintaks function adalah sebagai berikut:"
   ]
  },
  {
   "cell_type": "code",
   "execution_count": 1,
   "id": "e2410e3b",
   "metadata": {},
   "outputs": [],
   "source": [
    "def function_name(parameters):\n",
    "    \"\"\"docstring\"\"\"\n",
    "    statement"
   ]
  },
  {
   "cell_type": "code",
   "execution_count": 2,
   "id": "0ee62db3",
   "metadata": {},
   "outputs": [],
   "source": [
    "def hitung_jumlah_permen(kantong, permen_baru):\n",
    "    \"\"\"\n",
    "        Function untuk menghitung jumlah permen\n",
    "    \n",
    "        parameter\n",
    "        ---------\n",
    "            kantong: jumlah permen yang ada di kantong\n",
    "            permen_baru: jumlah permen baru\n",
    "            \n",
    "        return\n",
    "        ---------\n",
    "            total jumlah permen di kantong dengan permen_baru\n",
    "    \"\"\"\n",
    "    return kantong+permen_baru    "
   ]
  },
  {
   "cell_type": "code",
   "execution_count": 3,
   "id": "629ab101",
   "metadata": {},
   "outputs": [
    {
     "data": {
      "text/plain": [
       "13"
      ]
     },
     "execution_count": 3,
     "metadata": {},
     "output_type": "execute_result"
    }
   ],
   "source": [
    "hitung_jumlah_permen(10,3)"
   ]
  },
  {
   "cell_type": "markdown",
   "id": "05b96f5d",
   "metadata": {},
   "source": [
    "#### Pass by reference vs value"
   ]
  },
  {
   "cell_type": "markdown",
   "id": "8ad0b304",
   "metadata": {},
   "source": [
    "Pass by reference artinya adalah ketika kita mengubah apa yang merujuk oleh suatu variabel maka variable awal itu tadi juga ikut berubah karena memiliki alamat memori yang sama. Sedangkan pass by value ini merupakan passing dimana kita mengcopy value dari suatu variabel ke variabel lain maka kedua variabel memiliki alamat yang berbeda. Ketika kita mengubah salah satu variabel maka variabel yang lain itu tidak ikut berubah. "
   ]
  },
  {
   "cell_type": "markdown",
   "id": "e63051dd",
   "metadata": {},
   "source": [
    "#### Function Arguments"
   ]
  },
  {
   "cell_type": "markdown",
   "id": "a09a0b26",
   "metadata": {},
   "source": [
    "##### Required Arguments"
   ]
  },
  {
   "cell_type": "code",
   "execution_count": 4,
   "id": "b7276040",
   "metadata": {},
   "outputs": [
    {
     "data": {
      "text/plain": [
       "13"
      ]
     },
     "execution_count": 4,
     "metadata": {},
     "output_type": "execute_result"
    }
   ],
   "source": [
    "hitung_jumlah_permen(10,3)"
   ]
  },
  {
   "cell_type": "markdown",
   "id": "420f170c",
   "metadata": {},
   "source": [
    "##### Keyword Arguments"
   ]
  },
  {
   "cell_type": "code",
   "execution_count": 5,
   "id": "8353473b",
   "metadata": {},
   "outputs": [
    {
     "data": {
      "text/plain": [
       "13"
      ]
     },
     "execution_count": 5,
     "metadata": {},
     "output_type": "execute_result"
    }
   ],
   "source": [
    "hitung_jumlah_permen(kantong=10,permen_baru=3)"
   ]
  },
  {
   "cell_type": "markdown",
   "id": "63de7644",
   "metadata": {},
   "source": [
    "##### Default Arguments"
   ]
  },
  {
   "cell_type": "code",
   "execution_count": 6,
   "id": "112966fc",
   "metadata": {},
   "outputs": [
    {
     "name": "stdout",
     "output_type": "stream",
     "text": [
      "nama: Ghina Khoerunnisa\n",
      "status: 0\n"
     ]
    }
   ],
   "source": [
    "def default_arg_function(nama, status=0):\n",
    "    print(f'nama: {nama}\\nstatus: {status}')\n",
    "\n",
    "default_arg_function(nama='Ghina Khoerunnisa')"
   ]
  },
  {
   "cell_type": "markdown",
   "id": "dfc45526",
   "metadata": {},
   "source": [
    "##### Variable-length Arguments and keyword arg(s)"
   ]
  },
  {
   "cell_type": "code",
   "execution_count": 7,
   "id": "7f0dbe95",
   "metadata": {},
   "outputs": [
    {
     "name": "stdout",
     "output_type": "stream",
     "text": [
      "argumen nama: Ghina\n",
      "variable length arg(s):\n",
      "(10, 20, '-', 30)\n",
      "keyword arg(s):\n",
      "{'permen': 3, 'pena': 4}\n"
     ]
    }
   ],
   "source": [
    "def printinfo(nama, *args, **kwargs):\n",
    "    print(f'argumen nama: {nama}')\n",
    "    print('variable length arg(s):')\n",
    "    print(args)\n",
    "    print('keyword arg(s):')\n",
    "    print(kwargs)\n",
    "        \n",
    "printinfo('Ghina', 10, 20, '-', 30, permen=3, pena=4)"
   ]
  },
  {
   "cell_type": "markdown",
   "id": "a4d9fd9f",
   "metadata": {},
   "source": [
    "#### Anonymous Function"
   ]
  },
  {
   "cell_type": "code",
   "execution_count": 8,
   "id": "5f79cb7a",
   "metadata": {},
   "outputs": [
    {
     "name": "stdout",
     "output_type": "stream",
     "text": [
      "33\n"
     ]
    }
   ],
   "source": [
    "jumlah = lambda var_1, var_2: print(var_1 + var_2)\n",
    "jumlah(11,22)"
   ]
  },
  {
   "cell_type": "code",
   "execution_count": 9,
   "id": "4e172058",
   "metadata": {},
   "outputs": [],
   "source": [
    "def jumlah2(var_1, var_2): print(var_1 + var_2)"
   ]
  },
  {
   "cell_type": "code",
   "execution_count": 10,
   "id": "ce1d540a",
   "metadata": {},
   "outputs": [
    {
     "name": "stdout",
     "output_type": "stream",
     "text": [
      "33\n"
     ]
    }
   ],
   "source": [
    "jumlah2(11,22)"
   ]
  },
  {
   "cell_type": "markdown",
   "id": "546ae0af",
   "metadata": {},
   "source": [
    "### Basic Module"
   ]
  },
  {
   "cell_type": "code",
   "execution_count": 22,
   "id": "0a9eb301",
   "metadata": {},
   "outputs": [],
   "source": [
    "import mod\n",
    "import importlib"
   ]
  },
  {
   "cell_type": "code",
   "execution_count": 23,
   "id": "535fdabe",
   "metadata": {},
   "outputs": [
    {
     "data": {
      "text/plain": [
       "<module 'mod' from 'D:\\\\Hacktiv8\\\\H8_001\\\\Pertemuan 3\\\\mod.py'>"
      ]
     },
     "execution_count": 23,
     "metadata": {},
     "output_type": "execute_result"
    }
   ],
   "source": [
    "importlib.reload(mod)"
   ]
  },
  {
   "cell_type": "code",
   "execution_count": 24,
   "id": "2c471513",
   "metadata": {},
   "outputs": [
    {
     "data": {
      "text/plain": [
       "'Ghina Khoerunnisa'"
      ]
     },
     "execution_count": 24,
     "metadata": {},
     "output_type": "execute_result"
    }
   ],
   "source": [
    "mod.s"
   ]
  },
  {
   "cell_type": "code",
   "execution_count": 25,
   "id": "ea15e77c",
   "metadata": {},
   "outputs": [
    {
     "data": {
      "text/plain": [
       "21"
      ]
     },
     "execution_count": 25,
     "metadata": {},
     "output_type": "execute_result"
    }
   ],
   "source": [
    "mod.b"
   ]
  },
  {
   "cell_type": "code",
   "execution_count": 27,
   "id": "9798529c",
   "metadata": {},
   "outputs": [
    {
     "name": "stdout",
     "output_type": "stream",
     "text": [
      "arg = ('Satu', 3, True)\n"
     ]
    }
   ],
   "source": [
    "mod.foo(\"Satu\",3, True)"
   ]
  },
  {
   "cell_type": "code",
   "execution_count": 29,
   "id": "61929e8a",
   "metadata": {},
   "outputs": [],
   "source": [
    "from folder_mod import mod2"
   ]
  },
  {
   "cell_type": "code",
   "execution_count": 32,
   "id": "f0588547",
   "metadata": {},
   "outputs": [
    {
     "name": "stdout",
     "output_type": "stream",
     "text": [
      "Ghina Khoerunnisa\n",
      "21\n"
     ]
    }
   ],
   "source": [
    "print(mod2.nama)\n",
    "print(mod2.umur)"
   ]
  },
  {
   "cell_type": "code",
   "execution_count": 35,
   "id": "703c21de",
   "metadata": {},
   "outputs": [
    {
     "name": "stdout",
     "output_type": "stream",
     "text": [
      "Honda\n",
      "Ridgeline\n",
      "Truck\n"
     ]
    }
   ],
   "source": [
    "vehicle_obj = mod2.Vehicle('Honda','Ridgeline','Truck')\n",
    "print(vehicle_obj.brand)\n",
    "print(vehicle_obj.model)\n",
    "print(vehicle_obj.type)"
   ]
  },
  {
   "cell_type": "code",
   "execution_count": 36,
   "id": "2fedd325",
   "metadata": {},
   "outputs": [
    {
     "name": "stdout",
     "output_type": "stream",
     "text": [
      "Gas tank is now full.\n"
     ]
    }
   ],
   "source": [
    "vehicle_obj.fuel_up()"
   ]
  },
  {
   "cell_type": "code",
   "execution_count": 37,
   "id": "e292e44d",
   "metadata": {},
   "outputs": [
    {
     "name": "stdout",
     "output_type": "stream",
     "text": [
      "The Ridgeline is now driving.\n"
     ]
    }
   ],
   "source": [
    "vehicle_obj.drive()"
   ]
  },
  {
   "cell_type": "code",
   "execution_count": 38,
   "id": "1b334b3d",
   "metadata": {},
   "outputs": [
    {
     "data": {
      "text/plain": [
       "['D:\\\\Hacktiv8\\\\H8_001\\\\Pertemuan 3',\n",
       " 'C:\\\\Users\\\\USER\\\\anaconda3\\\\envs\\\\H8_001\\\\python37.zip',\n",
       " 'C:\\\\Users\\\\USER\\\\anaconda3\\\\envs\\\\H8_001\\\\DLLs',\n",
       " 'C:\\\\Users\\\\USER\\\\anaconda3\\\\envs\\\\H8_001\\\\lib',\n",
       " 'C:\\\\Users\\\\USER\\\\anaconda3\\\\envs\\\\H8_001',\n",
       " '',\n",
       " 'C:\\\\Users\\\\USER\\\\anaconda3\\\\envs\\\\H8_001\\\\lib\\\\site-packages',\n",
       " 'C:\\\\Users\\\\USER\\\\anaconda3\\\\envs\\\\H8_001\\\\lib\\\\site-packages\\\\win32',\n",
       " 'C:\\\\Users\\\\USER\\\\anaconda3\\\\envs\\\\H8_001\\\\lib\\\\site-packages\\\\win32\\\\lib',\n",
       " 'C:\\\\Users\\\\USER\\\\anaconda3\\\\envs\\\\H8_001\\\\lib\\\\site-packages\\\\Pythonwin',\n",
       " 'C:\\\\Users\\\\USER\\\\anaconda3\\\\envs\\\\H8_001\\\\lib\\\\site-packages\\\\IPython\\\\extensions',\n",
       " 'C:\\\\Users\\\\USER\\\\.ipython']"
      ]
     },
     "execution_count": 38,
     "metadata": {},
     "output_type": "execute_result"
    }
   ],
   "source": [
    "import sys\n",
    "sys.path"
   ]
  },
  {
   "cell_type": "code",
   "execution_count": 39,
   "id": "8106b5b1",
   "metadata": {},
   "outputs": [],
   "source": [
    "sys.path.append(r'D:\\Hacktiv8\\H8_001')"
   ]
  },
  {
   "cell_type": "code",
   "execution_count": 40,
   "id": "e78d5d34",
   "metadata": {},
   "outputs": [
    {
     "data": {
      "text/plain": [
       "['D:\\\\Hacktiv8\\\\H8_001\\\\Pertemuan 3',\n",
       " 'C:\\\\Users\\\\USER\\\\anaconda3\\\\envs\\\\H8_001\\\\python37.zip',\n",
       " 'C:\\\\Users\\\\USER\\\\anaconda3\\\\envs\\\\H8_001\\\\DLLs',\n",
       " 'C:\\\\Users\\\\USER\\\\anaconda3\\\\envs\\\\H8_001\\\\lib',\n",
       " 'C:\\\\Users\\\\USER\\\\anaconda3\\\\envs\\\\H8_001',\n",
       " '',\n",
       " 'C:\\\\Users\\\\USER\\\\anaconda3\\\\envs\\\\H8_001\\\\lib\\\\site-packages',\n",
       " 'C:\\\\Users\\\\USER\\\\anaconda3\\\\envs\\\\H8_001\\\\lib\\\\site-packages\\\\win32',\n",
       " 'C:\\\\Users\\\\USER\\\\anaconda3\\\\envs\\\\H8_001\\\\lib\\\\site-packages\\\\win32\\\\lib',\n",
       " 'C:\\\\Users\\\\USER\\\\anaconda3\\\\envs\\\\H8_001\\\\lib\\\\site-packages\\\\Pythonwin',\n",
       " 'C:\\\\Users\\\\USER\\\\anaconda3\\\\envs\\\\H8_001\\\\lib\\\\site-packages\\\\IPython\\\\extensions',\n",
       " 'C:\\\\Users\\\\USER\\\\.ipython',\n",
       " 'D:\\\\Hacktiv8\\\\H8_001']"
      ]
     },
     "execution_count": 40,
     "metadata": {},
     "output_type": "execute_result"
    }
   ],
   "source": [
    "sys.path"
   ]
  },
  {
   "cell_type": "code",
   "execution_count": 41,
   "id": "5861ec56",
   "metadata": {},
   "outputs": [],
   "source": [
    "from external_module import ext_mod"
   ]
  },
  {
   "cell_type": "code",
   "execution_count": 42,
   "id": "0033197e",
   "metadata": {},
   "outputs": [
    {
     "data": {
      "text/plain": [
       "'Hacktiv8'"
      ]
     },
     "execution_count": 42,
     "metadata": {},
     "output_type": "execute_result"
    }
   ],
   "source": [
    "ext_mod.string"
   ]
  },
  {
   "cell_type": "markdown",
   "id": "b96ee17c",
   "metadata": {},
   "source": [
    "### Package"
   ]
  },
  {
   "cell_type": "code",
   "execution_count": 43,
   "id": "e44b8215",
   "metadata": {},
   "outputs": [],
   "source": [
    "### Mirip module pemanggilannya"
   ]
  }
 ],
 "metadata": {
  "kernelspec": {
   "display_name": "H8_001",
   "language": "python",
   "name": "h8_001"
  },
  "language_info": {
   "codemirror_mode": {
    "name": "ipython",
    "version": 3
   },
   "file_extension": ".py",
   "mimetype": "text/x-python",
   "name": "python",
   "nbconvert_exporter": "python",
   "pygments_lexer": "ipython3",
   "version": "3.7.11"
  },
  "toc": {
   "base_numbering": 1,
   "nav_menu": {},
   "number_sections": true,
   "sideBar": true,
   "skip_h1_title": false,
   "title_cell": "Table of Contents",
   "title_sidebar": "Contents",
   "toc_cell": false,
   "toc_position": {},
   "toc_section_display": true,
   "toc_window_display": false
  }
 },
 "nbformat": 4,
 "nbformat_minor": 5
}
